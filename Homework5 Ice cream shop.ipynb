{
 "cells": [
  {
   "cell_type": "markdown",
   "id": "90445ccf",
   "metadata": {},
   "source": [
    "# Mathematics : Optimization Model"
   ]
  },
  {
   "cell_type": "markdown",
   "id": "f463e7b5",
   "metadata": {},
   "source": [
    "## Homework 5 : Ice cream shop"
   ]
  },
  {
   "cell_type": "code",
   "execution_count": 2,
   "id": "5f8b8797",
   "metadata": {},
   "outputs": [],
   "source": [
    "import numpy as np\n",
    "from scipy.linalg import solve\n",
    "import matplotlib.pyplot as plt"
   ]
  },
  {
   "cell_type": "code",
   "execution_count": 14,
   "id": "bf5d3dc7",
   "metadata": {},
   "outputs": [
    {
     "name": "stdout",
     "output_type": "stream",
     "text": [
      "From linear programming can solve as follows:\n",
      "The number of vanila ice cream =  13.333333333333332 boxes\n",
      "the number of elaborate cake =  16.666666666666668 boxes\n",
      "\n",
      "In reality, we can make as follows:\n",
      "Vanila ice cream = 13 boxes \n",
      "strawberry ice cream = 16 boxes\n",
      "Profits from strawberry ice cream =  26 $\n",
      "profits from elaborate cake =  48 $\n",
      "The maximize profit =  74 $\n"
     ]
    }
   ],
   "source": [
    "# Constrains matrix\n",
    "\n",
    "max_coeff = [2, 3]\n",
    "\n",
    "A = [[0.5, 0.2],\n",
    "     [1, 1]]\n",
    "\n",
    "B = [ 10,\n",
    "      30]\n",
    "\n",
    "X = solve(A, B)\n",
    "\n",
    "print(\"From linear programming can solve as follows:\")\n",
    "print(\"The number of vanila ice cream = \",X[0],\"boxes\\nthe number of elaborate cake = \", X[1], \"boxes\")\n",
    "print()\n",
    "print(\"In reality, we can make as follows:\\nVanila ice cream = 13 boxes \\nstrawberry ice cream = 16 boxes\")\n",
    "print(\"Profits from strawberry ice cream = \",13*max_coeff[0],\"$\\nprofits from elaborate cake = \", 16*max_coeff[1], \"$\")\n",
    "print(\"The maximize profit = \", 13*max_coeff[0]+16*max_coeff[1], \"$\")"
   ]
  },
  {
   "cell_type": "code",
   "execution_count": 38,
   "id": "14b5c5f4",
   "metadata": {},
   "outputs": [
    {
     "data": {
      "image/png": "[encoded data removed]",
      "text/plain": [
       "<Figure size 432x288 with 1 Axes>"
      ]
     },
     "metadata": {
      "needs_background": "light"
     },
     "output_type": "display_data"
    }
   ],
   "source": [
    "x = np.array(range(30))\n",
    "\n",
    "# Constraints (use x,y instead x1,x2 for linear programming)\n",
    "## <max> : 2x + 3y\n",
    "## <basic ingredients> : 0.5*x + 0.2*y <= 10\n",
    "## <fancy ingredients> : x + y <= 30\n",
    "\n",
    "# Create linear graph in formula y = ax + c\n",
    "## <fresh milk> : y_milk = (10 - (0.5*x))/0.2\n",
    "## <the number of dolls> : y_dolls = 30 - x\n",
    "\n",
    "y_milk = (10 - (0.5*x))/0.2\n",
    "y_dolls = 30 - x\n",
    "y_min = np.minimum(y_milk, y_dolls)\n",
    "\n",
    "plt.plot(x,y_milk, color = '#13498a') # dark blue line refers to \n",
    "plt.plot(x,y_dolls, color = '#367d55') #\n",
    "plt.xticks(np.arange(0, 40, 5))\n",
    "plt.yticks(np.arange(0, 70, 5))\n",
    "plt.xlim(0,40)\n",
    "plt.ylim(0,70)\n",
    "plt.xlabel('x : boxes of strawberry ice cream')\n",
    "plt.ylabel('y : boxes of vanila ice cream')\n",
    "plt.fill_between(x,y_milk,y_dolls, color = '#fffdd1')\n",
    "plt.fill_between(x,y_min, color = '#de8188')\n",
    "plt.plot(0, 30, \"or\",color = '#000000', marker = 'o')\n",
    "plt.text(0, 30,'A (0,30)')\n",
    "plt.plot(13, 16, \"or\", color = '#000000', marker = 'o')\n",
    "plt.text(13,16,'B (13,16)')\n",
    "plt.plot(20, 0, \"or\",color = '#000000', marker = 'o')\n",
    "plt.text(20,0,'C (20,0)')\n",
    "plt.show()"
   ]
  },
  {
   "cell_type": "code",
   "execution_count": 39,
   "id": "87663949",
   "metadata": {},
   "outputs": [
    {
     "name": "stdout",
     "output_type": "stream",
     "text": [
      "At point A : the maximize profits =  90 $\n",
      "At point B : the maximize profits =  74 $\n",
      "At point C : the maximize profits =  40 $\n"
     ]
    }
   ],
   "source": [
    "print(\"At point A : the maximize profits = \", 0*max_coeff[0]+30*max_coeff[1], \"$\")\n",
    "print(\"At point B : the maximize profits = \", 13*max_coeff[0]+16*max_coeff[1], \"$\")\n",
    "print(\"At point C : the maximize profits = \", 20*max_coeff[0]+0*max_coeff[1], \"$\")"
   ]
  },
  {
   "cell_type": "code",
   "execution_count": 43,
   "id": "071ae443",
   "metadata": {},
   "outputs": [
    {
     "name": "stdout",
     "output_type": "stream",
     "text": [
      "Therefore, the maximize profits is 90 $.\n",
      "box of vanila ice cream = 0\n",
      "box of strawberry ice cream = 30\n"
     ]
    }
   ],
   "source": [
    "print(\"Therefore, the maximize profits is 90 $.\")\n",
    "print(\"box of vanila ice cream = 0\")\n",
    "print(\"box of strawberry ice cream = 30\")"
   ]
  }
 ],
 "metadata": {
  "kernelspec": {
   "display_name": "Python 3",
   "language": "python",
   "name": "python3"
  },
  "language_info": {
   "codemirror_mode": {
    "name": "ipython",
    "version": 3
   },
   "file_extension": ".py",
   "mimetype": "text/x-python",
   "name": "python",
   "nbconvert_exporter": "python",
   "pygments_lexer": "ipython3",
   "version": "3.8.8"
  }
 },
 "nbformat": 4,
 "nbformat_minor": 5
}
