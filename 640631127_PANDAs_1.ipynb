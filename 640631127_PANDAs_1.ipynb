{
  "nbformat": 4,
  "nbformat_minor": 0,
  "metadata": {
    "colab": {
      "name": "640631127_PANDAs_1",
      "provenance": [],
      "collapsed_sections": [],
      "include_colab_link": true
    },
    "kernelspec": {
      "name": "python3",
      "display_name": "Python 3"
    }
  },
  "cells": [
    {
      "cell_type": "markdown",
      "metadata": {
        "id": "view-in-github",
        "colab_type": "text"
      },
      "source": [
        "<a href=\"https://colab.research.google.com/github/weerinphas/CMU/blob/main/640631127_PANDAs_1.ipynb\" target=\"_parent\"><img src=\"https://colab.research.google.com/assets/colab-badge.svg\" alt=\"Open In Colab\"/></a>"
      ]
    },
    {
      "cell_type": "markdown",
      "metadata": {
        "id": "3unlrbW0yna1"
      },
      "source": [
        "# Data cleansing"
      ]
    },
    {
      "cell_type": "markdown",
      "metadata": {
        "id": "vb65ne0Yyt-J"
      },
      "source": [
        "During the course of doing data analysis and modeling, a significant amount of time is spent on data preparation: \n",
        "\n",
        "*   loading\n",
        "*   cleaning\n",
        "*   transforming\n",
        "*   rearraging\n",
        "\n",
        "Such tasks are often reported to take up 80% or more of an analyst’s time.\n"
      ]
    },
    {
      "cell_type": "markdown",
      "metadata": {
        "id": "v833DabazP_C"
      },
      "source": [
        "What can happen with the loading data are\n",
        "* missing data\n",
        "* duplicate data\n",
        "* string manipulation\n",
        "* other analytical data transformation\n"
      ]
    },
    {
      "cell_type": "markdown",
      "metadata": {
        "id": "_0vA7ybSzf8p"
      },
      "source": [
        "##Missing data\n",
        "---\n",
        "\n",
        "Some data are imperfect, but it is functional for lot of users\n",
        "\n",
        "For numeric data,\n",
        "  Pandas use Nan ``` Nan``` (Not a Number) to represent the number\n",
        "\n",
        "So call a *sentinel value*\n",
        "\n"
      ]
    },
    {
      "cell_type": "code",
      "metadata": {
        "id": "0bHTFKpH004n"
      },
      "source": [
        "import pandas as pd\n",
        "import numpy as np"
      ],
      "execution_count": 1,
      "outputs": []
    },
    {
      "cell_type": "markdown",
      "metadata": {
        "id": "BWIBL6Gn0fxi"
      },
      "source": [
        "**To dectect the missing data**\n",
        "\n",
        "---\n",
        "\n",
        "\n",
        "Check by isNull value \n",
        "\n",
        "![image.png](data:image/png;base64,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)\n"
      ]
    },
    {
      "cell_type": "code",
      "metadata": {
        "id": "KLYC6Xf6yio6",
        "colab": {
          "base_uri": "https://localhost:8080/"
        },
        "outputId": "3ca3d84d-f6ad-4295-e51f-a993821c2f2e"
      },
      "source": [
        "string_data = pd.Series(['aardvrk', 'artichoke', np.nan, 'avocado'])\n",
        "string_data"
      ],
      "execution_count": 2,
      "outputs": [
        {
          "output_type": "execute_result",
          "data": {
            "text/plain": [
              "0      aardvrk\n",
              "1    artichoke\n",
              "2          NaN\n",
              "3      avocado\n",
              "dtype: object"
            ]
          },
          "metadata": {},
          "execution_count": 2
        }
      ]
    },
    {
      "cell_type": "markdown",
      "metadata": {
        "id": "K6jIx9Eq0_BD"
      },
      "source": [
        "check for null value\n",
        "\n",
        "\n",
        "![image.png](data:image/png;base64,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)"
      ]
    },
    {
      "cell_type": "code",
      "metadata": {
        "id": "8gq1Fk4kU78e",
        "colab": {
          "base_uri": "https://localhost:8080/"
        },
        "outputId": "956a5109-76f5-4a94-909d-ac5865087b36"
      },
      "source": [
        "string_data.isnull()"
      ],
      "execution_count": 3,
      "outputs": [
        {
          "output_type": "execute_result",
          "data": {
            "text/plain": [
              "0    False\n",
              "1    False\n",
              "2     True\n",
              "3    False\n",
              "dtype: bool"
            ]
          },
          "metadata": {},
          "execution_count": 3
        }
      ]
    },
    {
      "cell_type": "markdown",
      "metadata": {
        "id": "rEkp5apnn1j8"
      },
      "source": [
        "The N/A handling method are provided in the data frame as given\n",
        "\n",
        "\n",
        "![image.png](data:image/png;base64,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)\n"
      ]
    },
    {
      "cell_type": "markdown",
      "metadata": {
        "id": "oKUzjEkXn-X8"
      },
      "source": [
        "###Filtering the data\n",
        "---\n",
        "\n",
        "\n",
        "The *NA* data can filtering out as shown\n",
        "\n",
        "![image.png](data:image/png;base64,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)"
      ]
    },
    {
      "cell_type": "code",
      "metadata": {
        "id": "Qf7S8CV4oNYA"
      },
      "source": [
        "from numpy import nan as NA\n",
        "data = pd.Series([1, NA, 3.5, NA, 7])"
      ],
      "execution_count": 4,
      "outputs": []
    },
    {
      "cell_type": "code",
      "metadata": {
        "id": "OYtMwrAEoTlu",
        "colab": {
          "base_uri": "https://localhost:8080/"
        },
        "outputId": "6c55adde-4f78-4148-95d1-90bb18f47ce4"
      },
      "source": [
        "data.dropna()"
      ],
      "execution_count": 5,
      "outputs": [
        {
          "output_type": "execute_result",
          "data": {
            "text/plain": [
              "0    1.0\n",
              "2    3.5\n",
              "4    7.0\n",
              "dtype: float64"
            ]
          },
          "metadata": {},
          "execution_count": 5
        }
      ]
    },
    {
      "cell_type": "markdown",
      "metadata": {
        "id": "5VjogjPToVnH"
      },
      "source": [
        "the data frame can be also filter\n"
      ]
    },
    {
      "cell_type": "code",
      "metadata": {
        "id": "wIrVY1VXocKR",
        "colab": {
          "base_uri": "https://localhost:8080/",
          "height": 172
        },
        "outputId": "1c9cb268-bacf-4e9e-f6b0-17a10cbd3bb6"
      },
      "source": [
        "data = pd.DataFrame([[1., 6.5, 3.], [1., NA, NA],\n",
        "                     [NA, NA, NA], [NA, 6.5, 3.]])\n",
        "data\n"
      ],
      "execution_count": 6,
      "outputs": [
        {
          "output_type": "execute_result",
          "data": {
            "text/html": [
              "<div>\n",
              "<style scoped>\n",
              "    .dataframe tbody tr th:only-of-type {\n",
              "        vertical-align: middle;\n",
              "    }\n",
              "\n",
              "    .dataframe tbody tr th {\n",
              "        vertical-align: top;\n",
              "    }\n",
              "\n",
              "    .dataframe thead th {\n",
              "        text-align: right;\n",
              "    }\n",
              "</style>\n",
              "<table border=\"1\" class=\"dataframe\">\n",
              "  <thead>\n",
              "    <tr style=\"text-align: right;\">\n",
              "      <th></th>\n",
              "      <th>0</th>\n",
              "      <th>1</th>\n",
              "      <th>2</th>\n",
              "    </tr>\n",
              "  </thead>\n",
              "  <tbody>\n",
              "    <tr>\n",
              "      <th>0</th>\n",
              "      <td>1.0</td>\n",
              "      <td>6.5</td>\n",
              "      <td>3.0</td>\n",
              "    </tr>\n",
              "    <tr>\n",
              "      <th>1</th>\n",
              "      <td>1.0</td>\n",
              "      <td>NaN</td>\n",
              "      <td>NaN</td>\n",
              "    </tr>\n",
              "    <tr>\n",
              "      <th>2</th>\n",
              "      <td>NaN</td>\n",
              "      <td>NaN</td>\n",
              "      <td>NaN</td>\n",
              "    </tr>\n",
              "    <tr>\n",
              "      <th>3</th>\n",
              "      <td>NaN</td>\n",
              "      <td>6.5</td>\n",
              "      <td>3.0</td>\n",
              "    </tr>\n",
              "  </tbody>\n",
              "</table>\n",
              "</div>"
            ],
            "text/plain": [
              "     0    1    2\n",
              "0  1.0  6.5  3.0\n",
              "1  1.0  NaN  NaN\n",
              "2  NaN  NaN  NaN\n",
              "3  NaN  6.5  3.0"
            ]
          },
          "metadata": {},
          "execution_count": 6
        }
      ]
    },
    {
      "cell_type": "markdown",
      "metadata": {
        "id": "peNBDPQIVgCa"
      },
      "source": [
        "and then drop it by\n",
        "![image.png](data:image/png;base64,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)"
      ]
    },
    {
      "cell_type": "code",
      "metadata": {
        "id": "eyubfD1NohAc",
        "colab": {
          "base_uri": "https://localhost:8080/",
          "height": 79
        },
        "outputId": "89db1468-d9a6-426f-9272-9fa85cf6ac70"
      },
      "source": [
        "cleaned = data.dropna()\n",
        "cleaned"
      ],
      "execution_count": 7,
      "outputs": [
        {
          "output_type": "execute_result",
          "data": {
            "text/html": [
              "<div>\n",
              "<style scoped>\n",
              "    .dataframe tbody tr th:only-of-type {\n",
              "        vertical-align: middle;\n",
              "    }\n",
              "\n",
              "    .dataframe tbody tr th {\n",
              "        vertical-align: top;\n",
              "    }\n",
              "\n",
              "    .dataframe thead th {\n",
              "        text-align: right;\n",
              "    }\n",
              "</style>\n",
              "<table border=\"1\" class=\"dataframe\">\n",
              "  <thead>\n",
              "    <tr style=\"text-align: right;\">\n",
              "      <th></th>\n",
              "      <th>0</th>\n",
              "      <th>1</th>\n",
              "      <th>2</th>\n",
              "    </tr>\n",
              "  </thead>\n",
              "  <tbody>\n",
              "    <tr>\n",
              "      <th>0</th>\n",
              "      <td>1.0</td>\n",
              "      <td>6.5</td>\n",
              "      <td>3.0</td>\n",
              "    </tr>\n",
              "  </tbody>\n",
              "</table>\n",
              "</div>"
            ],
            "text/plain": [
              "     0    1    2\n",
              "0  1.0  6.5  3.0"
            ]
          },
          "metadata": {},
          "execution_count": 7
        }
      ]
    },
    {
      "cell_type": "markdown",
      "metadata": {
        "id": "O-SGEM7Vommi"
      },
      "source": [
        "We can drop only the line which contains **NA** all the rows usign `how='all'`\n",
        "\n",
        "![image.png](data:image/png;base64,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)"
      ]
    },
    {
      "cell_type": "code",
      "metadata": {
        "id": "ybrBfA_8ouD5",
        "colab": {
          "base_uri": "https://localhost:8080/",
          "height": 141
        },
        "outputId": "243813a0-6dd9-425d-e2b1-602b9b809d3d"
      },
      "source": [
        "data.dropna(how='all')"
      ],
      "execution_count": 8,
      "outputs": [
        {
          "output_type": "execute_result",
          "data": {
            "text/html": [
              "<div>\n",
              "<style scoped>\n",
              "    .dataframe tbody tr th:only-of-type {\n",
              "        vertical-align: middle;\n",
              "    }\n",
              "\n",
              "    .dataframe tbody tr th {\n",
              "        vertical-align: top;\n",
              "    }\n",
              "\n",
              "    .dataframe thead th {\n",
              "        text-align: right;\n",
              "    }\n",
              "</style>\n",
              "<table border=\"1\" class=\"dataframe\">\n",
              "  <thead>\n",
              "    <tr style=\"text-align: right;\">\n",
              "      <th></th>\n",
              "      <th>0</th>\n",
              "      <th>1</th>\n",
              "      <th>2</th>\n",
              "    </tr>\n",
              "  </thead>\n",
              "  <tbody>\n",
              "    <tr>\n",
              "      <th>0</th>\n",
              "      <td>1.0</td>\n",
              "      <td>6.5</td>\n",
              "      <td>3.0</td>\n",
              "    </tr>\n",
              "    <tr>\n",
              "      <th>1</th>\n",
              "      <td>1.0</td>\n",
              "      <td>NaN</td>\n",
              "      <td>NaN</td>\n",
              "    </tr>\n",
              "    <tr>\n",
              "      <th>3</th>\n",
              "      <td>NaN</td>\n",
              "      <td>6.5</td>\n",
              "      <td>3.0</td>\n",
              "    </tr>\n",
              "  </tbody>\n",
              "</table>\n",
              "</div>"
            ],
            "text/plain": [
              "     0    1    2\n",
              "0  1.0  6.5  3.0\n",
              "1  1.0  NaN  NaN\n",
              "3  NaN  6.5  3.0"
            ]
          },
          "metadata": {},
          "execution_count": 8
        }
      ]
    },
    {
      "cell_type": "markdown",
      "metadata": {
        "id": "XLnESLSSo70l"
      },
      "source": [
        "To drop only columns which contains  all NA, you can use the `axis=1 `parameter"
      ]
    },
    {
      "cell_type": "code",
      "metadata": {
        "id": "YvbFAUlDpFzr",
        "colab": {
          "base_uri": "https://localhost:8080/",
          "height": 172
        },
        "outputId": "39408c73-75f1-4ab8-b689-6e5f79071c83"
      },
      "source": [
        "data[4] = NA\n",
        "data\n"
      ],
      "execution_count": 9,
      "outputs": [
        {
          "output_type": "execute_result",
          "data": {
            "text/html": [
              "<div>\n",
              "<style scoped>\n",
              "    .dataframe tbody tr th:only-of-type {\n",
              "        vertical-align: middle;\n",
              "    }\n",
              "\n",
              "    .dataframe tbody tr th {\n",
              "        vertical-align: top;\n",
              "    }\n",
              "\n",
              "    .dataframe thead th {\n",
              "        text-align: right;\n",
              "    }\n",
              "</style>\n",
              "<table border=\"1\" class=\"dataframe\">\n",
              "  <thead>\n",
              "    <tr style=\"text-align: right;\">\n",
              "      <th></th>\n",
              "      <th>0</th>\n",
              "      <th>1</th>\n",
              "      <th>2</th>\n",
              "      <th>4</th>\n",
              "    </tr>\n",
              "  </thead>\n",
              "  <tbody>\n",
              "    <tr>\n",
              "      <th>0</th>\n",
              "      <td>1.0</td>\n",
              "      <td>6.5</td>\n",
              "      <td>3.0</td>\n",
              "      <td>NaN</td>\n",
              "    </tr>\n",
              "    <tr>\n",
              "      <th>1</th>\n",
              "      <td>1.0</td>\n",
              "      <td>NaN</td>\n",
              "      <td>NaN</td>\n",
              "      <td>NaN</td>\n",
              "    </tr>\n",
              "    <tr>\n",
              "      <th>2</th>\n",
              "      <td>NaN</td>\n",
              "      <td>NaN</td>\n",
              "      <td>NaN</td>\n",
              "      <td>NaN</td>\n",
              "    </tr>\n",
              "    <tr>\n",
              "      <th>3</th>\n",
              "      <td>NaN</td>\n",
              "      <td>6.5</td>\n",
              "      <td>3.0</td>\n",
              "      <td>NaN</td>\n",
              "    </tr>\n",
              "  </tbody>\n",
              "</table>\n",
              "</div>"
            ],
            "text/plain": [
              "     0    1    2   4\n",
              "0  1.0  6.5  3.0 NaN\n",
              "1  1.0  NaN  NaN NaN\n",
              "2  NaN  NaN  NaN NaN\n",
              "3  NaN  6.5  3.0 NaN"
            ]
          },
          "metadata": {},
          "execution_count": 9
        }
      ]
    },
    {
      "cell_type": "markdown",
      "metadata": {
        "id": "J9GX8NogVy_u"
      },
      "source": [
        "drop the column which all data is `NaN`\n",
        "\n",
        "![image.png](data:image/png;base64,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)"
      ]
    },
    {
      "cell_type": "code",
      "metadata": {
        "id": "kwKtGfoTpMaJ",
        "colab": {
          "base_uri": "https://localhost:8080/",
          "height": 172
        },
        "outputId": "8dfa4035-167b-4bfa-c5b4-bcbf3ae2ab41"
      },
      "source": [
        "data.dropna(axis=1, how='all')"
      ],
      "execution_count": 10,
      "outputs": [
        {
          "output_type": "execute_result",
          "data": {
            "text/html": [
              "<div>\n",
              "<style scoped>\n",
              "    .dataframe tbody tr th:only-of-type {\n",
              "        vertical-align: middle;\n",
              "    }\n",
              "\n",
              "    .dataframe tbody tr th {\n",
              "        vertical-align: top;\n",
              "    }\n",
              "\n",
              "    .dataframe thead th {\n",
              "        text-align: right;\n",
              "    }\n",
              "</style>\n",
              "<table border=\"1\" class=\"dataframe\">\n",
              "  <thead>\n",
              "    <tr style=\"text-align: right;\">\n",
              "      <th></th>\n",
              "      <th>0</th>\n",
              "      <th>1</th>\n",
              "      <th>2</th>\n",
              "    </tr>\n",
              "  </thead>\n",
              "  <tbody>\n",
              "    <tr>\n",
              "      <th>0</th>\n",
              "      <td>1.0</td>\n",
              "      <td>6.5</td>\n",
              "      <td>3.0</td>\n",
              "    </tr>\n",
              "    <tr>\n",
              "      <th>1</th>\n",
              "      <td>1.0</td>\n",
              "      <td>NaN</td>\n",
              "      <td>NaN</td>\n",
              "    </tr>\n",
              "    <tr>\n",
              "      <th>2</th>\n",
              "      <td>NaN</td>\n",
              "      <td>NaN</td>\n",
              "      <td>NaN</td>\n",
              "    </tr>\n",
              "    <tr>\n",
              "      <th>3</th>\n",
              "      <td>NaN</td>\n",
              "      <td>6.5</td>\n",
              "      <td>3.0</td>\n",
              "    </tr>\n",
              "  </tbody>\n",
              "</table>\n",
              "</div>"
            ],
            "text/plain": [
              "     0    1    2\n",
              "0  1.0  6.5  3.0\n",
              "1  1.0  NaN  NaN\n",
              "2  NaN  NaN  NaN\n",
              "3  NaN  6.5  3.0"
            ]
          },
          "metadata": {},
          "execution_count": 10
        }
      ]
    },
    {
      "cell_type": "markdown",
      "metadata": {
        "id": "F1GEkAZnpa1s"
      },
      "source": [
        "We can drop the rows which may have more data than the given value as we can tolerate for some data missing. `tresh` parameter is required here\n"
      ]
    },
    {
      "cell_type": "code",
      "metadata": {
        "id": "RVlj8PtdpuxU",
        "colab": {
          "base_uri": "https://localhost:8080/",
          "height": 264
        },
        "outputId": "5af1e31a-fc1e-4c8a-af1c-47a34efe8854"
      },
      "source": [
        "df = pd.DataFrame(np.random.randn(7, 3))\n",
        "df.iloc[:4, 1] = NA\n",
        "df.iloc[:2, 2] = NA\n",
        "df"
      ],
      "execution_count": 11,
      "outputs": [
        {
          "output_type": "execute_result",
          "data": {
            "text/html": [
              "<div>\n",
              "<style scoped>\n",
              "    .dataframe tbody tr th:only-of-type {\n",
              "        vertical-align: middle;\n",
              "    }\n",
              "\n",
              "    .dataframe tbody tr th {\n",
              "        vertical-align: top;\n",
              "    }\n",
              "\n",
              "    .dataframe thead th {\n",
              "        text-align: right;\n",
              "    }\n",
              "</style>\n",
              "<table border=\"1\" class=\"dataframe\">\n",
              "  <thead>\n",
              "    <tr style=\"text-align: right;\">\n",
              "      <th></th>\n",
              "      <th>0</th>\n",
              "      <th>1</th>\n",
              "      <th>2</th>\n",
              "    </tr>\n",
              "  </thead>\n",
              "  <tbody>\n",
              "    <tr>\n",
              "      <th>0</th>\n",
              "      <td>1.781406</td>\n",
              "      <td>NaN</td>\n",
              "      <td>NaN</td>\n",
              "    </tr>\n",
              "    <tr>\n",
              "      <th>1</th>\n",
              "      <td>0.185243</td>\n",
              "      <td>NaN</td>\n",
              "      <td>NaN</td>\n",
              "    </tr>\n",
              "    <tr>\n",
              "      <th>2</th>\n",
              "      <td>0.380804</td>\n",
              "      <td>NaN</td>\n",
              "      <td>-0.313321</td>\n",
              "    </tr>\n",
              "    <tr>\n",
              "      <th>3</th>\n",
              "      <td>0.327255</td>\n",
              "      <td>NaN</td>\n",
              "      <td>-1.347314</td>\n",
              "    </tr>\n",
              "    <tr>\n",
              "      <th>4</th>\n",
              "      <td>-1.380867</td>\n",
              "      <td>-0.214611</td>\n",
              "      <td>-1.033628</td>\n",
              "    </tr>\n",
              "    <tr>\n",
              "      <th>5</th>\n",
              "      <td>0.634904</td>\n",
              "      <td>-0.322527</td>\n",
              "      <td>2.221720</td>\n",
              "    </tr>\n",
              "    <tr>\n",
              "      <th>6</th>\n",
              "      <td>0.410649</td>\n",
              "      <td>-0.620958</td>\n",
              "      <td>-0.593541</td>\n",
              "    </tr>\n",
              "  </tbody>\n",
              "</table>\n",
              "</div>"
            ],
            "text/plain": [
              "          0         1         2\n",
              "0  1.781406       NaN       NaN\n",
              "1  0.185243       NaN       NaN\n",
              "2  0.380804       NaN -0.313321\n",
              "3  0.327255       NaN -1.347314\n",
              "4 -1.380867 -0.214611 -1.033628\n",
              "5  0.634904 -0.322527  2.221720\n",
              "6  0.410649 -0.620958 -0.593541"
            ]
          },
          "metadata": {},
          "execution_count": 11
        }
      ]
    },
    {
      "cell_type": "markdown",
      "metadata": {
        "id": "gfFHfLQFpymt"
      },
      "source": [
        "If we drop all NA,using `dropna()`\n",
        "\n",
        "![image.png](data:image/png;base64,iVBORw0KGgoAAAANSUhEUgAAAHsAAAAoCAYAAADe3YUmAAAEXklEQVR4Ae1cOyw0URQ+/gaJIKg8goZKLaIRhUKBRINCQiQqiZYIIRIJComGRKKyoVBQKBRUohMqoRHxqLwVW+6f7yRnMnZmdmZnr5/555xkMuuexz33fOdxbUReMplMkVIsIvAnFqfUQ3IEFOwYJYKCrWDHKAIxOqpWtoIdowjE6Kha2Qp2jCIQo6NqZSvYMYpAjI6qla1gxygCMTrqP6/shYUF2t7edoQYa4WFhfx0dXXRy8uLQ8Zvwcu2n95P8nHOwcFBur6+ttzA2tjYWKgYWEZcPmQN9s7ODs3Pz9P9/b2LuXBLOOjW1hZdXFxQMpmk/f19KisrC2csQlo468zMDHV2dlJDQ4PlOc7e2trKPMiYosBgf3x80NLSEhUXF1N+fr6p/dnO8/Mz1dXVUU1NjVG7v93Y3t4eu9jd3e1wta+vjyorK0lkHAIhFgKDfXR0RP39/dTU1JTVNshMtCRp0XNzcw7929tbx1qQhUy2hXd6ekpo79i/ubn5S7u0jw7wISsEHh7RtfNhe3JykuUxcsBLHz2whXV57LaxB1r1wcGBFRvZ1/7u7e1lmTAjzW5HPgcGu6enh6qrq0Uv8HtlZYUzFAHCMz09belKIIeGhmhjY4NbN4KDIAehTLZFv729nerr63lvnGF3d5dZCH4ikaCHhwfmIZnHx8e/JAP8El3w4a8E/vPzk+WXl5d5rba2lg4PD9k2ZC4vL9kuzpyuC6GrqysqKSnJ2M3Q6SADWRMUGOwwm2EW49Cjo6Ou6hMTExyQzc1NGhkZ4aAhOGhhfuRnW/SRXGKvra2NHh8f6fX1lYEeGBiw7gYtLS2EZDg7OxNVTkzRbWxspNLSUnp6erL4SDbMWiQoZuzNzQ3zMHOHh4ctOTdddDO0aeh6EXiQCdv50u1+K9jpm/3EzwBYCICurq5SQUEBL6Eas6G3tzfC/SIISdcCYFVVVY7qlMTws4XOElTWz9Z/D3amANgrBh0FVZ+JUNnl5eWZRJiHMYQxISMCb1S3nQBiEALQQWX97H0r2BUVFYRqkJmDILhd0PyclCqxX3JysS1tFzNbZvD5+Tm3y46ODld31tfXfWesXRFdQ1o0dCUGIgM+kgtJ5kWSgNl2IC97gcE+Pj6mqakpWltbo/f3d377/b6N2YW5jEsSDo4sxXw2QbnaxizGzEaLhW+4nOGyBbtCSEzw8ACYxcVF/ix8rzcSBl0DtqBbVFTkqGxUOmSQZF50d3fHsU7vCl7yfut5+qfE7iFCF0JyIlm/i7DHycmJZxKho6GFyyUxVz8CV3auG6m+MwLyZYrbFydIBHQTkXFqZ7+iYGcfM2MaaPGzs7P8xUn6d+OoePAgY4q0jZuKZATsaGVHACRTLirYpiIZATsKdgRAMuWigm0qkhGwo2BHACRTLirYpiIZATsKdgRAMuWigm0qkhGwo2BHACRTLirYpiIZATsKdgRAMuViXiqV0v+WZCqav9yOVvYvB8ike38Bl7/7WXX7R2EAAAAASUVORK5CYII=)"
      ]
    },
    {
      "cell_type": "code",
      "metadata": {
        "id": "S19qRsavp1qN",
        "colab": {
          "base_uri": "https://localhost:8080/",
          "height": 141
        },
        "outputId": "6f2c0c4f-7149-433a-ea75-9e973ea00555"
      },
      "source": [
        "df.dropna()"
      ],
      "execution_count": 12,
      "outputs": [
        {
          "output_type": "execute_result",
          "data": {
            "text/html": [
              "<div>\n",
              "<style scoped>\n",
              "    .dataframe tbody tr th:only-of-type {\n",
              "        vertical-align: middle;\n",
              "    }\n",
              "\n",
              "    .dataframe tbody tr th {\n",
              "        vertical-align: top;\n",
              "    }\n",
              "\n",
              "    .dataframe thead th {\n",
              "        text-align: right;\n",
              "    }\n",
              "</style>\n",
              "<table border=\"1\" class=\"dataframe\">\n",
              "  <thead>\n",
              "    <tr style=\"text-align: right;\">\n",
              "      <th></th>\n",
              "      <th>0</th>\n",
              "      <th>1</th>\n",
              "      <th>2</th>\n",
              "    </tr>\n",
              "  </thead>\n",
              "  <tbody>\n",
              "    <tr>\n",
              "      <th>4</th>\n",
              "      <td>-1.380867</td>\n",
              "      <td>-0.214611</td>\n",
              "      <td>-1.033628</td>\n",
              "    </tr>\n",
              "    <tr>\n",
              "      <th>5</th>\n",
              "      <td>0.634904</td>\n",
              "      <td>-0.322527</td>\n",
              "      <td>2.221720</td>\n",
              "    </tr>\n",
              "    <tr>\n",
              "      <th>6</th>\n",
              "      <td>0.410649</td>\n",
              "      <td>-0.620958</td>\n",
              "      <td>-0.593541</td>\n",
              "    </tr>\n",
              "  </tbody>\n",
              "</table>\n",
              "</div>"
            ],
            "text/plain": [
              "          0         1         2\n",
              "4 -1.380867 -0.214611 -1.033628\n",
              "5  0.634904 -0.322527  2.221720\n",
              "6  0.410649 -0.620958 -0.593541"
            ]
          },
          "metadata": {},
          "execution_count": 12
        }
      ]
    },
    {
      "cell_type": "markdown",
      "metadata": {
        "id": "2t9b2Yz8p0Sw"
      },
      "source": [
        "drop only a line which contains non-NA value more than or equal than the treshold \n",
        "\n",
        "![image.png](data:image/png;base64,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)"
      ]
    },
    {
      "cell_type": "code",
      "metadata": {
        "id": "E_BYgkb-qNqR",
        "colab": {
          "base_uri": "https://localhost:8080/",
          "height": 202
        },
        "outputId": "951e8e72-34c7-4e2c-c7e8-8cdec28b465d"
      },
      "source": [
        "df.dropna(thresh=2)"
      ],
      "execution_count": 13,
      "outputs": [
        {
          "output_type": "execute_result",
          "data": {
            "text/html": [
              "<div>\n",
              "<style scoped>\n",
              "    .dataframe tbody tr th:only-of-type {\n",
              "        vertical-align: middle;\n",
              "    }\n",
              "\n",
              "    .dataframe tbody tr th {\n",
              "        vertical-align: top;\n",
              "    }\n",
              "\n",
              "    .dataframe thead th {\n",
              "        text-align: right;\n",
              "    }\n",
              "</style>\n",
              "<table border=\"1\" class=\"dataframe\">\n",
              "  <thead>\n",
              "    <tr style=\"text-align: right;\">\n",
              "      <th></th>\n",
              "      <th>0</th>\n",
              "      <th>1</th>\n",
              "      <th>2</th>\n",
              "    </tr>\n",
              "  </thead>\n",
              "  <tbody>\n",
              "    <tr>\n",
              "      <th>2</th>\n",
              "      <td>0.380804</td>\n",
              "      <td>NaN</td>\n",
              "      <td>-0.313321</td>\n",
              "    </tr>\n",
              "    <tr>\n",
              "      <th>3</th>\n",
              "      <td>0.327255</td>\n",
              "      <td>NaN</td>\n",
              "      <td>-1.347314</td>\n",
              "    </tr>\n",
              "    <tr>\n",
              "      <th>4</th>\n",
              "      <td>-1.380867</td>\n",
              "      <td>-0.214611</td>\n",
              "      <td>-1.033628</td>\n",
              "    </tr>\n",
              "    <tr>\n",
              "      <th>5</th>\n",
              "      <td>0.634904</td>\n",
              "      <td>-0.322527</td>\n",
              "      <td>2.221720</td>\n",
              "    </tr>\n",
              "    <tr>\n",
              "      <th>6</th>\n",
              "      <td>0.410649</td>\n",
              "      <td>-0.620958</td>\n",
              "      <td>-0.593541</td>\n",
              "    </tr>\n",
              "  </tbody>\n",
              "</table>\n",
              "</div>"
            ],
            "text/plain": [
              "          0         1         2\n",
              "2  0.380804       NaN -0.313321\n",
              "3  0.327255       NaN -1.347314\n",
              "4 -1.380867 -0.214611 -1.033628\n",
              "5  0.634904 -0.322527  2.221720\n",
              "6  0.410649 -0.620958 -0.593541"
            ]
          },
          "metadata": {},
          "execution_count": 13
        }
      ]
    },
    {
      "cell_type": "markdown",
      "metadata": {
        "id": "Qhde1U6Bus3Y"
      },
      "source": [
        "####Work\n",
        "\n",
        "---\n",
        "\n",
        "\n",
        "\n",
        "Form the file given [here](https://drive.google.com/open?id=1RMTN43mA85mWgY03yZiygZuvod4Us07U)\n",
        "\n",
        "\n",
        "---\n",
        "\n",
        "\n",
        "\n",
        "แก้ไข Download from [here](https://teams.microsoft.com/l/file/BFEBCC6E-5217-45DF-B49F-E45A8467E029?tenantId=cf81f1df-de59-4c29-91da-a2dfd04aa751&fileType=csv&objectUrl=https%3A%2F%2Fo365cmu.sharepoint.com%2Fsites%2FSec_5350_2564_1_001-000%2FClass%20Materials%2FDATA%2Fproperty_data.csv&baseUrl=https%3A%2F%2Fo365cmu.sharepoint.com%2Fsites%2FSec_5350_2564_1_001-000&serviceName=teams&threadId=19:FLqSF6AJ_OXnqLRHe2Hc2recKSHpmum0kxQCiPx1ltY1@thread.tacv2&groupId=59e64ddc-01a2-43af-b076-b362dd98d444) using MSTeams class/data"
      ]
    },
    {
      "cell_type": "markdown",
      "metadata": {
        "id": "CrEDfnT83dwF"
      },
      "source": [
        "**Import file**"
      ]
    },
    {
      "cell_type": "code",
      "metadata": {
        "colab": {
          "base_uri": "https://localhost:8080/",
          "height": 325
        },
        "id": "QNy7N9F0z-fM",
        "outputId": "0f4c8619-213d-453f-98d1-81103cabd8d5"
      },
      "source": [
        "url = 'https://raw.githubusercontent.com/weerinphas/CMU/main/property_data.csv'\n",
        "df = pd.read_csv(url)\n",
        "df"
      ],
      "execution_count": 14,
      "outputs": [
        {
          "output_type": "execute_result",
          "data": {
            "text/html": [
              "<div>\n",
              "<style scoped>\n",
              "    .dataframe tbody tr th:only-of-type {\n",
              "        vertical-align: middle;\n",
              "    }\n",
              "\n",
              "    .dataframe tbody tr th {\n",
              "        vertical-align: top;\n",
              "    }\n",
              "\n",
              "    .dataframe thead th {\n",
              "        text-align: right;\n",
              "    }\n",
              "</style>\n",
              "<table border=\"1\" class=\"dataframe\">\n",
              "  <thead>\n",
              "    <tr style=\"text-align: right;\">\n",
              "      <th></th>\n",
              "      <th>PID</th>\n",
              "      <th>ST_NUM</th>\n",
              "      <th>ST_NAME</th>\n",
              "      <th>OWN_OCCUPIED</th>\n",
              "      <th>NUM_BEDROOMS</th>\n",
              "      <th>NUM_BATH</th>\n",
              "      <th>SQ_FT</th>\n",
              "      <th>PRICE</th>\n",
              "    </tr>\n",
              "  </thead>\n",
              "  <tbody>\n",
              "    <tr>\n",
              "      <th>0</th>\n",
              "      <td>100001000.0</td>\n",
              "      <td>104.0</td>\n",
              "      <td>PUTNAM</td>\n",
              "      <td>Y</td>\n",
              "      <td>3</td>\n",
              "      <td>1</td>\n",
              "      <td>1000</td>\n",
              "      <td>20000.0</td>\n",
              "    </tr>\n",
              "    <tr>\n",
              "      <th>1</th>\n",
              "      <td>100002000.0</td>\n",
              "      <td>197.0</td>\n",
              "      <td>LEXINGTON</td>\n",
              "      <td>N</td>\n",
              "      <td>3</td>\n",
              "      <td>1.5</td>\n",
              "      <td>--</td>\n",
              "      <td>NaN</td>\n",
              "    </tr>\n",
              "    <tr>\n",
              "      <th>2</th>\n",
              "      <td>100003000.0</td>\n",
              "      <td>NaN</td>\n",
              "      <td>LEXINGTON</td>\n",
              "      <td>N</td>\n",
              "      <td>NaN</td>\n",
              "      <td>1</td>\n",
              "      <td>850</td>\n",
              "      <td>NaN</td>\n",
              "    </tr>\n",
              "    <tr>\n",
              "      <th>3</th>\n",
              "      <td>100004000.0</td>\n",
              "      <td>201.0</td>\n",
              "      <td>BERKELEY</td>\n",
              "      <td>12</td>\n",
              "      <td>1</td>\n",
              "      <td>NaN</td>\n",
              "      <td>700</td>\n",
              "      <td>NaN</td>\n",
              "    </tr>\n",
              "    <tr>\n",
              "      <th>4</th>\n",
              "      <td>NaN</td>\n",
              "      <td>203.0</td>\n",
              "      <td>BERKELEY</td>\n",
              "      <td>Y</td>\n",
              "      <td>3</td>\n",
              "      <td>2</td>\n",
              "      <td>1600</td>\n",
              "      <td>NaN</td>\n",
              "    </tr>\n",
              "    <tr>\n",
              "      <th>5</th>\n",
              "      <td>100006000.0</td>\n",
              "      <td>207.0</td>\n",
              "      <td>BERKELEY</td>\n",
              "      <td>Y</td>\n",
              "      <td>NaN</td>\n",
              "      <td>1</td>\n",
              "      <td>800</td>\n",
              "      <td>NaN</td>\n",
              "    </tr>\n",
              "    <tr>\n",
              "      <th>6</th>\n",
              "      <td>100007000.0</td>\n",
              "      <td>NaN</td>\n",
              "      <td>WASHINGTON</td>\n",
              "      <td>NaN</td>\n",
              "      <td>2</td>\n",
              "      <td>HURLEY</td>\n",
              "      <td>950</td>\n",
              "      <td>NaN</td>\n",
              "    </tr>\n",
              "    <tr>\n",
              "      <th>7</th>\n",
              "      <td>100008000.0</td>\n",
              "      <td>213.0</td>\n",
              "      <td>TREMONT</td>\n",
              "      <td>Y</td>\n",
              "      <td>1</td>\n",
              "      <td>1</td>\n",
              "      <td>NaN</td>\n",
              "      <td>NaN</td>\n",
              "    </tr>\n",
              "    <tr>\n",
              "      <th>8</th>\n",
              "      <td>100009000.0</td>\n",
              "      <td>215.0</td>\n",
              "      <td>TREMONT</td>\n",
              "      <td>Y</td>\n",
              "      <td>na</td>\n",
              "      <td>2</td>\n",
              "      <td>1800</td>\n",
              "      <td>NaN</td>\n",
              "    </tr>\n",
              "  </tbody>\n",
              "</table>\n",
              "</div>"
            ],
            "text/plain": [
              "           PID  ST_NUM     ST_NAME  ... NUM_BATH SQ_FT    PRICE\n",
              "0  100001000.0   104.0      PUTNAM  ...        1  1000  20000.0\n",
              "1  100002000.0   197.0   LEXINGTON  ...      1.5    --      NaN\n",
              "2  100003000.0     NaN   LEXINGTON  ...        1   850      NaN\n",
              "3  100004000.0   201.0    BERKELEY  ...      NaN   700      NaN\n",
              "4          NaN   203.0    BERKELEY  ...        2  1600      NaN\n",
              "5  100006000.0   207.0    BERKELEY  ...        1   800      NaN\n",
              "6  100007000.0     NaN  WASHINGTON  ...   HURLEY   950      NaN\n",
              "7  100008000.0   213.0     TREMONT  ...        1   NaN      NaN\n",
              "8  100009000.0   215.0     TREMONT  ...        2  1800      NaN\n",
              "\n",
              "[9 rows x 8 columns]"
            ]
          },
          "metadata": {},
          "execution_count": 14
        }
      ]
    },
    {
      "cell_type": "markdown",
      "metadata": {
        "id": "pLVmcYYiu8mt"
      },
      "source": [
        "Provide the given output"
      ]
    },
    {
      "cell_type": "markdown",
      "metadata": {
        "id": "yKDCMPz4WZmO"
      },
      "source": [
        "output 1\n",
        "\n",
        "![image.png](data:image/png;base64,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)"
      ]
    },
    {
      "cell_type": "code",
      "metadata": {
        "colab": {
          "base_uri": "https://localhost:8080/",
          "height": 79
        },
        "id": "7g1_gnMono7E",
        "outputId": "5d3f1acc-fde3-4755-83a7-adbfd261c02e"
      },
      "source": [
        "df.dropna()"
      ],
      "execution_count": 15,
      "outputs": [
        {
          "output_type": "execute_result",
          "data": {
            "text/html": [
              "<div>\n",
              "<style scoped>\n",
              "    .dataframe tbody tr th:only-of-type {\n",
              "        vertical-align: middle;\n",
              "    }\n",
              "\n",
              "    .dataframe tbody tr th {\n",
              "        vertical-align: top;\n",
              "    }\n",
              "\n",
              "    .dataframe thead th {\n",
              "        text-align: right;\n",
              "    }\n",
              "</style>\n",
              "<table border=\"1\" class=\"dataframe\">\n",
              "  <thead>\n",
              "    <tr style=\"text-align: right;\">\n",
              "      <th></th>\n",
              "      <th>PID</th>\n",
              "      <th>ST_NUM</th>\n",
              "      <th>ST_NAME</th>\n",
              "      <th>OWN_OCCUPIED</th>\n",
              "      <th>NUM_BEDROOMS</th>\n",
              "      <th>NUM_BATH</th>\n",
              "      <th>SQ_FT</th>\n",
              "      <th>PRICE</th>\n",
              "    </tr>\n",
              "  </thead>\n",
              "  <tbody>\n",
              "    <tr>\n",
              "      <th>0</th>\n",
              "      <td>100001000.0</td>\n",
              "      <td>104.0</td>\n",
              "      <td>PUTNAM</td>\n",
              "      <td>Y</td>\n",
              "      <td>3</td>\n",
              "      <td>1</td>\n",
              "      <td>1000</td>\n",
              "      <td>20000.0</td>\n",
              "    </tr>\n",
              "  </tbody>\n",
              "</table>\n",
              "</div>"
            ],
            "text/plain": [
              "           PID  ST_NUM ST_NAME  ... NUM_BATH SQ_FT    PRICE\n",
              "0  100001000.0   104.0  PUTNAM  ...        1  1000  20000.0\n",
              "\n",
              "[1 rows x 8 columns]"
            ]
          },
          "metadata": {},
          "execution_count": 15
        }
      ]
    },
    {
      "cell_type": "markdown",
      "metadata": {
        "id": "wwdrKqlCWpbJ"
      },
      "source": [
        "Output 2\n",
        "\n",
        "![image.png](data:image/png;base64,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)"
      ]
    },
    {
      "cell_type": "code",
      "metadata": {
        "colab": {
          "base_uri": "https://localhost:8080/",
          "height": 264
        },
        "id": "GiExn38t3zX6",
        "outputId": "37ce17d6-e3f6-4f8c-e3b3-b6654300efc3"
      },
      "source": [
        "df.dropna(thresh=6)"
      ],
      "execution_count": 16,
      "outputs": [
        {
          "output_type": "execute_result",
          "data": {
            "text/html": [
              "<div>\n",
              "<style scoped>\n",
              "    .dataframe tbody tr th:only-of-type {\n",
              "        vertical-align: middle;\n",
              "    }\n",
              "\n",
              "    .dataframe tbody tr th {\n",
              "        vertical-align: top;\n",
              "    }\n",
              "\n",
              "    .dataframe thead th {\n",
              "        text-align: right;\n",
              "    }\n",
              "</style>\n",
              "<table border=\"1\" class=\"dataframe\">\n",
              "  <thead>\n",
              "    <tr style=\"text-align: right;\">\n",
              "      <th></th>\n",
              "      <th>PID</th>\n",
              "      <th>ST_NUM</th>\n",
              "      <th>ST_NAME</th>\n",
              "      <th>OWN_OCCUPIED</th>\n",
              "      <th>NUM_BEDROOMS</th>\n",
              "      <th>NUM_BATH</th>\n",
              "      <th>SQ_FT</th>\n",
              "      <th>PRICE</th>\n",
              "    </tr>\n",
              "  </thead>\n",
              "  <tbody>\n",
              "    <tr>\n",
              "      <th>0</th>\n",
              "      <td>100001000.0</td>\n",
              "      <td>104.0</td>\n",
              "      <td>PUTNAM</td>\n",
              "      <td>Y</td>\n",
              "      <td>3</td>\n",
              "      <td>1</td>\n",
              "      <td>1000</td>\n",
              "      <td>20000.0</td>\n",
              "    </tr>\n",
              "    <tr>\n",
              "      <th>1</th>\n",
              "      <td>100002000.0</td>\n",
              "      <td>197.0</td>\n",
              "      <td>LEXINGTON</td>\n",
              "      <td>N</td>\n",
              "      <td>3</td>\n",
              "      <td>1.5</td>\n",
              "      <td>--</td>\n",
              "      <td>NaN</td>\n",
              "    </tr>\n",
              "    <tr>\n",
              "      <th>3</th>\n",
              "      <td>100004000.0</td>\n",
              "      <td>201.0</td>\n",
              "      <td>BERKELEY</td>\n",
              "      <td>12</td>\n",
              "      <td>1</td>\n",
              "      <td>NaN</td>\n",
              "      <td>700</td>\n",
              "      <td>NaN</td>\n",
              "    </tr>\n",
              "    <tr>\n",
              "      <th>4</th>\n",
              "      <td>NaN</td>\n",
              "      <td>203.0</td>\n",
              "      <td>BERKELEY</td>\n",
              "      <td>Y</td>\n",
              "      <td>3</td>\n",
              "      <td>2</td>\n",
              "      <td>1600</td>\n",
              "      <td>NaN</td>\n",
              "    </tr>\n",
              "    <tr>\n",
              "      <th>5</th>\n",
              "      <td>100006000.0</td>\n",
              "      <td>207.0</td>\n",
              "      <td>BERKELEY</td>\n",
              "      <td>Y</td>\n",
              "      <td>NaN</td>\n",
              "      <td>1</td>\n",
              "      <td>800</td>\n",
              "      <td>NaN</td>\n",
              "    </tr>\n",
              "    <tr>\n",
              "      <th>7</th>\n",
              "      <td>100008000.0</td>\n",
              "      <td>213.0</td>\n",
              "      <td>TREMONT</td>\n",
              "      <td>Y</td>\n",
              "      <td>1</td>\n",
              "      <td>1</td>\n",
              "      <td>NaN</td>\n",
              "      <td>NaN</td>\n",
              "    </tr>\n",
              "    <tr>\n",
              "      <th>8</th>\n",
              "      <td>100009000.0</td>\n",
              "      <td>215.0</td>\n",
              "      <td>TREMONT</td>\n",
              "      <td>Y</td>\n",
              "      <td>na</td>\n",
              "      <td>2</td>\n",
              "      <td>1800</td>\n",
              "      <td>NaN</td>\n",
              "    </tr>\n",
              "  </tbody>\n",
              "</table>\n",
              "</div>"
            ],
            "text/plain": [
              "           PID  ST_NUM    ST_NAME  ... NUM_BATH SQ_FT    PRICE\n",
              "0  100001000.0   104.0     PUTNAM  ...        1  1000  20000.0\n",
              "1  100002000.0   197.0  LEXINGTON  ...      1.5    --      NaN\n",
              "3  100004000.0   201.0   BERKELEY  ...      NaN   700      NaN\n",
              "4          NaN   203.0   BERKELEY  ...        2  1600      NaN\n",
              "5  100006000.0   207.0   BERKELEY  ...        1   800      NaN\n",
              "7  100008000.0   213.0    TREMONT  ...        1   NaN      NaN\n",
              "8  100009000.0   215.0    TREMONT  ...        2  1800      NaN\n",
              "\n",
              "[7 rows x 8 columns]"
            ]
          },
          "metadata": {},
          "execution_count": 16
        }
      ]
    },
    {
      "cell_type": "markdown",
      "metadata": {
        "id": "3bZKvn_vYsl-"
      },
      "source": [
        "Output 3\n",
        "\n",
        "![image.png](data:image/png;base64,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)"
      ]
    },
    {
      "cell_type": "code",
      "metadata": {
        "colab": {
          "base_uri": "https://localhost:8080/",
          "height": 325
        },
        "id": "7L4ryJtk48Yg",
        "outputId": "c20148d2-fd70-4194-9105-b290fd3b85ea"
      },
      "source": [
        "df.dropna(thresh=len(data) - 1, axis=1)"
      ],
      "execution_count": 17,
      "outputs": [
        {
          "output_type": "execute_result",
          "data": {
            "text/html": [
              "<div>\n",
              "<style scoped>\n",
              "    .dataframe tbody tr th:only-of-type {\n",
              "        vertical-align: middle;\n",
              "    }\n",
              "\n",
              "    .dataframe tbody tr th {\n",
              "        vertical-align: top;\n",
              "    }\n",
              "\n",
              "    .dataframe thead th {\n",
              "        text-align: right;\n",
              "    }\n",
              "</style>\n",
              "<table border=\"1\" class=\"dataframe\">\n",
              "  <thead>\n",
              "    <tr style=\"text-align: right;\">\n",
              "      <th></th>\n",
              "      <th>PID</th>\n",
              "      <th>ST_NUM</th>\n",
              "      <th>ST_NAME</th>\n",
              "      <th>OWN_OCCUPIED</th>\n",
              "      <th>NUM_BEDROOMS</th>\n",
              "      <th>NUM_BATH</th>\n",
              "      <th>SQ_FT</th>\n",
              "    </tr>\n",
              "  </thead>\n",
              "  <tbody>\n",
              "    <tr>\n",
              "      <th>0</th>\n",
              "      <td>100001000.0</td>\n",
              "      <td>104.0</td>\n",
              "      <td>PUTNAM</td>\n",
              "      <td>Y</td>\n",
              "      <td>3</td>\n",
              "      <td>1</td>\n",
              "      <td>1000</td>\n",
              "    </tr>\n",
              "    <tr>\n",
              "      <th>1</th>\n",
              "      <td>100002000.0</td>\n",
              "      <td>197.0</td>\n",
              "      <td>LEXINGTON</td>\n",
              "      <td>N</td>\n",
              "      <td>3</td>\n",
              "      <td>1.5</td>\n",
              "      <td>--</td>\n",
              "    </tr>\n",
              "    <tr>\n",
              "      <th>2</th>\n",
              "      <td>100003000.0</td>\n",
              "      <td>NaN</td>\n",
              "      <td>LEXINGTON</td>\n",
              "      <td>N</td>\n",
              "      <td>NaN</td>\n",
              "      <td>1</td>\n",
              "      <td>850</td>\n",
              "    </tr>\n",
              "    <tr>\n",
              "      <th>3</th>\n",
              "      <td>100004000.0</td>\n",
              "      <td>201.0</td>\n",
              "      <td>BERKELEY</td>\n",
              "      <td>12</td>\n",
              "      <td>1</td>\n",
              "      <td>NaN</td>\n",
              "      <td>700</td>\n",
              "    </tr>\n",
              "    <tr>\n",
              "      <th>4</th>\n",
              "      <td>NaN</td>\n",
              "      <td>203.0</td>\n",
              "      <td>BERKELEY</td>\n",
              "      <td>Y</td>\n",
              "      <td>3</td>\n",
              "      <td>2</td>\n",
              "      <td>1600</td>\n",
              "    </tr>\n",
              "    <tr>\n",
              "      <th>5</th>\n",
              "      <td>100006000.0</td>\n",
              "      <td>207.0</td>\n",
              "      <td>BERKELEY</td>\n",
              "      <td>Y</td>\n",
              "      <td>NaN</td>\n",
              "      <td>1</td>\n",
              "      <td>800</td>\n",
              "    </tr>\n",
              "    <tr>\n",
              "      <th>6</th>\n",
              "      <td>100007000.0</td>\n",
              "      <td>NaN</td>\n",
              "      <td>WASHINGTON</td>\n",
              "      <td>NaN</td>\n",
              "      <td>2</td>\n",
              "      <td>HURLEY</td>\n",
              "      <td>950</td>\n",
              "    </tr>\n",
              "    <tr>\n",
              "      <th>7</th>\n",
              "      <td>100008000.0</td>\n",
              "      <td>213.0</td>\n",
              "      <td>TREMONT</td>\n",
              "      <td>Y</td>\n",
              "      <td>1</td>\n",
              "      <td>1</td>\n",
              "      <td>NaN</td>\n",
              "    </tr>\n",
              "    <tr>\n",
              "      <th>8</th>\n",
              "      <td>100009000.0</td>\n",
              "      <td>215.0</td>\n",
              "      <td>TREMONT</td>\n",
              "      <td>Y</td>\n",
              "      <td>na</td>\n",
              "      <td>2</td>\n",
              "      <td>1800</td>\n",
              "    </tr>\n",
              "  </tbody>\n",
              "</table>\n",
              "</div>"
            ],
            "text/plain": [
              "           PID  ST_NUM     ST_NAME OWN_OCCUPIED NUM_BEDROOMS NUM_BATH SQ_FT\n",
              "0  100001000.0   104.0      PUTNAM            Y            3        1  1000\n",
              "1  100002000.0   197.0   LEXINGTON            N            3      1.5    --\n",
              "2  100003000.0     NaN   LEXINGTON            N          NaN        1   850\n",
              "3  100004000.0   201.0    BERKELEY           12            1      NaN   700\n",
              "4          NaN   203.0    BERKELEY            Y            3        2  1600\n",
              "5  100006000.0   207.0    BERKELEY            Y          NaN        1   800\n",
              "6  100007000.0     NaN  WASHINGTON          NaN            2   HURLEY   950\n",
              "7  100008000.0   213.0     TREMONT            Y            1        1   NaN\n",
              "8  100009000.0   215.0     TREMONT            Y           na        2  1800"
            ]
          },
          "metadata": {},
          "execution_count": 17
        }
      ]
    },
    {
      "cell_type": "markdown",
      "metadata": {
        "id": "zxgLC3q_qXQ8"
      },
      "source": [
        "###Filling in missing data\n",
        "---\n",
        "Instead of filtering data. Default data may be used.\n",
        "we can fil the defulat data for all NA values.\n",
        "\n",
        "![image.png](data:image/png;base64,iVBORw0KGgoAAAANSUhEUgAAAIkAAAAlCAYAAAB2+spcAAAFN0lEQVR4Ae1aTUhcVxQ+KbQyZEbN6Caj1nFRXQSRrkSkiwgKdTG6VAmCPyAtldiNoB0UrWBQC3ZTRrDYLhQHV1qwoEGhRey0SLUQREkiRp20oBN/UoaQheG75b6+N+85901mcFo4F4b33rnn3Hvud793znmXuRGNRi+JGyMQB4F34vRxFyMgEGCSMBGUCDBJlBCxApOEOaBEgEmihIgVmCTMASUCTBIlRKzAJGEOKBFgkighYgUmCXNAiQCTRAkRK/znSDI8PEyzs7OmnYHM4XCIn8/no0gkYtK5SrC+vq7ZlpeX0+7urqaKe8gwr75hfMyDOWNtoCft0J+oP/p5VPfwo7m52eCzyga+9fb2UjQaVana6k85SYLBIA0NDdHh4aEtB+woYdHT09O0tbUlFr6wsEBut9uOqSATCLCysiJsQ6EQFRcXK20xPuY5OjqikpISkz7GwFjwKTs729SfCgE2ub+/n2praw0+n7+K0sdzw+T+uk382n4MGKaDby6Xi8bHxw3yt31IGUnOz89pdHSUMjMzKSMj4239sbQ7OTkhr9dLBQUFlv3xhMfHx2ITrTYadnKze3p64g2Tlr75+Xkxb11dnWH+z1e+J4/zFkXuf0uP2r6i354/oZHQgkGnq6uLwuEwIYom21JGErypjY2NVFpampBPeFs6Ozu1dDA4OGiy39/fN8nsCkCw09NTS3VEGJnCrFKcpZENIdaEcI8NkikrNiXpUyB8iN1MpJnFxUUNGzntxp9P6dfnT+jTD2uE6LYzm+7d+YhWnz0iRBjZMGZTUxPNzMwknXZSRpL6+nrKz8+XPtq+IiR6PB6xEIDb19en2cpNbGlpocnJSZFisHg7GyprmKqqKlpeXqa8vDxBCH3tgegRO6c2eZI3FxcXhLd5bGxMpLzCwkJaWloSo4IA29vb2prxgsEvyGXb2dmhrKwsU/QMv3xB+S43fXDrtlD94fEGPfhlno4uIvT361fSXFwRPc/Ozujg4MAgT/QhZSRJdGLoo9YAWB0dHZbmchOnpqaovb1dgIhNbWhosNTXC6EDXWxAdXW1qC3wfJ1pBS8A0hmIXVlZSXt7e8JF1Dutra2au9hM1DVIjbIheuLlga1V2/jrKXkDnfTFT7P0sMFPrvccFH75L8lgA1sQDdE0mZZWkiTj+P/dVkZJbCSiHCKHvklC6WXyPhR+TPcffkfr976kP1pH6fLynz8XepzGYh5jg2jJpGvMySSRyF/jFakQNQi+nBDdrL6gioqKLD1CwZrnctNU7SeEegQNKSgzw0E33zV+MGBsFK9Idcm0tJIkNzdXFJXyLQJ4VoWraoHyrYwt/lR26ezHxslUMjExYYok6McGY6P1DbUIahL/z0FRqKJY/eb3Jbr7/h1BFL0ubFGT5OTk6MUJ36eMJKurq+T3+ykQCAjHcFWdlyA3o0ZAcQnAEGJRf1xHQ5EovzxATBTH8EEWxfLrA6lgbm6OysrKDIdqsjCGHP3Qi/2CuWodNTU1IgVg/ZjT6XSazmJQpyBNbG5uGoZBxAj6uoTMG/iM8ANBust9Bj08XFX8mhQVghv8b3kFQmnsBhHX1tZoZGREizp23UEU6e7uFp/BFRUVds0s9VIWSSxHZ2FSCMhDNHmolshg8mghWYJgTiZJIshfsy5S0cDAgDhUw3GB3QZdeU5j1yaeHqebeOhwn0CAIwkTQYkAk0QJESswSZgDSgSYJEqIWIFJwhxQIsAkUULECkwS5oASASaJEiJWYJIwB5QIMEmUELECk4Q5oETgDaafG7xbQcWWAAAAAElFTkSuQmCC)\n"
      ]
    },
    {
      "cell_type": "code",
      "metadata": {
        "id": "BR8zSMuhrAuI",
        "colab": {
          "base_uri": "https://localhost:8080/",
          "height": 325
        },
        "outputId": "c64c239c-de10-4c86-e27d-b085bd51b963"
      },
      "source": [
        "df.fillna(0)"
      ],
      "execution_count": 18,
      "outputs": [
        {
          "output_type": "execute_result",
          "data": {
            "text/html": [
              "<div>\n",
              "<style scoped>\n",
              "    .dataframe tbody tr th:only-of-type {\n",
              "        vertical-align: middle;\n",
              "    }\n",
              "\n",
              "    .dataframe tbody tr th {\n",
              "        vertical-align: top;\n",
              "    }\n",
              "\n",
              "    .dataframe thead th {\n",
              "        text-align: right;\n",
              "    }\n",
              "</style>\n",
              "<table border=\"1\" class=\"dataframe\">\n",
              "  <thead>\n",
              "    <tr style=\"text-align: right;\">\n",
              "      <th></th>\n",
              "      <th>PID</th>\n",
              "      <th>ST_NUM</th>\n",
              "      <th>ST_NAME</th>\n",
              "      <th>OWN_OCCUPIED</th>\n",
              "      <th>NUM_BEDROOMS</th>\n",
              "      <th>NUM_BATH</th>\n",
              "      <th>SQ_FT</th>\n",
              "      <th>PRICE</th>\n",
              "    </tr>\n",
              "  </thead>\n",
              "  <tbody>\n",
              "    <tr>\n",
              "      <th>0</th>\n",
              "      <td>100001000.0</td>\n",
              "      <td>104.0</td>\n",
              "      <td>PUTNAM</td>\n",
              "      <td>Y</td>\n",
              "      <td>3</td>\n",
              "      <td>1</td>\n",
              "      <td>1000</td>\n",
              "      <td>20000.0</td>\n",
              "    </tr>\n",
              "    <tr>\n",
              "      <th>1</th>\n",
              "      <td>100002000.0</td>\n",
              "      <td>197.0</td>\n",
              "      <td>LEXINGTON</td>\n",
              "      <td>N</td>\n",
              "      <td>3</td>\n",
              "      <td>1.5</td>\n",
              "      <td>--</td>\n",
              "      <td>0.0</td>\n",
              "    </tr>\n",
              "    <tr>\n",
              "      <th>2</th>\n",
              "      <td>100003000.0</td>\n",
              "      <td>0.0</td>\n",
              "      <td>LEXINGTON</td>\n",
              "      <td>N</td>\n",
              "      <td>0</td>\n",
              "      <td>1</td>\n",
              "      <td>850</td>\n",
              "      <td>0.0</td>\n",
              "    </tr>\n",
              "    <tr>\n",
              "      <th>3</th>\n",
              "      <td>100004000.0</td>\n",
              "      <td>201.0</td>\n",
              "      <td>BERKELEY</td>\n",
              "      <td>12</td>\n",
              "      <td>1</td>\n",
              "      <td>0</td>\n",
              "      <td>700</td>\n",
              "      <td>0.0</td>\n",
              "    </tr>\n",
              "    <tr>\n",
              "      <th>4</th>\n",
              "      <td>0.0</td>\n",
              "      <td>203.0</td>\n",
              "      <td>BERKELEY</td>\n",
              "      <td>Y</td>\n",
              "      <td>3</td>\n",
              "      <td>2</td>\n",
              "      <td>1600</td>\n",
              "      <td>0.0</td>\n",
              "    </tr>\n",
              "    <tr>\n",
              "      <th>5</th>\n",
              "      <td>100006000.0</td>\n",
              "      <td>207.0</td>\n",
              "      <td>BERKELEY</td>\n",
              "      <td>Y</td>\n",
              "      <td>0</td>\n",
              "      <td>1</td>\n",
              "      <td>800</td>\n",
              "      <td>0.0</td>\n",
              "    </tr>\n",
              "    <tr>\n",
              "      <th>6</th>\n",
              "      <td>100007000.0</td>\n",
              "      <td>0.0</td>\n",
              "      <td>WASHINGTON</td>\n",
              "      <td>0</td>\n",
              "      <td>2</td>\n",
              "      <td>HURLEY</td>\n",
              "      <td>950</td>\n",
              "      <td>0.0</td>\n",
              "    </tr>\n",
              "    <tr>\n",
              "      <th>7</th>\n",
              "      <td>100008000.0</td>\n",
              "      <td>213.0</td>\n",
              "      <td>TREMONT</td>\n",
              "      <td>Y</td>\n",
              "      <td>1</td>\n",
              "      <td>1</td>\n",
              "      <td>0</td>\n",
              "      <td>0.0</td>\n",
              "    </tr>\n",
              "    <tr>\n",
              "      <th>8</th>\n",
              "      <td>100009000.0</td>\n",
              "      <td>215.0</td>\n",
              "      <td>TREMONT</td>\n",
              "      <td>Y</td>\n",
              "      <td>na</td>\n",
              "      <td>2</td>\n",
              "      <td>1800</td>\n",
              "      <td>0.0</td>\n",
              "    </tr>\n",
              "  </tbody>\n",
              "</table>\n",
              "</div>"
            ],
            "text/plain": [
              "           PID  ST_NUM     ST_NAME  ... NUM_BATH SQ_FT    PRICE\n",
              "0  100001000.0   104.0      PUTNAM  ...        1  1000  20000.0\n",
              "1  100002000.0   197.0   LEXINGTON  ...      1.5    --      0.0\n",
              "2  100003000.0     0.0   LEXINGTON  ...        1   850      0.0\n",
              "3  100004000.0   201.0    BERKELEY  ...        0   700      0.0\n",
              "4          0.0   203.0    BERKELEY  ...        2  1600      0.0\n",
              "5  100006000.0   207.0    BERKELEY  ...        1   800      0.0\n",
              "6  100007000.0     0.0  WASHINGTON  ...   HURLEY   950      0.0\n",
              "7  100008000.0   213.0     TREMONT  ...        1     0      0.0\n",
              "8  100009000.0   215.0     TREMONT  ...        2  1800      0.0\n",
              "\n",
              "[9 rows x 8 columns]"
            ]
          },
          "metadata": {},
          "execution_count": 18
        }
      ]
    },
    {
      "cell_type": "markdown",
      "metadata": {
        "id": "_LhPQVt8rDbL"
      },
      "source": [
        "Or we can define the value for each column\n",
        "\n",
        "![image.png](data:image/png;base64,iVBORw0KGgoAAAANSUhEUgAAAMwAAAAjCAYAAADYMOWlAAAILElEQVR4Ae1cf0xVVRz/2kpggT/AP5QfgWm4EtnSipyrTIMGW0BzFTqngG5miwlrsVCm03SUWdHYFDcNGulA1gxauEDB6RyRc2obY5LmTH7UJqhgvWl/2D6Hfa/3vXvfu/e+58Pc+56NvXvP+X7P+Z7POZ9zvt/vnU5wuVx3SYogIAjYQuARW1IiJAgIAgoBIYxsBEHAAQJCGAdgiaggIISRPSAIOEBACOMALBEVBIQwsgcEAQcICGEcgCWigoAQRvaAIOAAASGMA7BEVBAQwsgeEAQcICCEcQCWiAoC40aYiooKqq+vNyCOuoiICPWXnZ1Nw8PDBhlvFZ2dnZpuWloa9fb2aqJ4Rh3G1Rf0j3EwpqcO5FgP7U7t0Y9j9Qw7Vq1a5WYz67ANZvaxjPyOIcD7p6ioiFwulwEWYLlx40bTNoOwjQrbhGloaKDt27dTX1+fjW7tiWAyBw4coPPnz6sJNTc3U3R0tC1lbDiQob29Xel2dXVRcnKypS76xzj9/f00Z84cgzz6QF+wacqUKYb2+1GBhd2yZQtlZWUZbEZbVVUVlZSUKDs853Tmz98pqbqI1hypdmTKyG0XZTZWUPRXa9SfE/3BWzco9esPNV30gb7Qp53CNvPYP1w8Y0dNk9nZ1ayNDTtgD5e8vDy1/rGxsdTU1MTV2i/wi4qKosrKSq0ukIdHrZRHRkZo7969lJKSQmFhYVbijtqHhoYoKSmJEhISHOlB+Nq1a2pDm216tPPGd9zxOCjwwubk5BhGA2Fu3rxJ8+fPN7Rh43T80U0vzJhlaLOqKGn/hmIjp9Lwhv1qw71+aAehv9K0bCtV1R4XFU0/vb2JZkQ6O0RAqk+7mum73BJaMP1JAlmKjtYqW/BuVSD/bfdJ6l7zuRobRC88socasotpUliEpr548WI6fvy49q5/KC4uptLSUoJHsnDhQn2T42fLGwYn+PLly2nevHmOOsfC45pkd2vbtm0G/StXrhjq7FaAbDdu3Dtp9Hq4eXhcMzdQL+vkGXPC9Q7g2a3zdNv0biJswLu+4GZsaWnRsNG3+XrGKT1w6zodeauMoiaGexXFfD1dOej+MniJ3ns2Q+lh06+c+5Iin91bwuuAFg3Y1IdyihVZIPrc9Fk0aWK4mote1cxu2Lb7bKuylYmKOfSNDtNv1wf16j6fsQ4rVqyggwcPBuyaWRImNzeX4uPjfRpk1ogrENckNhn+Nm/erInxhi4oKKB9+/YpNwyTsrO5IQPZJUuWUFtbG8XFxal3faxSVlZmGFMbPMCH0dFRwom1a9cuFW8lJiZSa2ur6hVk6Onp0eaMwwZ2oZ7LhQsXaPLkyY5vVZzGlUtXczeOfkG0+KhoemrqDKWHU/uTn5uof3SY/v73tqO+xlMYtoE0SxNT1LBwxQpa9ii7MScnBZ4Ibu6rV686UTPIWhLGoGGjArEJNs66detMpXlD19TU0Nq1a9WGAqngj1oV9lmxGdPT01UsAl30OV4FhwFcPhB30aJFdPnyZTU04qPCwkLNDCwS4iC4j1xwq+Igga5ZYdlp06aZNVvWAR9v8dyZv8bin00n6uloXjlFTYyggVv3yOyrc5Br7v4PVCyBGAq3lj+l/GQ9wb17JeEZN3Vfdo/cGYu/MP6Ol/PozeTnqWeo300/JiZG7Tn94aQXAN44qOCZBFKCQphADHrYdfn2xALh9sONoi9MLn0dnrHQcO8Q8CNmtJv88OzH23vXwEXacLSWOld+TL8WfkZ37479Q9vYSOskC9wh6CD+wV/Va/m07PsvHZMGMdPpwUv0deZ6t/jDm82oH73jomWHv1DuJMYG0XC7PB0T56aGA6y8vJwyMzMNmVEIYj1wUAUSBqAfIYwb7IG9wF1EzIIMHG49s0zczJkzTQfh7B3iPtzM3k5KU2WLSgT7ONVrstZrQTs2HeKLxx9znshBHBIXOdViVPdmkGX32TY3G9wljG+wDXZ/9GIOvTF7gRJgNw1z0hfgjsMGgb+Zt4H1GBgYILjQgZSgEAbuBAJyPl2xkcyCfivD+bT2DJyt9B5kOxaE3S3cFIwB24R2LBwW0KywK8aumZmMrzpg7Rn0I3ZBDFN+skHFBBxMv/rEXLeTHrENUr9WKWe4VSAbx0SwB/MB2T3HRhuThTNlZvab2Y0xYCOIxi5gXfcJw9jcny9XF/YhhoHrFkixTCt3dHTQsWPHtDGqq6spPDyc8vPzvSYDcFqC5QjMURDwI14Zj4KTGbYhIcAFyQWMDz8Z5GO70N7Y2EipqalUV1en4hIsHOS5oB2xUm1trUYEbvP8zcjIUJkYdqd27txp+NaDuAZuwblz5xylOBHwIhWMDBGXw72nlT+/P/NdrjL9xcZDGvad5kpKqn5fyeDUtptSBpFW/7hb6xsxBLJ1+oJDAvEckjj6OAF2Iy08cvsfSm/Yoamkxc42pIa1Rt0D28i6dvV0XahHf5Mtnv1MkP81xhOS4L+DlKdOnSIQim8jHhWERxYO/jj88oep4DCC7Xz4jKftGNuXO4bvMEgtB/07zHhOOlTG4g+W/AFTP28Q6H5kc/R9BvuZExYPiiyYH8jiLT7kTxyBkgXjBCWGCfYCPez9gxRbt25VHzCRgtcXtCEWwOYziwf0sv+XZ05YeEtnB9NO3NbADDcMXGLPAnz525lnmz/v4pL5g5rohCwCcsOE7NLLxP1BQAjjD2qiE7IICGFCdull4v4gIITxBzXRCVkEhDAhu/QycX8QEML4g5rohCwCQpiQXXqZuD8ICGH8QU10QhYBIUzILr1M3B8E/gPY55qoPE+2mQAAAABJRU5ErkJggg==)"
      ]
    },
    {
      "cell_type": "code",
      "metadata": {
        "colab": {
          "base_uri": "https://localhost:8080/",
          "height": 325
        },
        "id": "J8hMEfJsjRYg",
        "outputId": "ef429ed3-ae1e-4d6e-d1c9-1674a9a92fe4"
      },
      "source": [
        "df.fillna({1:0.5, 2:0})"
      ],
      "execution_count": 19,
      "outputs": [
        {
          "output_type": "execute_result",
          "data": {
            "text/html": [
              "<div>\n",
              "<style scoped>\n",
              "    .dataframe tbody tr th:only-of-type {\n",
              "        vertical-align: middle;\n",
              "    }\n",
              "\n",
              "    .dataframe tbody tr th {\n",
              "        vertical-align: top;\n",
              "    }\n",
              "\n",
              "    .dataframe thead th {\n",
              "        text-align: right;\n",
              "    }\n",
              "</style>\n",
              "<table border=\"1\" class=\"dataframe\">\n",
              "  <thead>\n",
              "    <tr style=\"text-align: right;\">\n",
              "      <th></th>\n",
              "      <th>PID</th>\n",
              "      <th>ST_NUM</th>\n",
              "      <th>ST_NAME</th>\n",
              "      <th>OWN_OCCUPIED</th>\n",
              "      <th>NUM_BEDROOMS</th>\n",
              "      <th>NUM_BATH</th>\n",
              "      <th>SQ_FT</th>\n",
              "      <th>PRICE</th>\n",
              "    </tr>\n",
              "  </thead>\n",
              "  <tbody>\n",
              "    <tr>\n",
              "      <th>0</th>\n",
              "      <td>100001000.0</td>\n",
              "      <td>104.0</td>\n",
              "      <td>PUTNAM</td>\n",
              "      <td>Y</td>\n",
              "      <td>3</td>\n",
              "      <td>1</td>\n",
              "      <td>1000</td>\n",
              "      <td>20000.0</td>\n",
              "    </tr>\n",
              "    <tr>\n",
              "      <th>1</th>\n",
              "      <td>100002000.0</td>\n",
              "      <td>197.0</td>\n",
              "      <td>LEXINGTON</td>\n",
              "      <td>N</td>\n",
              "      <td>3</td>\n",
              "      <td>1.5</td>\n",
              "      <td>--</td>\n",
              "      <td>NaN</td>\n",
              "    </tr>\n",
              "    <tr>\n",
              "      <th>2</th>\n",
              "      <td>100003000.0</td>\n",
              "      <td>NaN</td>\n",
              "      <td>LEXINGTON</td>\n",
              "      <td>N</td>\n",
              "      <td>NaN</td>\n",
              "      <td>1</td>\n",
              "      <td>850</td>\n",
              "      <td>NaN</td>\n",
              "    </tr>\n",
              "    <tr>\n",
              "      <th>3</th>\n",
              "      <td>100004000.0</td>\n",
              "      <td>201.0</td>\n",
              "      <td>BERKELEY</td>\n",
              "      <td>12</td>\n",
              "      <td>1</td>\n",
              "      <td>NaN</td>\n",
              "      <td>700</td>\n",
              "      <td>NaN</td>\n",
              "    </tr>\n",
              "    <tr>\n",
              "      <th>4</th>\n",
              "      <td>NaN</td>\n",
              "      <td>203.0</td>\n",
              "      <td>BERKELEY</td>\n",
              "      <td>Y</td>\n",
              "      <td>3</td>\n",
              "      <td>2</td>\n",
              "      <td>1600</td>\n",
              "      <td>NaN</td>\n",
              "    </tr>\n",
              "    <tr>\n",
              "      <th>5</th>\n",
              "      <td>100006000.0</td>\n",
              "      <td>207.0</td>\n",
              "      <td>BERKELEY</td>\n",
              "      <td>Y</td>\n",
              "      <td>NaN</td>\n",
              "      <td>1</td>\n",
              "      <td>800</td>\n",
              "      <td>NaN</td>\n",
              "    </tr>\n",
              "    <tr>\n",
              "      <th>6</th>\n",
              "      <td>100007000.0</td>\n",
              "      <td>NaN</td>\n",
              "      <td>WASHINGTON</td>\n",
              "      <td>NaN</td>\n",
              "      <td>2</td>\n",
              "      <td>HURLEY</td>\n",
              "      <td>950</td>\n",
              "      <td>NaN</td>\n",
              "    </tr>\n",
              "    <tr>\n",
              "      <th>7</th>\n",
              "      <td>100008000.0</td>\n",
              "      <td>213.0</td>\n",
              "      <td>TREMONT</td>\n",
              "      <td>Y</td>\n",
              "      <td>1</td>\n",
              "      <td>1</td>\n",
              "      <td>NaN</td>\n",
              "      <td>NaN</td>\n",
              "    </tr>\n",
              "    <tr>\n",
              "      <th>8</th>\n",
              "      <td>100009000.0</td>\n",
              "      <td>215.0</td>\n",
              "      <td>TREMONT</td>\n",
              "      <td>Y</td>\n",
              "      <td>na</td>\n",
              "      <td>2</td>\n",
              "      <td>1800</td>\n",
              "      <td>NaN</td>\n",
              "    </tr>\n",
              "  </tbody>\n",
              "</table>\n",
              "</div>"
            ],
            "text/plain": [
              "           PID  ST_NUM     ST_NAME  ... NUM_BATH SQ_FT    PRICE\n",
              "0  100001000.0   104.0      PUTNAM  ...        1  1000  20000.0\n",
              "1  100002000.0   197.0   LEXINGTON  ...      1.5    --      NaN\n",
              "2  100003000.0     NaN   LEXINGTON  ...        1   850      NaN\n",
              "3  100004000.0   201.0    BERKELEY  ...      NaN   700      NaN\n",
              "4          NaN   203.0    BERKELEY  ...        2  1600      NaN\n",
              "5  100006000.0   207.0    BERKELEY  ...        1   800      NaN\n",
              "6  100007000.0     NaN  WASHINGTON  ...   HURLEY   950      NaN\n",
              "7  100008000.0   213.0     TREMONT  ...        1   NaN      NaN\n",
              "8  100009000.0   215.0     TREMONT  ...        2  1800      NaN\n",
              "\n",
              "[9 rows x 8 columns]"
            ]
          },
          "metadata": {},
          "execution_count": 19
        }
      ]
    },
    {
      "cell_type": "code",
      "metadata": {
        "id": "Wy1VB50MrHWn",
        "colab": {
          "base_uri": "https://localhost:8080/",
          "height": 325
        },
        "outputId": "65503555-d2ce-418a-a351-c35dfd4f1179"
      },
      "source": [
        "df.fillna({'PID':0.5, 'ST_NUM':0})"
      ],
      "execution_count": 20,
      "outputs": [
        {
          "output_type": "execute_result",
          "data": {
            "text/html": [
              "<div>\n",
              "<style scoped>\n",
              "    .dataframe tbody tr th:only-of-type {\n",
              "        vertical-align: middle;\n",
              "    }\n",
              "\n",
              "    .dataframe tbody tr th {\n",
              "        vertical-align: top;\n",
              "    }\n",
              "\n",
              "    .dataframe thead th {\n",
              "        text-align: right;\n",
              "    }\n",
              "</style>\n",
              "<table border=\"1\" class=\"dataframe\">\n",
              "  <thead>\n",
              "    <tr style=\"text-align: right;\">\n",
              "      <th></th>\n",
              "      <th>PID</th>\n",
              "      <th>ST_NUM</th>\n",
              "      <th>ST_NAME</th>\n",
              "      <th>OWN_OCCUPIED</th>\n",
              "      <th>NUM_BEDROOMS</th>\n",
              "      <th>NUM_BATH</th>\n",
              "      <th>SQ_FT</th>\n",
              "      <th>PRICE</th>\n",
              "    </tr>\n",
              "  </thead>\n",
              "  <tbody>\n",
              "    <tr>\n",
              "      <th>0</th>\n",
              "      <td>100001000.0</td>\n",
              "      <td>104.0</td>\n",
              "      <td>PUTNAM</td>\n",
              "      <td>Y</td>\n",
              "      <td>3</td>\n",
              "      <td>1</td>\n",
              "      <td>1000</td>\n",
              "      <td>20000.0</td>\n",
              "    </tr>\n",
              "    <tr>\n",
              "      <th>1</th>\n",
              "      <td>100002000.0</td>\n",
              "      <td>197.0</td>\n",
              "      <td>LEXINGTON</td>\n",
              "      <td>N</td>\n",
              "      <td>3</td>\n",
              "      <td>1.5</td>\n",
              "      <td>--</td>\n",
              "      <td>NaN</td>\n",
              "    </tr>\n",
              "    <tr>\n",
              "      <th>2</th>\n",
              "      <td>100003000.0</td>\n",
              "      <td>0.0</td>\n",
              "      <td>LEXINGTON</td>\n",
              "      <td>N</td>\n",
              "      <td>NaN</td>\n",
              "      <td>1</td>\n",
              "      <td>850</td>\n",
              "      <td>NaN</td>\n",
              "    </tr>\n",
              "    <tr>\n",
              "      <th>3</th>\n",
              "      <td>100004000.0</td>\n",
              "      <td>201.0</td>\n",
              "      <td>BERKELEY</td>\n",
              "      <td>12</td>\n",
              "      <td>1</td>\n",
              "      <td>NaN</td>\n",
              "      <td>700</td>\n",
              "      <td>NaN</td>\n",
              "    </tr>\n",
              "    <tr>\n",
              "      <th>4</th>\n",
              "      <td>0.5</td>\n",
              "      <td>203.0</td>\n",
              "      <td>BERKELEY</td>\n",
              "      <td>Y</td>\n",
              "      <td>3</td>\n",
              "      <td>2</td>\n",
              "      <td>1600</td>\n",
              "      <td>NaN</td>\n",
              "    </tr>\n",
              "    <tr>\n",
              "      <th>5</th>\n",
              "      <td>100006000.0</td>\n",
              "      <td>207.0</td>\n",
              "      <td>BERKELEY</td>\n",
              "      <td>Y</td>\n",
              "      <td>NaN</td>\n",
              "      <td>1</td>\n",
              "      <td>800</td>\n",
              "      <td>NaN</td>\n",
              "    </tr>\n",
              "    <tr>\n",
              "      <th>6</th>\n",
              "      <td>100007000.0</td>\n",
              "      <td>0.0</td>\n",
              "      <td>WASHINGTON</td>\n",
              "      <td>NaN</td>\n",
              "      <td>2</td>\n",
              "      <td>HURLEY</td>\n",
              "      <td>950</td>\n",
              "      <td>NaN</td>\n",
              "    </tr>\n",
              "    <tr>\n",
              "      <th>7</th>\n",
              "      <td>100008000.0</td>\n",
              "      <td>213.0</td>\n",
              "      <td>TREMONT</td>\n",
              "      <td>Y</td>\n",
              "      <td>1</td>\n",
              "      <td>1</td>\n",
              "      <td>NaN</td>\n",
              "      <td>NaN</td>\n",
              "    </tr>\n",
              "    <tr>\n",
              "      <th>8</th>\n",
              "      <td>100009000.0</td>\n",
              "      <td>215.0</td>\n",
              "      <td>TREMONT</td>\n",
              "      <td>Y</td>\n",
              "      <td>na</td>\n",
              "      <td>2</td>\n",
              "      <td>1800</td>\n",
              "      <td>NaN</td>\n",
              "    </tr>\n",
              "  </tbody>\n",
              "</table>\n",
              "</div>"
            ],
            "text/plain": [
              "           PID  ST_NUM     ST_NAME  ... NUM_BATH SQ_FT    PRICE\n",
              "0  100001000.0   104.0      PUTNAM  ...        1  1000  20000.0\n",
              "1  100002000.0   197.0   LEXINGTON  ...      1.5    --      NaN\n",
              "2  100003000.0     0.0   LEXINGTON  ...        1   850      NaN\n",
              "3  100004000.0   201.0    BERKELEY  ...      NaN   700      NaN\n",
              "4          0.5   203.0    BERKELEY  ...        2  1600      NaN\n",
              "5  100006000.0   207.0    BERKELEY  ...        1   800      NaN\n",
              "6  100007000.0     0.0  WASHINGTON  ...   HURLEY   950      NaN\n",
              "7  100008000.0   213.0     TREMONT  ...        1   NaN      NaN\n",
              "8  100009000.0   215.0     TREMONT  ...        2  1800      NaN\n",
              "\n",
              "[9 rows x 8 columns]"
            ]
          },
          "metadata": {},
          "execution_count": 20
        }
      ]
    },
    {
      "cell_type": "markdown",
      "metadata": {
        "id": "EkI6rRBxrMzJ"
      },
      "source": [
        "`fillna` returns a new object, but we can modifiy the existing object in-place\n",
        "\n",
        "![image.png](data:image/png;base64,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)\n"
      ]
    },
    {
      "cell_type": "code",
      "metadata": {
        "id": "Egd-6Ub1rSNg",
        "colab": {
          "base_uri": "https://localhost:8080/",
          "height": 325
        },
        "outputId": "955e9e15-fd35-4d15-f54c-95928642ebb9"
      },
      "source": [
        "df.fillna(0, inplace=True)\n",
        "df"
      ],
      "execution_count": 21,
      "outputs": [
        {
          "output_type": "execute_result",
          "data": {
            "text/html": [
              "<div>\n",
              "<style scoped>\n",
              "    .dataframe tbody tr th:only-of-type {\n",
              "        vertical-align: middle;\n",
              "    }\n",
              "\n",
              "    .dataframe tbody tr th {\n",
              "        vertical-align: top;\n",
              "    }\n",
              "\n",
              "    .dataframe thead th {\n",
              "        text-align: right;\n",
              "    }\n",
              "</style>\n",
              "<table border=\"1\" class=\"dataframe\">\n",
              "  <thead>\n",
              "    <tr style=\"text-align: right;\">\n",
              "      <th></th>\n",
              "      <th>PID</th>\n",
              "      <th>ST_NUM</th>\n",
              "      <th>ST_NAME</th>\n",
              "      <th>OWN_OCCUPIED</th>\n",
              "      <th>NUM_BEDROOMS</th>\n",
              "      <th>NUM_BATH</th>\n",
              "      <th>SQ_FT</th>\n",
              "      <th>PRICE</th>\n",
              "    </tr>\n",
              "  </thead>\n",
              "  <tbody>\n",
              "    <tr>\n",
              "      <th>0</th>\n",
              "      <td>100001000.0</td>\n",
              "      <td>104.0</td>\n",
              "      <td>PUTNAM</td>\n",
              "      <td>Y</td>\n",
              "      <td>3</td>\n",
              "      <td>1</td>\n",
              "      <td>1000</td>\n",
              "      <td>20000.0</td>\n",
              "    </tr>\n",
              "    <tr>\n",
              "      <th>1</th>\n",
              "      <td>100002000.0</td>\n",
              "      <td>197.0</td>\n",
              "      <td>LEXINGTON</td>\n",
              "      <td>N</td>\n",
              "      <td>3</td>\n",
              "      <td>1.5</td>\n",
              "      <td>--</td>\n",
              "      <td>0.0</td>\n",
              "    </tr>\n",
              "    <tr>\n",
              "      <th>2</th>\n",
              "      <td>100003000.0</td>\n",
              "      <td>0.0</td>\n",
              "      <td>LEXINGTON</td>\n",
              "      <td>N</td>\n",
              "      <td>0</td>\n",
              "      <td>1</td>\n",
              "      <td>850</td>\n",
              "      <td>0.0</td>\n",
              "    </tr>\n",
              "    <tr>\n",
              "      <th>3</th>\n",
              "      <td>100004000.0</td>\n",
              "      <td>201.0</td>\n",
              "      <td>BERKELEY</td>\n",
              "      <td>12</td>\n",
              "      <td>1</td>\n",
              "      <td>0</td>\n",
              "      <td>700</td>\n",
              "      <td>0.0</td>\n",
              "    </tr>\n",
              "    <tr>\n",
              "      <th>4</th>\n",
              "      <td>0.0</td>\n",
              "      <td>203.0</td>\n",
              "      <td>BERKELEY</td>\n",
              "      <td>Y</td>\n",
              "      <td>3</td>\n",
              "      <td>2</td>\n",
              "      <td>1600</td>\n",
              "      <td>0.0</td>\n",
              "    </tr>\n",
              "    <tr>\n",
              "      <th>5</th>\n",
              "      <td>100006000.0</td>\n",
              "      <td>207.0</td>\n",
              "      <td>BERKELEY</td>\n",
              "      <td>Y</td>\n",
              "      <td>0</td>\n",
              "      <td>1</td>\n",
              "      <td>800</td>\n",
              "      <td>0.0</td>\n",
              "    </tr>\n",
              "    <tr>\n",
              "      <th>6</th>\n",
              "      <td>100007000.0</td>\n",
              "      <td>0.0</td>\n",
              "      <td>WASHINGTON</td>\n",
              "      <td>0</td>\n",
              "      <td>2</td>\n",
              "      <td>HURLEY</td>\n",
              "      <td>950</td>\n",
              "      <td>0.0</td>\n",
              "    </tr>\n",
              "    <tr>\n",
              "      <th>7</th>\n",
              "      <td>100008000.0</td>\n",
              "      <td>213.0</td>\n",
              "      <td>TREMONT</td>\n",
              "      <td>Y</td>\n",
              "      <td>1</td>\n",
              "      <td>1</td>\n",
              "      <td>0</td>\n",
              "      <td>0.0</td>\n",
              "    </tr>\n",
              "    <tr>\n",
              "      <th>8</th>\n",
              "      <td>100009000.0</td>\n",
              "      <td>215.0</td>\n",
              "      <td>TREMONT</td>\n",
              "      <td>Y</td>\n",
              "      <td>na</td>\n",
              "      <td>2</td>\n",
              "      <td>1800</td>\n",
              "      <td>0.0</td>\n",
              "    </tr>\n",
              "  </tbody>\n",
              "</table>\n",
              "</div>"
            ],
            "text/plain": [
              "           PID  ST_NUM     ST_NAME  ... NUM_BATH SQ_FT    PRICE\n",
              "0  100001000.0   104.0      PUTNAM  ...        1  1000  20000.0\n",
              "1  100002000.0   197.0   LEXINGTON  ...      1.5    --      0.0\n",
              "2  100003000.0     0.0   LEXINGTON  ...        1   850      0.0\n",
              "3  100004000.0   201.0    BERKELEY  ...        0   700      0.0\n",
              "4          0.0   203.0    BERKELEY  ...        2  1600      0.0\n",
              "5  100006000.0   207.0    BERKELEY  ...        1   800      0.0\n",
              "6  100007000.0     0.0  WASHINGTON  ...   HURLEY   950      0.0\n",
              "7  100008000.0   213.0     TREMONT  ...        1     0      0.0\n",
              "8  100009000.0   215.0     TREMONT  ...        2  1800      0.0\n",
              "\n",
              "[9 rows x 8 columns]"
            ]
          },
          "metadata": {},
          "execution_count": 21
        }
      ]
    },
    {
      "cell_type": "markdown",
      "metadata": {
        "id": "0ZtYymEOrumI"
      },
      "source": [
        "We can use the interpolation method to file the value.\n",
        "\n",
        "Now we create a new data frame with some NA\n"
      ]
    },
    {
      "cell_type": "code",
      "metadata": {
        "id": "4J_Xde2rsA9H",
        "colab": {
          "base_uri": "https://localhost:8080/",
          "height": 233
        },
        "outputId": "d35092d1-1088-42fa-826e-97d3b41148bf"
      },
      "source": [
        "df = pd.DataFrame(np.random.randn(6, 3))\n",
        "df.iloc[2:, 1] = NA\n",
        "df.iloc[4:, 2] = NA\n",
        "df"
      ],
      "execution_count": 22,
      "outputs": [
        {
          "output_type": "execute_result",
          "data": {
            "text/html": [
              "<div>\n",
              "<style scoped>\n",
              "    .dataframe tbody tr th:only-of-type {\n",
              "        vertical-align: middle;\n",
              "    }\n",
              "\n",
              "    .dataframe tbody tr th {\n",
              "        vertical-align: top;\n",
              "    }\n",
              "\n",
              "    .dataframe thead th {\n",
              "        text-align: right;\n",
              "    }\n",
              "</style>\n",
              "<table border=\"1\" class=\"dataframe\">\n",
              "  <thead>\n",
              "    <tr style=\"text-align: right;\">\n",
              "      <th></th>\n",
              "      <th>0</th>\n",
              "      <th>1</th>\n",
              "      <th>2</th>\n",
              "    </tr>\n",
              "  </thead>\n",
              "  <tbody>\n",
              "    <tr>\n",
              "      <th>0</th>\n",
              "      <td>1.541761</td>\n",
              "      <td>0.660225</td>\n",
              "      <td>-0.433846</td>\n",
              "    </tr>\n",
              "    <tr>\n",
              "      <th>1</th>\n",
              "      <td>-0.444952</td>\n",
              "      <td>-0.567870</td>\n",
              "      <td>0.740602</td>\n",
              "    </tr>\n",
              "    <tr>\n",
              "      <th>2</th>\n",
              "      <td>-0.073460</td>\n",
              "      <td>NaN</td>\n",
              "      <td>-0.805975</td>\n",
              "    </tr>\n",
              "    <tr>\n",
              "      <th>3</th>\n",
              "      <td>0.088577</td>\n",
              "      <td>NaN</td>\n",
              "      <td>-1.051616</td>\n",
              "    </tr>\n",
              "    <tr>\n",
              "      <th>4</th>\n",
              "      <td>-1.102385</td>\n",
              "      <td>NaN</td>\n",
              "      <td>NaN</td>\n",
              "    </tr>\n",
              "    <tr>\n",
              "      <th>5</th>\n",
              "      <td>-0.348374</td>\n",
              "      <td>NaN</td>\n",
              "      <td>NaN</td>\n",
              "    </tr>\n",
              "  </tbody>\n",
              "</table>\n",
              "</div>"
            ],
            "text/plain": [
              "          0         1         2\n",
              "0  1.541761  0.660225 -0.433846\n",
              "1 -0.444952 -0.567870  0.740602\n",
              "2 -0.073460       NaN -0.805975\n",
              "3  0.088577       NaN -1.051616\n",
              "4 -1.102385       NaN       NaN\n",
              "5 -0.348374       NaN       NaN"
            ]
          },
          "metadata": {},
          "execution_count": 22
        }
      ]
    },
    {
      "cell_type": "markdown",
      "metadata": {
        "id": "OIY3mYO0sC3p"
      },
      "source": [
        "Add the interpolation methods\n",
        "\n",
        "![image.png](data:image/png;base64,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)"
      ]
    },
    {
      "cell_type": "code",
      "metadata": {
        "id": "Dve0KFUysGzb",
        "colab": {
          "base_uri": "https://localhost:8080/",
          "height": 233
        },
        "outputId": "1b7e4d83-0501-4993-f0cb-d6f2e55e1f0c"
      },
      "source": [
        "df.fillna(method='ffill')"
      ],
      "execution_count": 23,
      "outputs": [
        {
          "output_type": "execute_result",
          "data": {
            "text/html": [
              "<div>\n",
              "<style scoped>\n",
              "    .dataframe tbody tr th:only-of-type {\n",
              "        vertical-align: middle;\n",
              "    }\n",
              "\n",
              "    .dataframe tbody tr th {\n",
              "        vertical-align: top;\n",
              "    }\n",
              "\n",
              "    .dataframe thead th {\n",
              "        text-align: right;\n",
              "    }\n",
              "</style>\n",
              "<table border=\"1\" class=\"dataframe\">\n",
              "  <thead>\n",
              "    <tr style=\"text-align: right;\">\n",
              "      <th></th>\n",
              "      <th>0</th>\n",
              "      <th>1</th>\n",
              "      <th>2</th>\n",
              "    </tr>\n",
              "  </thead>\n",
              "  <tbody>\n",
              "    <tr>\n",
              "      <th>0</th>\n",
              "      <td>1.541761</td>\n",
              "      <td>0.660225</td>\n",
              "      <td>-0.433846</td>\n",
              "    </tr>\n",
              "    <tr>\n",
              "      <th>1</th>\n",
              "      <td>-0.444952</td>\n",
              "      <td>-0.567870</td>\n",
              "      <td>0.740602</td>\n",
              "    </tr>\n",
              "    <tr>\n",
              "      <th>2</th>\n",
              "      <td>-0.073460</td>\n",
              "      <td>-0.567870</td>\n",
              "      <td>-0.805975</td>\n",
              "    </tr>\n",
              "    <tr>\n",
              "      <th>3</th>\n",
              "      <td>0.088577</td>\n",
              "      <td>-0.567870</td>\n",
              "      <td>-1.051616</td>\n",
              "    </tr>\n",
              "    <tr>\n",
              "      <th>4</th>\n",
              "      <td>-1.102385</td>\n",
              "      <td>-0.567870</td>\n",
              "      <td>-1.051616</td>\n",
              "    </tr>\n",
              "    <tr>\n",
              "      <th>5</th>\n",
              "      <td>-0.348374</td>\n",
              "      <td>-0.567870</td>\n",
              "      <td>-1.051616</td>\n",
              "    </tr>\n",
              "  </tbody>\n",
              "</table>\n",
              "</div>"
            ],
            "text/plain": [
              "          0         1         2\n",
              "0  1.541761  0.660225 -0.433846\n",
              "1 -0.444952 -0.567870  0.740602\n",
              "2 -0.073460 -0.567870 -0.805975\n",
              "3  0.088577 -0.567870 -1.051616\n",
              "4 -1.102385 -0.567870 -1.051616\n",
              "5 -0.348374 -0.567870 -1.051616"
            ]
          },
          "metadata": {},
          "execution_count": 23
        }
      ]
    },
    {
      "cell_type": "markdown",
      "metadata": {
        "id": "JSgjZmbusI_r"
      },
      "source": [
        "we can set limit of filling data that it should not be filled more than limit value.\n",
        "\n",
        "![image.png](data:image/png;base64,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)\n",
        "\n"
      ]
    },
    {
      "cell_type": "code",
      "metadata": {
        "id": "hYI8ikJjsTw0",
        "colab": {
          "base_uri": "https://localhost:8080/",
          "height": 233
        },
        "outputId": "b53ee252-610c-458b-a7ed-398e88301042"
      },
      "source": [
        "df.fillna(method='ffill', limit=2)"
      ],
      "execution_count": 24,
      "outputs": [
        {
          "output_type": "execute_result",
          "data": {
            "text/html": [
              "<div>\n",
              "<style scoped>\n",
              "    .dataframe tbody tr th:only-of-type {\n",
              "        vertical-align: middle;\n",
              "    }\n",
              "\n",
              "    .dataframe tbody tr th {\n",
              "        vertical-align: top;\n",
              "    }\n",
              "\n",
              "    .dataframe thead th {\n",
              "        text-align: right;\n",
              "    }\n",
              "</style>\n",
              "<table border=\"1\" class=\"dataframe\">\n",
              "  <thead>\n",
              "    <tr style=\"text-align: right;\">\n",
              "      <th></th>\n",
              "      <th>0</th>\n",
              "      <th>1</th>\n",
              "      <th>2</th>\n",
              "    </tr>\n",
              "  </thead>\n",
              "  <tbody>\n",
              "    <tr>\n",
              "      <th>0</th>\n",
              "      <td>1.541761</td>\n",
              "      <td>0.660225</td>\n",
              "      <td>-0.433846</td>\n",
              "    </tr>\n",
              "    <tr>\n",
              "      <th>1</th>\n",
              "      <td>-0.444952</td>\n",
              "      <td>-0.567870</td>\n",
              "      <td>0.740602</td>\n",
              "    </tr>\n",
              "    <tr>\n",
              "      <th>2</th>\n",
              "      <td>-0.073460</td>\n",
              "      <td>-0.567870</td>\n",
              "      <td>-0.805975</td>\n",
              "    </tr>\n",
              "    <tr>\n",
              "      <th>3</th>\n",
              "      <td>0.088577</td>\n",
              "      <td>-0.567870</td>\n",
              "      <td>-1.051616</td>\n",
              "    </tr>\n",
              "    <tr>\n",
              "      <th>4</th>\n",
              "      <td>-1.102385</td>\n",
              "      <td>NaN</td>\n",
              "      <td>-1.051616</td>\n",
              "    </tr>\n",
              "    <tr>\n",
              "      <th>5</th>\n",
              "      <td>-0.348374</td>\n",
              "      <td>NaN</td>\n",
              "      <td>-1.051616</td>\n",
              "    </tr>\n",
              "  </tbody>\n",
              "</table>\n",
              "</div>"
            ],
            "text/plain": [
              "          0         1         2\n",
              "0  1.541761  0.660225 -0.433846\n",
              "1 -0.444952 -0.567870  0.740602\n",
              "2 -0.073460 -0.567870 -0.805975\n",
              "3  0.088577 -0.567870 -1.051616\n",
              "4 -1.102385       NaN -1.051616\n",
              "5 -0.348374       NaN -1.051616"
            ]
          },
          "metadata": {},
          "execution_count": 24
        }
      ]
    },
    {
      "cell_type": "markdown",
      "metadata": {
        "id": "KhyzCYtZrzDB"
      },
      "source": [
        "Another fill method can be found in the api\n",
        "\n",
        "\n",
        "> you may google it using the name of the method, and the component for example, Dataframe fillna which will link to here\n",
        "[link text](https://pandas.pydata.org/pandas-docs/stable/reference/api/pandas.DataFrame.fillna.html#pandas.DataFrame.fillna)\n",
        "\n",
        "\n",
        "\n",
        "\n",
        "\n",
        "\n",
        "\n",
        "\n",
        "\n",
        "\n"
      ]
    },
    {
      "cell_type": "markdown",
      "metadata": {
        "id": "n0xkAyGt0sOP"
      },
      "source": [
        "####Work\n",
        "\n",
        "---\n",
        "From the propery_data you have done from the last work\n",
        "Provide this dataframe fill the data to get the given output"
      ]
    },
    {
      "cell_type": "markdown",
      "metadata": {
        "id": "Cv8DzRg0Zhdp"
      },
      "source": [
        "Output 1\n",
        "\n",
        "![image.png](data:image/png;base64,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)"
      ]
    },
    {
      "cell_type": "code",
      "metadata": {
        "id": "nIZ_x7UuoZal"
      },
      "source": [
        "url = 'https://raw.githubusercontent.com/weerinphas/CMU/main/property_data.csv'\n",
        "df = pd.read_csv(url)"
      ],
      "execution_count": 25,
      "outputs": []
    },
    {
      "cell_type": "code",
      "metadata": {
        "colab": {
          "base_uri": "https://localhost:8080/",
          "height": 325
        },
        "id": "-jM8NVtCkXrk",
        "outputId": "17737b19-809d-4caf-8257-76f7ded10114"
      },
      "source": [
        "df.fillna(-1, inplace=True)\n",
        "df"
      ],
      "execution_count": 26,
      "outputs": [
        {
          "output_type": "execute_result",
          "data": {
            "text/html": [
              "<div>\n",
              "<style scoped>\n",
              "    .dataframe tbody tr th:only-of-type {\n",
              "        vertical-align: middle;\n",
              "    }\n",
              "\n",
              "    .dataframe tbody tr th {\n",
              "        vertical-align: top;\n",
              "    }\n",
              "\n",
              "    .dataframe thead th {\n",
              "        text-align: right;\n",
              "    }\n",
              "</style>\n",
              "<table border=\"1\" class=\"dataframe\">\n",
              "  <thead>\n",
              "    <tr style=\"text-align: right;\">\n",
              "      <th></th>\n",
              "      <th>PID</th>\n",
              "      <th>ST_NUM</th>\n",
              "      <th>ST_NAME</th>\n",
              "      <th>OWN_OCCUPIED</th>\n",
              "      <th>NUM_BEDROOMS</th>\n",
              "      <th>NUM_BATH</th>\n",
              "      <th>SQ_FT</th>\n",
              "      <th>PRICE</th>\n",
              "    </tr>\n",
              "  </thead>\n",
              "  <tbody>\n",
              "    <tr>\n",
              "      <th>0</th>\n",
              "      <td>100001000.0</td>\n",
              "      <td>104.0</td>\n",
              "      <td>PUTNAM</td>\n",
              "      <td>Y</td>\n",
              "      <td>3</td>\n",
              "      <td>1</td>\n",
              "      <td>1000</td>\n",
              "      <td>20000.0</td>\n",
              "    </tr>\n",
              "    <tr>\n",
              "      <th>1</th>\n",
              "      <td>100002000.0</td>\n",
              "      <td>197.0</td>\n",
              "      <td>LEXINGTON</td>\n",
              "      <td>N</td>\n",
              "      <td>3</td>\n",
              "      <td>1.5</td>\n",
              "      <td>--</td>\n",
              "      <td>-1.0</td>\n",
              "    </tr>\n",
              "    <tr>\n",
              "      <th>2</th>\n",
              "      <td>100003000.0</td>\n",
              "      <td>-1.0</td>\n",
              "      <td>LEXINGTON</td>\n",
              "      <td>N</td>\n",
              "      <td>-1</td>\n",
              "      <td>1</td>\n",
              "      <td>850</td>\n",
              "      <td>-1.0</td>\n",
              "    </tr>\n",
              "    <tr>\n",
              "      <th>3</th>\n",
              "      <td>100004000.0</td>\n",
              "      <td>201.0</td>\n",
              "      <td>BERKELEY</td>\n",
              "      <td>12</td>\n",
              "      <td>1</td>\n",
              "      <td>-1</td>\n",
              "      <td>700</td>\n",
              "      <td>-1.0</td>\n",
              "    </tr>\n",
              "    <tr>\n",
              "      <th>4</th>\n",
              "      <td>-1.0</td>\n",
              "      <td>203.0</td>\n",
              "      <td>BERKELEY</td>\n",
              "      <td>Y</td>\n",
              "      <td>3</td>\n",
              "      <td>2</td>\n",
              "      <td>1600</td>\n",
              "      <td>-1.0</td>\n",
              "    </tr>\n",
              "    <tr>\n",
              "      <th>5</th>\n",
              "      <td>100006000.0</td>\n",
              "      <td>207.0</td>\n",
              "      <td>BERKELEY</td>\n",
              "      <td>Y</td>\n",
              "      <td>-1</td>\n",
              "      <td>1</td>\n",
              "      <td>800</td>\n",
              "      <td>-1.0</td>\n",
              "    </tr>\n",
              "    <tr>\n",
              "      <th>6</th>\n",
              "      <td>100007000.0</td>\n",
              "      <td>-1.0</td>\n",
              "      <td>WASHINGTON</td>\n",
              "      <td>-1</td>\n",
              "      <td>2</td>\n",
              "      <td>HURLEY</td>\n",
              "      <td>950</td>\n",
              "      <td>-1.0</td>\n",
              "    </tr>\n",
              "    <tr>\n",
              "      <th>7</th>\n",
              "      <td>100008000.0</td>\n",
              "      <td>213.0</td>\n",
              "      <td>TREMONT</td>\n",
              "      <td>Y</td>\n",
              "      <td>1</td>\n",
              "      <td>1</td>\n",
              "      <td>-1</td>\n",
              "      <td>-1.0</td>\n",
              "    </tr>\n",
              "    <tr>\n",
              "      <th>8</th>\n",
              "      <td>100009000.0</td>\n",
              "      <td>215.0</td>\n",
              "      <td>TREMONT</td>\n",
              "      <td>Y</td>\n",
              "      <td>na</td>\n",
              "      <td>2</td>\n",
              "      <td>1800</td>\n",
              "      <td>-1.0</td>\n",
              "    </tr>\n",
              "  </tbody>\n",
              "</table>\n",
              "</div>"
            ],
            "text/plain": [
              "           PID  ST_NUM     ST_NAME  ... NUM_BATH SQ_FT    PRICE\n",
              "0  100001000.0   104.0      PUTNAM  ...        1  1000  20000.0\n",
              "1  100002000.0   197.0   LEXINGTON  ...      1.5    --     -1.0\n",
              "2  100003000.0    -1.0   LEXINGTON  ...        1   850     -1.0\n",
              "3  100004000.0   201.0    BERKELEY  ...       -1   700     -1.0\n",
              "4         -1.0   203.0    BERKELEY  ...        2  1600     -1.0\n",
              "5  100006000.0   207.0    BERKELEY  ...        1   800     -1.0\n",
              "6  100007000.0    -1.0  WASHINGTON  ...   HURLEY   950     -1.0\n",
              "7  100008000.0   213.0     TREMONT  ...        1    -1     -1.0\n",
              "8  100009000.0   215.0     TREMONT  ...        2  1800     -1.0\n",
              "\n",
              "[9 rows x 8 columns]"
            ]
          },
          "metadata": {},
          "execution_count": 26
        }
      ]
    },
    {
      "cell_type": "markdown",
      "metadata": {
        "id": "v91y3obtZoSm"
      },
      "source": [
        "Output 2\n",
        "\n",
        "![image.png](data:image/png;base64,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)"
      ]
    },
    {
      "cell_type": "code",
      "metadata": {
        "id": "Ho7KmFN5ob_p"
      },
      "source": [
        "url = 'https://raw.githubusercontent.com/weerinphas/CMU/main/property_data.csv'\n",
        "df = pd.read_csv(url)"
      ],
      "execution_count": 27,
      "outputs": []
    },
    {
      "cell_type": "code",
      "metadata": {
        "colab": {
          "base_uri": "https://localhost:8080/",
          "height": 325
        },
        "id": "scnKWughky2X",
        "outputId": "a3370c85-cede-49aa-d34d-32ac051fd9c2"
      },
      "source": [
        "df['PID'].fillna(100004000.0, inplace=True)\n",
        "df['ST_NUM'].fillna(207.0, inplace=True)\n",
        "df['OWN_OCCUPIED'].fillna('Y', inplace=True)\n",
        "df['NUM_BEDROOMS'].fillna(3, inplace=True)\n",
        "df['NUM_BATH'].fillna(1, inplace=True)\n",
        "df['PRICE'].fillna(20000, inplace=True)\n",
        "df"
      ],
      "execution_count": 28,
      "outputs": [
        {
          "output_type": "execute_result",
          "data": {
            "text/html": [
              "<div>\n",
              "<style scoped>\n",
              "    .dataframe tbody tr th:only-of-type {\n",
              "        vertical-align: middle;\n",
              "    }\n",
              "\n",
              "    .dataframe tbody tr th {\n",
              "        vertical-align: top;\n",
              "    }\n",
              "\n",
              "    .dataframe thead th {\n",
              "        text-align: right;\n",
              "    }\n",
              "</style>\n",
              "<table border=\"1\" class=\"dataframe\">\n",
              "  <thead>\n",
              "    <tr style=\"text-align: right;\">\n",
              "      <th></th>\n",
              "      <th>PID</th>\n",
              "      <th>ST_NUM</th>\n",
              "      <th>ST_NAME</th>\n",
              "      <th>OWN_OCCUPIED</th>\n",
              "      <th>NUM_BEDROOMS</th>\n",
              "      <th>NUM_BATH</th>\n",
              "      <th>SQ_FT</th>\n",
              "      <th>PRICE</th>\n",
              "    </tr>\n",
              "  </thead>\n",
              "  <tbody>\n",
              "    <tr>\n",
              "      <th>0</th>\n",
              "      <td>100001000.0</td>\n",
              "      <td>104.0</td>\n",
              "      <td>PUTNAM</td>\n",
              "      <td>Y</td>\n",
              "      <td>3</td>\n",
              "      <td>1</td>\n",
              "      <td>1000</td>\n",
              "      <td>20000.0</td>\n",
              "    </tr>\n",
              "    <tr>\n",
              "      <th>1</th>\n",
              "      <td>100002000.0</td>\n",
              "      <td>197.0</td>\n",
              "      <td>LEXINGTON</td>\n",
              "      <td>N</td>\n",
              "      <td>3</td>\n",
              "      <td>1.5</td>\n",
              "      <td>--</td>\n",
              "      <td>20000.0</td>\n",
              "    </tr>\n",
              "    <tr>\n",
              "      <th>2</th>\n",
              "      <td>100003000.0</td>\n",
              "      <td>207.0</td>\n",
              "      <td>LEXINGTON</td>\n",
              "      <td>N</td>\n",
              "      <td>3</td>\n",
              "      <td>1</td>\n",
              "      <td>850</td>\n",
              "      <td>20000.0</td>\n",
              "    </tr>\n",
              "    <tr>\n",
              "      <th>3</th>\n",
              "      <td>100004000.0</td>\n",
              "      <td>201.0</td>\n",
              "      <td>BERKELEY</td>\n",
              "      <td>12</td>\n",
              "      <td>1</td>\n",
              "      <td>1</td>\n",
              "      <td>700</td>\n",
              "      <td>20000.0</td>\n",
              "    </tr>\n",
              "    <tr>\n",
              "      <th>4</th>\n",
              "      <td>100004000.0</td>\n",
              "      <td>203.0</td>\n",
              "      <td>BERKELEY</td>\n",
              "      <td>Y</td>\n",
              "      <td>3</td>\n",
              "      <td>2</td>\n",
              "      <td>1600</td>\n",
              "      <td>20000.0</td>\n",
              "    </tr>\n",
              "    <tr>\n",
              "      <th>5</th>\n",
              "      <td>100006000.0</td>\n",
              "      <td>207.0</td>\n",
              "      <td>BERKELEY</td>\n",
              "      <td>Y</td>\n",
              "      <td>3</td>\n",
              "      <td>1</td>\n",
              "      <td>800</td>\n",
              "      <td>20000.0</td>\n",
              "    </tr>\n",
              "    <tr>\n",
              "      <th>6</th>\n",
              "      <td>100007000.0</td>\n",
              "      <td>207.0</td>\n",
              "      <td>WASHINGTON</td>\n",
              "      <td>Y</td>\n",
              "      <td>2</td>\n",
              "      <td>HURLEY</td>\n",
              "      <td>950</td>\n",
              "      <td>20000.0</td>\n",
              "    </tr>\n",
              "    <tr>\n",
              "      <th>7</th>\n",
              "      <td>100008000.0</td>\n",
              "      <td>213.0</td>\n",
              "      <td>TREMONT</td>\n",
              "      <td>Y</td>\n",
              "      <td>1</td>\n",
              "      <td>1</td>\n",
              "      <td>NaN</td>\n",
              "      <td>20000.0</td>\n",
              "    </tr>\n",
              "    <tr>\n",
              "      <th>8</th>\n",
              "      <td>100009000.0</td>\n",
              "      <td>215.0</td>\n",
              "      <td>TREMONT</td>\n",
              "      <td>Y</td>\n",
              "      <td>na</td>\n",
              "      <td>2</td>\n",
              "      <td>1800</td>\n",
              "      <td>20000.0</td>\n",
              "    </tr>\n",
              "  </tbody>\n",
              "</table>\n",
              "</div>"
            ],
            "text/plain": [
              "           PID  ST_NUM     ST_NAME  ... NUM_BATH SQ_FT    PRICE\n",
              "0  100001000.0   104.0      PUTNAM  ...        1  1000  20000.0\n",
              "1  100002000.0   197.0   LEXINGTON  ...      1.5    --  20000.0\n",
              "2  100003000.0   207.0   LEXINGTON  ...        1   850  20000.0\n",
              "3  100004000.0   201.0    BERKELEY  ...        1   700  20000.0\n",
              "4  100004000.0   203.0    BERKELEY  ...        2  1600  20000.0\n",
              "5  100006000.0   207.0    BERKELEY  ...        1   800  20000.0\n",
              "6  100007000.0   207.0  WASHINGTON  ...   HURLEY   950  20000.0\n",
              "7  100008000.0   213.0     TREMONT  ...        1   NaN  20000.0\n",
              "8  100009000.0   215.0     TREMONT  ...        2  1800  20000.0\n",
              "\n",
              "[9 rows x 8 columns]"
            ]
          },
          "metadata": {},
          "execution_count": 28
        }
      ]
    },
    {
      "cell_type": "markdown",
      "metadata": {
        "id": "5MUSdIB2Zs_H"
      },
      "source": [
        "Output 3\n",
        "\n",
        "![image.png](data:image/png;base64,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)"
      ]
    },
    {
      "cell_type": "code",
      "metadata": {
        "id": "hFzjqerKokSW"
      },
      "source": [
        "url = 'https://raw.githubusercontent.com/weerinphas/CMU/main/property_data.csv'\n",
        "df = pd.read_csv(url)"
      ],
      "execution_count": 29,
      "outputs": []
    },
    {
      "cell_type": "code",
      "metadata": {
        "colab": {
          "base_uri": "https://localhost:8080/",
          "height": 325
        },
        "id": "FeqYiHsqny6o",
        "outputId": "0655d8b8-c9e2-4a68-c35c-f22bc9614951"
      },
      "source": [
        "df['PID'].fillna(method='ffill', inplace=True)\n",
        "df['ST_NUM'].fillna(method='ffill', inplace=True)\n",
        "df['OWN_OCCUPIED'].fillna('N', inplace=True)\n",
        "df['NUM_BEDROOMS'].fillna(0, inplace=True)\n",
        "df['NUM_BATH'].fillna(-1, inplace=True)\n",
        "df['PRICE'].fillna(0, inplace=True)\n",
        "df"
      ],
      "execution_count": 30,
      "outputs": [
        {
          "output_type": "execute_result",
          "data": {
            "text/html": [
              "<div>\n",
              "<style scoped>\n",
              "    .dataframe tbody tr th:only-of-type {\n",
              "        vertical-align: middle;\n",
              "    }\n",
              "\n",
              "    .dataframe tbody tr th {\n",
              "        vertical-align: top;\n",
              "    }\n",
              "\n",
              "    .dataframe thead th {\n",
              "        text-align: right;\n",
              "    }\n",
              "</style>\n",
              "<table border=\"1\" class=\"dataframe\">\n",
              "  <thead>\n",
              "    <tr style=\"text-align: right;\">\n",
              "      <th></th>\n",
              "      <th>PID</th>\n",
              "      <th>ST_NUM</th>\n",
              "      <th>ST_NAME</th>\n",
              "      <th>OWN_OCCUPIED</th>\n",
              "      <th>NUM_BEDROOMS</th>\n",
              "      <th>NUM_BATH</th>\n",
              "      <th>SQ_FT</th>\n",
              "      <th>PRICE</th>\n",
              "    </tr>\n",
              "  </thead>\n",
              "  <tbody>\n",
              "    <tr>\n",
              "      <th>0</th>\n",
              "      <td>100001000.0</td>\n",
              "      <td>104.0</td>\n",
              "      <td>PUTNAM</td>\n",
              "      <td>Y</td>\n",
              "      <td>3</td>\n",
              "      <td>1</td>\n",
              "      <td>1000</td>\n",
              "      <td>20000.0</td>\n",
              "    </tr>\n",
              "    <tr>\n",
              "      <th>1</th>\n",
              "      <td>100002000.0</td>\n",
              "      <td>197.0</td>\n",
              "      <td>LEXINGTON</td>\n",
              "      <td>N</td>\n",
              "      <td>3</td>\n",
              "      <td>1.5</td>\n",
              "      <td>--</td>\n",
              "      <td>0.0</td>\n",
              "    </tr>\n",
              "    <tr>\n",
              "      <th>2</th>\n",
              "      <td>100003000.0</td>\n",
              "      <td>197.0</td>\n",
              "      <td>LEXINGTON</td>\n",
              "      <td>N</td>\n",
              "      <td>0</td>\n",
              "      <td>1</td>\n",
              "      <td>850</td>\n",
              "      <td>0.0</td>\n",
              "    </tr>\n",
              "    <tr>\n",
              "      <th>3</th>\n",
              "      <td>100004000.0</td>\n",
              "      <td>201.0</td>\n",
              "      <td>BERKELEY</td>\n",
              "      <td>12</td>\n",
              "      <td>1</td>\n",
              "      <td>-1</td>\n",
              "      <td>700</td>\n",
              "      <td>0.0</td>\n",
              "    </tr>\n",
              "    <tr>\n",
              "      <th>4</th>\n",
              "      <td>100004000.0</td>\n",
              "      <td>203.0</td>\n",
              "      <td>BERKELEY</td>\n",
              "      <td>Y</td>\n",
              "      <td>3</td>\n",
              "      <td>2</td>\n",
              "      <td>1600</td>\n",
              "      <td>0.0</td>\n",
              "    </tr>\n",
              "    <tr>\n",
              "      <th>5</th>\n",
              "      <td>100006000.0</td>\n",
              "      <td>207.0</td>\n",
              "      <td>BERKELEY</td>\n",
              "      <td>Y</td>\n",
              "      <td>0</td>\n",
              "      <td>1</td>\n",
              "      <td>800</td>\n",
              "      <td>0.0</td>\n",
              "    </tr>\n",
              "    <tr>\n",
              "      <th>6</th>\n",
              "      <td>100007000.0</td>\n",
              "      <td>207.0</td>\n",
              "      <td>WASHINGTON</td>\n",
              "      <td>N</td>\n",
              "      <td>2</td>\n",
              "      <td>HURLEY</td>\n",
              "      <td>950</td>\n",
              "      <td>0.0</td>\n",
              "    </tr>\n",
              "    <tr>\n",
              "      <th>7</th>\n",
              "      <td>100008000.0</td>\n",
              "      <td>213.0</td>\n",
              "      <td>TREMONT</td>\n",
              "      <td>Y</td>\n",
              "      <td>1</td>\n",
              "      <td>1</td>\n",
              "      <td>NaN</td>\n",
              "      <td>0.0</td>\n",
              "    </tr>\n",
              "    <tr>\n",
              "      <th>8</th>\n",
              "      <td>100009000.0</td>\n",
              "      <td>215.0</td>\n",
              "      <td>TREMONT</td>\n",
              "      <td>Y</td>\n",
              "      <td>na</td>\n",
              "      <td>2</td>\n",
              "      <td>1800</td>\n",
              "      <td>0.0</td>\n",
              "    </tr>\n",
              "  </tbody>\n",
              "</table>\n",
              "</div>"
            ],
            "text/plain": [
              "           PID  ST_NUM     ST_NAME  ... NUM_BATH SQ_FT    PRICE\n",
              "0  100001000.0   104.0      PUTNAM  ...        1  1000  20000.0\n",
              "1  100002000.0   197.0   LEXINGTON  ...      1.5    --      0.0\n",
              "2  100003000.0   197.0   LEXINGTON  ...        1   850      0.0\n",
              "3  100004000.0   201.0    BERKELEY  ...       -1   700      0.0\n",
              "4  100004000.0   203.0    BERKELEY  ...        2  1600      0.0\n",
              "5  100006000.0   207.0    BERKELEY  ...        1   800      0.0\n",
              "6  100007000.0   207.0  WASHINGTON  ...   HURLEY   950      0.0\n",
              "7  100008000.0   213.0     TREMONT  ...        1   NaN      0.0\n",
              "8  100009000.0   215.0     TREMONT  ...        2  1800      0.0\n",
              "\n",
              "[9 rows x 8 columns]"
            ]
          },
          "metadata": {},
          "execution_count": 30
        }
      ]
    },
    {
      "cell_type": "markdown",
      "metadata": {
        "id": "u9hDfUFrtvEr"
      },
      "source": [
        "##Data Transformation\n",
        "\n"
      ]
    },
    {
      "cell_type": "markdown",
      "metadata": {
        "id": "kaaqn6qDt9NF"
      },
      "source": [
        "We need to transform the data in the format which can manipulate it later."
      ]
    },
    {
      "cell_type": "markdown",
      "metadata": {
        "id": "_eqmcsHauGtU"
      },
      "source": [
        "###Removing Duplicates\n",
        "---\n",
        "\n",
        "\n",
        "Some data duplication must be removed to reduce the unusal behanviour of data\n",
        "from the provided data"
      ]
    },
    {
      "cell_type": "code",
      "metadata": {
        "id": "Cz6EcFqIuRSg",
        "colab": {
          "base_uri": "https://localhost:8080/",
          "height": 264
        },
        "outputId": "0cae15c8-f30f-41de-92bd-44a3ae89a901"
      },
      "source": [
        "data = pd.DataFrame({'k1': ['one', 'two'] * 3 + ['two'],\n",
        "                     'k2': [1, 1, 2, 3, 3, 4, 4]})\n",
        "data"
      ],
      "execution_count": 31,
      "outputs": [
        {
          "output_type": "execute_result",
          "data": {
            "text/html": [
              "<div>\n",
              "<style scoped>\n",
              "    .dataframe tbody tr th:only-of-type {\n",
              "        vertical-align: middle;\n",
              "    }\n",
              "\n",
              "    .dataframe tbody tr th {\n",
              "        vertical-align: top;\n",
              "    }\n",
              "\n",
              "    .dataframe thead th {\n",
              "        text-align: right;\n",
              "    }\n",
              "</style>\n",
              "<table border=\"1\" class=\"dataframe\">\n",
              "  <thead>\n",
              "    <tr style=\"text-align: right;\">\n",
              "      <th></th>\n",
              "      <th>k1</th>\n",
              "      <th>k2</th>\n",
              "    </tr>\n",
              "  </thead>\n",
              "  <tbody>\n",
              "    <tr>\n",
              "      <th>0</th>\n",
              "      <td>one</td>\n",
              "      <td>1</td>\n",
              "    </tr>\n",
              "    <tr>\n",
              "      <th>1</th>\n",
              "      <td>two</td>\n",
              "      <td>1</td>\n",
              "    </tr>\n",
              "    <tr>\n",
              "      <th>2</th>\n",
              "      <td>one</td>\n",
              "      <td>2</td>\n",
              "    </tr>\n",
              "    <tr>\n",
              "      <th>3</th>\n",
              "      <td>two</td>\n",
              "      <td>3</td>\n",
              "    </tr>\n",
              "    <tr>\n",
              "      <th>4</th>\n",
              "      <td>one</td>\n",
              "      <td>3</td>\n",
              "    </tr>\n",
              "    <tr>\n",
              "      <th>5</th>\n",
              "      <td>two</td>\n",
              "      <td>4</td>\n",
              "    </tr>\n",
              "    <tr>\n",
              "      <th>6</th>\n",
              "      <td>two</td>\n",
              "      <td>4</td>\n",
              "    </tr>\n",
              "  </tbody>\n",
              "</table>\n",
              "</div>"
            ],
            "text/plain": [
              "    k1  k2\n",
              "0  one   1\n",
              "1  two   1\n",
              "2  one   2\n",
              "3  two   3\n",
              "4  one   3\n",
              "5  two   4\n",
              "6  two   4"
            ]
          },
          "metadata": {},
          "execution_count": 31
        }
      ]
    },
    {
      "cell_type": "markdown",
      "metadata": {
        "id": "uzXfoO5zukOf"
      },
      "source": [
        "The duplicated data is found by"
      ]
    },
    {
      "cell_type": "code",
      "metadata": {
        "id": "GTGRSRD_unqt",
        "colab": {
          "base_uri": "https://localhost:8080/"
        },
        "outputId": "43c77d2e-1c14-4cd8-b5b4-f8c88c97d18d"
      },
      "source": [
        "data.duplicated()"
      ],
      "execution_count": 32,
      "outputs": [
        {
          "output_type": "execute_result",
          "data": {
            "text/plain": [
              "0    False\n",
              "1    False\n",
              "2    False\n",
              "3    False\n",
              "4    False\n",
              "5    False\n",
              "6     True\n",
              "dtype: bool"
            ]
          },
          "metadata": {},
          "execution_count": 32
        }
      ]
    },
    {
      "cell_type": "markdown",
      "metadata": {
        "id": "uKpyz3OMunEG"
      },
      "source": [
        "So we can drop the duplicate code"
      ]
    },
    {
      "cell_type": "code",
      "metadata": {
        "id": "SpcQNVnpus-5",
        "colab": {
          "base_uri": "https://localhost:8080/",
          "height": 233
        },
        "outputId": "d9925d21-1cc3-4b93-85a1-cc5867870c9d"
      },
      "source": [
        "data.drop_duplicates()"
      ],
      "execution_count": 33,
      "outputs": [
        {
          "output_type": "execute_result",
          "data": {
            "text/html": [
              "<div>\n",
              "<style scoped>\n",
              "    .dataframe tbody tr th:only-of-type {\n",
              "        vertical-align: middle;\n",
              "    }\n",
              "\n",
              "    .dataframe tbody tr th {\n",
              "        vertical-align: top;\n",
              "    }\n",
              "\n",
              "    .dataframe thead th {\n",
              "        text-align: right;\n",
              "    }\n",
              "</style>\n",
              "<table border=\"1\" class=\"dataframe\">\n",
              "  <thead>\n",
              "    <tr style=\"text-align: right;\">\n",
              "      <th></th>\n",
              "      <th>k1</th>\n",
              "      <th>k2</th>\n",
              "    </tr>\n",
              "  </thead>\n",
              "  <tbody>\n",
              "    <tr>\n",
              "      <th>0</th>\n",
              "      <td>one</td>\n",
              "      <td>1</td>\n",
              "    </tr>\n",
              "    <tr>\n",
              "      <th>1</th>\n",
              "      <td>two</td>\n",
              "      <td>1</td>\n",
              "    </tr>\n",
              "    <tr>\n",
              "      <th>2</th>\n",
              "      <td>one</td>\n",
              "      <td>2</td>\n",
              "    </tr>\n",
              "    <tr>\n",
              "      <th>3</th>\n",
              "      <td>two</td>\n",
              "      <td>3</td>\n",
              "    </tr>\n",
              "    <tr>\n",
              "      <th>4</th>\n",
              "      <td>one</td>\n",
              "      <td>3</td>\n",
              "    </tr>\n",
              "    <tr>\n",
              "      <th>5</th>\n",
              "      <td>two</td>\n",
              "      <td>4</td>\n",
              "    </tr>\n",
              "  </tbody>\n",
              "</table>\n",
              "</div>"
            ],
            "text/plain": [
              "    k1  k2\n",
              "0  one   1\n",
              "1  two   1\n",
              "2  one   2\n",
              "3  two   3\n",
              "4  one   3\n",
              "5  two   4"
            ]
          },
          "metadata": {},
          "execution_count": 33
        }
      ]
    },
    {
      "cell_type": "markdown",
      "metadata": {
        "id": "P1IbfYGBuxau"
      },
      "source": [
        "we can select key to check the duplicate data, adding a new column to the data frame to see which data is stored\n"
      ]
    },
    {
      "cell_type": "code",
      "metadata": {
        "id": "b5NqNAmBxf_u",
        "colab": {
          "base_uri": "https://localhost:8080/",
          "height": 264
        },
        "outputId": "d2fa27f5-3cf9-44df-a96d-fae49fb5e9f1"
      },
      "source": [
        "data['v1'] = range(7)\n",
        "data"
      ],
      "execution_count": 34,
      "outputs": [
        {
          "output_type": "execute_result",
          "data": {
            "text/html": [
              "<div>\n",
              "<style scoped>\n",
              "    .dataframe tbody tr th:only-of-type {\n",
              "        vertical-align: middle;\n",
              "    }\n",
              "\n",
              "    .dataframe tbody tr th {\n",
              "        vertical-align: top;\n",
              "    }\n",
              "\n",
              "    .dataframe thead th {\n",
              "        text-align: right;\n",
              "    }\n",
              "</style>\n",
              "<table border=\"1\" class=\"dataframe\">\n",
              "  <thead>\n",
              "    <tr style=\"text-align: right;\">\n",
              "      <th></th>\n",
              "      <th>k1</th>\n",
              "      <th>k2</th>\n",
              "      <th>v1</th>\n",
              "    </tr>\n",
              "  </thead>\n",
              "  <tbody>\n",
              "    <tr>\n",
              "      <th>0</th>\n",
              "      <td>one</td>\n",
              "      <td>1</td>\n",
              "      <td>0</td>\n",
              "    </tr>\n",
              "    <tr>\n",
              "      <th>1</th>\n",
              "      <td>two</td>\n",
              "      <td>1</td>\n",
              "      <td>1</td>\n",
              "    </tr>\n",
              "    <tr>\n",
              "      <th>2</th>\n",
              "      <td>one</td>\n",
              "      <td>2</td>\n",
              "      <td>2</td>\n",
              "    </tr>\n",
              "    <tr>\n",
              "      <th>3</th>\n",
              "      <td>two</td>\n",
              "      <td>3</td>\n",
              "      <td>3</td>\n",
              "    </tr>\n",
              "    <tr>\n",
              "      <th>4</th>\n",
              "      <td>one</td>\n",
              "      <td>3</td>\n",
              "      <td>4</td>\n",
              "    </tr>\n",
              "    <tr>\n",
              "      <th>5</th>\n",
              "      <td>two</td>\n",
              "      <td>4</td>\n",
              "      <td>5</td>\n",
              "    </tr>\n",
              "    <tr>\n",
              "      <th>6</th>\n",
              "      <td>two</td>\n",
              "      <td>4</td>\n",
              "      <td>6</td>\n",
              "    </tr>\n",
              "  </tbody>\n",
              "</table>\n",
              "</div>"
            ],
            "text/plain": [
              "    k1  k2  v1\n",
              "0  one   1   0\n",
              "1  two   1   1\n",
              "2  one   2   2\n",
              "3  two   3   3\n",
              "4  one   3   4\n",
              "5  two   4   5\n",
              "6  two   4   6"
            ]
          },
          "metadata": {},
          "execution_count": 34
        }
      ]
    },
    {
      "cell_type": "markdown",
      "metadata": {
        "id": "nD2v-n7Txkae"
      },
      "source": [
        "check the dupplicate key only the key in column k1"
      ]
    },
    {
      "cell_type": "code",
      "metadata": {
        "id": "n_Wzn6XxxqUT",
        "colab": {
          "base_uri": "https://localhost:8080/",
          "height": 110
        },
        "outputId": "e1ab9fa8-8799-4926-ea0d-81d1da73da8d"
      },
      "source": [
        "data.drop_duplicates(['k1'])"
      ],
      "execution_count": 35,
      "outputs": [
        {
          "output_type": "execute_result",
          "data": {
            "text/html": [
              "<div>\n",
              "<style scoped>\n",
              "    .dataframe tbody tr th:only-of-type {\n",
              "        vertical-align: middle;\n",
              "    }\n",
              "\n",
              "    .dataframe tbody tr th {\n",
              "        vertical-align: top;\n",
              "    }\n",
              "\n",
              "    .dataframe thead th {\n",
              "        text-align: right;\n",
              "    }\n",
              "</style>\n",
              "<table border=\"1\" class=\"dataframe\">\n",
              "  <thead>\n",
              "    <tr style=\"text-align: right;\">\n",
              "      <th></th>\n",
              "      <th>k1</th>\n",
              "      <th>k2</th>\n",
              "      <th>v1</th>\n",
              "    </tr>\n",
              "  </thead>\n",
              "  <tbody>\n",
              "    <tr>\n",
              "      <th>0</th>\n",
              "      <td>one</td>\n",
              "      <td>1</td>\n",
              "      <td>0</td>\n",
              "    </tr>\n",
              "    <tr>\n",
              "      <th>1</th>\n",
              "      <td>two</td>\n",
              "      <td>1</td>\n",
              "      <td>1</td>\n",
              "    </tr>\n",
              "  </tbody>\n",
              "</table>\n",
              "</div>"
            ],
            "text/plain": [
              "    k1  k2  v1\n",
              "0  one   1   0\n",
              "1  two   1   1"
            ]
          },
          "metadata": {},
          "execution_count": 35
        }
      ]
    },
    {
      "cell_type": "markdown",
      "metadata": {
        "id": "n7iv6i20xt8a"
      },
      "source": [
        "The previous work keep the first data in the result data frame. We can keep the last entry of the duplicate data using the `keep` parameter"
      ]
    },
    {
      "cell_type": "code",
      "metadata": {
        "id": "Gq907ME6x9_B",
        "colab": {
          "base_uri": "https://localhost:8080/",
          "height": 233
        },
        "outputId": "e15526ba-a8b8-4592-ab80-b35d047415e0"
      },
      "source": [
        "data.drop_duplicates(['k1','k2'],keep='last')"
      ],
      "execution_count": 36,
      "outputs": [
        {
          "output_type": "execute_result",
          "data": {
            "text/html": [
              "<div>\n",
              "<style scoped>\n",
              "    .dataframe tbody tr th:only-of-type {\n",
              "        vertical-align: middle;\n",
              "    }\n",
              "\n",
              "    .dataframe tbody tr th {\n",
              "        vertical-align: top;\n",
              "    }\n",
              "\n",
              "    .dataframe thead th {\n",
              "        text-align: right;\n",
              "    }\n",
              "</style>\n",
              "<table border=\"1\" class=\"dataframe\">\n",
              "  <thead>\n",
              "    <tr style=\"text-align: right;\">\n",
              "      <th></th>\n",
              "      <th>k1</th>\n",
              "      <th>k2</th>\n",
              "      <th>v1</th>\n",
              "    </tr>\n",
              "  </thead>\n",
              "  <tbody>\n",
              "    <tr>\n",
              "      <th>0</th>\n",
              "      <td>one</td>\n",
              "      <td>1</td>\n",
              "      <td>0</td>\n",
              "    </tr>\n",
              "    <tr>\n",
              "      <th>1</th>\n",
              "      <td>two</td>\n",
              "      <td>1</td>\n",
              "      <td>1</td>\n",
              "    </tr>\n",
              "    <tr>\n",
              "      <th>2</th>\n",
              "      <td>one</td>\n",
              "      <td>2</td>\n",
              "      <td>2</td>\n",
              "    </tr>\n",
              "    <tr>\n",
              "      <th>3</th>\n",
              "      <td>two</td>\n",
              "      <td>3</td>\n",
              "      <td>3</td>\n",
              "    </tr>\n",
              "    <tr>\n",
              "      <th>4</th>\n",
              "      <td>one</td>\n",
              "      <td>3</td>\n",
              "      <td>4</td>\n",
              "    </tr>\n",
              "    <tr>\n",
              "      <th>6</th>\n",
              "      <td>two</td>\n",
              "      <td>4</td>\n",
              "      <td>6</td>\n",
              "    </tr>\n",
              "  </tbody>\n",
              "</table>\n",
              "</div>"
            ],
            "text/plain": [
              "    k1  k2  v1\n",
              "0  one   1   0\n",
              "1  two   1   1\n",
              "2  one   2   2\n",
              "3  two   3   3\n",
              "4  one   3   4\n",
              "6  two   4   6"
            ]
          },
          "metadata": {},
          "execution_count": 36
        }
      ]
    },
    {
      "cell_type": "markdown",
      "metadata": {
        "id": "yKdIMw8iyIDu"
      },
      "source": [
        "###Transforming Data Using a Function or mapping\n",
        "\n",
        "Data can be mapped to a better representation\n",
        "\n",
        "with the provided data frame"
      ]
    },
    {
      "cell_type": "code",
      "metadata": {
        "id": "D7kdpUSYyT9E",
        "colab": {
          "base_uri": "https://localhost:8080/",
          "height": 325
        },
        "outputId": "bee7da95-b3e8-4f3a-d543-529cdbcd2dd3"
      },
      "source": [
        "data = pd.DataFrame({'food': ['bacon', 'pulled pork', 'bacon',\n",
        "                              'Pastrami', 'corned beef', 'Bacon',\n",
        "                              'pastrami', 'honey ham', 'nova lox'],\n",
        "                     'ounces': [4, 3, 12, 6, 7.5, 8, 3, 5, 6]})\n",
        "data"
      ],
      "execution_count": 37,
      "outputs": [
        {
          "output_type": "execute_result",
          "data": {
            "text/html": [
              "<div>\n",
              "<style scoped>\n",
              "    .dataframe tbody tr th:only-of-type {\n",
              "        vertical-align: middle;\n",
              "    }\n",
              "\n",
              "    .dataframe tbody tr th {\n",
              "        vertical-align: top;\n",
              "    }\n",
              "\n",
              "    .dataframe thead th {\n",
              "        text-align: right;\n",
              "    }\n",
              "</style>\n",
              "<table border=\"1\" class=\"dataframe\">\n",
              "  <thead>\n",
              "    <tr style=\"text-align: right;\">\n",
              "      <th></th>\n",
              "      <th>food</th>\n",
              "      <th>ounces</th>\n",
              "    </tr>\n",
              "  </thead>\n",
              "  <tbody>\n",
              "    <tr>\n",
              "      <th>0</th>\n",
              "      <td>bacon</td>\n",
              "      <td>4.0</td>\n",
              "    </tr>\n",
              "    <tr>\n",
              "      <th>1</th>\n",
              "      <td>pulled pork</td>\n",
              "      <td>3.0</td>\n",
              "    </tr>\n",
              "    <tr>\n",
              "      <th>2</th>\n",
              "      <td>bacon</td>\n",
              "      <td>12.0</td>\n",
              "    </tr>\n",
              "    <tr>\n",
              "      <th>3</th>\n",
              "      <td>Pastrami</td>\n",
              "      <td>6.0</td>\n",
              "    </tr>\n",
              "    <tr>\n",
              "      <th>4</th>\n",
              "      <td>corned beef</td>\n",
              "      <td>7.5</td>\n",
              "    </tr>\n",
              "    <tr>\n",
              "      <th>5</th>\n",
              "      <td>Bacon</td>\n",
              "      <td>8.0</td>\n",
              "    </tr>\n",
              "    <tr>\n",
              "      <th>6</th>\n",
              "      <td>pastrami</td>\n",
              "      <td>3.0</td>\n",
              "    </tr>\n",
              "    <tr>\n",
              "      <th>7</th>\n",
              "      <td>honey ham</td>\n",
              "      <td>5.0</td>\n",
              "    </tr>\n",
              "    <tr>\n",
              "      <th>8</th>\n",
              "      <td>nova lox</td>\n",
              "      <td>6.0</td>\n",
              "    </tr>\n",
              "  </tbody>\n",
              "</table>\n",
              "</div>"
            ],
            "text/plain": [
              "          food  ounces\n",
              "0        bacon     4.0\n",
              "1  pulled pork     3.0\n",
              "2        bacon    12.0\n",
              "3     Pastrami     6.0\n",
              "4  corned beef     7.5\n",
              "5        Bacon     8.0\n",
              "6     pastrami     3.0\n",
              "7    honey ham     5.0\n",
              "8     nova lox     6.0"
            ]
          },
          "metadata": {},
          "execution_count": 37
        }
      ]
    },
    {
      "cell_type": "markdown",
      "metadata": {
        "id": "PeruaoJIyXbT"
      },
      "source": [
        "The mapping dictionary is provided"
      ]
    },
    {
      "cell_type": "code",
      "metadata": {
        "id": "4jMwQefQyZxA"
      },
      "source": [
        "meat_to_animal = {\n",
        "  'bacon': 'pig',\n",
        "  'pulled pork': 'pig',\n",
        "  'pastrami': 'cow',\n",
        "  'corned beef': 'cow',\n",
        "  'honey ham': 'pig',\n",
        "  'nova lox': 'salmon'\n",
        "}"
      ],
      "execution_count": 38,
      "outputs": []
    },
    {
      "cell_type": "markdown",
      "metadata": {
        "id": "V_xngC8sydE9"
      },
      "source": [
        "Then we can provided the map as given"
      ]
    },
    {
      "cell_type": "code",
      "metadata": {
        "id": "4FD1gvWzyhoU",
        "colab": {
          "base_uri": "https://localhost:8080/"
        },
        "outputId": "ff791a65-81bf-42cd-a050-e9e1286dce97"
      },
      "source": [
        "lowercased = data['food'].str.lower()\n",
        "lowercased"
      ],
      "execution_count": 39,
      "outputs": [
        {
          "output_type": "execute_result",
          "data": {
            "text/plain": [
              "0          bacon\n",
              "1    pulled pork\n",
              "2          bacon\n",
              "3       pastrami\n",
              "4    corned beef\n",
              "5          bacon\n",
              "6       pastrami\n",
              "7      honey ham\n",
              "8       nova lox\n",
              "Name: food, dtype: object"
            ]
          },
          "metadata": {},
          "execution_count": 39
        }
      ]
    },
    {
      "cell_type": "code",
      "metadata": {
        "id": "A1ciCCcCykRE",
        "colab": {
          "base_uri": "https://localhost:8080/",
          "height": 325
        },
        "outputId": "2ab6f567-9ca4-4015-e8f3-e0a5829c5c3f"
      },
      "source": [
        "data['animal'] = lowercased.map(meat_to_animal)\n",
        "data"
      ],
      "execution_count": 40,
      "outputs": [
        {
          "output_type": "execute_result",
          "data": {
            "text/html": [
              "<div>\n",
              "<style scoped>\n",
              "    .dataframe tbody tr th:only-of-type {\n",
              "        vertical-align: middle;\n",
              "    }\n",
              "\n",
              "    .dataframe tbody tr th {\n",
              "        vertical-align: top;\n",
              "    }\n",
              "\n",
              "    .dataframe thead th {\n",
              "        text-align: right;\n",
              "    }\n",
              "</style>\n",
              "<table border=\"1\" class=\"dataframe\">\n",
              "  <thead>\n",
              "    <tr style=\"text-align: right;\">\n",
              "      <th></th>\n",
              "      <th>food</th>\n",
              "      <th>ounces</th>\n",
              "      <th>animal</th>\n",
              "    </tr>\n",
              "  </thead>\n",
              "  <tbody>\n",
              "    <tr>\n",
              "      <th>0</th>\n",
              "      <td>bacon</td>\n",
              "      <td>4.0</td>\n",
              "      <td>pig</td>\n",
              "    </tr>\n",
              "    <tr>\n",
              "      <th>1</th>\n",
              "      <td>pulled pork</td>\n",
              "      <td>3.0</td>\n",
              "      <td>pig</td>\n",
              "    </tr>\n",
              "    <tr>\n",
              "      <th>2</th>\n",
              "      <td>bacon</td>\n",
              "      <td>12.0</td>\n",
              "      <td>pig</td>\n",
              "    </tr>\n",
              "    <tr>\n",
              "      <th>3</th>\n",
              "      <td>Pastrami</td>\n",
              "      <td>6.0</td>\n",
              "      <td>cow</td>\n",
              "    </tr>\n",
              "    <tr>\n",
              "      <th>4</th>\n",
              "      <td>corned beef</td>\n",
              "      <td>7.5</td>\n",
              "      <td>cow</td>\n",
              "    </tr>\n",
              "    <tr>\n",
              "      <th>5</th>\n",
              "      <td>Bacon</td>\n",
              "      <td>8.0</td>\n",
              "      <td>pig</td>\n",
              "    </tr>\n",
              "    <tr>\n",
              "      <th>6</th>\n",
              "      <td>pastrami</td>\n",
              "      <td>3.0</td>\n",
              "      <td>cow</td>\n",
              "    </tr>\n",
              "    <tr>\n",
              "      <th>7</th>\n",
              "      <td>honey ham</td>\n",
              "      <td>5.0</td>\n",
              "      <td>pig</td>\n",
              "    </tr>\n",
              "    <tr>\n",
              "      <th>8</th>\n",
              "      <td>nova lox</td>\n",
              "      <td>6.0</td>\n",
              "      <td>salmon</td>\n",
              "    </tr>\n",
              "  </tbody>\n",
              "</table>\n",
              "</div>"
            ],
            "text/plain": [
              "          food  ounces  animal\n",
              "0        bacon     4.0     pig\n",
              "1  pulled pork     3.0     pig\n",
              "2        bacon    12.0     pig\n",
              "3     Pastrami     6.0     cow\n",
              "4  corned beef     7.5     cow\n",
              "5        Bacon     8.0     pig\n",
              "6     pastrami     3.0     cow\n",
              "7    honey ham     5.0     pig\n",
              "8     nova lox     6.0  salmon"
            ]
          },
          "metadata": {},
          "execution_count": 40
        }
      ]
    },
    {
      "cell_type": "markdown",
      "metadata": {
        "id": "flbAR5LoysHb"
      },
      "source": [
        "###Replacing value\n",
        "---\n",
        "\n",
        "Some value can be replaced, in order to manage the code easier.\n",
        "For example with the given data frame\n"
      ]
    },
    {
      "cell_type": "code",
      "metadata": {
        "id": "ykZrH7yby7BC",
        "colab": {
          "base_uri": "https://localhost:8080/"
        },
        "outputId": "fe160451-3f0c-4526-fad6-a8f5d2c6035b"
      },
      "source": [
        "data = pd.Series([1., -999., 2., -999., -1000., 3.])\n",
        "data"
      ],
      "execution_count": 41,
      "outputs": [
        {
          "output_type": "execute_result",
          "data": {
            "text/plain": [
              "0       1.0\n",
              "1    -999.0\n",
              "2       2.0\n",
              "3    -999.0\n",
              "4   -1000.0\n",
              "5       3.0\n",
              "dtype: float64"
            ]
          },
          "metadata": {},
          "execution_count": 41
        }
      ]
    },
    {
      "cell_type": "markdown",
      "metadata": {
        "id": "D82X9jnUy_LX"
      },
      "source": [
        "The value -999 is may be the sentinel values\n",
        "\n",
        "The sentinal value is the value which define the state of data but not the real data. For example, the exit point or the N/A of the value.\n"
      ]
    },
    {
      "cell_type": "code",
      "metadata": {
        "id": "XcU2RAcS-lm6",
        "colab": {
          "base_uri": "https://localhost:8080/"
        },
        "outputId": "10455699-d1f9-41ad-8cd8-cecea0f0dcba"
      },
      "source": [
        "data.replace(-999,np.nan)"
      ],
      "execution_count": 42,
      "outputs": [
        {
          "output_type": "execute_result",
          "data": {
            "text/plain": [
              "0       1.0\n",
              "1       NaN\n",
              "2       2.0\n",
              "3       NaN\n",
              "4   -1000.0\n",
              "5       3.0\n",
              "dtype: float64"
            ]
          },
          "metadata": {},
          "execution_count": 42
        }
      ]
    },
    {
      "cell_type": "markdown",
      "metadata": {
        "id": "ScYPcr2H-08f"
      },
      "source": [
        "we can replace multiple data with only one value"
      ]
    },
    {
      "cell_type": "code",
      "metadata": {
        "id": "C46N9w9z-6OU",
        "colab": {
          "base_uri": "https://localhost:8080/"
        },
        "outputId": "7c8684f7-1719-4fd2-d85f-91983df2a481"
      },
      "source": [
        "data.replace([-999,-1000],np.nan)"
      ],
      "execution_count": 43,
      "outputs": [
        {
          "output_type": "execute_result",
          "data": {
            "text/plain": [
              "0    1.0\n",
              "1    NaN\n",
              "2    2.0\n",
              "3    NaN\n",
              "4    NaN\n",
              "5    3.0\n",
              "dtype: float64"
            ]
          },
          "metadata": {},
          "execution_count": 43
        }
      ]
    },
    {
      "cell_type": "markdown",
      "metadata": {
        "id": "P9vapFDY_A_d"
      },
      "source": [
        "Or replace different value with different data"
      ]
    },
    {
      "cell_type": "code",
      "metadata": {
        "id": "HiY6ZwIA_E7L",
        "colab": {
          "base_uri": "https://localhost:8080/"
        },
        "outputId": "5122d0c6-6ad1-4b94-a6c9-fccb2f1bfb12"
      },
      "source": [
        "data.replace([-999, -1000], [np.nan, 0])"
      ],
      "execution_count": 44,
      "outputs": [
        {
          "output_type": "execute_result",
          "data": {
            "text/plain": [
              "0    1.0\n",
              "1    NaN\n",
              "2    2.0\n",
              "3    NaN\n",
              "4    0.0\n",
              "5    3.0\n",
              "dtype: float64"
            ]
          },
          "metadata": {},
          "execution_count": 44
        }
      ]
    },
    {
      "cell_type": "code",
      "metadata": {
        "id": "oGN9Hv0p_JtF",
        "colab": {
          "base_uri": "https://localhost:8080/"
        },
        "outputId": "be797a2d-21e3-41f5-cfa7-d570c9a0b701"
      },
      "source": [
        "data.replace({-999: np.nan, -1000: 0})"
      ],
      "execution_count": 45,
      "outputs": [
        {
          "output_type": "execute_result",
          "data": {
            "text/plain": [
              "0    1.0\n",
              "1    NaN\n",
              "2    2.0\n",
              "3    NaN\n",
              "4    0.0\n",
              "5    3.0\n",
              "dtype: float64"
            ]
          },
          "metadata": {},
          "execution_count": 45
        }
      ]
    },
    {
      "cell_type": "markdown",
      "metadata": {
        "id": "JDe_CGCG_POI"
      },
      "source": [
        "###Renaming Axis Index\n",
        "\n",
        "The axis index which we loaded from the different sources may be hard to understand.\n",
        "So we rename the index name for the better understanding"
      ]
    },
    {
      "cell_type": "code",
      "metadata": {
        "id": "H_5sfkzA_9E6",
        "colab": {
          "base_uri": "https://localhost:8080/",
          "height": 141
        },
        "outputId": "0c6d78d3-49cf-4d2c-dfc7-eb91b5bb97dd"
      },
      "source": [
        "data = pd.DataFrame(np.arange(12).reshape((3, 4)),\n",
        "                    index=['Ohio', 'Colorado', 'New York'],\n",
        "                    columns=['one', 'two', 'three', 'four'])\n",
        "data"
      ],
      "execution_count": 46,
      "outputs": [
        {
          "output_type": "execute_result",
          "data": {
            "text/html": [
              "<div>\n",
              "<style scoped>\n",
              "    .dataframe tbody tr th:only-of-type {\n",
              "        vertical-align: middle;\n",
              "    }\n",
              "\n",
              "    .dataframe tbody tr th {\n",
              "        vertical-align: top;\n",
              "    }\n",
              "\n",
              "    .dataframe thead th {\n",
              "        text-align: right;\n",
              "    }\n",
              "</style>\n",
              "<table border=\"1\" class=\"dataframe\">\n",
              "  <thead>\n",
              "    <tr style=\"text-align: right;\">\n",
              "      <th></th>\n",
              "      <th>one</th>\n",
              "      <th>two</th>\n",
              "      <th>three</th>\n",
              "      <th>four</th>\n",
              "    </tr>\n",
              "  </thead>\n",
              "  <tbody>\n",
              "    <tr>\n",
              "      <th>Ohio</th>\n",
              "      <td>0</td>\n",
              "      <td>1</td>\n",
              "      <td>2</td>\n",
              "      <td>3</td>\n",
              "    </tr>\n",
              "    <tr>\n",
              "      <th>Colorado</th>\n",
              "      <td>4</td>\n",
              "      <td>5</td>\n",
              "      <td>6</td>\n",
              "      <td>7</td>\n",
              "    </tr>\n",
              "    <tr>\n",
              "      <th>New York</th>\n",
              "      <td>8</td>\n",
              "      <td>9</td>\n",
              "      <td>10</td>\n",
              "      <td>11</td>\n",
              "    </tr>\n",
              "  </tbody>\n",
              "</table>\n",
              "</div>"
            ],
            "text/plain": [
              "          one  two  three  four\n",
              "Ohio        0    1      2     3\n",
              "Colorado    4    5      6     7\n",
              "New York    8    9     10    11"
            ]
          },
          "metadata": {},
          "execution_count": 46
        }
      ]
    },
    {
      "cell_type": "markdown",
      "metadata": {
        "id": "EyYObG_qObai"
      },
      "source": [
        "We can use the function to change the name of each index"
      ]
    },
    {
      "cell_type": "code",
      "metadata": {
        "id": "MlvcWkQQ_VmQ",
        "colab": {
          "base_uri": "https://localhost:8080/"
        },
        "outputId": "e8bc4e23-bc51-45e1-9011-2675732ff6e4"
      },
      "source": [
        "transform = lambda x: x[:4].upper()\n",
        "data.index.map(transform)"
      ],
      "execution_count": 47,
      "outputs": [
        {
          "output_type": "execute_result",
          "data": {
            "text/plain": [
              "Index(['OHIO', 'COLO', 'NEW '], dtype='object')"
            ]
          },
          "metadata": {},
          "execution_count": 47
        }
      ]
    },
    {
      "cell_type": "code",
      "metadata": {
        "id": "tPluhYS8Opi_",
        "colab": {
          "base_uri": "https://localhost:8080/",
          "height": 141
        },
        "outputId": "77a0031f-17c4-4276-f114-408ff729f656"
      },
      "source": [
        "data"
      ],
      "execution_count": 48,
      "outputs": [
        {
          "output_type": "execute_result",
          "data": {
            "text/html": [
              "<div>\n",
              "<style scoped>\n",
              "    .dataframe tbody tr th:only-of-type {\n",
              "        vertical-align: middle;\n",
              "    }\n",
              "\n",
              "    .dataframe tbody tr th {\n",
              "        vertical-align: top;\n",
              "    }\n",
              "\n",
              "    .dataframe thead th {\n",
              "        text-align: right;\n",
              "    }\n",
              "</style>\n",
              "<table border=\"1\" class=\"dataframe\">\n",
              "  <thead>\n",
              "    <tr style=\"text-align: right;\">\n",
              "      <th></th>\n",
              "      <th>one</th>\n",
              "      <th>two</th>\n",
              "      <th>three</th>\n",
              "      <th>four</th>\n",
              "    </tr>\n",
              "  </thead>\n",
              "  <tbody>\n",
              "    <tr>\n",
              "      <th>Ohio</th>\n",
              "      <td>0</td>\n",
              "      <td>1</td>\n",
              "      <td>2</td>\n",
              "      <td>3</td>\n",
              "    </tr>\n",
              "    <tr>\n",
              "      <th>Colorado</th>\n",
              "      <td>4</td>\n",
              "      <td>5</td>\n",
              "      <td>6</td>\n",
              "      <td>7</td>\n",
              "    </tr>\n",
              "    <tr>\n",
              "      <th>New York</th>\n",
              "      <td>8</td>\n",
              "      <td>9</td>\n",
              "      <td>10</td>\n",
              "      <td>11</td>\n",
              "    </tr>\n",
              "  </tbody>\n",
              "</table>\n",
              "</div>"
            ],
            "text/plain": [
              "          one  two  three  four\n",
              "Ohio        0    1      2     3\n",
              "Colorado    4    5      6     7\n",
              "New York    8    9     10    11"
            ]
          },
          "metadata": {},
          "execution_count": 48
        }
      ]
    },
    {
      "cell_type": "markdown",
      "metadata": {
        "id": "DAUqPV8XOtfl"
      },
      "source": [
        "To change the index name we have to set the index values"
      ]
    },
    {
      "cell_type": "code",
      "metadata": {
        "id": "cDNHqjOSOxSl",
        "colab": {
          "base_uri": "https://localhost:8080/",
          "height": 141
        },
        "outputId": "07589d71-263e-4cf0-cf32-550920cfb00d"
      },
      "source": [
        "data.index = data.index.map(transform)\n",
        "data"
      ],
      "execution_count": 49,
      "outputs": [
        {
          "output_type": "execute_result",
          "data": {
            "text/html": [
              "<div>\n",
              "<style scoped>\n",
              "    .dataframe tbody tr th:only-of-type {\n",
              "        vertical-align: middle;\n",
              "    }\n",
              "\n",
              "    .dataframe tbody tr th {\n",
              "        vertical-align: top;\n",
              "    }\n",
              "\n",
              "    .dataframe thead th {\n",
              "        text-align: right;\n",
              "    }\n",
              "</style>\n",
              "<table border=\"1\" class=\"dataframe\">\n",
              "  <thead>\n",
              "    <tr style=\"text-align: right;\">\n",
              "      <th></th>\n",
              "      <th>one</th>\n",
              "      <th>two</th>\n",
              "      <th>three</th>\n",
              "      <th>four</th>\n",
              "    </tr>\n",
              "  </thead>\n",
              "  <tbody>\n",
              "    <tr>\n",
              "      <th>OHIO</th>\n",
              "      <td>0</td>\n",
              "      <td>1</td>\n",
              "      <td>2</td>\n",
              "      <td>3</td>\n",
              "    </tr>\n",
              "    <tr>\n",
              "      <th>COLO</th>\n",
              "      <td>4</td>\n",
              "      <td>5</td>\n",
              "      <td>6</td>\n",
              "      <td>7</td>\n",
              "    </tr>\n",
              "    <tr>\n",
              "      <th>NEW</th>\n",
              "      <td>8</td>\n",
              "      <td>9</td>\n",
              "      <td>10</td>\n",
              "      <td>11</td>\n",
              "    </tr>\n",
              "  </tbody>\n",
              "</table>\n",
              "</div>"
            ],
            "text/plain": [
              "      one  two  three  four\n",
              "OHIO    0    1      2     3\n",
              "COLO    4    5      6     7\n",
              "NEW     8    9     10    11"
            ]
          },
          "metadata": {},
          "execution_count": 49
        }
      ]
    },
    {
      "cell_type": "markdown",
      "metadata": {
        "id": "b0L9MvIfO4Bk"
      },
      "source": [
        "Or if we want to rename it instancely (without seeing the new solution first)  we can use the rename method\n",
        "```code```\n",
        "\n"
      ]
    },
    {
      "cell_type": "code",
      "metadata": {
        "id": "xKJ8KQ1EO_yY",
        "colab": {
          "base_uri": "https://localhost:8080/",
          "height": 141
        },
        "outputId": "eb1df02c-7afd-45f9-95fb-91c10ddf5e43"
      },
      "source": [
        "data.rename(index = str.title,columns=str.upper)\n"
      ],
      "execution_count": 50,
      "outputs": [
        {
          "output_type": "execute_result",
          "data": {
            "text/html": [
              "<div>\n",
              "<style scoped>\n",
              "    .dataframe tbody tr th:only-of-type {\n",
              "        vertical-align: middle;\n",
              "    }\n",
              "\n",
              "    .dataframe tbody tr th {\n",
              "        vertical-align: top;\n",
              "    }\n",
              "\n",
              "    .dataframe thead th {\n",
              "        text-align: right;\n",
              "    }\n",
              "</style>\n",
              "<table border=\"1\" class=\"dataframe\">\n",
              "  <thead>\n",
              "    <tr style=\"text-align: right;\">\n",
              "      <th></th>\n",
              "      <th>ONE</th>\n",
              "      <th>TWO</th>\n",
              "      <th>THREE</th>\n",
              "      <th>FOUR</th>\n",
              "    </tr>\n",
              "  </thead>\n",
              "  <tbody>\n",
              "    <tr>\n",
              "      <th>Ohio</th>\n",
              "      <td>0</td>\n",
              "      <td>1</td>\n",
              "      <td>2</td>\n",
              "      <td>3</td>\n",
              "    </tr>\n",
              "    <tr>\n",
              "      <th>Colo</th>\n",
              "      <td>4</td>\n",
              "      <td>5</td>\n",
              "      <td>6</td>\n",
              "      <td>7</td>\n",
              "    </tr>\n",
              "    <tr>\n",
              "      <th>New</th>\n",
              "      <td>8</td>\n",
              "      <td>9</td>\n",
              "      <td>10</td>\n",
              "      <td>11</td>\n",
              "    </tr>\n",
              "  </tbody>\n",
              "</table>\n",
              "</div>"
            ],
            "text/plain": [
              "      ONE  TWO  THREE  FOUR\n",
              "Ohio    0    1      2     3\n",
              "Colo    4    5      6     7\n",
              "New     8    9     10    11"
            ]
          },
          "metadata": {},
          "execution_count": 50
        }
      ]
    },
    {
      "cell_type": "markdown",
      "metadata": {
        "id": "lyGKiFs8PPzi"
      },
      "source": [
        "if we want to change the specific name, using the map for change the index name"
      ]
    },
    {
      "cell_type": "code",
      "metadata": {
        "id": "PNg3waYIPWOl",
        "colab": {
          "base_uri": "https://localhost:8080/",
          "height": 141
        },
        "outputId": "7e7e3cc1-bd7d-4e88-85fe-aa3176e273ff"
      },
      "source": [
        "data.rename(index={'OHIO':'INDIANA'},\n",
        "            columns={'three':'peekaboo'})"
      ],
      "execution_count": 51,
      "outputs": [
        {
          "output_type": "execute_result",
          "data": {
            "text/html": [
              "<div>\n",
              "<style scoped>\n",
              "    .dataframe tbody tr th:only-of-type {\n",
              "        vertical-align: middle;\n",
              "    }\n",
              "\n",
              "    .dataframe tbody tr th {\n",
              "        vertical-align: top;\n",
              "    }\n",
              "\n",
              "    .dataframe thead th {\n",
              "        text-align: right;\n",
              "    }\n",
              "</style>\n",
              "<table border=\"1\" class=\"dataframe\">\n",
              "  <thead>\n",
              "    <tr style=\"text-align: right;\">\n",
              "      <th></th>\n",
              "      <th>one</th>\n",
              "      <th>two</th>\n",
              "      <th>peekaboo</th>\n",
              "      <th>four</th>\n",
              "    </tr>\n",
              "  </thead>\n",
              "  <tbody>\n",
              "    <tr>\n",
              "      <th>INDIANA</th>\n",
              "      <td>0</td>\n",
              "      <td>1</td>\n",
              "      <td>2</td>\n",
              "      <td>3</td>\n",
              "    </tr>\n",
              "    <tr>\n",
              "      <th>COLO</th>\n",
              "      <td>4</td>\n",
              "      <td>5</td>\n",
              "      <td>6</td>\n",
              "      <td>7</td>\n",
              "    </tr>\n",
              "    <tr>\n",
              "      <th>NEW</th>\n",
              "      <td>8</td>\n",
              "      <td>9</td>\n",
              "      <td>10</td>\n",
              "      <td>11</td>\n",
              "    </tr>\n",
              "  </tbody>\n",
              "</table>\n",
              "</div>"
            ],
            "text/plain": [
              "         one  two  peekaboo  four\n",
              "INDIANA    0    1         2     3\n",
              "COLO       4    5         6     7\n",
              "NEW        8    9        10    11"
            ]
          },
          "metadata": {},
          "execution_count": 51
        }
      ]
    },
    {
      "cell_type": "markdown",
      "metadata": {
        "id": "7wBsYuHKPo1T"
      },
      "source": [
        "To save the new name directly using `inplace` method\n"
      ]
    },
    {
      "cell_type": "code",
      "metadata": {
        "id": "WCuWLgvWPwM-",
        "colab": {
          "base_uri": "https://localhost:8080/",
          "height": 141
        },
        "outputId": "27f93d6a-9823-4a9b-cf1d-208630371c1d"
      },
      "source": [
        "data.rename(index={'OHIO':'INDIANA'},\n",
        "            inplace=True)\n",
        "data"
      ],
      "execution_count": 52,
      "outputs": [
        {
          "output_type": "execute_result",
          "data": {
            "text/html": [
              "<div>\n",
              "<style scoped>\n",
              "    .dataframe tbody tr th:only-of-type {\n",
              "        vertical-align: middle;\n",
              "    }\n",
              "\n",
              "    .dataframe tbody tr th {\n",
              "        vertical-align: top;\n",
              "    }\n",
              "\n",
              "    .dataframe thead th {\n",
              "        text-align: right;\n",
              "    }\n",
              "</style>\n",
              "<table border=\"1\" class=\"dataframe\">\n",
              "  <thead>\n",
              "    <tr style=\"text-align: right;\">\n",
              "      <th></th>\n",
              "      <th>one</th>\n",
              "      <th>two</th>\n",
              "      <th>three</th>\n",
              "      <th>four</th>\n",
              "    </tr>\n",
              "  </thead>\n",
              "  <tbody>\n",
              "    <tr>\n",
              "      <th>INDIANA</th>\n",
              "      <td>0</td>\n",
              "      <td>1</td>\n",
              "      <td>2</td>\n",
              "      <td>3</td>\n",
              "    </tr>\n",
              "    <tr>\n",
              "      <th>COLO</th>\n",
              "      <td>4</td>\n",
              "      <td>5</td>\n",
              "      <td>6</td>\n",
              "      <td>7</td>\n",
              "    </tr>\n",
              "    <tr>\n",
              "      <th>NEW</th>\n",
              "      <td>8</td>\n",
              "      <td>9</td>\n",
              "      <td>10</td>\n",
              "      <td>11</td>\n",
              "    </tr>\n",
              "  </tbody>\n",
              "</table>\n",
              "</div>"
            ],
            "text/plain": [
              "         one  two  three  four\n",
              "INDIANA    0    1      2     3\n",
              "COLO       4    5      6     7\n",
              "NEW        8    9     10    11"
            ]
          },
          "metadata": {},
          "execution_count": 52
        }
      ]
    },
    {
      "cell_type": "markdown",
      "metadata": {
        "id": "nHIqWByk5wc-"
      },
      "source": [
        "####Work\n",
        "---\n",
        "\n",
        "From the previous work provide this output"
      ]
    },
    {
      "cell_type": "markdown",
      "metadata": {
        "id": "bEoGyEMOaXO-"
      },
      "source": [
        "Output1\n",
        "\n",
        "fill PID, and PID as an index\n",
        "\n",
        "![image.png](data:image/png;base64,iVBORw0KGgoAAAANSUhEUgAAAxkAAAFfCAYAAAAifQGnAAAgAElEQVR4Aeyde8xV1Zn/FxMTIa0OSDsRHFEQaCuKEqKIytgYYuMFL7RarX9YUCM63qIocTSaGv1RlDHWGsRUy5AJ1WJDo3hJHUbHMgpoCErUzgDecAAT5aI2gpNJzi+frc92nfXuffY+5+z9nn3O+13Jy76s27M+6/Y8a619GFSr1WpOTgREQAREQAREQAREQAREQAQKIvA3BaWjZERABERABERABERABERABEQgIiAjQw1BBERABERABERABERABESgUAIyMgrFqcREQAREQAREQAREQAREQARkZKgNiIAIiIAIiIAIiIAIiIAIFEpARkahOJWYCIiACIiACIiACIiACIiAjAy1AREQAREQAREQAREQAREQgUIJyMgoFKcSEwEREAEREAEREAEREAERkJGhNiACIiACIiACIiACIiACIlAoARkZheJUYiIgAiIgAiIgAiIgAiIgAjIy1AZEQAREQAREQAREQAREQAQKJSAjo1CcSkwEREAEREAEREAEREAEREBGhtqACIiACIiACIiACIiACIhAoQRkZBSKU4mJgAiIgAiIgAiIgAiIgAjIyFAbqDSB3bt3u5kzZ7oxY8bEf9dff73bu3dvJPcTTzwRv7cw06ZNc1u2bHFZcdstOHmQl+WLLLikfC3MPffck5ntunXrojQpN2nhSJu83nzzTUf5fQaWH2nbvTGAE2HJn3QHgjMGScxhZO/9q886jZGfrrG0NmB1b3VF2lYHvEuqB5PF4nL1ZeI+j1xp8vrvTU5L39oheSblgT/t5s9//nNqWyTNPC4sl7GzuFn+xslnajzT+gFp+/H8uPj5dWlMuBoX64O+n9VnUlxfDitXK1dj4aeHTNTRe++9F11NRtK3eiWeyWxxzS+pfpNkC3lRdtLFGW+fh8/L5Pb9/XpOStv3Jw8/jLE2OUPmVkZfLkvP0jHZw7Tz8rC8k65+vpaPyUj+VhcmE2kQzsplvAiLs/BWrqQ87Z2fdxpvwloelifvTEY/nt0ji/n7clg7snKaHK1cTSby9OWytKzu0vwtXHg1flYWrlbPJr/vZ/dFlCmUpdGzX36TwdpIUr36jKxuLJ5drQ2RbxjGr8ekvI1RI5nb9ZOR0S5Bxe8XAnPmzHHvvvuue/7559369evdLbfcEk18559/fvR+wYIFkRyPPfaYW716tRs7dmwsl8Ul3tatW93FF18cdcY4QAs3DFyzZs1yM2bMiPJHtm9961vRpD9s2DC3YsWKPnIR5uabb86d2+uvv+42bdqUO7wfcNu2bW7nzp2OK+UeKI5B9tJLL3WjRo1yb731VlQHp5xySmxgwd/a0SGHHOKsbVBf1Fte99JLLyUGZaJ4+eWX3dlnn+2++93vug0bNvQJRxtEzrVr1/bx4wVtGBn5a1aupAStrV577bVx2VeuXBkpdXD6+OOPo7YSxh05cqTbf//9o9ettkUmtgceeCDqt5SHfnrRRRfF9YH/vHnz6spMu4UjjgkUWen3Vm/N9Iljjz02av+0hcmTJ0d9Fh7WR+kbhKG+CBP2T+S1uuiPccXqALnou6042te+ffuittdsGvQJY03foO7gZc54GhOflx/X6pn6NWf+cIb33Llz47SpZ/oD5SZtxlXGV/K2Pn3CCSdEfoShjDYHWPpp/SpsQ48++qh76qmnLFrbV/q7tddmE9u+fXsUN208aZSe1YXxhDmscGnjkLV7GBMeZ+ONX5eRR8H/hH2ddvaf//mfMbtGbSCvKH5/tbETXYC+S5lp09YOeUZ/6G/n5488/niILFavtHPmEOqFerW6433SmGX9xJ/7rr766riPWTmtvim/MTK/Mq4yMsqgqjRLI8CAwQRER2t2AqWTotC0qjD5hTIFHgXW3BlnnFFn3Nj7dq4MCM1OYEOHDnW33367Y+JCTpQrBqWB4CgvSvNJJ53khgwZEhV5ypQpjr8iHYqvr3xZ2ih3KDvnnntuZOiECgj1snHjRvc///M/kf8Pf/hDi1ralYmEyWr69OlRHtaHUOo+//zz3Pk22xaZ9IhDfzWjHxloi7RN+KHEMtH69UM/ou5Y4Vu8eLHDOLL4vMe/WUc8JnPGjCTDr9n0/PBFjiuWLnJSb806lPcJEyZEixPsfMC2VTd69OhWo7qzzjorMiTC9k+C1AX90xztgP5E/cASxworjrpatWpV1KftHWEIyxyAko5L61eMnYRhDES5wxH/kksuie6L+AeDhT7drGOx64ADDoj6Af2Q51YcPFkQ8F3WOOSH7a972iN9f/z48VGWyP3zn/88ag9ZbaC/ZOzvfGjTtMskI5N2imGd1/3mN7+J+gmGBWxxjJtHH3103iRKCScjoxSsSrRsAihNw4cPbzob4qR16mYSs3SY7PwtyWbSaBQWGZk4m53AULJR7v7u7/4uUiCffvppd9ppp0VZofz2uqNeaBsYk2VtBbMCSx5JSiCr7Bg5f//3fx8pUjBnwrdJ3+qFlTUm3AMPPDA6BlNWvZiSxerW4MGD42xQIJHzb/7mb9x3vvOd6D0rjUltuZ22SB6+sooMyILixx/KtO8fC+hcZKzxTPgiXdHpIZuNB0nKQrOy0y5oY2mGbFp61r+POOKIWAE/6qijonpmXGjG2Up4q+OsKb5Ji0Fh2shGO/Drxfoxiil/oRyEJc5HH30UtZO0fmVyMI5ifNnRlGZYNAqLYYBh16wBTpkwMPiDEY56s/GiUZ6hH+M9CwYwsT6eNg6FcfvzmX7OAh8Gn7/DhQxZbaA/5exEXkljYFK9pslm43zYT9LC9+d7GRn9SVt5tU3AVjyw8G3Vq+1EW0iAFYKFCxdGMW0CK1qp/cEPfhCv+jYr4qGHHhoZGWylf+9732s2eteGp02w7Y5ibBOaf661iIIxkNP+mNhD5Q0l01ZNmfTDXTOUJ1YdUUoIl+QwXO28bZLSnxSnlXcoaXv27ImjYhB8+umn0coqBoA/8bXTFuMMvBuUKRStRi7Lv1Hc0I9JGOb+SmoYJukZY9Xqouj+nZSfvbO20cquC3EpK+2M9taMo02wKIFCzrjm7y6QjvUpYxIqi43y8tNGtjxHNWiH//d//5eaLGniGvWra665JjIECGd9qxm5UzN3LjIS2JXBUPjwww8bBU30Yyf8zjvvdBMnToyO2yYGSnlpdUF9c0/ZbAU7axxKSTJ+bXMa9Ux7MM5xgBZuOJpkO2vWrxirsxxtgP6bx1m6yF3m2JlHljxhbKFq0qRJcXC/XqnT+++/P67XOFBwY4tYwevER+sD/cVIRkZiNehl1QhwbMIGPI5ftHt+1FegWi0rRzw412hnYhkc2LIsyjFxMiCwotnsdryt4KEMM6H7q4RFyVfVdDAA/TO4TJAPPvhg7okqT7lQOFHK2SkyZytP8IY/xwJQasPVbdoeigFyEjZ0KIi0K/7yTDBh/LzPGGIcrfvkk0+i4zV//etfox2Y0HAivXbaYpI8tMesPpjln5Ru+M4mbJRmDBvO4zezOJF0xjvMw38uQmbSo+0wztEWULKacdQVhjAKLPe2U5UnDdqEfZNB2VHafIWc9oxCbe0z60y7v7JqaZMu43meXQX6x3777ZcqOmmaS+tX9EX6ETLDExd+a2JptHLlCCDltLSbSYP6OeaYYxxKZrNjtF8X/tn+vONQIzntGyWY0R58zo3iZfkxb/tp5mkHNp5mpY2/31/LHDvzyJIWxoxt9Bnm9iVLlsTHQYlj9Uqd5m2ntkOclqf/vr/mF8tTRoaR0LXSBOhwNrG1Y2Akbcu2W3AmsTvuuCMaHJpZdcmTr01gy5YtSw1OmVB4cdyjNOLg1A6rKJEu/8dWMVs5htCo6BgIKIHUi63yWT2YQWwrjOx4sCpvdYRi1l8ToBmbYfmRB8UIxYwrv1qG4yz9v//7vycWPU9b9COasuvvSNiKG4oDfygvvr8f35QuZM/jjL8f1iZsxo48K+d+3GbuyZt2YDI3EzctrBmyrCqnOcsXf+OIEUVZ/e9c0uI3eo/i26h+GsW14xvwsCM8Ft6+y0HZIRzthHz8era6pH3yR9/hnTnCEofjfs30K5igiFJXfnqWbitXeLMYRD1h1KY5qx/6gBmOjCN//OMf65TMtPiN3tu3gXAxdknjEAZIFRzltpMAyJzVBqogc1Ey0G7NkA9/TMLPg/6Ps90O3y+8t3E+7CdhuE48y8joBHXl2RECDLBMMKzSsD3djmN1z1+J4wwsE4z/wXE76VtcJjD/4y8mbNue95Vb7m2isbjh1Sa58H0vPVMn/sorXFh5LeN4XcjbjrbYBIJiS3tj4PePJYW8izZMw/SRk7bJB7Q4O3KIYsROBg6FhHCsoLMzh8IUKsxhW4wiNvjHwvvfFvgf8Zqh5q9monT+y7/8S6R80kfpq/5qHn146dKl0U5Rq/2ggcgteRU5rvgCoIxgqJqjruyYnimLpmz7xy0svF1ZdGhFoaY95xlXLB//yg4fbYg2hgLkO2sX9EvSt3JidFi5UKwwfjFIrGymbBGGsBj5YRv186Ff7dixIzo+acdtuPIxOsanfYDsx2n13gwyix/uYpIv8lCfGNdprlUlkd1SOCJHo3GolXaQJmsz7yk/R6Osfonry5zVBprJq1fCGhMWqXxuaeUzo8TftWc+9PWUtLhlvpeRUSZdpV06ARRKth3Z1scxqYVn8P0VHSbpIlaRWfFloiNv/sgXhTLr+EArQBg8GHDMkQcTLGdlLW9ksZVLJmdWhgaigwHGlNULjGBVxo6OKcFw/t///d9IeUGJ8OsKJQhF6i9/+Ut0bCVPvdCWTH7qPs8E06iuYUL7sPPKMOEXm/y2iszIlrXtHrbFRvniB3e/rWIw+McD8LejHpQZ2U4++eRIMUU5nT9/fqSYWVvn54kxPHBZ/aCRbDClLLbbhELMkarwjLgxQ7b+GFd8mSk/bcF37MzRppAbmUKezRwt8dO1e9qqsabsjGk2rhDGjp9Z+/R5+XGRC2Pbj2t5cMWgJTyGg9WzXy4UKzvahjFKm8FYJV/KzjhufZrjYGn9CsOMvKhb4rZ6bM6XPeneDGbzw5CCjclMvjjasxld7NC04/y6YI5jZ4B+jBGVNg6ZAdJOvq3Epcz0N/qutR3/qBD+nAbAWdvGH4awHIgOJiyk2AJR1phl/QTj3do7hlzYB4ueX7LqZlCtVqtlBZK/CIiACIiACIiACIiACJRJAMPCNzLLzEtpl09AOxnlM1YOIiACIiACIiACIiACGQTseGcz/+lmRpLy7iAB7WR0EL6yHpgEWKlhezvJcVbYjgkk+etdeQQ4emfH7sJcOIbgH/MJ/QfiM9928L8yc+wlyZV1fDApL71rTEB11ZhPlXw1DrnomJTNkfxnchy4sR+nCOuK45Z2dC7003PnCcjI6HwdSAIREAEREAEREAEREAER6CkCOi7VU9WpwoiACIiACIiACIiACIhA5wnIyOh8HUgCERABERABERABERABEegpAjIyeqo6VRgREAEREAEREAEREAER6DwBGRmdrwNJIAIiIAIiIAIiIAIiIAI9RUBGRk9VpwojAiIgAiIgAiIgAiIgAp0nICOj83UgCURABERABERABERABESgpwjIyOip6lRhREAEREAEREAEREAERKDzBGRkdL4OJIEIiIAIiIAIiIAIiIAI9BQBGRk9VZ0qjAiIgAiIgAiIgAiIgAh0noCMjM7XgSQQAREQAREQAREQAREQgZ4iICOjp6pThREBERABERABERABERCBzhOQkdH5OpAEIiACIiACIiACIiACItBTBGRk9FR1qjAiIAIiIAIiIAIiIAIi0HkCMjI6XweSQAREQAREQAREQAREQAR6ioCMjJ6qThVGBERABERABERABERABDpPQEZG5+tAEoiACIiACIiACIiACIhATxGQkdFT1anCiIAIiIAIiIAIiIAIiEDnCcjI6HwdSAIREAEREAEREAEREAER6CkCMjIyqnP37t1u5syZbsyYMfHf9ddf7/bu3RvFfOKJJ+L3FmbatGluy5YtLituRtbyFgEREAEREAEREAEREIGuJCAjI2e1zZkzx7377rvu+eefd+vXr3e33HJLZGicf/750fsFCxZEKT322GNu9erVbuzYsXHKFpd4W7dudRdffHFkgMQBdCMCIiACIiACIiACIiACPURARkaTlYnxMGPGjMjQ2LZtW1Oxhw0b5ubNm+def/11t2nTpqbiKrAIiIAIiIAIiIAIiIAIdAsBGRkt1tR3v/tdN3z48KZjE+eQQw5xL730UtNxFUEEREAEREAEREAEREAEuoGAjIwma4lvLVauXOlOOOEEx86EnAiIgAiIgAiIgAiIgAiIQD0BGRn1PFKfFi9eHH3gfdppp0XHpW6++ebUsHk8Ro8enSeYwoiACIiACIiACIiACIhA1xHYr+sk7pDAfLzdrmGB6Dt37nR8yzFq1KgOlUTZioAIiIAIiIAIiIAIiEC5BLSTUS7futT5SVt+herss892EydOrPPTgwiIgAiIgAiIgAiIgAj0CgEZGW3WpP0/GfxqFO6iiy5y9v9kWNJ21Gry5MnRtxz333+/GzJkiHnrKgIiIAIiIAIiIAIiIAI9RWBQrVar9VSJVBgREAEREAEREAEREAEREIGOEtBORkfxK3MREAEREAEREAEREAER6D0CMjJ6r05VIhEQAREQAREQAREQARHoKAEZGR3Fr8xFQAREQAREQAREQAREoPcIyMjovTpViURABERABERABERABESgowRkZHQUvzIXAREQAREQAREQAREQgd4jICOj9+pUJRIBERABERABERABERCBjhKQkdFR/MpcBERABERABERABERABHqPgIyM3qtTlUgEREAEREAEREAEREAEOkpARkZH8StzERABERABERABERABEeg9AjIyeq9OVSIREAEREAEREAEREAER6CiB/dJy37x5c5qX3ouACIiACIiACIiACIiACPQwgXHjxrVVukG1Wq2WlMK+ffuSXuudCIiACIiACIiACIiACIhAjxMYPHhwWyXUcam28CmyCIiACIiACIiACIiACIhASEBGRkhEzyIgAiIgAiIgAiIgAiIgAm0RkJHRFj5FFgEREAEREAEREAEREAERCAnIyAiJ6FkEREAEREAEREAEREAERKAtAjIy2sKnyCIgAiIgAiIgAiIgAiIgAiEBGRkhET2LgAiIgAiIgAiIgAiIgAi0RUBGRlv4FFkEREAEREAEREAEREAERCAkICMjJKJnERABERABERABERABERCBtgjIyGgLnyKLgAiIgAiIgAiIgAiIgAiEBAoxMlasWOHuu+++urT37t3rbrrpJnfkkUdGf6H/nj173IUXXhj7k4bvXnvttdhv+vTp7p133vG9XZa/Be6EbJa3XZHBOFBmyl6k60QZxb+1GrR+AT/fZfUHC2vxw/5i/nYtu81ZPp28GgvrW/7V55PUP5DbmFMXfnv207F70rD8GNe49x3xk/q2pevLY/EYE5PSyutv4XTtHwLWXpLqzPzCea5/JFMuWQTof9aXk+ovK/5A9U8bO8vkQV+aM2dOH53P+pjVYzim2liLf5LO6LeBpLG61TL56Tabr80pVqZw/Gi3zGGZfFmLZBDm4z+3bWQg9G233eanGd0/9NBDbsSIEe7tt99269evdzt27HCExQH27rvvdhdccEHk/8orr7jly5dHEz3+GBQLFy50K1eujPznz5/vbr311lg5z/KPMnEuyq+/ZbO87UrDp2yUERaUmbKHSoqFb/Yq/vVtI+RXNv8wv0bP1Pntt9/unnnmmbpgWf3BD/zcc8/1ie/7c1+lMoeylfG8dOnSqG/Rv/iz8cTGmzx5HnfccXEaxP+Hf/iHePwhzZkzZ8bJUH/UQ5ajXun7l112WXRlwgjd1q1b3b/+67+Gr6Ox65FHHunzXi86R2Do0KHR2L1hw4Y+9f/CCy+4Qw891F155ZWdE1A5JxJgHPDnYPQS9BO5xgTSdIvGsdrzNQNjy5YtdQllzZFZOmFZc2LYtkJdNSvfMvXkOoAd1AtaNjKoVKw2Ou+ZZ55ZVx781q1b584555zo/ZAhQyLles2aNZFy/eabb7oPP/zQnXrqqZE/gzfK9+rVq6PnJ5980k2ZMsUdccQR0fNRRx0VDeCbN2/O5d9J2SIBv/7HlAzKRhlxlPnzzz9327dv94M2fd/JMmbVTydl80GWyd/PJ889g9HkyZOjoBMnTqyLktUfLDBc6UMowGmuSmVOk7Hs9zaevP/++6VkhdGwaNGiPittYWb0cfr6ueeeG3nZ+OWHmzBhgvvrX/8aL6DgRx3SJlhpkqsWAeakq666qq7+6Ze///3vo9VX5jq56hCgLzFm+nPwtGnT3KuvvlrX56ojceclaTR/lykdq/gnnnhitOM0fPjwuqyy5shGOklZc2JS2/J11ax84VymnuwDzJLFD1v0fctGBoL86le/co8//ni0Y+ELtmvXLjdo0CDnN5SDDjrIsWrHxIuBwarP/vvvH0fjmY7/0UcfRbsehx9+eOzHwM3qA0YIsNgVSfO3SJ2QzfK265dffhmX1d5R5gMOOMC98cYb9qrlayfKKP6tVdd3vvOdaIWdHbnQNeoPtvoN92XLlrmf//znUfsJ07Dnstuc5TOQrygpZ5xxhlu8eHHDHUn6+Pjx492YMWPc8ccfHy+i+Oy+/e1vR2OZb4DYAsTo0aP9oLqvCIHTTz/dTZo0Kap/+ift4Kc//Wm8KFYRMSWGcw7d4d57763biUSPoD/awp9A9SWQplv0DVncGxZcOPVy8cUX90m00RyZpTOWNScmtS3LiwLYPbqtOV//K1NPtvzsmiWLhSvj2rKRwYoOjSLNhUYEBsewYcPi4BgN/qoPRojf6f2KIZJvVPDcyL/TssWFdC4qE2UzZwaTPbd67XQZBzr/ZuuN3Qe/fYfxs/oDKzkopCisWY58ymhzWflWxZ8VInYaMAbKcrNnz44WENKOTaF8sstrMrCry6oVsoXumGOOcRzBMYdxworYt771LXula4UIMIazWIDiM2/evEgyDA+5ahNgN5mz7yxm0n/lkglk6RbJsdp/+6Mf/ahOJwxTzJojG+kk/TUn2rFJxm9cVr7I7C+2F60n+wyzZPHDFnnfspFRpBBKSwREIJ2AKayaGJMZXXLJJfFHnSgRM2bMiI608J1FWY4B+8Ybb6w7NuPnxc4EE4hNNiNHjnSjRo1K3MHEz45MsWOFQYnhIVddAlb/GI18pOovmFVX6oEtGd9V8X0V30ReccUViQb/wCak0rdDACOWxS2NB/UUSzMyWOVhi8bczp073e7du+0xOvLEhGqOrSM7GsI74vsuPF+d5e/HDe/Lls3PjzJRNnN23Miey7qWXUbxL7bmOAKY1h9++9vf1p0pzsq5U20uS66y/MMPv8MPtcvKFyMm6dgU9cguBh+I8x0Ohg9Xnnnvj3PIhoLKTi2rYHZUCsNDrtoE2C0cO3Zs3bHgakss6SDQyOAXoeoSaDRHInUjnaTsOdEMjIcffrju2GRWvmXraX5tZsnihy3yvhQjg8G3Vqs5DAtzKNqs5NHBWeEL4fLMOcmDDz44+v7CNypMMefogR03SvO3/NKuZcoW5sk2mJXV/DC8+Bi0zJXKMsso/laTxV2tjfhGufUHcmF731brTVnlV9PCn7sjbKfaXHE0ik8JvuEERS6MT4xT9JdWnR2b4nsZcxgKfH9mv46H0cMfz5988onzv7+wOIwH7GDwy1bsfmhl3MjoKgKtE0Cx4gcU+JUfue4l0GiOzNIZy54TmYdZPPrDH/5QZ2Bk5VumnhbWdJYsYfgin0sxMjjTx69D8cU/zlb2pk6dGk2eTKI0GlbucAwEjc4v2y8LjBs3Lgofnm8O/aNAKf+ULZufLYoCv2rhr15SZj78LnOlsuwyir9fy+3fN+oPHMvgxxVMUeXDOH7N7a677nI33HBDn8w71eb6CFKhF4wbGG3h9xOMT7bw0aq4dmzGfhmPdPimIild+iU7H35Yy5fxgMUHdmXKXICw/HQVgYFAgP5pc7DtFDMOMB7Yr1sOBA7dXsZGcyRla6STlDknsoPBIiA//kBb811WvmXrac3I4oct+n6/ohO09Pi9cP5PAI4K4PjZR/uteeDz4Rxn1+z/sUBpsjPUwJ87d250tpq4TMBsQ1klZvmbDGnXMmWj0fGTeXfeeWdkUFEmBjl+mg3Hz5fSIGFQpiuzjOJfbM1l9Yes3KrS5rLk7JQ/48aSJUui8cjGG2RhTOKXZ9p19HHSYrL59NNPo0UF+nxSH2c39pZbbol/3tvyJiyLMLgyFyAsP11FYKAQQO/g5IP/E+JJSuFA4dGN5cyaI7N0kjL0MFsc37hxY6zfGVv0WdpdVr5l6mlV0QsG1TgvkOD27duX8FavREAEREAEREAEREAEREAEep3A4MGD2ypiKcel2pJIkUVABERABERABERABERABLqagIyMrq4+CS8CIiACIiACIiACIiAC1SMgI6N6dSKJREAEREAEREAEREAERKCrCcjI6Orqk/AiIAIiIAIiIAIiIAIiUD0CMjKqVyeSSAREQAREQAREQAREQAS6moCMjK6uPgkvAiIgAiIgAiIgAiIgAtUjICOjenUiiURABERABERABERABESgqwnIyOjq6pPwIiACIiACIiACIiACIlA9AjIyqlcnkkgEREAEREAEREAEREAEupqAjIyurj4JLwIiIAIiIAIiIAIiIALVIzCoVqvVqieWJBIBERABERABERABERABEehWAtrJ6Naak9wiIAIiIAIiIAIiIAIiUFECMjIqWjESSwREQAREQAREQAREQAS6lYCMjG6tOcktAiIgAiIgAiIgAiIgAhUlICOjohUjsURABERABERABERABESgWwnIyOjWmpPcIiACIiACIiACIiACIlBRAjIyKie5QVEAACAASURBVFoxEksEREAEREAEREAEREAEupWAjIxurTnJLQIiIAIiIAIiIAIiIAIVJSAjo6IVI7FEQAREQAREQAREQAREoFsJyMjo1pqT3CIgAiIgAiIgAiIgAiJQUQKFGBlPPPGEu+eee+qKuHfvXnf99de7MWPGRH+h/+7du93MmTNjf9Lw3bp162K/adOmuS1btvjeLsuf/Cxv8iE/c2XLZvnYlbKlyWJh2rmKf33bCFmWzT/Mr9GztT3ar+9o37Rzayfmb+HtvX8N+5SfXpXKjFxJbTRNXr+M3FNO4xD2ZdKwsYCrjSvGz56TWCETYxRpm7N8fBn8PJP8mwkbymHphXJYufy8TUZdO0NAddUZ7kXk6o+HSX2tiDy6IQ3GxazyWztPG9e6oZzdLqPVQVJdUYd554Wi0mmHZ9tGBp133rx5fWT49a9/7UaOHOneffdd99Zbb7nt27dHigYBKfgvfvELd9FFF0X+69evd4899likLOCPwvXLX/7SPf/885H/woUL3c033xwbCln+TOTkR77kTz7kR764MmWLMvD+oUFQNsqYJIsXtKVb8a9vGyHEsvmH+TV6pv3dcsst7qmnnqoLRnueNWuWu/baa6M2Qru1/jBkyBB3//33R+9pP/zhd8ghh0QDTV1CXz9UqcxJ8qW9mzNnTl05rbz0fTjMnz/fjRo1yv3mN7+Jk4Dd3LlzIyZTpkyJ34c3ixcvjseX0M+eSeu0005zJ510Up0cjB9nn312NC6F9bFgwQLny71ixQo3bNiwKCxp2RhoZSGvpAmCNvH000+bKLpWmIDqqsKVkyAac6Q/B9Mn0QEGmmNeYCzLctu2bXMHHHBArD8xdtm4lhVX/sUSKGqsKSqdVkrXspHBhMzKK52XCdh3+K1ZsyZWgpiYadwvv/xypOhv3LjRbd261U2fPj2KxqSM/0svvRQ906CnTp3qxo4dGz1PnDgxUi42bdqU6c/K5dq1a6P0yBdHPp999pmj85QtW5Th1/+gVMKHslHGUBY/bLP34p/cNnyOZfL388lzz0Q3YcKEKOixxx5bF2XDhg1u8uTJ7qyzzoreW3+h7ZhhbBFo3yi2GCTWP8yPa5XK7MtVxD1crr76ardy5cpowYKyPvjgg27GjBmukYExdOhQd/HFF0fc4JfkLC24nn/++XVBeCYP6imP89PCQPIdzyeccEKdoYQ/hsoDDzwQjU9+eN1Xj4Dqqnp1kiYRfRG9w5+DTznllEhHSBsL0tLq1veUk4UNFmMYB7Pczp07IyPD9Kes8PIvj0CescZ0Qdt5Sjr5kyedskrRspGBQIsWLYosXFYGfEcjHTRokBs+fHj8mvsPPvggUvQxMFiRHDx4cOzPM8bBjh07ol2I0aNHx340dvLACGHQYJcizR9lHiPFVzqQxwaUMmWLBf76Zt++fZExRdnMUeYDDzwwt8Ji8ZKu4u+iFW5rGyGjsvmH+TV6/u53vxvtZt1xxx2JwShDOKjTTyiD71atWhX1HTNIfD/uq1TmULYinjGsMAQwwNgVwl1zzTWZSV9wwQV9dkH8SCxAsBBhCx++H/cYB6HxEYaxZ9JirJs0aZK9qrsy4f/Xf/1XPCbhieKDIYPRxBgnV10Cqqvq1k0oGWMqO8F+30WPwNC3hb8wTi8+M2auXr3asWCb5Zh3/vKXv8RHd5N2XrPSkH8xBLLGGgwMTkFw2ocdJ05BsGAZziNZ6RQjbXIqLRsZTPZHH310cqrO9TEiMDL8Th0qVfiz4mjOV8x55xsVPGf5Wzpcw50R4voGTtGy+XlTJtI3ZwaTPbd6Ff9vyIVt4xsfF7WpMvj7eeS5/+EPf1jX/v04KKOszrOdjUPJRIkOHYay7YyFBokftqw25+dRxj1Hmmw1xr8aF8sTA4s+zBFEdjYasbA4hLFdkDA9wrD4gPHvjwsWt9lr0kKGn4a1R8L57vLLL48WJXRsyqdSzXvVVTXrpZFU7CYzrrCYSf0NFIfexfyT17333nvub//2b+PjUuwCXXrppXWLInnTUrj2CTQaa9ADMR5tUZ15juO+Sa5ROknhi3rXspFRlABlp8P3GQNtUCmbaTPpi382LQYKViIYzJkEOcvPn290k4odFxw/fnx2ol0Ygi1d+3bBv9oAakVipwADg2veI0zEhTMrehw3s51NSzPpakqJGTxJH+ElxWv1HcoA37fp2FSrBPsvnuqq/1gXlRO7GYwrzEmzZ8/W0cQUsOzasvtjize2qMMuulz/E8gz1tiROOaqpG+kkTpPOmWUrjQjIzzqwaqdP7Fz5Mk/FoD/nj174jIS33dY177L8iesKbiPPvpo3Spy2bL5clImf8XSjnv5Ycq4L7uM4l9sraFIm2LNygSr3eHKet5t/k61uWKJJKdG/7HvMNjVaVYhtwnT/3icnODNcSn/eJopJdQLhkleR1q1Wq2u3/txbTywHQ3fj3agY1M+kereq66qWzeNJONHMw477LCmFigapdfrfhgbnDzpRocOaItEfKvwwgsv1P2KI/7d4NLGGjMuOCLFImXWXJWWTpkMSjEykiZZJlY6Nh2cow6hEswz5yRHjBgRNWjfqDDFnHNl1uDT/IFFeFYdMWSWLVtWZ2CUKVtYURy9sLKaH0oMykzaeW0L1861zDKKfzs1kz8uBoV/pJDBhB05+kAj16k210imIv34VRjGCrZ+bcBk5c1fwGiUH+3Xjk09++yzcVDGJYy6IlbrspQYjm9+//vfrxuXYkGci8pGGZcuXeq/1n0FCdgRBNVVBSvHuWhc4JuCpCOS1ZS4s1KZ0urzMv0LXabbHHODv3h36qmnRseL7B3+3eKSxhpON1AvfIvhf3fUqExJ6TQK365fKUYGxxL4dSgmUxyNlFVHzooxyduvRdmETsPG3xQoBgV+nYqPWnD2a1R2TCTL336ejp+8JD/flS2bnxd5Y11SNlOCKDPKDIpIWa7sMop/sTVHOz/vvPPi9s4AzzcacDaHkc7qeNLqt4Xh2qk258tQ1r1xYfWJrV8cAyYu3JmIXqb8Y8emMOTMwQ3jg50Rjkn5jnzTtqD9cHbvpxWulPGcdXzTtrV9+SxtXatFQHVVrfoIpaF+bA5GD8HxzRNGfNqPPIRpDKRneLHYi87i84JBno/GBxKr/i5r2lhDW7Yd+DxzVVo6pZWnVoBbsGBBjT/fffHFF7XrrruuNnr06Ogv9N+1a1ftvPPOi/2XL1/uR6+tXbs29jv55JNrmzdvzuVPOMJbvv6VNHFlykY5KDd5mOOdyUGZKXuRTvy/aRud4N9MXVq7t7Zocf32TltJ8k9rO1UvM2X0+4D1Ba42LqT5E4Zy/9u//VvUhwgXOmOHX8iX51mzZvUZP2wMCPuqvfdlTBp/TAbytDLYO7smpRWGtTBhfZMGYdPq3PLQtf8IqK76j3XROdGXrE8P5D7FeBWOeUnvxKvoFthces2MNX5dUbcvvvhipAOjCzeTTnMS5g89iKClWTBKWAREQAREQAREQAREQAREYMARKOW41ICjqAKLgAiIgAiIgAiIgAiIgAjEBGRkxCh0IwIiIAIiIAIiIAIiIAIiUAQBGRlFUFQaIiACIiACIiACIiACIiACMQEZGTEK3YiACIiACIiACIiACIiACBRBQEZGERSVhgiIgAiIgAiIgAiIgAiIQExARkaMQjciIAIiIAIiIAIiIAIiIAJFEJCRUQRFpSECIiACIiACIiACIiACIhATkJERo9CNCIiACIiACIiACIiACIhAEQRkZBRBUWmIgAiIgAiIgAiIgAiIgAjEBGRkxCh0IwIiIAIiIAIiIAIiIAIiUASB/dIS2bdvX5qX3ouACIiACIiACIiACIiACPQwgcGDB7dVOu1ktIVPkUVABERABERABERABERABEICMjJCInoWAREQAREQAREQAREQARFoi4CMjLbwKbIIiIAIiIAIiIAIiIAIiEBIQEZGSETPIiACIiACIiACIiACIiACbRGQkdEWPkUWAREQAREQAREQAREQAREICcjICInoWQREQAREQAREQAREQAREoC0CMjLawqfIIiACIiACIiACIiACIiACIQEZGSERPYuACIiACIiACIiACIiACLRFQEZGW/gUWQREQAREQAREQAREQAREICRQiJGxYsUKd99999WlvXfvXnfTTTe5I488MvoL/ffs2eMuvPDC2J80fPfaa6/FftOnT3fvvPOO7+2y/EnP8kYO5DFXtmyWj119WSgzZS/SiX992wjZls0/zK+ZZ2uLYRslDdp43vZSVDrNyN5M2KQ26sf368j6rV0ZO6x8STxsLOBq4wr3OHsOxx/8yDPkbvlY3lz9PJP8mwkbymHphXIgXzP1HxVW/5RKQHVVKt4o8aIYF5VO+SWudg5Z43Z/So8OiC5o4y2y+Y6x1fy4hnqjP8f4Y7qfRlXui2q/RaXTDpe2jQwq7rbbbusjw0MPPeRGjBjh3n77bbd+/Xq3Y8eOaFInIAW/++673QUXXBD5v/LKK2758uXRpIo/jWnhwoVu5cqVkf/8+fPdrbfeGivnWf7IRHqkS/7IgTzmypTN8rArioIvC2Wm7DAowol/fdsImZbNP8yv1ednnnnGPffcc61Gj+MVlU6cYD/eXHbZZVF/pc/6fzfccIMbMmSIu/POO92hhx7qfvvb38ZSMRbccsstbunSpe64446L34c3jzzySDy+hH72TFozZsxwU6dOrcufPvuTn/wkGpeQ4957743977rrLufL/fjjj7uhQ4dGYUnLxkArD3klTXDdXG/Gb6BcVVfl13RRjItKp/wSVy+HNN2iE5KyWIQOeNVVV0Vjb6gz4o+OaTof4+2qVavcEUccEYnbLXpAyLao9ltUOqF8eZ5bNjKYkLEUUaDPPPPMurzwW7dunTvnnHOi90zMTNRr1qyJlOs333zTffjhh+7UU0+N/JmU8V+9enX0/OSTT7opU6bEDeSoo46KlIvNmzdn+qO8kw/pkS5u2rRp7tVXX42MlLJlizL8+h9kgY8vC2X+/PPP3fbt2/2gTd+L/1eDR9g2fJBl8vfzKeIeRXXRokWRcpqWntW5rdaEKzXEy5NOWvpVf884MmfOHPfss89GCxbU7+LFi90ZZ5zR0MBgHECx/+d//ud4oSIsq6XFJDZz5sw6b57J44033qh7n/bgp4WB5Duejz/++DpDCf9erje//L1wr7oqvxbzMB7o42FZtWBck3S7svLMSnfnzp2uVqu5Y445JgrKmM44ih6Jw/+AAw5w+++/f5+kukkPCIXvhX7QspEBjF/96leOlTtW63y3a9cuN2jQIDd8+PD49UEHHeS2bt0aKdc0DFYk/QbBM4bARx99FFmkhx9+eBwX5YI8MEJoMFisaf620ugrCsSjQdIwy5QtFvjrmy+//DLqBJTNHGWmM+RVWCxe0lX8XbTCbW0jZFQ2/zC/dp4xhFFkUZpp46Fj4L/iiiscu3qs0rA7OGnSpD7hs9IJ0+22Z1amMASYAG+//fZI/CuvvDKzGD/+8Y/77IL4kTD6Mf5t4cP34x7jwB9TQn//mbQY62xC9P24Z/Fl06ZNdQZPr9dbyKCbn1VX5ddeFmONh+XWQZpuUW6u6amjS6JTmt7EzgX6oulW6HXbtm1zkydPjo5M+Qtw3aQHhAR6oR+0bGQw2U+YMCFkEj+HRgSNZNiwYbE/iiEGgTmMENt54J01HvP3jYo8/oRhu49VXxrj7NmzLak+Bk7RssUZOReVibKZM4PJnlu9iv835MK28Y1Pefz9PIq6p41igCcdm6K+2f61I0G0I471JLlG6SSFr8o7jjTZLo1/Zavbd6effnrUhzds2BDtbPjjiB/Ovx88eHC8CxKmRzgmqbSVMD+dPPdJCxl+PFt8YfXNd91ab34ZBsq96qr8mm7EeCCMh+UTTs4hS7dIjlXuW3TDJUuWRKdUmBs4vsqxc5sPmTc//fTT+LgUi3EsymGM4ohfhh5Wbqm/Sr3b+0HLRkZ/wG03D1YeWfWlMfoNrt10FT8fAfHPx8lCMRDeeOONDY9N2YfMDLRJ30KRVp50LM8qXdkatm8X/KtNJCYrOwUYGFxtZcv8Gl2ZPNkFaXRsyo9vixRm8CR9nO2Hb/e+W+ut3XJ3Y3zVVfm1lodxL4+H5RPunhwwFvjGjaPnzA1/+MMfom80GKNx6Br2PRzPzBmcDODofbe7bu8HpRkZWJZsU5lj1W737t32GB158o+FsPrHgGGO+L57//33/cf4LJ69DP3tPdeRI0e6UaNGxQpJ2bL5eVMmymbOjnvZc1nXssuYVT9+uQYif7/8zdzb4Bgem7LJ9MQTT4wHWj46TnNp6aSF75b39B/7DoOPvbO+YwnLZbsg/sfjhGGVi+NS/phlRjKTWiPWYR6kxfnhcKfCwtl729Gw91x7td78MvbKveqq/JpMY6zxsHz2VcqBxSSOB/MNJs4Ub47N+nqjL7N/wqFTepgvTzv33dwPSjEykiZZFG0UfRROjkKFSjDPfDdx8MEHR99f+EaDKeacT7PjRmn+NvgkHYmgksuULWxEfH9hZTU/lBiUmbTz2haunWuZZRT/dmomX1zbHl22bFkcgR89oC3xLQbKbx6XlE6eeFUOwy/DMVZQNht4/V+ey5Kd9msfj//pT3+KgzMucVzqhRdeiN+1ehMa1WE6rK6NHz8+mihDP557sd6SytkL71RX5ddiEmONh+Vz75Yc9u3bF/0Uue1qmNzoiBgandLDTI6irt3aD0oxMjiWwK9D2VYVRgIWJ2fImeTtF4FsQscwwB8jAseHkfw6lZ2ns1+jGjduXKY/Fi5baqRHvjjOuKOY8FFn2bJFGX79D2U1WczapswoMygiZbmyy9iofsS//Vq1VRr7tTVL0TfMMaLTjktZ+LR0zL/brpSZX5bi+CNlwzHw4sKdiehlyj92bMrna8YHOyPhZJWHtZ+Vn1b4/2LwHH4j5sflvtfqLSxfLz2rrsqvzTTGA308LJ98dXJgUZYjsuiCOPQpjr2iX7EwjW7p72owZjPOovN1Sg8rml639oP9igZh6fGLL/z6C+eZcZy3thVYKp3VR1YUTVHiOAIrkziUgLlz50Zn8HhGIX/44YdjxSLLn3ywYvmlAdzEiROjIxZUEq5M2VBQ+AldftOfclImOgLHXHxZ8CvTlVlG8S+z5r5Km3ZDn2GgxPHMTp+1I342mmNDtDO+TUgzWsN0ypc8PQc+7ObPd5TRfuY1yZ+w9F++qfrHf/zH6NgS7c+cDbyXXHJJtGqV9utQFt6uHJuin/qOdPm/eRi3bFzCH7a89/P14yXd+2nZGEg4ysvZ4SxXpXrLknWg+6uuym8BIWOeu308LJ9a7+TAeIoOyDzAfIfzdUrTLW1+DHVG2ksn9LCia6Ab+8GgGoeHExxbUHIiIAIiIAIiIAIiIAIiIAIDjwC/zNiOK+W4VDsCKa4IiIAIiIAIiIAIiIAIiEB3E5CR0d31J+lFQAREQAREQAREQAREoHIEZGRUrkokkAiIgAiIgAiIgAiIgAh0NwEZGd1df5JeBERABERABERABERABCpHQEZG5apEAomACIiACIiACIiACIhAdxOQkdHd9SfpRUAEREAEREAEREAERKByBGRkVK5KJJAIiIAIiIAIiIAIiIAIdDcBGRndXX+SXgREQAREQAREQAREQAQqR0BGRuWqRAKJgAiIgAiIgAiIgAiIQHcTkJHR3fUn6UVABERABERABERABESgcgQG1Wq1WuWkkkAiIAIiIAIiIAIiIAIiIAJdS0A7GV1bdRJcBERABERABERABERABKpJQEZGNetFUomACIiACIiACIiACIhA1xKQkdG1VSfBRUAEREAEREAEREAERKCaBGRkVLNeJJUIiIAIiIAIiIAIiIAIdC0BGRldW3USXAREQAREQAREQAREQASqSUBGRjXrRVKJgAiIgAiIgAiIgAiIQNcSkJHRtVUnwUVABERABERABERABESgmgRkZFSzXiSVCIiACIiACIiACIiACHQtARkZXVt1ElwEREAEREAEREAEREAEqkmgECPjiSeecPfcc09dCffu3euuv/56N2bMmOgv9N+9e7ebOXNm7E8avlu3bl3sN23aNLdlyxbf22X5W2DLh/DmypbN8rErZTMOlBmZinTiX982QrZl8w/zS3q2dmjtoNn+YGnSjulXtOFGrgplbiSf+YV90fhw9fus39/9MNwbj5CxH87nTbjZs2f3GVMYYxhrLD2foZ8W95ZeVn1kpWEyW57Ghav5WV6+n+77j0BaHVMv1i7KGNf7r4QDJyf6Yy/1Jxs/k8YP2m3edllUOmW1pLRx1C+fP0ck6Yx+Gn68smRuJ92i6qOodNopi6u16ZYvX14bPXp0bcGCBXUp8Wzvvvjii9p1111XIywufN61a1ftvPPOq61duzby37x5c+3cc8+tccXxHn/C4bL8o0Bf/4MMyGdp87pM2fy8uQ9lhwEsYFCEE//6thEyLZt/mF/Ss7XvtPaf1R8sTcpCW85qP1Uos8mcdbWyI7PveD755JPrxoCscsN51qxZcRxLL+SfFI4xhfysjojLvY1hllZ4Rc5GcuVJIylvy79R2qEsei6eAPWb1OdoF37dUM/+c/GSKMV2CVBHSbpKu+l2Mr6Nn5SL8vmOtuvrTb5feF9UOmG6ZT2HY3qWThiyqHp/Lao+ikqnnXpseSfDVv0ee+wxd/bZZ9cZOvitWbMmsqLxGDJkiLvooovcyy+/HK3Abty40W3dutVNnz49ijds2LDI/6WXXoqeV6xY4aZOnerGjh0bPU+cONGNGjXKbdq0KZd/FMi5aCV0+/bt7thjj7VX0eplmbLFGTkXlRU+lJ0y4ijzZ5995rZt2+YHbfpe/JPbhg8SK74s/n4+WffWbq29N9sfbEV77ty57uKLL26YXVXK3FDIHJ7jx49348aNyxEyO4iNLzb+hDHoS7NmzXIzZsxw559/fuhd+jPj3LXXXuseeOCBeHcFmX73u9+5q6++Oho/SxdCGdQRaNTn8Fu7dm00rtOXcUWN63VC6KEQAo3mykIyqEAic+bMqRs/kkQyDrb7lrTanyedpLT7+91vfvObSCc866yzoqwb6YzdPCfmqY+q12vLRgY1u2jRIkfljhw5sq6N7dy50w0aNMgNHz48fs/9Bx98ECnXGBgYDYMHD479eWbg3rFjh8MwGD16dOzHQE4eGCE0mEb+FomJAAXzmmuusVfRtUzZ6jJyzu3bty8ypiibOcp84IEHug0bNtirlq/i/5UBa20jBFk2/zC/tOcpU6ZE/cQMTcLRB8w16g+0YxxK6OrVqx0GdyNXlTI3kjGPH4bZ97///XihIU+cVsLA9+abb44MDK6dckyWkydPdg8++GB0TIrrz372s9LL36nydkO+aX2Ofsy8R782x7xifdXe6VodAmlzZXUkbE+SU045JRrDGDfQkUKHIspCysKFC927777r3nrrrXi88cNnpROm24lnysJCsS3AZOmE3TwnZtVHN9Rry0YGq29HH310ahsLjQiMDF/JQjG0VSASwX/o0KFxer5izkvf6OA5y3/VqlXupJNOcgcddFCcpt2ULZvlw5Uy+caWGUx+mFbuxf8bamHb+ManPP5+Hs3emwHMDpf1gUb9gX7zwx/+MHc2ZbW53AK0EBAWtsLGlWcWE/wJ8KmnnnITJkyoC0dYzto2csab8cB4Ex7F8NJLL3Uff/xxvOsaprN48eI++ZEn53/zujxpINcdd9wRGZ833HBDlLSt0uXNR+GKI9BsnwtXUouTRCm1SyBrrmw3/arEv/zyy6Px4+mnn+4jEgxYpDLDmPGG8TDJNUonKXx/v0vra410wm6cE41ro/rohnrdzwrSS1esO45k/dM//VO0m9BLZeuGsoh/ei2h8KLYnnDCCfGAnx564Piw62gTIKW2FRr6sb3nWOb8+fPrDIWQ0J49e9xpp50WvnYLFiyoOwpFOAwZtqNxrAAmpY1/uzscedNAsZ03b57jWNySJUsalrNPAfWiYwT4kJhd+EcffbRjMihjEfDHj0mTJiUCsfnn9ddfj/zDo+68zJNOYuL98BL56WuMkwPF5amPKtdryzsZWRXMERC2qcyF28nhKiX+TPzm/OMkvHvvvffMK7qm+bPyuXTpUnfJJZekTtJly+YLSpkomznb2rPnsq5ll1H8m685GwgwMELFNas/NJNbp9pcMzJmhWWFhm8k7DutrPDmz4rV888/Hx0J4FgACj7fZNn3MBaOqyn/tlL061//2vfuyD27nnyL4u9+dkQQZZqLgG9goAzIiUAnCbAgw7gZHpti7uEXlTiSyeIKYyMLL2kuLZ208P313r5v5Ju90KXpJITr9jkxrT66oV5LMTKYIGu1Wp1yjaJ92GGHuUMOOSQ66hQqwTyjfI0YMSL6/sI3Kkwx53wa23wcLUnz54Pq//iP/4hWMznWQKfCaqdjcayiTNnCRs/3F2zh+Y0fw4sPv9NWGsI0Wnkus4zi30qNfLUyz6oR7TA0MKyN+Ea59YdmFZdOtbnWqGTHanQULju2i77Jgu8vfvGLuqNXGCNMujhbKeJYUzPHoPLkrzC9SYA5iZ8NZXFg2bJldUeBe7PEKlW3ELBFExZbzaGcMw7yLUbeH7dISsfS69SVRSf0RH9ezNJJemVOTKqPbqjXUowMViH5dSjOzuEYkDkOYWei7dei+G4ChzWGP0YEjsmfD3s4MoGzX6My67WRv51Rw1Lnb/369dFKJunTucqWLRL4639o/CiV5E0ZcZSZD78xtspyZZdR/JurOeoew4IPSZMG+Kz+0ExunWpzzciYJyx9nzGgXWMcHnwgyDjQaKeClSJW9jiqZONOHjkVZmASsLaUdMRuYBJRqatCwBZNwl1gf2GXxZSsI0dp6XSqnLbYnLTw1Egn6ZU5Ma0+Kl+vcxZtagAAIABJREFU7fz+rcX1/98Je+f/Pm/Sb1Pb7xzjl/Ybz+bn/16+pW+/X06YJH8LZ/kQ3lyZsiX9/rL9Pjey5v3dapM1z1X8v/r/VGDVCf5ZdeTXv7XpsC1YOzV/4iS5tPKFv9Hv51lGm0uSrZV3YV+08nP1+6zf3/0w3Fv/h2HS/5OBXBYfLmnhTBZLz2cY5mlMLd3Q3+ojTxo+N37vnTIgo1w1CFCHVp9IZP+vSVjnPPttthrSSwqfQNJc6ft3272NWUntjrLaOEW5eLY2S3t+8cUX47GzmXQ6xcjmyKSyIpM/FtsY7svqj8U+Fz9MVe6bqY+q1+sgoHbKMlW+IiACIiACIiACIiACIiACvUeglONSvYdJJRIBERABERABERABERABEchLQEZGXlIKJwIiIAIiIAIiIAIiIAIikIuAjIxcmBRIBERABERABERABERABEQgLwEZGXlJKZwIiIAIiIAIiIAIiIAIiEAuAjIycmFSIBEQAREQAREQAREQAREQgbwEZGTkJaVwIiACIiACIiACIiACIiACuQjIyMiFSYFEQAREQAREQAREQAREQATyEpCRkZeUwomACIiACIiACIiACIiACOQiICMjFyYFEgEREAEREAEREAEREAERyEtARkZeUgonAiIgAiIgAiIgAiIgAiKQi8B+aaH27duX5qX3IiACIiACIiACIiACIiACPUxg8ODBbZVOOxlt4VNkERABERABERABERABERCBkICMjJCInkVABERABERABERABERABNoiICOjLXyKLAIiIAIiIAIiIAIiIAIiEBKQkRES0bMIiIAIiIAIiIAIiIAIiEBbBGRktIVPkUVABERABERABERABERABEICMjJCInoWAREQAREQAREQAREQARFoi4CMjLbwKbIIiIAIiIAIiIAIiIAIiEBIQEZGSETPIiACIiACIiACIiACIiACbRGQkdEWPkUWAREQAREQAREQAREQAREICRRiZKxYscLdd999dWnv3bvX3XTTTe7II4+M/kL/PXv2uAsvvDD2Jw3fvfbaa7Hf9OnT3TvvvON7u0b+Yd7IQF7kiQv9i5atTlDnHGUzDr4cYbhWn8W/vm2EHMvmH+aX9By293baXJ42VIUyJ3EI34V90foJV/q4Ob+/+2G4Z5whnZCxH87nTbg5c+b0GVMYYxhrLD2foZ8W95Yecll4k9W/ZqVhMielYX6Wl5+u7vufgNWH6qr/2bebo98Pk+qv3fR7LT5jjo15eeabIsufNj5b/zO5wnr054gkndFvA/1dpmb52LwYlpF0KGde+YtKp1n5/fBtGxlU3G233eanGd0/9NBDbsSIEe7tt99269evdzt27IiUbTwp+N133+0uuOCCyP+VV15xy5cvj5UKJvuFCxe6lStXRv7z5893t956a2wkZPlv377dHXDAAVG+5M/f448/7oYOHVq6bCEIGgRlo4zIQZkpOwyKcOJf3zZCpmXzD/NLerZB09p7s/2BMtxyyy1xf8hqQ1UocxKHRu+WLl0a9Q/rrzxTZn9x4cwzz6zr0xb23nvvdUOGDImSp4/buGH+9L1XX301Hn+S5CCfK664wl111VXOT++yyy6rk8vSvOGGG5KSSXzXKA3kZTzYsGGDe+655+riv/DCC+7QQw91V155Zd17PXSGgOqqM9zbzZU50p+D0UvQT+SSCWBgoK8xTzHeZc03yam09tbmyi1bttQlYDrj8ccfH4/Hfj1m6YTdOCcC4JlnnukzL9SByflQVDo5s6sL1rKRQaViLdJ5mfx9h9+6devcOeecE71GAaChrlmzJlKu33zzTffhhx+6U089NfJn8MZ/9erV0fOTTz7ppkyZ4o444ojo+aijjoom282bN+fy37Vrl/v2t78dKx5RpK//KVs2Py86BnwoG2XEUebPP//cYQi148Q/uW34TMvk7+eTdW/t1tp7s/2BfnHGGWfE/eGYY45xW7duTWxDVSlzFpMs/3HjxrmxY8dmBcvlb+OLjT9hJPoSBgaMZ86cGXqX/sw4h3GzaNGi2KhCpt///vfRjosZUKULogwyCaiuMhFVKgDjIf3en4OnTZsWLTqg0MrVE4AJCzLwsnGnKJ2lPqe+Txg3J554YrSDMnz48LoApjPOnj07fs9Cjy32NNIZu3lOZIHKnxfiwns3pgvaDk/SLk6edLwkC71t2chAil/96lfRDgEWpe9Q8gcNGuT8hnLQQQfFihEGBit0+++/fxyNZxr3Rx99FFnRhx9+eOxHYycPlC0aDFZ2mj+RSP+///u/E7f7ypQtFvjrmy+//DKShbKZo8zssrzxxhv2quWr+LtoILS2EYIsm3+YX9rzcccdV7eTRjjaqLlG/YFB3x9MiUPbGTVqlBs5cqQlEV+rUuZYoBZvMMzGjx8fG1YtJpMZDb7skmJg2ISVGamEAKeffrqbNGmSW7x4cbRjy/WnP/1p6eUvoSg9n6TqqnuqGN2BnUl/8QA9ghVxW/jrntKULylMOPXBnGVu586dbvfu3fZY2nXChAnR7snFF1/cJ49GdZalE3bznIhBzNzEfEA5Q2cLZJz2YdeJ3SebR/zwWemE6Rb53LKRwYoOjSLNhUYEBsewYcPi4CiGZinzEiPE7/S+Yo6/b1Tw3Mj//fffdwceeGDddh9nsG3lomzZ4kI6F5WJspkzg8meW72K/zfkwrbxjU95/P08mr2nHdoOl/WBrP5AHmz5slrBygbt2eKG+dOPymhzYT5FPl9yySXxogBl5JnFBH+gZMt38uTJdeEIy3GIRs54T506tY4ZCw5w/OSTT+Jd1zCdRx55pE9+5Eld5HV50qAuMXYwOOfNmxcljTIrVz0Cqqvq1UkeiRgn6LssZvor4nniDuQw4S5BWSx+9KMf1Y3PYT7M8/63Itz7rpFO2I1zopWNtsq8EB6nxR89cNWqVbFRyNjEPJfkGqWTFL6od/sVlVCV0glXJJms2TK1M85VkrUXZRH/9FpF4UWxZSXNXy1Kj/GND+FZrbA0brzxxqbT+Ca1at3xDYbPw1Zo2Ca39xzLvPPOOxtORLCZMWNGn8LddddddauZhMOQYRsZx0pRUtr4h+25T+IZL/KmwURInfItysMPP9ywnBlZyrtkAqqrkgGXkDy7GfzZ2PL//t//005hBmcUeYwyxsdOO779ZZ5gPGbx6fbbb4+Mjl7/Zs0fazgqneRMJ9i4cWPkHX7CwMs86SSl3e67lncysjLG8mKbyly45RauUrKqCChzxPcduxO+y/L3w2LdsVJsrmzZLB+ulImymaNzUPayXdllFP/ma9AGAgyMUHHN6g9+bgwWpMEWcpLrVJtLkqXVd6zQsE2cVsa0dGHjf/iNgj9x4sT4+y8/nin/tsJThY9B2YHiWxT/qKkvs+6rQ0B1VZ26aEYSjply3LSII8vN5NttYX0Dg3G1046FIltwQqfjuxEMoE8//TQSrZFO0u1zIuVOOjZFufilKb5lgQeLkHBKc2nppIUv4n0pRgaDb61WcxgW5lC07Rw521qhEswzitPBBx8cGQS+UWGKOefKzGBI8zfo/nEGi0++ZcpmZbUr319YWe0dhhcffqdZpBaunWuZZRT/1mqG1bOf/OQn0UAQGhjWRnyj3PoDbYifscs6EmRSdarNWf5FXxsdhcuTF6tc8A1/0Y1J036Ygnt2EDjW5I8bedJXGBEQgeoSSNIHqittNSRDX2LOYeFryZIldcfYOyUh84Cv8/lyDB48uKHO2Ctzoi2GLVu2LC4+3y4yv/Ethv/dURwg4SYpnYRghb0qxchgFZJfh+IsH45Gyxl0OxNtvxbF8SUcAwH+GBE4Jn9+nQrFDGe/LMAvzmT5ozBgrJAe+eLsLBv5li1blOHX/5i1jSyUEUeZ+fA76aNdP24792WXsVH9iH/fmqPuOW/PLwglDQSN+kNSG0IRfvbZZ2Ml2c8xKXx/tDlfhiLu6fuMAe0a4/DgeBo/Edtop4IVHlaAwp/NLaIsSkMERKAzBJiPWOEN9QEWcezX/jojWXVztXEy6fhop6Smrti1sEUg0ynR9ajjRjpJr8yJlJPFsHB331+wh0/Sfynh11taOn6YIu9L+yaDFUTOzPGhFY6jCaZgUekoXUz+BsTfCkNJnjt3bny2GoWcM8rAwWX5s1LMVh8fieI4LsGZQvLFlSkbK858/2EdFOWFQY7trCRZopcl/FNmGcW/uQpDyeesJH/W3v22QLtu1B/CNmT9gXrAVaXNNUelPjTfR4SO87dWRvz48Ju/0BmPtCNGpMGvb5AHK2JpyoV9u8XP2TLe4Njd4C90NqbwPkku+34kTxo2roV56FkERKB9AugdrIKH+oD6XV+2LO6wgMVP7IdjbfjdXN/Y5b2hrtDh0BntuwM77kquWTpJOIfa+G06YXmSF5sy5aDcGFw4njG0TL9k3rHvC6nDtMXsMJ1ipaxPbVCNc00Jbt++fQlv9UoEREAEREAEREAEREAERKDXCXAcrR1XynGpdgRSXBEQAREQAREQAREQAREQge4mICOju+tP0ouACIiACIiACIiACIhA5QjIyKhclUggERABERABERABERABEehuAjIyurv+JL0IiIAIiIAIiIAIiIAIVI6AjIzKVYkEEgEREAEREAEREAEREIHuJiAjo7vrT9KLgAiIgAiIgAiIgAiIQOUIyMioXJVIIBEQAREQAREQAREQARHobgIyMrq7/iS9CIiACIiACIiACIiACFSOgIyMylWJBBIBERABERABERABERCB7iYgI6O760/Si4AIiIAIiIAIiIAIiEDlCAyq1Wq1ykklgURABERABERABERABERABLqWgHYyurbqJLgIiIAIiIAIiIAIiIAIVJOAjIxq1oukEgEREAEREAEREAEREIGuJSAjo2urToKLgAiIgAiIgAiIgAiIQDUJyMioZr1IKhEQAREQAREQAREQARHoWgIyMrq26iS4CIiACIiACIiACIiACFSTgIyMataLpBIBERABERABERABERCBriUgI6Nrq06Ci4AIiIAIiIAIiIAIiEA1CcjIqGa9SCoREAEREAEREAEREAER6FoCMjK6tuokuAiIgAiIgAiIgAiIgAhUk0AhRsYTTzzh7rnnnroS7t27111//fVuzJgx0V/ov3v3bjdz5szYnzR8t27duthv2rRpbsuWLb63y/InPcubK+HNlS2b5WNXXxbKTNmLdOJf3zZCtmXzD/NLeg7be97+ELZVv02Hafj5VqHMvjxp943K5/dZv7/7DLhnnCGdkLEfzmdFuNmzZ/cZUxhjGGssPZ+hnxb3lh5yWfikMmalYTInpWF+lldS+nrXfwSsPlRX5TG38SCJMX0t7/xZVDrllbQ7Umb8qsr4Y+OzjcXI5jt/jkjSGf2xOG878tPvz/ui2m9R6bRV9lqbbvny5bXRo0fXFixYUJcSz/buiy++qF133XU1wuLC5127dtXOO++82tq1ayP/zZs3184999waVxzv8SccLsuf8CeffHIcPwxfpmyRgN4/oewwgAUMinDiX982QqZl8w/zS3q29p3W/rP6Q5hm2L6T/P3+UnSbC/Nr59nKTpl8F5aR56x+A+dZs2bF/d7SC/knhWOMYMywOiIu9zaGWVrhNUuuPGkk5W35Z5U5lEfP5RJQXZXL18YDdAq/L5Irfc0f1xpJUlQ6jfLodT/4J+l2nSh30hjejM4Yth3KVuWxtaj2W1Q67dR5yzsZZlU+9thj7uyzz64zdPBbs2ZNtOqAx5AhQ9xFF13kXn755WjFcePGjW7r1q1u+vTpUbxhw4ZF/i+99FL0vGLFCjd16lQ3duzY6HnixIlu1KhRbtOmTZn+WG7IdO2118bxSeePf/xj9Fy2bJGAX/9jslB2yoijzJ999pnbtm2bH7Tpe/FPbhs+yDL5+/lk3Vu7tfbebH/w02c1dcGCBXXt2/evSpl9mVq5Hz9+vBs3blwrUfvEsfHFxp8wAH1p1qxZbsaMGe78888PvUt/ZnxivHrggQfi3RVk+t3vfueuvvrqaPwsXQhlkIuA6ioXprYDzZkzp64/JCVoc6CtbCetXudJJyntgfzOuCbpdp3isnPnTler1dykSZMiERjTTzjhhEiP5EUjnbGb58Q87dfqq6r9oGUjg4pdtGhRVLkjR46sa3s0iEGDBrnhw4fH77n/4IMPIuUaAwOjYfDgwbE/z2vXrnU7duxw27dvd6NHj479UMrIAyOEBtPIH+WdfKwxxol8fVOmbGFe+/btizoBZTNHmQ888EC3YcMGe9XyVfy/MmCtbYQgy+Yf5pf2PGXKlKifmKFJOPqAuUb9AaPCd6tWrYr6zllnneW/ju+rUuZYoBZvMMy+//3vxwsFLSaTGQ2+N998c2RgcO2Uoz4nT57sHnzwwejYF9ef/exnpZe/U+Xt5nxVV+XX3imnnBL1SfoBc37oUKxYGFi4cKF799133VtvvRX3Hz98Vjphunr+ikCabtEpPuiP6JSmNzFuoy+iW2XphN08J2a1327oBy0bGazoHH300altLjQiaCS+koViiPFgDv+hQ4faY9R44gfn6owO3vuKO8++UUI+GBOsbGDdhSscZcvmy02ZKJs5M5jsudWr+H9Dzq/7b95+dVcW/zCfZp4ZIFklYofL+kBWfyD9pHhJ+VaxzEly+u9gYSsxXHlmMcFXGJ566ik3YcKEunCEDc/m+ulyb9xOOumkmDfvGSMuvfRS9/HHH8e7rmHcxYsX98mPPDn/m9flSYN2cMcdd0TG5w033BAlnWZI5s1X4cohoLoqh2uY6uWXXx71h6effjr0iozv1atXOxZwcNQJ/TvJNUonKfxAf5elW3SCDzrdsmXLotMwjL+cnuFbEat/ZGqkE3bjnGicG7Vf6qrq/WA/K0gvXTdv3hwpcc8//3w0+KAQsOqxZMmSXipmZcsi/ulVg8KLYstWrz9Apsf4xseOXXGUqNccRpfPw1ZoOFpp75lY5s+fX2cohBz27NnjTjvttPB1dMTMPwpFOAwZtqNxrJgmpY1/uzscedNgIp03b56bO3duNFaZAdqnMHrRcQKqq/KrwGecdjLBxtPXX389Eig8us3LPOmUXxrl0A4Bmw/Yubr//vujhSPmUcbwXl+MydN+q9wPWt7JyGowHAFhm8ocq4aAMBeuUuLPxG/OP07Cu/fee8+8omsjf85ysypokzTfdHAUwbbaypbNF5QyUTZztrVnz2Vdyy6j+DdfczYQYGCEimtWfyA3jgsSl0GnketUm2skU7N+rNDwjYR9p5U3PitWLC5whII/FPxjjz02/v7LT8eUf1sp+vWvf+17d+SeXU/GL3/3syOCKNNMAqqrTERtB2CBgXEgPDbFWMovBDGvo2jS1/lWLc2lpZMWXu+rRQDdjbpGl8OZ4s3ilOmNjXSSbp8T09pvN/SDUowMBl8+0vGVa+4PO+wwd8ghh0TbWqESzDMK1IgRI6LvL3yjwhRzzqdhOHC0JM3fJmc/b7+7lCmbnw/3fH/BFp7f+DG8+PA7bWUmTKOV5zLLKP6t1IiLPuhllY0JMTQwrI34Rrn1BzMoGEw4g0ofaOQ61eYaydSOX6OjcHnSveaaa6I++Itf/KLu6BXGCEoKziYsjjU1cwwqT/4KIwIi0B4BWwRYunRpnBC7uoybfIvh71DGARJuktJJCKZXXUaAOa+RTtgrc2JS++2GflCKkcEqJL8OxRf/OIwELE47E22/FsVHrDgUKPxNgWLy59ep2CLD2a9R2TGRRv4oDKeffnrdygfx169fHyn2ZcsWCfz1PyjkKJWUjTLiKDMffmNsleXKLqP4N1dz1D2GBb8glDQhZvUHcsNoxnA3IzpNgk61uTR5Wn1P32cMaNcYhwe/0ET/b7RTwUoRK6EcVbJxp1XZFU8ERKA4ArYIEO5q+guVLA5w1LCRS0unURz5VYMA8wBjOLocjjmV8Rr9inptpJP0ypyY1n4r3w/a+f1bi+v/vxP2zv993qTfWrbfPcYv7Texzc//Py8sfX73uJG//cYzYcL4ZcqW9PvLvix5f+fbypnnKv5f/X8qsOoE/6w68uvf2ixXvy3k6Q9+eD/PKpbZl6/RfdgXfT70cXN+f/fDcG/9O+n/vwjjwyotnMli6aXVm193aXLZb7DnScNk5Mr/w8D/9YGMctUmoLoqvn6sD/p933JhnvPHQJ5tLKC/vfjii/FY0Ew6lr6ufQkk6RZ9Q/XPG/s/aqzOkc13/lhsY7jv74/Ffjvyw1Tlvpn2W/V+MAio1bBVJYUIiIAIiIAIiIAIiIAIiEAvECjluFQvgFEZREAEREAEREAEREAEREAEWiMgI6M1boolAiIgAiIgAiIgAiIgAiKQQkBGRgoYvRYBERABERABERABERABEWiNgIyM1rgplgiIgAiIgAiIgAiIgAiIQAoBGRkpYPRaBERABERABERABERABESgNQIyMlrjplgiIAIiIAIiIAIiIAIiIAIpBGRkpIDRaxEQAREQAREQAREQAREQgdYIyMhojZtiiYAIiIAIiIAIiIAIiIAIpBCQkZECRq9FQAREQAREQAREQAREQARaIyAjozVuiiUCIiACIiACIiACIiACIpBCYL+U927fvn1pXnovAiIgAiIgAiIgAiIgAiLQwwQGDx7cVum0k9EWPkUWAREQAREQAREQAREQAREICcjICInoWQREQAREQAREQAREQAREoC0CMjLawqfIIiACIiACIiACIiACIiACIQEZGSERPYuACIiACIiACIiACIiACLRFQEZGW/gUWQREQAREQAREQAREQAREICQgIyMkomcREAEREAEREAEREAEREIG2CMjIaAufIouACIiACIiACIiACIiACIQEZGSERPQsAiIgAiIgAiIgAiIgAiLQFgEZGW3hU2QREAEREAEREAEREAEREIGQQCFGxooVK9x9991Xl/bevXvdTTfd5I488sjoL/Tfs2ePu/DCC2N/0vDda6+9FvtNnz7dvfPOO763S/MP07X8uVoeZctWJ6hzUb4mB2VGxiKd+Ne3jZAtfMrkH+bXzLO1RfoK976jjedtL0Wl4+fv3yfJkpan9UHimLP+an3Q3tvV/K2ewj5PmnPmzOkzDhCfNI1fmLc9h+NPGM/ksDKZHFz9OkjybyZsKIelZ/KbHFyTmPv+us9HoCjGRaWTT2qFKpIA/c76qd+fi8yDtJLmYt7bOGRjYt5w4bhoZeBqaZE+90ljiJWP/Py4/j1sTL6kNMwvHLss7f66ogMyL5jsfvmRwa9jwoRziM+gzDZQBI+ixpqi0mmnTG0bGVTcbbfd1keGhx56yI0YMcK9/fbbbv369W7Hjh11Sv7dd9/tLrjggsj/lVdeccuXL487DY1p4cKFbuXKlZH//Pnz3a233hor5438hw4d6h5//PEoHnnzd9ddd7mJEye6U089NZKzTNlCEHQEykYZkYUyU3Yqvwgn/vVtI2RaNv8wv1afn3nmGffcc8+1Gj2OV1Q6cYJf34wbN87Rt3bu3Bl7ffnll+7zzz93n332mdu+fXv8njC1Ws0ddNBB0TvaOn3gsssui65MWr6jjv75n/857iP0E/r8jBkz4jHBD9/K/SOPPJKZFuMKeU6dOrVu/KDP/uQnP4kMnCFDhrh777039mdsoVw21jD2wMnSsjHQ/JE9aYIrq95aYdWrcYpiXFQ6vcq5auVC+UT/QA8pYw4uu7xnnnlmLLuNI0uXLnW33HJL4qJLmjz+OGXpcL3hhhuiMQu9ZMOGDX3moRdeeMEdeuih7sorr0xLuvT3jKdXXHGFu+qqq6I6pC59nZE5hTo2PYtyrVq1yh1xxBGRbN2iB4QgixprikonlC/Pc8tGBpWOpUhF0wl8h9+6devcOeecE71mYmaiXrNmTaRcv/nmm+7DDz+MlX4mZfxXr14dhX/yySfdlClT4gZy1FFHRY188+bNufxDWRYtWuRuvPHGePIvUzY/b1OuKBtlxGHooJj5SpkfJ++9+H81eIRtw+dXJn8/nyLumQBop9RrmrM6t5WccKWGeHnSSUu/0fv999/fHXDAAe6NN96Ig9Efx48f7370ox/VvSfMqFGj3MiRI6OwtHXa/Lnnnhs9Wz+2hOj3xx9/fNxHeH/cccdFZbExwcK2cqXvodhjyIQGjqVHW1m8eHE0ic2cOdNeR1eezzjjjLoy1gUIHvy0mMB9xzNl/e1vf+u/Lq3e6jIZ4A95+kYn+9gAr55Sik9/f/XVVyP9Aj0EV9QcXIrAORNl3ps0aVLuMSlPsijkKPH+PER/+P3vfx/tIhu/PGkVHYY5hfKefvrpUdKmU6J/Mt6ysMX8xDwVum7SA0LZe2HMatnIAMavfvWraNeA1Trf7dq1yw0aNMgNHz48fs2q5tatWyPlGgMDy9hvEDwzGHz00UeRRXr44YfHcWlQ5IHCQYPBYk3zjyN9fYPBgoKA0oIrU7Ywb1Z6razml6SsmV+zV/F3zm8bIb+y+Yf5tfM8bdq0qJ2i6NLGQ8dgz0oOK/ys0rCSw6Abhs9KJ0w37zOcWeF///334yj0R/Kj79oCAp6EISxxcEwQGCNjxoyJFOzQcKAvP/vss30MLBTyUEmPM2/y5sc//nEkZ6jcWzJmCNlup723K3KExof5hVfSYqw75phjQq/omcWXTZs21Rk8ZdVbogAD9GUW4073sQFaLaUWmwUGdhdt/iczFNLdu3eXmm+3Jo4Sb/MKBhrzy09/+tN4wbeT5UIHtDnF5EC/Yp5Hr9u2bZubPHlydJzKX4DrJj3AymXXXhizWjYysHonTJhgLPpcQyMCg2PYsGFxuLDBYITYaj+BiO8736jI408YJg1/18LSK1s2y4crZbJjIzybUuyHaeVe/L+hFraNb3zK4+/nUdT97NmzI6M06dgU9c32r02WpvQn5d0onaTwed+hNJuWDgVXAAAfQUlEQVRyjCH017/+NWrbHKWy3TlbBLD+y0TFahODJQ4Fmz5J3zRnOwUcVbJdmqTzv6Tlh7GwScc1LW27Dh48OFqNw5hh6zx0TFJpK2Fh2KznpIUMP44tvvhHz/Avq978vAf6fSPGVehjA71++qP84UmJovPkaKaNTXY98cQT3caNGwvLitMgHG1KW8hIyihJLuTzx0PmFY6mo7zPmzcvSsZ2D5LS7K93lNMfu5lnmFfMIe+nn34aH5diMY5FOZtnytLDLP8yr90+ZrVsZJQJtai0w2MbRaWrdPIREP98nCwUAyHH+vztavOzK4o2R3+YHNKU6zzpWHrNXH3l2I77cSSK/NipQLm2HQEMDxxHozA42N7HEZ6jVLQN37FTYDs0HL+0CdGfAMnHvtMirP3xXUQehxLJcYBGx6b8dPwPBeGd9FGkH77d+7LqrV25eil+Hsad7GO9xLqKZWHxghMTKG5lOY642NhkV74V4LvQVhzn6W2F3owWvsd4+OGHm9phSJIL+WzhymSzPoKCzo9thLsHFq4/r4zdGA6XXHJJNPex2MRuBbLiWKiy7+F4pkycYMGg7HZn9VFVvSCLb2lGhm1jmQDhFiVHnvxjISgoDO7miO87/5gG77P8SZsjHP6xDUuvbNksH66UibKZs5Veey7rWnYZxb+cmrPBMTwGZYoPK2J848Pk0Ei5TkunHakZ7MyYwEjAcLAJiJ0KjkHR1m1HwFab/EmSyZJnVqH8/m5ykZ59WE357Myt+bd7ZVUOoyc8NsVuI7sxbK2bY+IyJaERawtvV9Liw/dwp8L87b0Zbfaeaxn15qev+3TGVehjqp/yCJiBwdhqyml5uRWXsv/htxkrKNAo3mU5xrCxY8fWHXkvK6+86TI22njMrj4y2lyTlIZ/wqFTeliSXK28S5sXumHMKsXISJpkUT7sY1Am+VAJ5pkPIg8++ODo+wvfqDDFHEUGJYSjVmn+VoFp56LLlM3ytivfX1hZ7R1KDMpMM9ucFjfvtcwyin/eWmg9nG2PLlu2LE7EdgT4FgPlN49LSidPvEZh6IMc58KAp22bo81xfAo/M+ytD4a7Dzx/8skn0S6HDZL+joWlaX3HV/zNr9Ur7ZfVObbe//SnP8XJsMPChMUvqbTr0nZrLF1W1zDW0hSdMurN8tb1KwJJjKvSx1RHxRJAf2AXkoXNJUuWpPa7YnNtnBpjW7jQSgwWIPxf5gtTYczgV6AYv9hpHciORS10QRz1G/JAR8TQ6JQeVnTddOuYVYqRgYXNr0PZVpWtaJryYb8IZBM6ikajc9v2a1R2BCM81x36U7kYNeHH57wvWza/YaHQsOrsr9pSZpQZFJGyXNllFP+yau6rdJlIODYVfiDtG+Yo5WnHpUy6tHTMv5UrxgQf2GEoW38kHdoz7/785z/HBnTacTnaJytxlA8Z6SPhzzHamOH/Mlsr8ibFIX+OTfl8zfhgSzqcrPKw9vPx0wq/LbHVVCaMNFdGvaXlNVDfpzGuQh8bqHVSVrn5yXrcnXfeGe+8lpVX3nQZO2lr4fd36Ey2GJuWlo1fjP9JizNp8br5PUe3+ADdvrGg3Bha6CKMt+iWvp6FP8fi+CGPTulhRfPu1jFrv6JBWHr8pvLtt98enZ/jHecBbQWWSufjIlYUTVHiOAJbQjg60dy5c6OPPHlGgeH8IZDz+BOGDsxqgf8LVlFk56Lfey5LNhQUVnltQKNMKEocc8FxLpPtWhiU6cT/qwmlU/zbrVvkps8wUOJ4ZqfP2hFb6LQj2hk7BmlGa5hOu3KRz4EHHhitIFl/JE0b6Ol3HAOyhQPaflJbZ0cEw4JJgnGBvso5W9/xW/DIX4bj2BT91HeMO+yyMDbYuIQ/ZeY9/nmdnxbnqM1Rp5wdznJF11tWfgPRP2TMcxX62ECsi7LKjFKKMsoYyTFN35U5vvj5JN0zdrKrEo41jA8cF81yjJms1Nu3GYSnfGEZmSeYI3B858Zf6Ewn8cfzMEynn0OdEHmoPxuTTbe0+THUGenbndDDiubWjWPWoBp7cwlu3759CW/1SgREQAREQAREQAREQAREoNcJ8MuM7bhSjku1I5DiioAIiIAIiIAIiIAIiIAIdDcBGRndXX+SXgREQAREQAREQAREQAQqR0BGRuWqRAKJgAiIgAiIgAiIgAiIQHcTkJHR3fUn6UVABERABERABERABESgcgRkZFSuSiSQCIiACIiACIiACIiACHQ3ARkZ3V1/kl4EREAEREAEREAEREAEKkdARkblqkQCiYAIiIAIiIAIiIAIiEB3E5CR0d31J+lFQAREQAREQAREQAREoHIEZGRUrkokkAiIgAiIgAiIgAiIgAh0NwEZGd1df5JeBERABERABERABERABCpHYFCtVqtVTioJJAIiIAIiIAIiIAIiIAIi0LUEtJPRtVUnwUVABERABERABERABESgmgRkZFSzXiSVCIiACIiACIiACIiACHQtARkZXVt1ElwEREAEREAEREAEREAEqklARkY160VSiYAIiIAIiIAIiIAIiEDXEpCR0bVVJ8FFQAREQAREQAREQAREoJoEZGRUs14klQiIgAiIgAiIgAiIgAh0LQEZGV1bdRJcBERABERABERABERABKpJQEZGNetFUomACIiACIiACIiACIhA1xKQkdG1VSfBRUAEREAEREAEREAERKCaBAoxMp544gl3zz331JVw79697vrrr3djxoyJ/kL/3bt3u5kzZ8b+pOG7devWxX7Tpk1zW7Zs8b1dlj/5Wd7kQ37mypbN8rErZUuTxcK0cxX/+rYRsiybf5hf0nPY3sP+YHEIN3v27IbtPWzPFte/VqHMvjx578O+af3GrlZ2v3zmxzUcK/xxwg/HPeMT+TG2EI+wSS7NP0w7zJu0kDPpvbUH0rD0Q/nsOa2tJMmqd+URsDqzduPnZH6qK59K9e7pj6qj/PXSCV42ByT1M8ZLmwOySlFUOln5lOFflOxFpdNWGWttuuXLl9dGjx5dW7BgQV1KPNu7L774onbdddfVCIsLn3ft2lU777zzamvXro38N2/eXDv33HNrXHG8x59wuCx/8vHD80z+5IsrU7YoA++fUPZQFi9oS7ekJ/7ftI0QYtn8w/ySnq19U1e4sP1bHAt38sknx20fP8rgv8tqQ1Uos5Wp3StltXHET6vRe7/vw8Lv+34adm/jyc9//vM67vhbndDHSMscMvl1wnvS4Z3VM++4J24og6Xrp0l4axvhe8tX184SSKpjJKKewzrurKTKPSRgfTFpPAnD6vmbsau/edkYyLjpj6XUCeOiP743qqei0mmUR1l+RcleVDrtlLPlnQxbfXvsscfc2WefXWfo4LdmzZrI4sRjyJAh7qKLLnIvv/xytHK4ceNGt3XrVjd9+vQo3rBhwyL/l156KXpesWKFmzp1qhs7dmz0PHHiRDdq1Ci3adOmXP7vvfeeO+GEExzp4iZNmuQ+++wzt2/fvmjVsEzZogy//gcrEj6U3WShzMiybds2P2jT9+Kf3DZ8kGXy9/PJurd2a+097A/EZ3Vt8uTJbsKECe473/lOXZL0ixkzZsT9gfb8wQcfJLahqpS5rgD9+GCMjXkzWZ9yyiluw4YNdVFIh7Hn2GOPjd+zmrZ27Vr31FNPxXWCJ+PVkiVL3O9+97u6nSjGR8a7p59+Ok5DN91JgDq+9tpr3QMPPBDXMWMxdX711VdHc113lqx3pW40V/ZuqVsvWVV4zZkzp66fJZXIZLVd36Rd4zzpJKVdhXd5ZK86g5aNDCpg0aJFDoNg5MiRdfWxc+dON2jQIDd8+PD4PfemGDHhMnEPHjw49ueZiXvHjh1u+/btbvTo0bEfShl5oGyhRDXyJxJxSYstbByKw4EHHhjlV6ZsscBf32DUWFnNjzIjS6jMmH8zV/H/yoC1thGyK5t/mF/a85QpU6J+YoYm4WgXvjvqqKPcW2+95S655BL/dXR/8803O/7M0XYOO+wwd8ghh9ir+FqVMscCddHND37wA8cCBWOMOcac0047zR6jK+/8RQzfEyWUBRK/f9M+582blzlh+unovroEzjrrrGhB4MEHH4zmGK4/+9nP6gzO6ko/MCVLmysHJo3sUleBF4s+LK7Rv/wx2aRHuZ41a5ZbuHChe/fdd6P5k4W6MHxWOpZeFa9ZsncDg5aNDCbTo48+OrVeQiMCI8NXsph4MR7M4T906FB7jIyQ+OFrw8F/Jn3f+UbJ+eefH03qNDgsXBSH+++/P86vbNl8uSiTb2yZweSHaeVe/L+h5tf9N2+/uiuLf5hPM88Yv7bDZX3gjDPOiNtnWlr2DQCrqI1WTatY5rQyFf1+1apVUZLjx4+Pk2bHgR0iW+2yK+eNfUc//fa3vx3vEFFPLGh873vfi4MlLXLEnl/f0B4Zc3yHodlowvTD6r7aBOizd9xxR7RQcMMNN0TCYnjIVZNA1lxZTak7J1WVeF1++eWpu8DIuXr1asfYiqNfnnTSSYngGqWTGKFCLxvJ3g0MWjYyKlQHfUTh6AlKHCvDWLhM+nk/FuqTmF40TUD805GhuF566aXRSrgNjumh630IT3tGaWZnA6NjILvFixf3MRzo948++mjdggbHlWwsgJ/9sRgROhYmbBeCo1Ishhx00EFhsJaeG00WLSWoSB0jwIIZu1OsJDYy+DsmoDIWgR4gYP3MP54YFos5Ff2OxSP6ZJLLk05SvCq8yyN7lRmUZmRwHISjG+Y4pgQIc6wQ+ltg+O/Zs8e8+xwnCVcGw+Mm5k8eHJXiOwhbJWaVid0LW+UsW7a4EM5FZaJs5mwl1J7LupZdRvFvvuZom2Zg+Mefmk2JQYfjOhzbSXL0o060uSRZynzHeVUzGJ5//vno+Jj//VMrebMDwrdj1BV82a72HWMKhoeNN76f3eOXtLvmTxatfDNi6etaDQLsfI0bN65up7oakkkKEegdAmm7wIzRGBcsDDHuMxcsWLAgteBp6aRGqJBHmuzdwKAUI4PBt1ar1Sk6KD12jhyFP1SCeUZxGjFiRJ9J3BRzJvykSd73z2oXZcoW5s33F1ZW88Pw4sNvPt4ty5VZRvFvrdZY8WRFncGwGQODts1P+YVHe9Kk6FSbS5Onv96zbczZXFay2tnhwRDAiODHIVgI8Y9dWVkYh/xvvuw9V+qZuGn92yaLX/7yl+7jjz/2o+peBERABEQggYDtAi9dujT2tR/lYJc6aVc6DujdJKXjeVf6Nkn2bmBQipHBhM/Hj3wUjkNR4hgD5+VQUu3XomxnAWsMf1s1xDplombCxtmvUdmE38jfVnlJj3xx/KoLRgy/PFO2bFGGX/9DWVEqkYUy4igzH34nfbTrx23nvuwyin9ztUPdY1jwqzR5B0PLIakNoUSvXLky/vU2C8s1KXx/tDlfhk7do8CzuzF37tx47GhFFsYhjsBgbDCehI58WBDBaLQxijDc8yFi1kfATBb8MEa7vzAXyqVnERABEehFArYLHO7e+4vVzItpx6WMSVo65l/la5rslWfQzu/fWlx+Rzn8LWX/93mT/h8H+514/NJ+D9n8wt+jJ19+L7mRP/Kk+ZcpW9LvpdvvcyNP3t94NrZ5ruL/1f+nAqtO8M+qI7/+rU2mtQX7Pxu4+s5PI+wPVSyzL3s795QtHFtIL+299W3rZ/444bPn3jiGzG1ssv+rIny28oRpW3rm30hOi2t5WByTP3xv/rpWhwDtZtasWfH/31QdySRJGoGkuTItrN7X/59i/cWj0RhI/dnYjjw827jO/1Pz4osvxuN6M+n0V9ny5tOM7FVnMIhCV9l6k2wiIAIiIAIiIAIiIAIiIALdRaCU41LdhUDSioAIiIAIiIAIiIAIiIAIFElARkaRNJWWCIiACIiACIiACIiACIiAk5GhRiACIiACIiACIiACIiACIlAoARkZheJUYiIgAiIgAiIgAiIgAiIgAjIy1AZEQAREQAREQAREQAREQAQKJSAjo1CcSkwEREAEREAEREAEREAEREBGhtqACIiACIiACIiACIiACIhAoQRkZBSKU4mJgAiIgAiIgAiIgAiIgAjIyFAbEAEREAEREAEREAEREAERKJSAjIxCcSoxERABERABERABERABERCB/dIQ7Nu3L81L70VABERABERABERABERABHqYwODBg9sqnXYy2sKnyCIgAiIgAiIgAiIgAiIgAiEBGRkhET2LgAiIgAiIgAiIgAiIgAi0RUBGRlv4FFkEREAEREAEREAEREAERCAkICMjJKJnERABERABERABERABERCBtgjIyGgLnyKLgAiIgAiIgAiIgAiIgAiEBGRkhET0LAIiIAIiIAIiIAIiIAIi0BYBGRlt4VNkERABERABERABERABERCBkICMjJCInkVABERABERABERABERABNoiICOjLXyKLAIiIAIiIAIiIAIiIAIiEBIoxMhYsWKFu+++++rS3rt3r7vp/7d3LqE6fW8cX6f+haLcBihSLgmRhIiJlJCUhDJQUi4zl18SGYgMMDBxKSUDhUwkTGSiCEkkA5cSuQxcM2F0/n3Wz7N/611n7/d29j7v3sd31bH3u9fe6/JZaz3reZ619vbPP27q1Kn+L47//v27W79+fRJPGmF4+PBhErdkyRL3+vXrMNo1iic/y5tyUB4LRZfN8rEjdbOyUGfqnmcQ/9q+EbMtmn+cX9rvuL/H48Ge4b6tW7f26O9hf6YvpY0JS4NjGeoclqfZ83hs2rixo42fsH4Wl8YllBPhfZybXEC2wJN700JWfJx2WptQzrTr1h9Iw9KPy2e/s/pKWll1rTgC1mbWb8KcLE5tFVLReVUJhPONydy+qkvWHBjLSWRrGEJ5nCZzwzmjr+sUlrOZc5sH02QN9Wy2/Hml00yZs+7ptZFBw+3fv79H+qdOnXKjR492z58/d48ePXIfP370ig83UvHDhw+7tWvX+vi7d++6y5cvJ5M8nenYsWPu2rVrPv7IkSNu3759iXLeKJ4B8uDBA0e65E8+Bw4cSAyNIssWg6BDULewLNQdBnkE8a/tGzHTovnH+aX9NqFp/T0eD/aM3ffq1Su75I9cZ/xYH6JP37p1y02YMKHmPvtRhjpbWVo9Dho0yB09etSPW+p56NAht3nz5uT3xYsX3dChQ32y4XXu5W/79u01soIbV6xY4WWQ3WNH8iE/wogRI9zZs2d7GHewR/Z8+PDB32f/IGP27t2byCjSPHPmjNuyZUsi5+xenj19+nTmmKcdaU/SoG9Q3vPnzyd13rlzpyWlYwcJ0O+Q3Y8fP3Y3b96sKcnt27fd2LFj3bZt22qu64cIVI0Aso35BlmETGLeylNnqcej3hyIHEa+U6ZWdcaqzonXr1/vIWvq8cuKyyudrPTrXW/byDCrEgWaSTEMxN2/f9+tWrXKX2Yip6Peu3fPT7TPnj1z7969c4sXL/bxCG/i79y5439fvXrVzZs3L1Gipk+f7gX4y5cvG8bTSTEwdu3alSgjPE8g36LL5jP68w+GBHyomylG1Pnnz589lJbwuWbOxf9fBTvuGyG7IvmH+TQ6t35r/T0eDzyPYF+wYIFf8ULhDcOXL1/ckCFD3IABA8LLqedlqXNq4frgojE25q1kuXDhQvfkyZOaR0gH5XHGjBnJdSYsZMyVK1cSGUUkxgKGxqVLl2qMFeQj8i5WTJMEdVIZArQxis7JkyeTNkYW0+asQJrRWpkK9YOC4mg7ePBgzc4JrllAJuIRtpVBjmG83aej845cZBs6i/XlvHSWRnwbzYHd3d1u5syZPhn0qblz53q5yoV6OmOV50QcaaGsSWNouqD177RVnGbSSUs7j2ttGxlkfuLECYdnkRWLMHz9+tV1dXV576BdHz58uHv79q1XrplwmbhDpYnfdO5Pnz55K3r8+PH2qO/s5IERQofBys6K5yE6IPnFgXyLLFuc3+/fv/0goG4WqDMKY6zMWHwrR/F3NX0jZlc0/zi/rN9z5szx48QMTe6jL4Zh2rRp3nO0YcOG8LI/p8++f//ezZ4920+UaULEHipLna08VTpOmTLFvXnzpmbFAZkD7zBwjQkubE+LRwnFQRKOb2QXTo9Gk4WloWO5CSxbtszNmjXLr07h1GKVat26dTUGZ7lr0P9Khx6CYoyXm1VAG2voC+xisF0VxLM6avH9j0TvaoRMgyVzlgWcXN++fbOfhR3rzYE43tApTa6aMxndqpFOWOU5cdGiRW758uWZK+EYGKyes9uHvs3qk8kmuFholI7dV8SxbSODyZROkRViI4JOMmzYsOR2Br1ZylzEKAgn7VAxJz40KvidFU8akydPrmkUVjBYLrJQdNksH46UJzR4qDN1720Q//8Ixn3jv5ji+Id5tHqOgLQVLhsDS5curRkPYZoYJD9+/Ei2SyFQECwImLRQVJ9Ly6ts19i2Qpg0aVJSNMa+GWjm7UnzZjJOBw8enKwy0k44NMK00ia0JKM/J/RHjJUwMGnXmyzCe3VebgKMWbZuMC737NnjC4vhodA5AqwW2o4FxuvIkSO9Q5G2YltkuOUQb3i8Wty5kpc/53iVoKgS15sDmdPOnTvnd8Mgu9esWeO3cIXGUJZOSHmrPCdu2rTJy5q0lXD0QLbaGgf6+/z581ObqF46qQ/kdLFtIyOn/AtJxvbFmmKB55HlIoW+ISD+2ZxRXNlWgSfcBEP23f/GrF69umYlxBRWhP/fHHiHIjQaOMd4w7PMpGIBBcT2F+PtsT+4xgEvkHnL2CqFQyB0EsT3t/K7U0K+lTLq3uYI0L9YncLQ1zap5ph1+i624yAjVq5c6fDOKzQmADN2mCC7OhkYZ7SbrVaxVRVD/2/Y9maypt7qG3oFL4PTv9PekabtmkmniDYuzMjAy8MylYV4yQ0PYbicw5YQQFmIt5PEnsF68ea9MGUCpZf8zNItumxWB47UibpZME+o/S7qWHQdxb/1lgsNjNCz1npKPVf2wjQ61efCMvTFefjiNx+JGDNmTM37T+2UAS8o747BEOcEy8xhQLZgeMTyKLyHuLTVtVDIt/POSJiHzjtPAONz4sSJ8op3vinqlsCMC3QAnA3ICq1k1EXmI83AiJ02jZ/M/w4cPziAbLXKZClOJVb5CfV0kqrPieZYjD8gQr0wLnif0wwwtgNmhax0su7P43ohRgbCl5d0Qm8Biva4ceO8IoCyHyvB/Ma7O2rUqB6TuCnmTPhpk3wYnwaFr7vwPgjlKrJscd68f2F1tTgML178theY7HqexyLrKP7ttRSeGJZ4EQStGBj0bV5ajD02WYpsp/pce1Tye4plY7aR4cXhxex2A5MXRgQfroi3SlmayCG8ewj4ONDOPJs1vk3I8/W8z58/x4/rtwiIQI4EGKMvXrzwhkX4Nbkcs+h3Sdmcg/xjixIyscxh4MCBdXXG/jIn2kr4hQsXkuawD5NgPKetzCc3Bidp6QTRuZ8WYmQw4fPyo23noNNicbJXDCXVvghk+6cRBMSb15CvUjFRM2ET7GtUtje6UTwWOH8E8sb6s69VFV02n+mff6grSiV1M4WEOvPiN17XokLRdRT/1lqOtrfP7zUrCCwH+hDjJuxD9nUj+5KS3cuxU30uLEOnzlHgWd3g07ImO9opC3Jox44dfuJKm2DJB4cIRmOYD+e8K9PoJWCEPC8xxp/FbaesekYERKA+AeSv7SYwWRw6QOs//ffF8ol/Al/sYj4pQ8Bpw6ej0QUJtOPx48eTlet6Okl/mRNt9YYV9jCEDnt0g6ztUvZMVjoWn/fxf3knaOmxRYmvOrBHjMDkbwoWjY7SxV5WA8ISD5M3ASV59+7dfg8ev1HI+TSkTfiN4uO82ZNt7wmQXhyfZ9nwOLPdwgYodcLQYDmLwKcwMXqKHrxF1lH8fVM2/Q+G5dOnT/2f9fewL1i/zkrQxo31oXg8lKXPZZW/L6/T7/HAIV8YZwRe/A4//GDlMY722444Mxin5vSw6+GR1Sji2SdswdJjfNQLJuQ3btxY7zbFiYAI9JJAPNYYo6x4oqCyBafRWO1l9pV7HEfJjRs3vAMklpl8tct0tL6uGO1k/w+ROWdCva2RTtIpPSxvTtSDerOSTuA3Di/TDdB1mffQP+FEf08LcTpp9+R1raubfU0p4devXylXdUkEREAEREAEREAEREAERKC/E2A7Wm9CIdulelMgPSsCIiACIiACIiACIiACIlBtAjIyqt1+Kr0IiIAIiIAIiIAIiIAIlI6AjIzSNYkKJAIiIAIiIAIiIAIiIALVJiAjo9rtp9KLgAiIgAiIgAiIgAiIQOkIyMgoXZOoQCIgAiIgAiIgAiIgAiJQbQIyMqrdfiq9CIiACIiACIiACIiACJSOgIyM0jWJCiQCIiACIiACIiACIiAC1SYgI6Pa7afSi4AIiIAIiIAIiIAIiEDpCMjIKF2TqEAiIAIiIAIiIAIiIAIiUG0CMjKq3X4qvQiIgAiIgAiIgAiIgAiUjkBXd3d3d+lKpQKJgAiIgAiIgAiIgAiIgAhUloBWMirbdCq4CIiACIiACIiACIiACJSTgIyMcraLSiUCIiACIiACIiACIiAClSUgI6OyTaeCi4AIiIAIiIAIiIAIiEA5CcjIKGe7qFQiIAIiIAIiIAIiIAIiUFkCMjIq23QquAiIgAiIgAiIgAiIgAiUk8D/AZ2ENLI24649AAAAAElFTkSuQmCC)"
      ]
    },
    {
      "cell_type": "code",
      "metadata": {
        "colab": {
          "base_uri": "https://localhost:8080/",
          "height": 325
        },
        "id": "Ib09Eo4YpZJ6",
        "outputId": "0aea840d-26fc-4122-8b57-4a5ab89cc91b"
      },
      "source": [
        "url = 'https://raw.githubusercontent.com/weerinphas/CMU/main/property_data.csv'\n",
        "df = pd.read_csv(url)\n",
        "df"
      ],
      "execution_count": 53,
      "outputs": [
        {
          "output_type": "execute_result",
          "data": {
            "text/html": [
              "<div>\n",
              "<style scoped>\n",
              "    .dataframe tbody tr th:only-of-type {\n",
              "        vertical-align: middle;\n",
              "    }\n",
              "\n",
              "    .dataframe tbody tr th {\n",
              "        vertical-align: top;\n",
              "    }\n",
              "\n",
              "    .dataframe thead th {\n",
              "        text-align: right;\n",
              "    }\n",
              "</style>\n",
              "<table border=\"1\" class=\"dataframe\">\n",
              "  <thead>\n",
              "    <tr style=\"text-align: right;\">\n",
              "      <th></th>\n",
              "      <th>PID</th>\n",
              "      <th>ST_NUM</th>\n",
              "      <th>ST_NAME</th>\n",
              "      <th>OWN_OCCUPIED</th>\n",
              "      <th>NUM_BEDROOMS</th>\n",
              "      <th>NUM_BATH</th>\n",
              "      <th>SQ_FT</th>\n",
              "      <th>PRICE</th>\n",
              "    </tr>\n",
              "  </thead>\n",
              "  <tbody>\n",
              "    <tr>\n",
              "      <th>0</th>\n",
              "      <td>100001000.0</td>\n",
              "      <td>104.0</td>\n",
              "      <td>PUTNAM</td>\n",
              "      <td>Y</td>\n",
              "      <td>3</td>\n",
              "      <td>1</td>\n",
              "      <td>1000</td>\n",
              "      <td>20000.0</td>\n",
              "    </tr>\n",
              "    <tr>\n",
              "      <th>1</th>\n",
              "      <td>100002000.0</td>\n",
              "      <td>197.0</td>\n",
              "      <td>LEXINGTON</td>\n",
              "      <td>N</td>\n",
              "      <td>3</td>\n",
              "      <td>1.5</td>\n",
              "      <td>--</td>\n",
              "      <td>NaN</td>\n",
              "    </tr>\n",
              "    <tr>\n",
              "      <th>2</th>\n",
              "      <td>100003000.0</td>\n",
              "      <td>NaN</td>\n",
              "      <td>LEXINGTON</td>\n",
              "      <td>N</td>\n",
              "      <td>NaN</td>\n",
              "      <td>1</td>\n",
              "      <td>850</td>\n",
              "      <td>NaN</td>\n",
              "    </tr>\n",
              "    <tr>\n",
              "      <th>3</th>\n",
              "      <td>100004000.0</td>\n",
              "      <td>201.0</td>\n",
              "      <td>BERKELEY</td>\n",
              "      <td>12</td>\n",
              "      <td>1</td>\n",
              "      <td>NaN</td>\n",
              "      <td>700</td>\n",
              "      <td>NaN</td>\n",
              "    </tr>\n",
              "    <tr>\n",
              "      <th>4</th>\n",
              "      <td>NaN</td>\n",
              "      <td>203.0</td>\n",
              "      <td>BERKELEY</td>\n",
              "      <td>Y</td>\n",
              "      <td>3</td>\n",
              "      <td>2</td>\n",
              "      <td>1600</td>\n",
              "      <td>NaN</td>\n",
              "    </tr>\n",
              "    <tr>\n",
              "      <th>5</th>\n",
              "      <td>100006000.0</td>\n",
              "      <td>207.0</td>\n",
              "      <td>BERKELEY</td>\n",
              "      <td>Y</td>\n",
              "      <td>NaN</td>\n",
              "      <td>1</td>\n",
              "      <td>800</td>\n",
              "      <td>NaN</td>\n",
              "    </tr>\n",
              "    <tr>\n",
              "      <th>6</th>\n",
              "      <td>100007000.0</td>\n",
              "      <td>NaN</td>\n",
              "      <td>WASHINGTON</td>\n",
              "      <td>NaN</td>\n",
              "      <td>2</td>\n",
              "      <td>HURLEY</td>\n",
              "      <td>950</td>\n",
              "      <td>NaN</td>\n",
              "    </tr>\n",
              "    <tr>\n",
              "      <th>7</th>\n",
              "      <td>100008000.0</td>\n",
              "      <td>213.0</td>\n",
              "      <td>TREMONT</td>\n",
              "      <td>Y</td>\n",
              "      <td>1</td>\n",
              "      <td>1</td>\n",
              "      <td>NaN</td>\n",
              "      <td>NaN</td>\n",
              "    </tr>\n",
              "    <tr>\n",
              "      <th>8</th>\n",
              "      <td>100009000.0</td>\n",
              "      <td>215.0</td>\n",
              "      <td>TREMONT</td>\n",
              "      <td>Y</td>\n",
              "      <td>na</td>\n",
              "      <td>2</td>\n",
              "      <td>1800</td>\n",
              "      <td>NaN</td>\n",
              "    </tr>\n",
              "  </tbody>\n",
              "</table>\n",
              "</div>"
            ],
            "text/plain": [
              "           PID  ST_NUM     ST_NAME  ... NUM_BATH SQ_FT    PRICE\n",
              "0  100001000.0   104.0      PUTNAM  ...        1  1000  20000.0\n",
              "1  100002000.0   197.0   LEXINGTON  ...      1.5    --      NaN\n",
              "2  100003000.0     NaN   LEXINGTON  ...        1   850      NaN\n",
              "3  100004000.0   201.0    BERKELEY  ...      NaN   700      NaN\n",
              "4          NaN   203.0    BERKELEY  ...        2  1600      NaN\n",
              "5  100006000.0   207.0    BERKELEY  ...        1   800      NaN\n",
              "6  100007000.0     NaN  WASHINGTON  ...   HURLEY   950      NaN\n",
              "7  100008000.0   213.0     TREMONT  ...        1   NaN      NaN\n",
              "8  100009000.0   215.0     TREMONT  ...        2  1800      NaN\n",
              "\n",
              "[9 rows x 8 columns]"
            ]
          },
          "metadata": {},
          "execution_count": 53
        }
      ]
    },
    {
      "cell_type": "code",
      "metadata": {
        "colab": {
          "base_uri": "https://localhost:8080/",
          "height": 325
        },
        "id": "AkMNuiuopuz-",
        "outputId": "3e951357-7f2a-49a1-9621-632c6f0a50cb"
      },
      "source": [
        "# fill PID\n",
        "df['PID'].fillna(100005000, inplace=True)\n",
        "df"
      ],
      "execution_count": 54,
      "outputs": [
        {
          "output_type": "execute_result",
          "data": {
            "text/html": [
              "<div>\n",
              "<style scoped>\n",
              "    .dataframe tbody tr th:only-of-type {\n",
              "        vertical-align: middle;\n",
              "    }\n",
              "\n",
              "    .dataframe tbody tr th {\n",
              "        vertical-align: top;\n",
              "    }\n",
              "\n",
              "    .dataframe thead th {\n",
              "        text-align: right;\n",
              "    }\n",
              "</style>\n",
              "<table border=\"1\" class=\"dataframe\">\n",
              "  <thead>\n",
              "    <tr style=\"text-align: right;\">\n",
              "      <th></th>\n",
              "      <th>PID</th>\n",
              "      <th>ST_NUM</th>\n",
              "      <th>ST_NAME</th>\n",
              "      <th>OWN_OCCUPIED</th>\n",
              "      <th>NUM_BEDROOMS</th>\n",
              "      <th>NUM_BATH</th>\n",
              "      <th>SQ_FT</th>\n",
              "      <th>PRICE</th>\n",
              "    </tr>\n",
              "  </thead>\n",
              "  <tbody>\n",
              "    <tr>\n",
              "      <th>0</th>\n",
              "      <td>100001000.0</td>\n",
              "      <td>104.0</td>\n",
              "      <td>PUTNAM</td>\n",
              "      <td>Y</td>\n",
              "      <td>3</td>\n",
              "      <td>1</td>\n",
              "      <td>1000</td>\n",
              "      <td>20000.0</td>\n",
              "    </tr>\n",
              "    <tr>\n",
              "      <th>1</th>\n",
              "      <td>100002000.0</td>\n",
              "      <td>197.0</td>\n",
              "      <td>LEXINGTON</td>\n",
              "      <td>N</td>\n",
              "      <td>3</td>\n",
              "      <td>1.5</td>\n",
              "      <td>--</td>\n",
              "      <td>NaN</td>\n",
              "    </tr>\n",
              "    <tr>\n",
              "      <th>2</th>\n",
              "      <td>100003000.0</td>\n",
              "      <td>NaN</td>\n",
              "      <td>LEXINGTON</td>\n",
              "      <td>N</td>\n",
              "      <td>NaN</td>\n",
              "      <td>1</td>\n",
              "      <td>850</td>\n",
              "      <td>NaN</td>\n",
              "    </tr>\n",
              "    <tr>\n",
              "      <th>3</th>\n",
              "      <td>100004000.0</td>\n",
              "      <td>201.0</td>\n",
              "      <td>BERKELEY</td>\n",
              "      <td>12</td>\n",
              "      <td>1</td>\n",
              "      <td>NaN</td>\n",
              "      <td>700</td>\n",
              "      <td>NaN</td>\n",
              "    </tr>\n",
              "    <tr>\n",
              "      <th>4</th>\n",
              "      <td>100005000.0</td>\n",
              "      <td>203.0</td>\n",
              "      <td>BERKELEY</td>\n",
              "      <td>Y</td>\n",
              "      <td>3</td>\n",
              "      <td>2</td>\n",
              "      <td>1600</td>\n",
              "      <td>NaN</td>\n",
              "    </tr>\n",
              "    <tr>\n",
              "      <th>5</th>\n",
              "      <td>100006000.0</td>\n",
              "      <td>207.0</td>\n",
              "      <td>BERKELEY</td>\n",
              "      <td>Y</td>\n",
              "      <td>NaN</td>\n",
              "      <td>1</td>\n",
              "      <td>800</td>\n",
              "      <td>NaN</td>\n",
              "    </tr>\n",
              "    <tr>\n",
              "      <th>6</th>\n",
              "      <td>100007000.0</td>\n",
              "      <td>NaN</td>\n",
              "      <td>WASHINGTON</td>\n",
              "      <td>NaN</td>\n",
              "      <td>2</td>\n",
              "      <td>HURLEY</td>\n",
              "      <td>950</td>\n",
              "      <td>NaN</td>\n",
              "    </tr>\n",
              "    <tr>\n",
              "      <th>7</th>\n",
              "      <td>100008000.0</td>\n",
              "      <td>213.0</td>\n",
              "      <td>TREMONT</td>\n",
              "      <td>Y</td>\n",
              "      <td>1</td>\n",
              "      <td>1</td>\n",
              "      <td>NaN</td>\n",
              "      <td>NaN</td>\n",
              "    </tr>\n",
              "    <tr>\n",
              "      <th>8</th>\n",
              "      <td>100009000.0</td>\n",
              "      <td>215.0</td>\n",
              "      <td>TREMONT</td>\n",
              "      <td>Y</td>\n",
              "      <td>na</td>\n",
              "      <td>2</td>\n",
              "      <td>1800</td>\n",
              "      <td>NaN</td>\n",
              "    </tr>\n",
              "  </tbody>\n",
              "</table>\n",
              "</div>"
            ],
            "text/plain": [
              "           PID  ST_NUM     ST_NAME  ... NUM_BATH SQ_FT    PRICE\n",
              "0  100001000.0   104.0      PUTNAM  ...        1  1000  20000.0\n",
              "1  100002000.0   197.0   LEXINGTON  ...      1.5    --      NaN\n",
              "2  100003000.0     NaN   LEXINGTON  ...        1   850      NaN\n",
              "3  100004000.0   201.0    BERKELEY  ...      NaN   700      NaN\n",
              "4  100005000.0   203.0    BERKELEY  ...        2  1600      NaN\n",
              "5  100006000.0   207.0    BERKELEY  ...        1   800      NaN\n",
              "6  100007000.0     NaN  WASHINGTON  ...   HURLEY   950      NaN\n",
              "7  100008000.0   213.0     TREMONT  ...        1   NaN      NaN\n",
              "8  100009000.0   215.0     TREMONT  ...        2  1800      NaN\n",
              "\n",
              "[9 rows x 8 columns]"
            ]
          },
          "metadata": {},
          "execution_count": 54
        }
      ]
    },
    {
      "cell_type": "code",
      "metadata": {
        "colab": {
          "base_uri": "https://localhost:8080/",
          "height": 356
        },
        "id": "K0Ckg9mRqGJ_",
        "outputId": "c420c8d7-ef6d-42d4-e04e-3d326539437c"
      },
      "source": [
        "# set PID as an index\n",
        "df.set_index('PID', drop=False)"
      ],
      "execution_count": 55,
      "outputs": [
        {
          "output_type": "execute_result",
          "data": {
            "text/html": [
              "<div>\n",
              "<style scoped>\n",
              "    .dataframe tbody tr th:only-of-type {\n",
              "        vertical-align: middle;\n",
              "    }\n",
              "\n",
              "    .dataframe tbody tr th {\n",
              "        vertical-align: top;\n",
              "    }\n",
              "\n",
              "    .dataframe thead th {\n",
              "        text-align: right;\n",
              "    }\n",
              "</style>\n",
              "<table border=\"1\" class=\"dataframe\">\n",
              "  <thead>\n",
              "    <tr style=\"text-align: right;\">\n",
              "      <th></th>\n",
              "      <th>PID</th>\n",
              "      <th>ST_NUM</th>\n",
              "      <th>ST_NAME</th>\n",
              "      <th>OWN_OCCUPIED</th>\n",
              "      <th>NUM_BEDROOMS</th>\n",
              "      <th>NUM_BATH</th>\n",
              "      <th>SQ_FT</th>\n",
              "      <th>PRICE</th>\n",
              "    </tr>\n",
              "    <tr>\n",
              "      <th>PID</th>\n",
              "      <th></th>\n",
              "      <th></th>\n",
              "      <th></th>\n",
              "      <th></th>\n",
              "      <th></th>\n",
              "      <th></th>\n",
              "      <th></th>\n",
              "      <th></th>\n",
              "    </tr>\n",
              "  </thead>\n",
              "  <tbody>\n",
              "    <tr>\n",
              "      <th>100001000.0</th>\n",
              "      <td>100001000.0</td>\n",
              "      <td>104.0</td>\n",
              "      <td>PUTNAM</td>\n",
              "      <td>Y</td>\n",
              "      <td>3</td>\n",
              "      <td>1</td>\n",
              "      <td>1000</td>\n",
              "      <td>20000.0</td>\n",
              "    </tr>\n",
              "    <tr>\n",
              "      <th>100002000.0</th>\n",
              "      <td>100002000.0</td>\n",
              "      <td>197.0</td>\n",
              "      <td>LEXINGTON</td>\n",
              "      <td>N</td>\n",
              "      <td>3</td>\n",
              "      <td>1.5</td>\n",
              "      <td>--</td>\n",
              "      <td>NaN</td>\n",
              "    </tr>\n",
              "    <tr>\n",
              "      <th>100003000.0</th>\n",
              "      <td>100003000.0</td>\n",
              "      <td>NaN</td>\n",
              "      <td>LEXINGTON</td>\n",
              "      <td>N</td>\n",
              "      <td>NaN</td>\n",
              "      <td>1</td>\n",
              "      <td>850</td>\n",
              "      <td>NaN</td>\n",
              "    </tr>\n",
              "    <tr>\n",
              "      <th>100004000.0</th>\n",
              "      <td>100004000.0</td>\n",
              "      <td>201.0</td>\n",
              "      <td>BERKELEY</td>\n",
              "      <td>12</td>\n",
              "      <td>1</td>\n",
              "      <td>NaN</td>\n",
              "      <td>700</td>\n",
              "      <td>NaN</td>\n",
              "    </tr>\n",
              "    <tr>\n",
              "      <th>100005000.0</th>\n",
              "      <td>100005000.0</td>\n",
              "      <td>203.0</td>\n",
              "      <td>BERKELEY</td>\n",
              "      <td>Y</td>\n",
              "      <td>3</td>\n",
              "      <td>2</td>\n",
              "      <td>1600</td>\n",
              "      <td>NaN</td>\n",
              "    </tr>\n",
              "    <tr>\n",
              "      <th>100006000.0</th>\n",
              "      <td>100006000.0</td>\n",
              "      <td>207.0</td>\n",
              "      <td>BERKELEY</td>\n",
              "      <td>Y</td>\n",
              "      <td>NaN</td>\n",
              "      <td>1</td>\n",
              "      <td>800</td>\n",
              "      <td>NaN</td>\n",
              "    </tr>\n",
              "    <tr>\n",
              "      <th>100007000.0</th>\n",
              "      <td>100007000.0</td>\n",
              "      <td>NaN</td>\n",
              "      <td>WASHINGTON</td>\n",
              "      <td>NaN</td>\n",
              "      <td>2</td>\n",
              "      <td>HURLEY</td>\n",
              "      <td>950</td>\n",
              "      <td>NaN</td>\n",
              "    </tr>\n",
              "    <tr>\n",
              "      <th>100008000.0</th>\n",
              "      <td>100008000.0</td>\n",
              "      <td>213.0</td>\n",
              "      <td>TREMONT</td>\n",
              "      <td>Y</td>\n",
              "      <td>1</td>\n",
              "      <td>1</td>\n",
              "      <td>NaN</td>\n",
              "      <td>NaN</td>\n",
              "    </tr>\n",
              "    <tr>\n",
              "      <th>100009000.0</th>\n",
              "      <td>100009000.0</td>\n",
              "      <td>215.0</td>\n",
              "      <td>TREMONT</td>\n",
              "      <td>Y</td>\n",
              "      <td>na</td>\n",
              "      <td>2</td>\n",
              "      <td>1800</td>\n",
              "      <td>NaN</td>\n",
              "    </tr>\n",
              "  </tbody>\n",
              "</table>\n",
              "</div>"
            ],
            "text/plain": [
              "                     PID  ST_NUM     ST_NAME  ... NUM_BATH SQ_FT    PRICE\n",
              "PID                                           ...                        \n",
              "100001000.0  100001000.0   104.0      PUTNAM  ...        1  1000  20000.0\n",
              "100002000.0  100002000.0   197.0   LEXINGTON  ...      1.5    --      NaN\n",
              "100003000.0  100003000.0     NaN   LEXINGTON  ...        1   850      NaN\n",
              "100004000.0  100004000.0   201.0    BERKELEY  ...      NaN   700      NaN\n",
              "100005000.0  100005000.0   203.0    BERKELEY  ...        2  1600      NaN\n",
              "100006000.0  100006000.0   207.0    BERKELEY  ...        1   800      NaN\n",
              "100007000.0  100007000.0     NaN  WASHINGTON  ...   HURLEY   950      NaN\n",
              "100008000.0  100008000.0   213.0     TREMONT  ...        1   NaN      NaN\n",
              "100009000.0  100009000.0   215.0     TREMONT  ...        2  1800      NaN\n",
              "\n",
              "[9 rows x 8 columns]"
            ]
          },
          "metadata": {},
          "execution_count": 55
        }
      ]
    },
    {
      "cell_type": "markdown",
      "metadata": {
        "id": "YLu3HU22QgwP"
      },
      "source": [
        "###Discretization and Binding\n",
        "---\n",
        "\n",
        "Extract data and put it in the bins for analysis\n"
      ]
    },
    {
      "cell_type": "code",
      "metadata": {
        "id": "0zPSBKGCQtmD"
      },
      "source": [
        "ages = [20, 22, 25, 27, 21, 23, 37, 31, 61, 45, 41, 32]"
      ],
      "execution_count": 56,
      "outputs": []
    },
    {
      "cell_type": "markdown",
      "metadata": {
        "id": "JWACEIpnQxRn"
      },
      "source": [
        "Then we create a bin"
      ]
    },
    {
      "cell_type": "code",
      "metadata": {
        "id": "9E4hHyuNQ_TB"
      },
      "source": [
        "bins = [18, 25, 35, 60, 100]"
      ],
      "execution_count": 57,
      "outputs": []
    },
    {
      "cell_type": "markdown",
      "metadata": {
        "id": "L25loyixRBA2"
      },
      "source": [
        "Then we cut the data in to a bin, the cuts represent the bins for each data"
      ]
    },
    {
      "cell_type": "code",
      "metadata": {
        "id": "he6drI0bREWC",
        "colab": {
          "base_uri": "https://localhost:8080/"
        },
        "outputId": "6c773b94-2aa7-44f1-fcb5-e4faa04f68a9"
      },
      "source": [
        "cuts = pd.cut(ages,bins)\n",
        "cuts"
      ],
      "execution_count": 58,
      "outputs": [
        {
          "output_type": "execute_result",
          "data": {
            "text/plain": [
              "[(18, 25], (18, 25], (18, 25], (25, 35], (18, 25], ..., (25, 35], (60, 100], (35, 60], (35, 60], (25, 35]]\n",
              "Length: 12\n",
              "Categories (4, interval[int64]): [(18, 25] < (25, 35] < (35, 60] < (60, 100]]"
            ]
          },
          "metadata": {},
          "execution_count": 58
        }
      ]
    },
    {
      "cell_type": "markdown",
      "metadata": {
        "id": "PkSZPLHARXA9"
      },
      "source": [
        "Instead of using the texts we can see the code (index) of each bins"
      ]
    },
    {
      "cell_type": "code",
      "metadata": {
        "id": "zu1ZNRQERbHg",
        "colab": {
          "base_uri": "https://localhost:8080/"
        },
        "outputId": "91c6232d-a04f-45b1-9a2c-6a8ed0d1a9d2"
      },
      "source": [
        "cuts.codes"
      ],
      "execution_count": 59,
      "outputs": [
        {
          "output_type": "execute_result",
          "data": {
            "text/plain": [
              "array([0, 0, 0, 1, 0, 0, 2, 1, 3, 2, 2, 1], dtype=int8)"
            ]
          },
          "metadata": {},
          "execution_count": 59
        }
      ]
    },
    {
      "cell_type": "markdown",
      "metadata": {
        "id": "-SyIx8RrRhyI"
      },
      "source": [
        "and the catagories, and the amount of value in each cuts can be shown"
      ]
    },
    {
      "cell_type": "code",
      "metadata": {
        "id": "q92uCdiyRtMa",
        "colab": {
          "base_uri": "https://localhost:8080/"
        },
        "outputId": "54fb2d81-c1d9-4acd-d321-6001864e0e56"
      },
      "source": [
        "cuts.categories"
      ],
      "execution_count": 60,
      "outputs": [
        {
          "output_type": "execute_result",
          "data": {
            "text/plain": [
              "IntervalIndex([(18, 25], (25, 35], (35, 60], (60, 100]],\n",
              "              closed='right',\n",
              "              dtype='interval[int64]')"
            ]
          },
          "metadata": {},
          "execution_count": 60
        }
      ]
    },
    {
      "cell_type": "code",
      "metadata": {
        "id": "A-FIuO6mRwyQ",
        "colab": {
          "base_uri": "https://localhost:8080/"
        },
        "outputId": "1dbd43ed-29fe-4589-efbb-4be94f62c3d0"
      },
      "source": [
        "pd.value_counts(cuts)"
      ],
      "execution_count": 61,
      "outputs": [
        {
          "output_type": "execute_result",
          "data": {
            "text/plain": [
              "(18, 25]     5\n",
              "(35, 60]     3\n",
              "(25, 35]     3\n",
              "(60, 100]    1\n",
              "dtype: int64"
            ]
          },
          "metadata": {},
          "execution_count": 61
        }
      ]
    },
    {
      "cell_type": "markdown",
      "metadata": {
        "id": "nlotwTUOR9Nj"
      },
      "source": [
        "We can set the name of each cuts by passing the arrays of labels"
      ]
    },
    {
      "cell_type": "code",
      "metadata": {
        "id": "MyG8Kk0CSC-K",
        "colab": {
          "base_uri": "https://localhost:8080/"
        },
        "outputId": "4ceb1211-cf43-487e-9e61-0d33aa533e2e"
      },
      "source": [
        "group_names = ['Youth', 'YoungAdult','MiddleAged','Senior']\n",
        "pd.cut(ages,bins,labels=group_names)"
      ],
      "execution_count": 62,
      "outputs": [
        {
          "output_type": "execute_result",
          "data": {
            "text/plain": [
              "['Youth', 'Youth', 'Youth', 'YoungAdult', 'Youth', ..., 'YoungAdult', 'Senior', 'MiddleAged', 'MiddleAged', 'YoungAdult']\n",
              "Length: 12\n",
              "Categories (4, object): ['Youth' < 'YoungAdult' < 'MiddleAged' < 'Senior']"
            ]
          },
          "metadata": {},
          "execution_count": 62
        }
      ]
    },
    {
      "cell_type": "markdown",
      "metadata": {
        "id": "0nY8GiaVSUc-"
      },
      "source": [
        "If we pass the integer number instead of the bin edge, it will compute the equal-length bins based on the minimum and maximum values."
      ]
    },
    {
      "cell_type": "code",
      "metadata": {
        "id": "IjqntK6ISj1B",
        "colab": {
          "base_uri": "https://localhost:8080/"
        },
        "outputId": "15df830f-8511-46b5-beae-a418a1120537"
      },
      "source": [
        "data = np.random.rand(20)\n",
        "\n",
        "pd.cut(data,4,precision=2)"
      ],
      "execution_count": 63,
      "outputs": [
        {
          "output_type": "execute_result",
          "data": {
            "text/plain": [
              "[(0.75, 0.99], (0.28, 0.52], (0.75, 0.99], (0.75, 0.99], (0.75, 0.99], ..., (0.52, 0.75], (0.28, 0.52], (0.04, 0.28], (0.28, 0.52], (0.04, 0.28]]\n",
              "Length: 20\n",
              "Categories (4, interval[float64]): [(0.04, 0.28] < (0.28, 0.52] < (0.52, 0.75] < (0.75, 0.99]]"
            ]
          },
          "metadata": {},
          "execution_count": 63
        }
      ]
    },
    {
      "cell_type": "markdown",
      "metadata": {
        "id": "qfX3cZB7QEK8"
      },
      "source": [
        "###Detecting and Filtering Outliers\n",
        "---\n",
        "\n",
        "\n",
        "finding the outlining data and filter it out as it may be the error while gathering the data.\n",
        "Let's start by having the given data"
      ]
    },
    {
      "cell_type": "code",
      "metadata": {
        "id": "c2s445CMQV-8",
        "colab": {
          "base_uri": "https://localhost:8080/",
          "height": 294
        },
        "outputId": "39349984-f9e6-4086-e9db-4c683146ae4f"
      },
      "source": [
        "data = pd.DataFrame(np.random.randn(1000,4))\n",
        "data.describe()"
      ],
      "execution_count": 64,
      "outputs": [
        {
          "output_type": "execute_result",
          "data": {
            "text/html": [
              "<div>\n",
              "<style scoped>\n",
              "    .dataframe tbody tr th:only-of-type {\n",
              "        vertical-align: middle;\n",
              "    }\n",
              "\n",
              "    .dataframe tbody tr th {\n",
              "        vertical-align: top;\n",
              "    }\n",
              "\n",
              "    .dataframe thead th {\n",
              "        text-align: right;\n",
              "    }\n",
              "</style>\n",
              "<table border=\"1\" class=\"dataframe\">\n",
              "  <thead>\n",
              "    <tr style=\"text-align: right;\">\n",
              "      <th></th>\n",
              "      <th>0</th>\n",
              "      <th>1</th>\n",
              "      <th>2</th>\n",
              "      <th>3</th>\n",
              "    </tr>\n",
              "  </thead>\n",
              "  <tbody>\n",
              "    <tr>\n",
              "      <th>count</th>\n",
              "      <td>1000.000000</td>\n",
              "      <td>1000.000000</td>\n",
              "      <td>1000.000000</td>\n",
              "      <td>1000.000000</td>\n",
              "    </tr>\n",
              "    <tr>\n",
              "      <th>mean</th>\n",
              "      <td>-0.009401</td>\n",
              "      <td>0.028718</td>\n",
              "      <td>-0.038313</td>\n",
              "      <td>-0.004986</td>\n",
              "    </tr>\n",
              "    <tr>\n",
              "      <th>std</th>\n",
              "      <td>1.009733</td>\n",
              "      <td>1.000156</td>\n",
              "      <td>0.986652</td>\n",
              "      <td>0.977289</td>\n",
              "    </tr>\n",
              "    <tr>\n",
              "      <th>min</th>\n",
              "      <td>-3.590282</td>\n",
              "      <td>-2.974958</td>\n",
              "      <td>-2.978472</td>\n",
              "      <td>-3.185350</td>\n",
              "    </tr>\n",
              "    <tr>\n",
              "      <th>25%</th>\n",
              "      <td>-0.662636</td>\n",
              "      <td>-0.630152</td>\n",
              "      <td>-0.694757</td>\n",
              "      <td>-0.666895</td>\n",
              "    </tr>\n",
              "    <tr>\n",
              "      <th>50%</th>\n",
              "      <td>-0.027642</td>\n",
              "      <td>0.073970</td>\n",
              "      <td>-0.027608</td>\n",
              "      <td>-0.011164</td>\n",
              "    </tr>\n",
              "    <tr>\n",
              "      <th>75%</th>\n",
              "      <td>0.671733</td>\n",
              "      <td>0.732283</td>\n",
              "      <td>0.656343</td>\n",
              "      <td>0.634954</td>\n",
              "    </tr>\n",
              "    <tr>\n",
              "      <th>max</th>\n",
              "      <td>3.446746</td>\n",
              "      <td>3.442520</td>\n",
              "      <td>3.401395</td>\n",
              "      <td>3.101313</td>\n",
              "    </tr>\n",
              "  </tbody>\n",
              "</table>\n",
              "</div>"
            ],
            "text/plain": [
              "                 0            1            2            3\n",
              "count  1000.000000  1000.000000  1000.000000  1000.000000\n",
              "mean     -0.009401     0.028718    -0.038313    -0.004986\n",
              "std       1.009733     1.000156     0.986652     0.977289\n",
              "min      -3.590282    -2.974958    -2.978472    -3.185350\n",
              "25%      -0.662636    -0.630152    -0.694757    -0.666895\n",
              "50%      -0.027642     0.073970    -0.027608    -0.011164\n",
              "75%       0.671733     0.732283     0.656343     0.634954\n",
              "max       3.446746     3.442520     3.401395     3.101313"
            ]
          },
          "metadata": {},
          "execution_count": 64
        }
      ]
    },
    {
      "cell_type": "markdown",
      "metadata": {
        "id": "ZT_qGII3S7gF"
      },
      "source": [
        "if we want to find the values in column 2 which the absolute value is exceed 3"
      ]
    },
    {
      "cell_type": "code",
      "metadata": {
        "id": "LFEaDdvwTFN6",
        "colab": {
          "base_uri": "https://localhost:8080/"
        },
        "outputId": "33304de3-4158-40fa-8ca9-e0f42006ab60"
      },
      "source": [
        "col = data[2]\n",
        "col[np.abs(col) >3]"
      ],
      "execution_count": 65,
      "outputs": [
        {
          "output_type": "execute_result",
          "data": {
            "text/plain": [
              "797    3.401395\n",
              "Name: 2, dtype: float64"
            ]
          },
          "metadata": {},
          "execution_count": 65
        }
      ]
    },
    {
      "cell_type": "markdown",
      "metadata": {
        "id": "jlJRo28sTQ7v"
      },
      "source": [
        "If we want to get rows which value is exceeding  3, we can use `any` methods"
      ]
    },
    {
      "cell_type": "code",
      "metadata": {
        "id": "_B1jxxEgTcBs",
        "colab": {
          "base_uri": "https://localhost:8080/",
          "height": 325
        },
        "outputId": "ed33ebce-1beb-4b8c-b0ca-d80c89aaa9f3"
      },
      "source": [
        "a = data[(np.abs(data)>3).any(1)]\n",
        "a"
      ],
      "execution_count": 66,
      "outputs": [
        {
          "output_type": "execute_result",
          "data": {
            "text/html": [
              "<div>\n",
              "<style scoped>\n",
              "    .dataframe tbody tr th:only-of-type {\n",
              "        vertical-align: middle;\n",
              "    }\n",
              "\n",
              "    .dataframe tbody tr th {\n",
              "        vertical-align: top;\n",
              "    }\n",
              "\n",
              "    .dataframe thead th {\n",
              "        text-align: right;\n",
              "    }\n",
              "</style>\n",
              "<table border=\"1\" class=\"dataframe\">\n",
              "  <thead>\n",
              "    <tr style=\"text-align: right;\">\n",
              "      <th></th>\n",
              "      <th>0</th>\n",
              "      <th>1</th>\n",
              "      <th>2</th>\n",
              "      <th>3</th>\n",
              "    </tr>\n",
              "  </thead>\n",
              "  <tbody>\n",
              "    <tr>\n",
              "      <th>69</th>\n",
              "      <td>3.446746</td>\n",
              "      <td>-0.390773</td>\n",
              "      <td>-0.577318</td>\n",
              "      <td>-1.155504</td>\n",
              "    </tr>\n",
              "    <tr>\n",
              "      <th>341</th>\n",
              "      <td>3.019485</td>\n",
              "      <td>2.206017</td>\n",
              "      <td>0.617836</td>\n",
              "      <td>-1.653174</td>\n",
              "    </tr>\n",
              "    <tr>\n",
              "      <th>353</th>\n",
              "      <td>-1.205221</td>\n",
              "      <td>-1.028914</td>\n",
              "      <td>0.748239</td>\n",
              "      <td>-3.185350</td>\n",
              "    </tr>\n",
              "    <tr>\n",
              "      <th>465</th>\n",
              "      <td>-1.464013</td>\n",
              "      <td>1.168478</td>\n",
              "      <td>-1.031004</td>\n",
              "      <td>3.101313</td>\n",
              "    </tr>\n",
              "    <tr>\n",
              "      <th>571</th>\n",
              "      <td>0.722323</td>\n",
              "      <td>3.442520</td>\n",
              "      <td>0.834088</td>\n",
              "      <td>-1.143355</td>\n",
              "    </tr>\n",
              "    <tr>\n",
              "      <th>797</th>\n",
              "      <td>1.713893</td>\n",
              "      <td>1.561961</td>\n",
              "      <td>3.401395</td>\n",
              "      <td>-0.157308</td>\n",
              "    </tr>\n",
              "    <tr>\n",
              "      <th>836</th>\n",
              "      <td>3.009059</td>\n",
              "      <td>0.325532</td>\n",
              "      <td>0.087863</td>\n",
              "      <td>-1.191421</td>\n",
              "    </tr>\n",
              "    <tr>\n",
              "      <th>936</th>\n",
              "      <td>-3.590282</td>\n",
              "      <td>-0.168490</td>\n",
              "      <td>-0.128147</td>\n",
              "      <td>0.237622</td>\n",
              "    </tr>\n",
              "    <tr>\n",
              "      <th>944</th>\n",
              "      <td>-3.070670</td>\n",
              "      <td>1.033326</td>\n",
              "      <td>0.208704</td>\n",
              "      <td>-1.271241</td>\n",
              "    </tr>\n",
              "  </tbody>\n",
              "</table>\n",
              "</div>"
            ],
            "text/plain": [
              "            0         1         2         3\n",
              "69   3.446746 -0.390773 -0.577318 -1.155504\n",
              "341  3.019485  2.206017  0.617836 -1.653174\n",
              "353 -1.205221 -1.028914  0.748239 -3.185350\n",
              "465 -1.464013  1.168478 -1.031004  3.101313\n",
              "571  0.722323  3.442520  0.834088 -1.143355\n",
              "797  1.713893  1.561961  3.401395 -0.157308\n",
              "836  3.009059  0.325532  0.087863 -1.191421\n",
              "936 -3.590282 -0.168490 -0.128147  0.237622\n",
              "944 -3.070670  1.033326  0.208704 -1.271241"
            ]
          },
          "metadata": {},
          "execution_count": 66
        }
      ]
    },
    {
      "cell_type": "markdown",
      "metadata": {
        "id": "TVRAShje7As8"
      },
      "source": [
        "####Work\n",
        "---\n",
        "\n",
        "From the given file.\n",
        "Categorize the size of the house as the small house (size is less than 800 sq,ft.),  the medium house (size is between 801-1200 sq.ft) and the large house ( size is more than 1200 sq.ft)\n",
        "\n",
        "Show the number of each house size\n",
        "\n",
        "You should ignore the value which is not the number value"
      ]
    },
    {
      "cell_type": "code",
      "metadata": {
        "colab": {
          "base_uri": "https://localhost:8080/",
          "height": 325
        },
        "id": "4T3jgdvAF3Rj",
        "outputId": "cc981fa2-e16a-479e-b586-687a0faa7af1"
      },
      "source": [
        "url = 'https://raw.githubusercontent.com/weerinphas/CMU/main/property_data.csv'\n",
        "df = pd.read_csv(url)\n",
        "df"
      ],
      "execution_count": 67,
      "outputs": [
        {
          "output_type": "execute_result",
          "data": {
            "text/html": [
              "<div>\n",
              "<style scoped>\n",
              "    .dataframe tbody tr th:only-of-type {\n",
              "        vertical-align: middle;\n",
              "    }\n",
              "\n",
              "    .dataframe tbody tr th {\n",
              "        vertical-align: top;\n",
              "    }\n",
              "\n",
              "    .dataframe thead th {\n",
              "        text-align: right;\n",
              "    }\n",
              "</style>\n",
              "<table border=\"1\" class=\"dataframe\">\n",
              "  <thead>\n",
              "    <tr style=\"text-align: right;\">\n",
              "      <th></th>\n",
              "      <th>PID</th>\n",
              "      <th>ST_NUM</th>\n",
              "      <th>ST_NAME</th>\n",
              "      <th>OWN_OCCUPIED</th>\n",
              "      <th>NUM_BEDROOMS</th>\n",
              "      <th>NUM_BATH</th>\n",
              "      <th>SQ_FT</th>\n",
              "      <th>PRICE</th>\n",
              "    </tr>\n",
              "  </thead>\n",
              "  <tbody>\n",
              "    <tr>\n",
              "      <th>0</th>\n",
              "      <td>100001000.0</td>\n",
              "      <td>104.0</td>\n",
              "      <td>PUTNAM</td>\n",
              "      <td>Y</td>\n",
              "      <td>3</td>\n",
              "      <td>1</td>\n",
              "      <td>1000</td>\n",
              "      <td>20000.0</td>\n",
              "    </tr>\n",
              "    <tr>\n",
              "      <th>1</th>\n",
              "      <td>100002000.0</td>\n",
              "      <td>197.0</td>\n",
              "      <td>LEXINGTON</td>\n",
              "      <td>N</td>\n",
              "      <td>3</td>\n",
              "      <td>1.5</td>\n",
              "      <td>--</td>\n",
              "      <td>NaN</td>\n",
              "    </tr>\n",
              "    <tr>\n",
              "      <th>2</th>\n",
              "      <td>100003000.0</td>\n",
              "      <td>NaN</td>\n",
              "      <td>LEXINGTON</td>\n",
              "      <td>N</td>\n",
              "      <td>NaN</td>\n",
              "      <td>1</td>\n",
              "      <td>850</td>\n",
              "      <td>NaN</td>\n",
              "    </tr>\n",
              "    <tr>\n",
              "      <th>3</th>\n",
              "      <td>100004000.0</td>\n",
              "      <td>201.0</td>\n",
              "      <td>BERKELEY</td>\n",
              "      <td>12</td>\n",
              "      <td>1</td>\n",
              "      <td>NaN</td>\n",
              "      <td>700</td>\n",
              "      <td>NaN</td>\n",
              "    </tr>\n",
              "    <tr>\n",
              "      <th>4</th>\n",
              "      <td>NaN</td>\n",
              "      <td>203.0</td>\n",
              "      <td>BERKELEY</td>\n",
              "      <td>Y</td>\n",
              "      <td>3</td>\n",
              "      <td>2</td>\n",
              "      <td>1600</td>\n",
              "      <td>NaN</td>\n",
              "    </tr>\n",
              "    <tr>\n",
              "      <th>5</th>\n",
              "      <td>100006000.0</td>\n",
              "      <td>207.0</td>\n",
              "      <td>BERKELEY</td>\n",
              "      <td>Y</td>\n",
              "      <td>NaN</td>\n",
              "      <td>1</td>\n",
              "      <td>800</td>\n",
              "      <td>NaN</td>\n",
              "    </tr>\n",
              "    <tr>\n",
              "      <th>6</th>\n",
              "      <td>100007000.0</td>\n",
              "      <td>NaN</td>\n",
              "      <td>WASHINGTON</td>\n",
              "      <td>NaN</td>\n",
              "      <td>2</td>\n",
              "      <td>HURLEY</td>\n",
              "      <td>950</td>\n",
              "      <td>NaN</td>\n",
              "    </tr>\n",
              "    <tr>\n",
              "      <th>7</th>\n",
              "      <td>100008000.0</td>\n",
              "      <td>213.0</td>\n",
              "      <td>TREMONT</td>\n",
              "      <td>Y</td>\n",
              "      <td>1</td>\n",
              "      <td>1</td>\n",
              "      <td>NaN</td>\n",
              "      <td>NaN</td>\n",
              "    </tr>\n",
              "    <tr>\n",
              "      <th>8</th>\n",
              "      <td>100009000.0</td>\n",
              "      <td>215.0</td>\n",
              "      <td>TREMONT</td>\n",
              "      <td>Y</td>\n",
              "      <td>na</td>\n",
              "      <td>2</td>\n",
              "      <td>1800</td>\n",
              "      <td>NaN</td>\n",
              "    </tr>\n",
              "  </tbody>\n",
              "</table>\n",
              "</div>"
            ],
            "text/plain": [
              "           PID  ST_NUM     ST_NAME  ... NUM_BATH SQ_FT    PRICE\n",
              "0  100001000.0   104.0      PUTNAM  ...        1  1000  20000.0\n",
              "1  100002000.0   197.0   LEXINGTON  ...      1.5    --      NaN\n",
              "2  100003000.0     NaN   LEXINGTON  ...        1   850      NaN\n",
              "3  100004000.0   201.0    BERKELEY  ...      NaN   700      NaN\n",
              "4          NaN   203.0    BERKELEY  ...        2  1600      NaN\n",
              "5  100006000.0   207.0    BERKELEY  ...        1   800      NaN\n",
              "6  100007000.0     NaN  WASHINGTON  ...   HURLEY   950      NaN\n",
              "7  100008000.0   213.0     TREMONT  ...        1   NaN      NaN\n",
              "8  100009000.0   215.0     TREMONT  ...        2  1800      NaN\n",
              "\n",
              "[9 rows x 8 columns]"
            ]
          },
          "metadata": {},
          "execution_count": 67
        }
      ]
    },
    {
      "cell_type": "code",
      "metadata": {
        "colab": {
          "base_uri": "https://localhost:8080/",
          "height": 325
        },
        "id": "OntpX4vkHSin",
        "outputId": "4775e6a6-a959-4f49-838b-9f7a91209d99"
      },
      "source": [
        "df = df.replace('--',np.nan)\n",
        "df"
      ],
      "execution_count": 68,
      "outputs": [
        {
          "output_type": "execute_result",
          "data": {
            "text/html": [
              "<div>\n",
              "<style scoped>\n",
              "    .dataframe tbody tr th:only-of-type {\n",
              "        vertical-align: middle;\n",
              "    }\n",
              "\n",
              "    .dataframe tbody tr th {\n",
              "        vertical-align: top;\n",
              "    }\n",
              "\n",
              "    .dataframe thead th {\n",
              "        text-align: right;\n",
              "    }\n",
              "</style>\n",
              "<table border=\"1\" class=\"dataframe\">\n",
              "  <thead>\n",
              "    <tr style=\"text-align: right;\">\n",
              "      <th></th>\n",
              "      <th>PID</th>\n",
              "      <th>ST_NUM</th>\n",
              "      <th>ST_NAME</th>\n",
              "      <th>OWN_OCCUPIED</th>\n",
              "      <th>NUM_BEDROOMS</th>\n",
              "      <th>NUM_BATH</th>\n",
              "      <th>SQ_FT</th>\n",
              "      <th>PRICE</th>\n",
              "    </tr>\n",
              "  </thead>\n",
              "  <tbody>\n",
              "    <tr>\n",
              "      <th>0</th>\n",
              "      <td>100001000.0</td>\n",
              "      <td>104.0</td>\n",
              "      <td>PUTNAM</td>\n",
              "      <td>Y</td>\n",
              "      <td>3</td>\n",
              "      <td>1</td>\n",
              "      <td>1000</td>\n",
              "      <td>20000.0</td>\n",
              "    </tr>\n",
              "    <tr>\n",
              "      <th>1</th>\n",
              "      <td>100002000.0</td>\n",
              "      <td>197.0</td>\n",
              "      <td>LEXINGTON</td>\n",
              "      <td>N</td>\n",
              "      <td>3</td>\n",
              "      <td>1.5</td>\n",
              "      <td>NaN</td>\n",
              "      <td>NaN</td>\n",
              "    </tr>\n",
              "    <tr>\n",
              "      <th>2</th>\n",
              "      <td>100003000.0</td>\n",
              "      <td>NaN</td>\n",
              "      <td>LEXINGTON</td>\n",
              "      <td>N</td>\n",
              "      <td>NaN</td>\n",
              "      <td>1</td>\n",
              "      <td>850</td>\n",
              "      <td>NaN</td>\n",
              "    </tr>\n",
              "    <tr>\n",
              "      <th>3</th>\n",
              "      <td>100004000.0</td>\n",
              "      <td>201.0</td>\n",
              "      <td>BERKELEY</td>\n",
              "      <td>12</td>\n",
              "      <td>1</td>\n",
              "      <td>NaN</td>\n",
              "      <td>700</td>\n",
              "      <td>NaN</td>\n",
              "    </tr>\n",
              "    <tr>\n",
              "      <th>4</th>\n",
              "      <td>NaN</td>\n",
              "      <td>203.0</td>\n",
              "      <td>BERKELEY</td>\n",
              "      <td>Y</td>\n",
              "      <td>3</td>\n",
              "      <td>2</td>\n",
              "      <td>1600</td>\n",
              "      <td>NaN</td>\n",
              "    </tr>\n",
              "    <tr>\n",
              "      <th>5</th>\n",
              "      <td>100006000.0</td>\n",
              "      <td>207.0</td>\n",
              "      <td>BERKELEY</td>\n",
              "      <td>Y</td>\n",
              "      <td>NaN</td>\n",
              "      <td>1</td>\n",
              "      <td>800</td>\n",
              "      <td>NaN</td>\n",
              "    </tr>\n",
              "    <tr>\n",
              "      <th>6</th>\n",
              "      <td>100007000.0</td>\n",
              "      <td>NaN</td>\n",
              "      <td>WASHINGTON</td>\n",
              "      <td>NaN</td>\n",
              "      <td>2</td>\n",
              "      <td>HURLEY</td>\n",
              "      <td>950</td>\n",
              "      <td>NaN</td>\n",
              "    </tr>\n",
              "    <tr>\n",
              "      <th>7</th>\n",
              "      <td>100008000.0</td>\n",
              "      <td>213.0</td>\n",
              "      <td>TREMONT</td>\n",
              "      <td>Y</td>\n",
              "      <td>1</td>\n",
              "      <td>1</td>\n",
              "      <td>NaN</td>\n",
              "      <td>NaN</td>\n",
              "    </tr>\n",
              "    <tr>\n",
              "      <th>8</th>\n",
              "      <td>100009000.0</td>\n",
              "      <td>215.0</td>\n",
              "      <td>TREMONT</td>\n",
              "      <td>Y</td>\n",
              "      <td>na</td>\n",
              "      <td>2</td>\n",
              "      <td>1800</td>\n",
              "      <td>NaN</td>\n",
              "    </tr>\n",
              "  </tbody>\n",
              "</table>\n",
              "</div>"
            ],
            "text/plain": [
              "           PID  ST_NUM     ST_NAME  ... NUM_BATH SQ_FT    PRICE\n",
              "0  100001000.0   104.0      PUTNAM  ...        1  1000  20000.0\n",
              "1  100002000.0   197.0   LEXINGTON  ...      1.5   NaN      NaN\n",
              "2  100003000.0     NaN   LEXINGTON  ...        1   850      NaN\n",
              "3  100004000.0   201.0    BERKELEY  ...      NaN   700      NaN\n",
              "4          NaN   203.0    BERKELEY  ...        2  1600      NaN\n",
              "5  100006000.0   207.0    BERKELEY  ...        1   800      NaN\n",
              "6  100007000.0     NaN  WASHINGTON  ...   HURLEY   950      NaN\n",
              "7  100008000.0   213.0     TREMONT  ...        1   NaN      NaN\n",
              "8  100009000.0   215.0     TREMONT  ...        2  1800      NaN\n",
              "\n",
              "[9 rows x 8 columns]"
            ]
          },
          "metadata": {},
          "execution_count": 68
        }
      ]
    },
    {
      "cell_type": "code",
      "metadata": {
        "colab": {
          "base_uri": "https://localhost:8080/",
          "height": 264
        },
        "id": "I-kJPjbeIJl4",
        "outputId": "e820e331-48b5-4043-8f38-9f6647343c8c"
      },
      "source": [
        "df = df[df['SQ_FT'].notna()]\n",
        "df"
      ],
      "execution_count": 69,
      "outputs": [
        {
          "output_type": "execute_result",
          "data": {
            "text/html": [
              "<div>\n",
              "<style scoped>\n",
              "    .dataframe tbody tr th:only-of-type {\n",
              "        vertical-align: middle;\n",
              "    }\n",
              "\n",
              "    .dataframe tbody tr th {\n",
              "        vertical-align: top;\n",
              "    }\n",
              "\n",
              "    .dataframe thead th {\n",
              "        text-align: right;\n",
              "    }\n",
              "</style>\n",
              "<table border=\"1\" class=\"dataframe\">\n",
              "  <thead>\n",
              "    <tr style=\"text-align: right;\">\n",
              "      <th></th>\n",
              "      <th>PID</th>\n",
              "      <th>ST_NUM</th>\n",
              "      <th>ST_NAME</th>\n",
              "      <th>OWN_OCCUPIED</th>\n",
              "      <th>NUM_BEDROOMS</th>\n",
              "      <th>NUM_BATH</th>\n",
              "      <th>SQ_FT</th>\n",
              "      <th>PRICE</th>\n",
              "    </tr>\n",
              "  </thead>\n",
              "  <tbody>\n",
              "    <tr>\n",
              "      <th>0</th>\n",
              "      <td>100001000.0</td>\n",
              "      <td>104.0</td>\n",
              "      <td>PUTNAM</td>\n",
              "      <td>Y</td>\n",
              "      <td>3</td>\n",
              "      <td>1</td>\n",
              "      <td>1000</td>\n",
              "      <td>20000.0</td>\n",
              "    </tr>\n",
              "    <tr>\n",
              "      <th>2</th>\n",
              "      <td>100003000.0</td>\n",
              "      <td>NaN</td>\n",
              "      <td>LEXINGTON</td>\n",
              "      <td>N</td>\n",
              "      <td>NaN</td>\n",
              "      <td>1</td>\n",
              "      <td>850</td>\n",
              "      <td>NaN</td>\n",
              "    </tr>\n",
              "    <tr>\n",
              "      <th>3</th>\n",
              "      <td>100004000.0</td>\n",
              "      <td>201.0</td>\n",
              "      <td>BERKELEY</td>\n",
              "      <td>12</td>\n",
              "      <td>1</td>\n",
              "      <td>NaN</td>\n",
              "      <td>700</td>\n",
              "      <td>NaN</td>\n",
              "    </tr>\n",
              "    <tr>\n",
              "      <th>4</th>\n",
              "      <td>NaN</td>\n",
              "      <td>203.0</td>\n",
              "      <td>BERKELEY</td>\n",
              "      <td>Y</td>\n",
              "      <td>3</td>\n",
              "      <td>2</td>\n",
              "      <td>1600</td>\n",
              "      <td>NaN</td>\n",
              "    </tr>\n",
              "    <tr>\n",
              "      <th>5</th>\n",
              "      <td>100006000.0</td>\n",
              "      <td>207.0</td>\n",
              "      <td>BERKELEY</td>\n",
              "      <td>Y</td>\n",
              "      <td>NaN</td>\n",
              "      <td>1</td>\n",
              "      <td>800</td>\n",
              "      <td>NaN</td>\n",
              "    </tr>\n",
              "    <tr>\n",
              "      <th>6</th>\n",
              "      <td>100007000.0</td>\n",
              "      <td>NaN</td>\n",
              "      <td>WASHINGTON</td>\n",
              "      <td>NaN</td>\n",
              "      <td>2</td>\n",
              "      <td>HURLEY</td>\n",
              "      <td>950</td>\n",
              "      <td>NaN</td>\n",
              "    </tr>\n",
              "    <tr>\n",
              "      <th>8</th>\n",
              "      <td>100009000.0</td>\n",
              "      <td>215.0</td>\n",
              "      <td>TREMONT</td>\n",
              "      <td>Y</td>\n",
              "      <td>na</td>\n",
              "      <td>2</td>\n",
              "      <td>1800</td>\n",
              "      <td>NaN</td>\n",
              "    </tr>\n",
              "  </tbody>\n",
              "</table>\n",
              "</div>"
            ],
            "text/plain": [
              "           PID  ST_NUM     ST_NAME  ... NUM_BATH SQ_FT    PRICE\n",
              "0  100001000.0   104.0      PUTNAM  ...        1  1000  20000.0\n",
              "2  100003000.0     NaN   LEXINGTON  ...        1   850      NaN\n",
              "3  100004000.0   201.0    BERKELEY  ...      NaN   700      NaN\n",
              "4          NaN   203.0    BERKELEY  ...        2  1600      NaN\n",
              "5  100006000.0   207.0    BERKELEY  ...        1   800      NaN\n",
              "6  100007000.0     NaN  WASHINGTON  ...   HURLEY   950      NaN\n",
              "8  100009000.0   215.0     TREMONT  ...        2  1800      NaN\n",
              "\n",
              "[7 rows x 8 columns]"
            ]
          },
          "metadata": {},
          "execution_count": 69
        }
      ]
    },
    {
      "cell_type": "code",
      "metadata": {
        "colab": {
          "base_uri": "https://localhost:8080/"
        },
        "id": "jHrOL4mkGUDx",
        "outputId": "d783b3d9-0de1-41cc-bde6-23dfc38ddfe6"
      },
      "source": [
        "df_size = df['SQ_FT'].to_numpy().astype(int)\n",
        "bin = [0, 800, 1200, max(df_size)]\n",
        "group_names = ['small house', 'medium house','large house']\n",
        "df_cut = pd.cut(df_size,bin,labels=group_names)\n",
        "pd.value_counts(df_cut)"
      ],
      "execution_count": 70,
      "outputs": [
        {
          "output_type": "execute_result",
          "data": {
            "text/plain": [
              "medium house    3\n",
              "large house     2\n",
              "small house     2\n",
              "dtype: int64"
            ]
          },
          "metadata": {},
          "execution_count": 70
        }
      ]
    },
    {
      "cell_type": "markdown",
      "metadata": {
        "id": "lKJEca4oUfnN"
      },
      "source": [
        "# Data Wrangling: Join, Combine, Reshape"
      ]
    },
    {
      "cell_type": "markdown",
      "metadata": {
        "id": "YM-BXN6PUyia"
      },
      "source": [
        "##Hierachical Indexing\n",
        "---\n",
        "\n",
        "\n",
        "Allow index to have mulitple index levels on an axis\n",
        " \n",
        "Use when working with higher dimensional data ina lower dimensional form\n",
        "\n",
        "๊Use this setup configuration"
      ]
    },
    {
      "cell_type": "code",
      "metadata": {
        "id": "nEPiZoGRXzje"
      },
      "source": [
        "import numpy as np\n",
        "import pandas as pd\n",
        "pd.options.display.max_rows = 20\n",
        "np.random.seed(12345)\n",
        "import matplotlib.pyplot as plt\n",
        "plt.rc('figure', figsize=(10, 6))\n",
        "np.set_printoptions(precision=4, suppress=True)"
      ],
      "execution_count": 71,
      "outputs": []
    },
    {
      "cell_type": "code",
      "metadata": {
        "id": "AeB3OPzuYDKA",
        "colab": {
          "base_uri": "https://localhost:8080/"
        },
        "outputId": "59ed2e6a-135c-4c41-9088-1413969517b0"
      },
      "source": [
        "data = pd.Series(np.random.randn(9),\n",
        "                 index=[['a', 'a', 'a', 'b', 'b', 'c', 'c', 'd', 'd'],\n",
        "                        [1, 2, 3, 1, 3, 1, 2, 2, 3]])\n",
        "data"
      ],
      "execution_count": 72,
      "outputs": [
        {
          "output_type": "execute_result",
          "data": {
            "text/plain": [
              "a  1   -0.204708\n",
              "   2    0.478943\n",
              "   3   -0.519439\n",
              "b  1   -0.555730\n",
              "   3    1.965781\n",
              "c  1    1.393406\n",
              "   2    0.092908\n",
              "d  2    0.281746\n",
              "   3    0.769023\n",
              "dtype: float64"
            ]
          },
          "metadata": {},
          "execution_count": 72
        }
      ]
    },
    {
      "cell_type": "code",
      "metadata": {
        "id": "N4MiFIUqYDAl",
        "colab": {
          "base_uri": "https://localhost:8080/"
        },
        "outputId": "cf31391f-c568-449e-f227-0d6d30a767e6"
      },
      "source": [
        "data.index"
      ],
      "execution_count": 73,
      "outputs": [
        {
          "output_type": "execute_result",
          "data": {
            "text/plain": [
              "MultiIndex([('a', 1),\n",
              "            ('a', 2),\n",
              "            ('a', 3),\n",
              "            ('b', 1),\n",
              "            ('b', 3),\n",
              "            ('c', 1),\n",
              "            ('c', 2),\n",
              "            ('d', 2),\n",
              "            ('d', 3)],\n",
              "           )"
            ]
          },
          "metadata": {},
          "execution_count": 73
        }
      ]
    },
    {
      "cell_type": "markdown",
      "metadata": {
        "id": "zW600u2sYVk9"
      },
      "source": [
        "we can see data in the multi level index"
      ]
    },
    {
      "cell_type": "code",
      "metadata": {
        "id": "eV1mQGxOYeqz",
        "colab": {
          "base_uri": "https://localhost:8080/"
        },
        "outputId": "c8b782b5-641c-4267-eb0a-f5760a231001"
      },
      "source": [
        "data['b']"
      ],
      "execution_count": 74,
      "outputs": [
        {
          "output_type": "execute_result",
          "data": {
            "text/plain": [
              "1   -0.555730\n",
              "3    1.965781\n",
              "dtype: float64"
            ]
          },
          "metadata": {},
          "execution_count": 74
        }
      ]
    },
    {
      "cell_type": "code",
      "metadata": {
        "id": "m5dUDOFPYhS1",
        "colab": {
          "base_uri": "https://localhost:8080/"
        },
        "outputId": "146402c2-cb73-4294-81eb-f1b0e9b16dad"
      },
      "source": [
        "data['b':'c']"
      ],
      "execution_count": 75,
      "outputs": [
        {
          "output_type": "execute_result",
          "data": {
            "text/plain": [
              "b  1   -0.555730\n",
              "   3    1.965781\n",
              "c  1    1.393406\n",
              "   2    0.092908\n",
              "dtype: float64"
            ]
          },
          "metadata": {},
          "execution_count": 75
        }
      ]
    },
    {
      "cell_type": "code",
      "metadata": {
        "id": "ugSzYiRjYru4",
        "colab": {
          "base_uri": "https://localhost:8080/"
        },
        "outputId": "7796e7cc-8478-4eff-803f-8eb11e76f79b"
      },
      "source": [
        "data.loc[['b','d']]"
      ],
      "execution_count": 76,
      "outputs": [
        {
          "output_type": "execute_result",
          "data": {
            "text/plain": [
              "b  1   -0.555730\n",
              "   3    1.965781\n",
              "d  2    0.281746\n",
              "   3    0.769023\n",
              "dtype: float64"
            ]
          },
          "metadata": {},
          "execution_count": 76
        }
      ]
    },
    {
      "cell_type": "markdown",
      "metadata": {
        "id": "K9SgB8l1YzJa"
      },
      "source": [
        "We can see data from the inder level"
      ]
    },
    {
      "cell_type": "code",
      "metadata": {
        "id": "zbrKcyVfYC-o",
        "colab": {
          "base_uri": "https://localhost:8080/"
        },
        "outputId": "dc4314dd-167f-4297-f3a0-d1b2e7de2c51"
      },
      "source": [
        "data.loc[:,2]"
      ],
      "execution_count": 77,
      "outputs": [
        {
          "output_type": "execute_result",
          "data": {
            "text/plain": [
              "a    0.478943\n",
              "c    0.092908\n",
              "d    0.281746\n",
              "dtype: float64"
            ]
          },
          "metadata": {},
          "execution_count": 77
        }
      ]
    },
    {
      "cell_type": "markdown",
      "metadata": {
        "id": "ayDSEMaTZB-Y"
      },
      "source": [
        "Hierachical indexing play important role in reshaping data and group-based oepration.\n",
        "\n",
        "The Hierachical index can be rearragen as the DataFrame using `unstack` methods"
      ]
    },
    {
      "cell_type": "code",
      "metadata": {
        "id": "crJBm31TY49U",
        "colab": {
          "base_uri": "https://localhost:8080/",
          "height": 172
        },
        "outputId": "0f0c006f-f38c-452d-808e-68d7ced29e3f"
      },
      "source": [
        "data.unstack()"
      ],
      "execution_count": 78,
      "outputs": [
        {
          "output_type": "execute_result",
          "data": {
            "text/html": [
              "<div>\n",
              "<style scoped>\n",
              "    .dataframe tbody tr th:only-of-type {\n",
              "        vertical-align: middle;\n",
              "    }\n",
              "\n",
              "    .dataframe tbody tr th {\n",
              "        vertical-align: top;\n",
              "    }\n",
              "\n",
              "    .dataframe thead th {\n",
              "        text-align: right;\n",
              "    }\n",
              "</style>\n",
              "<table border=\"1\" class=\"dataframe\">\n",
              "  <thead>\n",
              "    <tr style=\"text-align: right;\">\n",
              "      <th></th>\n",
              "      <th>1</th>\n",
              "      <th>2</th>\n",
              "      <th>3</th>\n",
              "    </tr>\n",
              "  </thead>\n",
              "  <tbody>\n",
              "    <tr>\n",
              "      <th>a</th>\n",
              "      <td>-0.204708</td>\n",
              "      <td>0.478943</td>\n",
              "      <td>-0.519439</td>\n",
              "    </tr>\n",
              "    <tr>\n",
              "      <th>b</th>\n",
              "      <td>-0.555730</td>\n",
              "      <td>NaN</td>\n",
              "      <td>1.965781</td>\n",
              "    </tr>\n",
              "    <tr>\n",
              "      <th>c</th>\n",
              "      <td>1.393406</td>\n",
              "      <td>0.092908</td>\n",
              "      <td>NaN</td>\n",
              "    </tr>\n",
              "    <tr>\n",
              "      <th>d</th>\n",
              "      <td>NaN</td>\n",
              "      <td>0.281746</td>\n",
              "      <td>0.769023</td>\n",
              "    </tr>\n",
              "  </tbody>\n",
              "</table>\n",
              "</div>"
            ],
            "text/plain": [
              "          1         2         3\n",
              "a -0.204708  0.478943 -0.519439\n",
              "b -0.555730       NaN  1.965781\n",
              "c  1.393406  0.092908       NaN\n",
              "d       NaN  0.281746  0.769023"
            ]
          },
          "metadata": {},
          "execution_count": 78
        }
      ]
    },
    {
      "cell_type": "markdown",
      "metadata": {
        "id": "bQCYXcSIZjmR"
      },
      "source": [
        "and the inverse version is `stack`\n"
      ]
    },
    {
      "cell_type": "code",
      "metadata": {
        "id": "wGuO8MfbZnhy",
        "colab": {
          "base_uri": "https://localhost:8080/"
        },
        "outputId": "6d7ba1db-9f6c-4c7c-f85a-996be1709d5f"
      },
      "source": [
        "data.unstack().stack()"
      ],
      "execution_count": 79,
      "outputs": [
        {
          "output_type": "execute_result",
          "data": {
            "text/plain": [
              "a  1   -0.204708\n",
              "   2    0.478943\n",
              "   3   -0.519439\n",
              "b  1   -0.555730\n",
              "   3    1.965781\n",
              "c  1    1.393406\n",
              "   2    0.092908\n",
              "d  2    0.281746\n",
              "   3    0.769023\n",
              "dtype: float64"
            ]
          },
          "metadata": {},
          "execution_count": 79
        }
      ]
    },
    {
      "cell_type": "markdown",
      "metadata": {
        "id": "GXsOL913Zm2k"
      },
      "source": [
        "As the data frame, exiter axis can have hierachical index\n"
      ]
    },
    {
      "cell_type": "code",
      "metadata": {
        "id": "Ve8ZRh7sZ6Xo",
        "colab": {
          "base_uri": "https://localhost:8080/",
          "height": 202
        },
        "outputId": "171e5112-80cc-4453-d5db-66dcb606ec20"
      },
      "source": [
        "frame = pd.DataFrame(np.arange(12).reshape((4, 3)),\n",
        "                     index=[['a', 'a', 'b', 'b'], [1, 2, 1, 2]],\n",
        "                     columns=[['Ohio', 'Ohio', 'Colorado'],\n",
        "                              ['Green', 'Red', 'Green']])\n",
        "frame"
      ],
      "execution_count": 80,
      "outputs": [
        {
          "output_type": "execute_result",
          "data": {
            "text/html": [
              "<div>\n",
              "<style scoped>\n",
              "    .dataframe tbody tr th:only-of-type {\n",
              "        vertical-align: middle;\n",
              "    }\n",
              "\n",
              "    .dataframe tbody tr th {\n",
              "        vertical-align: top;\n",
              "    }\n",
              "\n",
              "    .dataframe thead tr th {\n",
              "        text-align: left;\n",
              "    }\n",
              "</style>\n",
              "<table border=\"1\" class=\"dataframe\">\n",
              "  <thead>\n",
              "    <tr>\n",
              "      <th></th>\n",
              "      <th></th>\n",
              "      <th colspan=\"2\" halign=\"left\">Ohio</th>\n",
              "      <th>Colorado</th>\n",
              "    </tr>\n",
              "    <tr>\n",
              "      <th></th>\n",
              "      <th></th>\n",
              "      <th>Green</th>\n",
              "      <th>Red</th>\n",
              "      <th>Green</th>\n",
              "    </tr>\n",
              "  </thead>\n",
              "  <tbody>\n",
              "    <tr>\n",
              "      <th rowspan=\"2\" valign=\"top\">a</th>\n",
              "      <th>1</th>\n",
              "      <td>0</td>\n",
              "      <td>1</td>\n",
              "      <td>2</td>\n",
              "    </tr>\n",
              "    <tr>\n",
              "      <th>2</th>\n",
              "      <td>3</td>\n",
              "      <td>4</td>\n",
              "      <td>5</td>\n",
              "    </tr>\n",
              "    <tr>\n",
              "      <th rowspan=\"2\" valign=\"top\">b</th>\n",
              "      <th>1</th>\n",
              "      <td>6</td>\n",
              "      <td>7</td>\n",
              "      <td>8</td>\n",
              "    </tr>\n",
              "    <tr>\n",
              "      <th>2</th>\n",
              "      <td>9</td>\n",
              "      <td>10</td>\n",
              "      <td>11</td>\n",
              "    </tr>\n",
              "  </tbody>\n",
              "</table>\n",
              "</div>"
            ],
            "text/plain": [
              "     Ohio     Colorado\n",
              "    Green Red    Green\n",
              "a 1     0   1        2\n",
              "  2     3   4        5\n",
              "b 1     6   7        8\n",
              "  2     9  10       11"
            ]
          },
          "metadata": {},
          "execution_count": 80
        }
      ]
    },
    {
      "cell_type": "markdown",
      "metadata": {
        "id": "CZ9jXyGVZ-fm"
      },
      "source": [
        "The Hierachy level can have names.  "
      ]
    },
    {
      "cell_type": "code",
      "metadata": {
        "id": "gqIodxW9aLkH",
        "colab": {
          "base_uri": "https://localhost:8080/",
          "height": 233
        },
        "outputId": "c590bcfd-f510-4e24-bd2f-163482920dba"
      },
      "source": [
        "frame.index.names = ['key1', 'key2']\n",
        "frame.columns.names = ['state', 'color']\n",
        "frame"
      ],
      "execution_count": 81,
      "outputs": [
        {
          "output_type": "execute_result",
          "data": {
            "text/html": [
              "<div>\n",
              "<style scoped>\n",
              "    .dataframe tbody tr th:only-of-type {\n",
              "        vertical-align: middle;\n",
              "    }\n",
              "\n",
              "    .dataframe tbody tr th {\n",
              "        vertical-align: top;\n",
              "    }\n",
              "\n",
              "    .dataframe thead tr th {\n",
              "        text-align: left;\n",
              "    }\n",
              "\n",
              "    .dataframe thead tr:last-of-type th {\n",
              "        text-align: right;\n",
              "    }\n",
              "</style>\n",
              "<table border=\"1\" class=\"dataframe\">\n",
              "  <thead>\n",
              "    <tr>\n",
              "      <th></th>\n",
              "      <th>state</th>\n",
              "      <th colspan=\"2\" halign=\"left\">Ohio</th>\n",
              "      <th>Colorado</th>\n",
              "    </tr>\n",
              "    <tr>\n",
              "      <th></th>\n",
              "      <th>color</th>\n",
              "      <th>Green</th>\n",
              "      <th>Red</th>\n",
              "      <th>Green</th>\n",
              "    </tr>\n",
              "    <tr>\n",
              "      <th>key1</th>\n",
              "      <th>key2</th>\n",
              "      <th></th>\n",
              "      <th></th>\n",
              "      <th></th>\n",
              "    </tr>\n",
              "  </thead>\n",
              "  <tbody>\n",
              "    <tr>\n",
              "      <th rowspan=\"2\" valign=\"top\">a</th>\n",
              "      <th>1</th>\n",
              "      <td>0</td>\n",
              "      <td>1</td>\n",
              "      <td>2</td>\n",
              "    </tr>\n",
              "    <tr>\n",
              "      <th>2</th>\n",
              "      <td>3</td>\n",
              "      <td>4</td>\n",
              "      <td>5</td>\n",
              "    </tr>\n",
              "    <tr>\n",
              "      <th rowspan=\"2\" valign=\"top\">b</th>\n",
              "      <th>1</th>\n",
              "      <td>6</td>\n",
              "      <td>7</td>\n",
              "      <td>8</td>\n",
              "    </tr>\n",
              "    <tr>\n",
              "      <th>2</th>\n",
              "      <td>9</td>\n",
              "      <td>10</td>\n",
              "      <td>11</td>\n",
              "    </tr>\n",
              "  </tbody>\n",
              "</table>\n",
              "</div>"
            ],
            "text/plain": [
              "state      Ohio     Colorado\n",
              "color     Green Red    Green\n",
              "key1 key2                   \n",
              "a    1        0   1        2\n",
              "     2        3   4        5\n",
              "b    1        6   7        8\n",
              "     2        9  10       11"
            ]
          },
          "metadata": {},
          "execution_count": 81
        }
      ]
    },
    {
      "cell_type": "markdown",
      "metadata": {
        "id": "emySw1xbbGsB"
      },
      "source": [
        "###Work create this data frame\n",
        "\n",
        "![image.png](data:image/png;base64,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)\n"
      ]
    },
    {
      "cell_type": "code",
      "metadata": {
        "id": "A-obRPglGHH3",
        "colab": {
          "base_uri": "https://localhost:8080/",
          "height": 387
        },
        "outputId": "ae33db86-3f16-4eb1-b889-f7036c9a328e"
      },
      "source": [
        "Income = [4473.00, 1597.00, 5013.00, 10236.00, 15818.00, 15063.00, 13777.00, 3730.00, 8395.00, 16054.00]\n",
        "Populations = [32113.00, 28044.00, 46028.00, 30104.00, 43097.00, 44404.00, 84133.00, 13448.00, 74449.00, 58280.00]\n",
        "d_frame = pd.DataFrame(df,\n",
        "                     index=[['Chiang Mai', 'Chiang Mai', 'Chiang Mai', 'Chiang Mai',\n",
        "                             'Lampang', 'Lampang', 'Lampang',\n",
        "                             'Bangkok', 'Bangkok', 'Bangkok'], \n",
        "                            ['Muang', 'Sansai', 'MaeRim', 'Hangdong',\n",
        "                              'Jaehom', 'Muang', 'Maetha',\n",
        "                              'Pathumwan', 'Samsen', 'Don muang']],\n",
        "                     columns=[['Income', 'Populations']])\n",
        "d_frame.index.names = ['Province', 'Subdistrict']\n",
        "d_frame[['Income']] = Income\n",
        "d_frame[['Populations']] = Populations\n",
        "d_frame"
      ],
      "execution_count": 82,
      "outputs": [
        {
          "output_type": "execute_result",
          "data": {
            "text/html": [
              "<div>\n",
              "<style scoped>\n",
              "    .dataframe tbody tr th:only-of-type {\n",
              "        vertical-align: middle;\n",
              "    }\n",
              "\n",
              "    .dataframe tbody tr th {\n",
              "        vertical-align: top;\n",
              "    }\n",
              "\n",
              "    .dataframe thead tr th {\n",
              "        text-align: left;\n",
              "    }\n",
              "\n",
              "    .dataframe thead tr:last-of-type th {\n",
              "        text-align: right;\n",
              "    }\n",
              "</style>\n",
              "<table border=\"1\" class=\"dataframe\">\n",
              "  <thead>\n",
              "    <tr>\n",
              "      <th></th>\n",
              "      <th></th>\n",
              "      <th>Income</th>\n",
              "      <th>Populations</th>\n",
              "    </tr>\n",
              "    <tr>\n",
              "      <th>Province</th>\n",
              "      <th>Subdistrict</th>\n",
              "      <th></th>\n",
              "      <th></th>\n",
              "    </tr>\n",
              "  </thead>\n",
              "  <tbody>\n",
              "    <tr>\n",
              "      <th rowspan=\"4\" valign=\"top\">Chiang Mai</th>\n",
              "      <th>Muang</th>\n",
              "      <td>4473.0</td>\n",
              "      <td>32113.0</td>\n",
              "    </tr>\n",
              "    <tr>\n",
              "      <th>Sansai</th>\n",
              "      <td>1597.0</td>\n",
              "      <td>28044.0</td>\n",
              "    </tr>\n",
              "    <tr>\n",
              "      <th>MaeRim</th>\n",
              "      <td>5013.0</td>\n",
              "      <td>46028.0</td>\n",
              "    </tr>\n",
              "    <tr>\n",
              "      <th>Hangdong</th>\n",
              "      <td>10236.0</td>\n",
              "      <td>30104.0</td>\n",
              "    </tr>\n",
              "    <tr>\n",
              "      <th rowspan=\"3\" valign=\"top\">Lampang</th>\n",
              "      <th>Jaehom</th>\n",
              "      <td>15818.0</td>\n",
              "      <td>43097.0</td>\n",
              "    </tr>\n",
              "    <tr>\n",
              "      <th>Muang</th>\n",
              "      <td>15063.0</td>\n",
              "      <td>44404.0</td>\n",
              "    </tr>\n",
              "    <tr>\n",
              "      <th>Maetha</th>\n",
              "      <td>13777.0</td>\n",
              "      <td>84133.0</td>\n",
              "    </tr>\n",
              "    <tr>\n",
              "      <th rowspan=\"3\" valign=\"top\">Bangkok</th>\n",
              "      <th>Pathumwan</th>\n",
              "      <td>3730.0</td>\n",
              "      <td>13448.0</td>\n",
              "    </tr>\n",
              "    <tr>\n",
              "      <th>Samsen</th>\n",
              "      <td>8395.0</td>\n",
              "      <td>74449.0</td>\n",
              "    </tr>\n",
              "    <tr>\n",
              "      <th>Don muang</th>\n",
              "      <td>16054.0</td>\n",
              "      <td>58280.0</td>\n",
              "    </tr>\n",
              "  </tbody>\n",
              "</table>\n",
              "</div>"
            ],
            "text/plain": [
              "                         Income Populations\n",
              "Province   Subdistrict                     \n",
              "Chiang Mai Muang         4473.0     32113.0\n",
              "           Sansai        1597.0     28044.0\n",
              "           MaeRim        5013.0     46028.0\n",
              "           Hangdong     10236.0     30104.0\n",
              "Lampang    Jaehom       15818.0     43097.0\n",
              "           Muang        15063.0     44404.0\n",
              "           Maetha       13777.0     84133.0\n",
              "Bangkok    Pathumwan     3730.0     13448.0\n",
              "           Samsen        8395.0     74449.0\n",
              "           Don muang    16054.0     58280.0"
            ]
          },
          "metadata": {},
          "execution_count": 82
        }
      ]
    },
    {
      "cell_type": "markdown",
      "metadata": {
        "id": "nQzWwA2dcSH7"
      },
      "source": [
        "## Reordering and Sorting Levels\n",
        "---\n",
        "\n",
        "To transform data, we may have to swap the level of the data frame"
      ]
    },
    {
      "cell_type": "code",
      "metadata": {
        "id": "6ZygL5aTcihv",
        "colab": {
          "base_uri": "https://localhost:8080/",
          "height": 233
        },
        "outputId": "61b95dcf-bbef-43d8-d032-4f0c6153f33a"
      },
      "source": [
        "frame.swaplevel('key1','key2')"
      ],
      "execution_count": 83,
      "outputs": [
        {
          "output_type": "execute_result",
          "data": {
            "text/html": [
              "<div>\n",
              "<style scoped>\n",
              "    .dataframe tbody tr th:only-of-type {\n",
              "        vertical-align: middle;\n",
              "    }\n",
              "\n",
              "    .dataframe tbody tr th {\n",
              "        vertical-align: top;\n",
              "    }\n",
              "\n",
              "    .dataframe thead tr th {\n",
              "        text-align: left;\n",
              "    }\n",
              "\n",
              "    .dataframe thead tr:last-of-type th {\n",
              "        text-align: right;\n",
              "    }\n",
              "</style>\n",
              "<table border=\"1\" class=\"dataframe\">\n",
              "  <thead>\n",
              "    <tr>\n",
              "      <th></th>\n",
              "      <th>state</th>\n",
              "      <th colspan=\"2\" halign=\"left\">Ohio</th>\n",
              "      <th>Colorado</th>\n",
              "    </tr>\n",
              "    <tr>\n",
              "      <th></th>\n",
              "      <th>color</th>\n",
              "      <th>Green</th>\n",
              "      <th>Red</th>\n",
              "      <th>Green</th>\n",
              "    </tr>\n",
              "    <tr>\n",
              "      <th>key2</th>\n",
              "      <th>key1</th>\n",
              "      <th></th>\n",
              "      <th></th>\n",
              "      <th></th>\n",
              "    </tr>\n",
              "  </thead>\n",
              "  <tbody>\n",
              "    <tr>\n",
              "      <th>1</th>\n",
              "      <th>a</th>\n",
              "      <td>0</td>\n",
              "      <td>1</td>\n",
              "      <td>2</td>\n",
              "    </tr>\n",
              "    <tr>\n",
              "      <th>2</th>\n",
              "      <th>a</th>\n",
              "      <td>3</td>\n",
              "      <td>4</td>\n",
              "      <td>5</td>\n",
              "    </tr>\n",
              "    <tr>\n",
              "      <th>1</th>\n",
              "      <th>b</th>\n",
              "      <td>6</td>\n",
              "      <td>7</td>\n",
              "      <td>8</td>\n",
              "    </tr>\n",
              "    <tr>\n",
              "      <th>2</th>\n",
              "      <th>b</th>\n",
              "      <td>9</td>\n",
              "      <td>10</td>\n",
              "      <td>11</td>\n",
              "    </tr>\n",
              "  </tbody>\n",
              "</table>\n",
              "</div>"
            ],
            "text/plain": [
              "state      Ohio     Colorado\n",
              "color     Green Red    Green\n",
              "key2 key1                   \n",
              "1    a        0   1        2\n",
              "2    a        3   4        5\n",
              "1    b        6   7        8\n",
              "2    b        9  10       11"
            ]
          },
          "metadata": {},
          "execution_count": 83
        }
      ]
    },
    {
      "cell_type": "markdown",
      "metadata": {
        "id": "5arWxbUBcqyt"
      },
      "source": [
        "The index is not sort, so the multi hierachy is not set. we can sort the index at any level to set the better visualization"
      ]
    },
    {
      "cell_type": "code",
      "metadata": {
        "id": "X2Ny0uohc4Nl",
        "colab": {
          "base_uri": "https://localhost:8080/",
          "height": 233
        },
        "outputId": "dc920326-d3f3-4657-f8fc-27d66cc3392a"
      },
      "source": [
        "frame.sort_index(level=1)"
      ],
      "execution_count": 84,
      "outputs": [
        {
          "output_type": "execute_result",
          "data": {
            "text/html": [
              "<div>\n",
              "<style scoped>\n",
              "    .dataframe tbody tr th:only-of-type {\n",
              "        vertical-align: middle;\n",
              "    }\n",
              "\n",
              "    .dataframe tbody tr th {\n",
              "        vertical-align: top;\n",
              "    }\n",
              "\n",
              "    .dataframe thead tr th {\n",
              "        text-align: left;\n",
              "    }\n",
              "\n",
              "    .dataframe thead tr:last-of-type th {\n",
              "        text-align: right;\n",
              "    }\n",
              "</style>\n",
              "<table border=\"1\" class=\"dataframe\">\n",
              "  <thead>\n",
              "    <tr>\n",
              "      <th></th>\n",
              "      <th>state</th>\n",
              "      <th colspan=\"2\" halign=\"left\">Ohio</th>\n",
              "      <th>Colorado</th>\n",
              "    </tr>\n",
              "    <tr>\n",
              "      <th></th>\n",
              "      <th>color</th>\n",
              "      <th>Green</th>\n",
              "      <th>Red</th>\n",
              "      <th>Green</th>\n",
              "    </tr>\n",
              "    <tr>\n",
              "      <th>key1</th>\n",
              "      <th>key2</th>\n",
              "      <th></th>\n",
              "      <th></th>\n",
              "      <th></th>\n",
              "    </tr>\n",
              "  </thead>\n",
              "  <tbody>\n",
              "    <tr>\n",
              "      <th>a</th>\n",
              "      <th>1</th>\n",
              "      <td>0</td>\n",
              "      <td>1</td>\n",
              "      <td>2</td>\n",
              "    </tr>\n",
              "    <tr>\n",
              "      <th>b</th>\n",
              "      <th>1</th>\n",
              "      <td>6</td>\n",
              "      <td>7</td>\n",
              "      <td>8</td>\n",
              "    </tr>\n",
              "    <tr>\n",
              "      <th>a</th>\n",
              "      <th>2</th>\n",
              "      <td>3</td>\n",
              "      <td>4</td>\n",
              "      <td>5</td>\n",
              "    </tr>\n",
              "    <tr>\n",
              "      <th>b</th>\n",
              "      <th>2</th>\n",
              "      <td>9</td>\n",
              "      <td>10</td>\n",
              "      <td>11</td>\n",
              "    </tr>\n",
              "  </tbody>\n",
              "</table>\n",
              "</div>"
            ],
            "text/plain": [
              "state      Ohio     Colorado\n",
              "color     Green Red    Green\n",
              "key1 key2                   \n",
              "a    1        0   1        2\n",
              "b    1        6   7        8\n",
              "a    2        3   4        5\n",
              "b    2        9  10       11"
            ]
          },
          "metadata": {},
          "execution_count": 84
        }
      ]
    },
    {
      "cell_type": "markdown",
      "metadata": {
        "id": "19Wv8aXtc3YS"
      },
      "source": [
        "So swap the key and sort will make the hieracy better"
      ]
    },
    {
      "cell_type": "code",
      "metadata": {
        "id": "Og3_js0NdJgB",
        "colab": {
          "base_uri": "https://localhost:8080/",
          "height": 233
        },
        "outputId": "7700b35e-d085-4a80-8d7d-eb6ee9649205"
      },
      "source": [
        "frame.swaplevel(0,1).sort_index(level=0)"
      ],
      "execution_count": 85,
      "outputs": [
        {
          "output_type": "execute_result",
          "data": {
            "text/html": [
              "<div>\n",
              "<style scoped>\n",
              "    .dataframe tbody tr th:only-of-type {\n",
              "        vertical-align: middle;\n",
              "    }\n",
              "\n",
              "    .dataframe tbody tr th {\n",
              "        vertical-align: top;\n",
              "    }\n",
              "\n",
              "    .dataframe thead tr th {\n",
              "        text-align: left;\n",
              "    }\n",
              "\n",
              "    .dataframe thead tr:last-of-type th {\n",
              "        text-align: right;\n",
              "    }\n",
              "</style>\n",
              "<table border=\"1\" class=\"dataframe\">\n",
              "  <thead>\n",
              "    <tr>\n",
              "      <th></th>\n",
              "      <th>state</th>\n",
              "      <th colspan=\"2\" halign=\"left\">Ohio</th>\n",
              "      <th>Colorado</th>\n",
              "    </tr>\n",
              "    <tr>\n",
              "      <th></th>\n",
              "      <th>color</th>\n",
              "      <th>Green</th>\n",
              "      <th>Red</th>\n",
              "      <th>Green</th>\n",
              "    </tr>\n",
              "    <tr>\n",
              "      <th>key2</th>\n",
              "      <th>key1</th>\n",
              "      <th></th>\n",
              "      <th></th>\n",
              "      <th></th>\n",
              "    </tr>\n",
              "  </thead>\n",
              "  <tbody>\n",
              "    <tr>\n",
              "      <th rowspan=\"2\" valign=\"top\">1</th>\n",
              "      <th>a</th>\n",
              "      <td>0</td>\n",
              "      <td>1</td>\n",
              "      <td>2</td>\n",
              "    </tr>\n",
              "    <tr>\n",
              "      <th>b</th>\n",
              "      <td>6</td>\n",
              "      <td>7</td>\n",
              "      <td>8</td>\n",
              "    </tr>\n",
              "    <tr>\n",
              "      <th rowspan=\"2\" valign=\"top\">2</th>\n",
              "      <th>a</th>\n",
              "      <td>3</td>\n",
              "      <td>4</td>\n",
              "      <td>5</td>\n",
              "    </tr>\n",
              "    <tr>\n",
              "      <th>b</th>\n",
              "      <td>9</td>\n",
              "      <td>10</td>\n",
              "      <td>11</td>\n",
              "    </tr>\n",
              "  </tbody>\n",
              "</table>\n",
              "</div>"
            ],
            "text/plain": [
              "state      Ohio     Colorado\n",
              "color     Green Red    Green\n",
              "key2 key1                   \n",
              "1    a        0   1        2\n",
              "     b        6   7        8\n",
              "2    a        3   4        5\n",
              "     b        9  10       11"
            ]
          },
          "metadata": {},
          "execution_count": 85
        }
      ]
    },
    {
      "cell_type": "markdown",
      "metadata": {
        "id": "pMDjpHuydQZQ"
      },
      "source": [
        "##Summary Statistics by Level\n",
        "---\n",
        "\n",
        "The statistic data can be calculated with the specific level\n",
        "For example, if we want to calculated on the rows data"
      ]
    },
    {
      "cell_type": "code",
      "metadata": {
        "id": "w5aakRcoddFi",
        "colab": {
          "base_uri": "https://localhost:8080/",
          "height": 172
        },
        "outputId": "40466cde-86a4-4b6d-8a00-524576548bfb"
      },
      "source": [
        "frame.sum(level='key2')"
      ],
      "execution_count": 86,
      "outputs": [
        {
          "output_type": "execute_result",
          "data": {
            "text/html": [
              "<div>\n",
              "<style scoped>\n",
              "    .dataframe tbody tr th:only-of-type {\n",
              "        vertical-align: middle;\n",
              "    }\n",
              "\n",
              "    .dataframe tbody tr th {\n",
              "        vertical-align: top;\n",
              "    }\n",
              "\n",
              "    .dataframe thead tr th {\n",
              "        text-align: left;\n",
              "    }\n",
              "\n",
              "    .dataframe thead tr:last-of-type th {\n",
              "        text-align: right;\n",
              "    }\n",
              "</style>\n",
              "<table border=\"1\" class=\"dataframe\">\n",
              "  <thead>\n",
              "    <tr>\n",
              "      <th>state</th>\n",
              "      <th colspan=\"2\" halign=\"left\">Ohio</th>\n",
              "      <th>Colorado</th>\n",
              "    </tr>\n",
              "    <tr>\n",
              "      <th>color</th>\n",
              "      <th>Green</th>\n",
              "      <th>Red</th>\n",
              "      <th>Green</th>\n",
              "    </tr>\n",
              "    <tr>\n",
              "      <th>key2</th>\n",
              "      <th></th>\n",
              "      <th></th>\n",
              "      <th></th>\n",
              "    </tr>\n",
              "  </thead>\n",
              "  <tbody>\n",
              "    <tr>\n",
              "      <th>1</th>\n",
              "      <td>6</td>\n",
              "      <td>8</td>\n",
              "      <td>10</td>\n",
              "    </tr>\n",
              "    <tr>\n",
              "      <th>2</th>\n",
              "      <td>12</td>\n",
              "      <td>14</td>\n",
              "      <td>16</td>\n",
              "    </tr>\n",
              "  </tbody>\n",
              "</table>\n",
              "</div>"
            ],
            "text/plain": [
              "state  Ohio     Colorado\n",
              "color Green Red    Green\n",
              "key2                    \n",
              "1         6   8       10\n",
              "2        12  14       16"
            ]
          },
          "metadata": {},
          "execution_count": 86
        }
      ]
    },
    {
      "cell_type": "markdown",
      "metadata": {
        "id": "9_lxit_HdmgE"
      },
      "source": [
        "Or caluclate on the columnwise"
      ]
    },
    {
      "cell_type": "code",
      "metadata": {
        "id": "qrTdICO1do4Q",
        "colab": {
          "base_uri": "https://localhost:8080/",
          "height": 202
        },
        "outputId": "dc188bc9-5d3c-4f24-b8df-b5d1564d4a0b"
      },
      "source": [
        "frame.sum(level='color',axis=1)"
      ],
      "execution_count": 87,
      "outputs": [
        {
          "output_type": "execute_result",
          "data": {
            "text/html": [
              "<div>\n",
              "<style scoped>\n",
              "    .dataframe tbody tr th:only-of-type {\n",
              "        vertical-align: middle;\n",
              "    }\n",
              "\n",
              "    .dataframe tbody tr th {\n",
              "        vertical-align: top;\n",
              "    }\n",
              "\n",
              "    .dataframe thead th {\n",
              "        text-align: right;\n",
              "    }\n",
              "</style>\n",
              "<table border=\"1\" class=\"dataframe\">\n",
              "  <thead>\n",
              "    <tr style=\"text-align: right;\">\n",
              "      <th></th>\n",
              "      <th>color</th>\n",
              "      <th>Green</th>\n",
              "      <th>Red</th>\n",
              "    </tr>\n",
              "    <tr>\n",
              "      <th>key1</th>\n",
              "      <th>key2</th>\n",
              "      <th></th>\n",
              "      <th></th>\n",
              "    </tr>\n",
              "  </thead>\n",
              "  <tbody>\n",
              "    <tr>\n",
              "      <th rowspan=\"2\" valign=\"top\">a</th>\n",
              "      <th>1</th>\n",
              "      <td>2</td>\n",
              "      <td>1</td>\n",
              "    </tr>\n",
              "    <tr>\n",
              "      <th>2</th>\n",
              "      <td>8</td>\n",
              "      <td>4</td>\n",
              "    </tr>\n",
              "    <tr>\n",
              "      <th rowspan=\"2\" valign=\"top\">b</th>\n",
              "      <th>1</th>\n",
              "      <td>14</td>\n",
              "      <td>7</td>\n",
              "    </tr>\n",
              "    <tr>\n",
              "      <th>2</th>\n",
              "      <td>20</td>\n",
              "      <td>10</td>\n",
              "    </tr>\n",
              "  </tbody>\n",
              "</table>\n",
              "</div>"
            ],
            "text/plain": [
              "color      Green  Red\n",
              "key1 key2            \n",
              "a    1         2    1\n",
              "     2         8    4\n",
              "b    1        14    7\n",
              "     2        20   10"
            ]
          },
          "metadata": {},
          "execution_count": 87
        }
      ]
    },
    {
      "cell_type": "markdown",
      "metadata": {
        "id": "MBeUAN24d1fO"
      },
      "source": [
        "##Indexing with DataFrame's Column\n",
        "\n",
        "---\n",
        "\n",
        "some time we want to use the row index as the columns"
      ]
    },
    {
      "cell_type": "code",
      "metadata": {
        "id": "9FCdXwSxeDZf",
        "colab": {
          "base_uri": "https://localhost:8080/",
          "height": 264
        },
        "outputId": "91d96ef1-3c33-48f0-d4ff-96da3a0a26c0"
      },
      "source": [
        "frame = pd.DataFrame({'a': range(7), 'b': range(7, 0, -1),\n",
        "                      'c': ['one', 'one', 'one', 'two', 'two',\n",
        "                            'two', 'two'],\n",
        "                      'd': [0, 1, 2, 0, 1, 2, 3]})\n",
        "frame"
      ],
      "execution_count": 88,
      "outputs": [
        {
          "output_type": "execute_result",
          "data": {
            "text/html": [
              "<div>\n",
              "<style scoped>\n",
              "    .dataframe tbody tr th:only-of-type {\n",
              "        vertical-align: middle;\n",
              "    }\n",
              "\n",
              "    .dataframe tbody tr th {\n",
              "        vertical-align: top;\n",
              "    }\n",
              "\n",
              "    .dataframe thead th {\n",
              "        text-align: right;\n",
              "    }\n",
              "</style>\n",
              "<table border=\"1\" class=\"dataframe\">\n",
              "  <thead>\n",
              "    <tr style=\"text-align: right;\">\n",
              "      <th></th>\n",
              "      <th>a</th>\n",
              "      <th>b</th>\n",
              "      <th>c</th>\n",
              "      <th>d</th>\n",
              "    </tr>\n",
              "  </thead>\n",
              "  <tbody>\n",
              "    <tr>\n",
              "      <th>0</th>\n",
              "      <td>0</td>\n",
              "      <td>7</td>\n",
              "      <td>one</td>\n",
              "      <td>0</td>\n",
              "    </tr>\n",
              "    <tr>\n",
              "      <th>1</th>\n",
              "      <td>1</td>\n",
              "      <td>6</td>\n",
              "      <td>one</td>\n",
              "      <td>1</td>\n",
              "    </tr>\n",
              "    <tr>\n",
              "      <th>2</th>\n",
              "      <td>2</td>\n",
              "      <td>5</td>\n",
              "      <td>one</td>\n",
              "      <td>2</td>\n",
              "    </tr>\n",
              "    <tr>\n",
              "      <th>3</th>\n",
              "      <td>3</td>\n",
              "      <td>4</td>\n",
              "      <td>two</td>\n",
              "      <td>0</td>\n",
              "    </tr>\n",
              "    <tr>\n",
              "      <th>4</th>\n",
              "      <td>4</td>\n",
              "      <td>3</td>\n",
              "      <td>two</td>\n",
              "      <td>1</td>\n",
              "    </tr>\n",
              "    <tr>\n",
              "      <th>5</th>\n",
              "      <td>5</td>\n",
              "      <td>2</td>\n",
              "      <td>two</td>\n",
              "      <td>2</td>\n",
              "    </tr>\n",
              "    <tr>\n",
              "      <th>6</th>\n",
              "      <td>6</td>\n",
              "      <td>1</td>\n",
              "      <td>two</td>\n",
              "      <td>3</td>\n",
              "    </tr>\n",
              "  </tbody>\n",
              "</table>\n",
              "</div>"
            ],
            "text/plain": [
              "   a  b    c  d\n",
              "0  0  7  one  0\n",
              "1  1  6  one  1\n",
              "2  2  5  one  2\n",
              "3  3  4  two  0\n",
              "4  4  3  two  1\n",
              "5  5  2  two  2\n",
              "6  6  1  two  3"
            ]
          },
          "metadata": {},
          "execution_count": 88
        }
      ]
    },
    {
      "cell_type": "markdown",
      "metadata": {
        "id": "e5pn53joeN9I"
      },
      "source": [
        "We can create a new data farme using some columns as index"
      ]
    },
    {
      "cell_type": "code",
      "metadata": {
        "id": "j4VZfURdeUUR",
        "colab": {
          "base_uri": "https://localhost:8080/",
          "height": 294
        },
        "outputId": "8721b815-aaa4-43f6-ab4a-619c232f7063"
      },
      "source": [
        "frame2 = frame.set_index(['c','d'])\n",
        "frame2"
      ],
      "execution_count": 89,
      "outputs": [
        {
          "output_type": "execute_result",
          "data": {
            "text/html": [
              "<div>\n",
              "<style scoped>\n",
              "    .dataframe tbody tr th:only-of-type {\n",
              "        vertical-align: middle;\n",
              "    }\n",
              "\n",
              "    .dataframe tbody tr th {\n",
              "        vertical-align: top;\n",
              "    }\n",
              "\n",
              "    .dataframe thead th {\n",
              "        text-align: right;\n",
              "    }\n",
              "</style>\n",
              "<table border=\"1\" class=\"dataframe\">\n",
              "  <thead>\n",
              "    <tr style=\"text-align: right;\">\n",
              "      <th></th>\n",
              "      <th></th>\n",
              "      <th>a</th>\n",
              "      <th>b</th>\n",
              "    </tr>\n",
              "    <tr>\n",
              "      <th>c</th>\n",
              "      <th>d</th>\n",
              "      <th></th>\n",
              "      <th></th>\n",
              "    </tr>\n",
              "  </thead>\n",
              "  <tbody>\n",
              "    <tr>\n",
              "      <th rowspan=\"3\" valign=\"top\">one</th>\n",
              "      <th>0</th>\n",
              "      <td>0</td>\n",
              "      <td>7</td>\n",
              "    </tr>\n",
              "    <tr>\n",
              "      <th>1</th>\n",
              "      <td>1</td>\n",
              "      <td>6</td>\n",
              "    </tr>\n",
              "    <tr>\n",
              "      <th>2</th>\n",
              "      <td>2</td>\n",
              "      <td>5</td>\n",
              "    </tr>\n",
              "    <tr>\n",
              "      <th rowspan=\"4\" valign=\"top\">two</th>\n",
              "      <th>0</th>\n",
              "      <td>3</td>\n",
              "      <td>4</td>\n",
              "    </tr>\n",
              "    <tr>\n",
              "      <th>1</th>\n",
              "      <td>4</td>\n",
              "      <td>3</td>\n",
              "    </tr>\n",
              "    <tr>\n",
              "      <th>2</th>\n",
              "      <td>5</td>\n",
              "      <td>2</td>\n",
              "    </tr>\n",
              "    <tr>\n",
              "      <th>3</th>\n",
              "      <td>6</td>\n",
              "      <td>1</td>\n",
              "    </tr>\n",
              "  </tbody>\n",
              "</table>\n",
              "</div>"
            ],
            "text/plain": [
              "       a  b\n",
              "c   d      \n",
              "one 0  0  7\n",
              "    1  1  6\n",
              "    2  2  5\n",
              "two 0  3  4\n",
              "    1  4  3\n",
              "    2  5  2\n",
              "    3  6  1"
            ]
          },
          "metadata": {},
          "execution_count": 89
        }
      ]
    },
    {
      "cell_type": "markdown",
      "metadata": {
        "id": "tcuHhjzdelgo"
      },
      "source": [
        "By default, the column is removed from the source data frame. However, if we do not want to remove the column, the `drop` parameter is passed"
      ]
    },
    {
      "cell_type": "code",
      "metadata": {
        "id": "T0u7NOAzewY3",
        "colab": {
          "base_uri": "https://localhost:8080/",
          "height": 294
        },
        "outputId": "a425d4b8-8ba2-4e35-da36-800dfaa9445e"
      },
      "source": [
        "frame.set_index(['c','d'],drop = False)"
      ],
      "execution_count": 90,
      "outputs": [
        {
          "output_type": "execute_result",
          "data": {
            "text/html": [
              "<div>\n",
              "<style scoped>\n",
              "    .dataframe tbody tr th:only-of-type {\n",
              "        vertical-align: middle;\n",
              "    }\n",
              "\n",
              "    .dataframe tbody tr th {\n",
              "        vertical-align: top;\n",
              "    }\n",
              "\n",
              "    .dataframe thead th {\n",
              "        text-align: right;\n",
              "    }\n",
              "</style>\n",
              "<table border=\"1\" class=\"dataframe\">\n",
              "  <thead>\n",
              "    <tr style=\"text-align: right;\">\n",
              "      <th></th>\n",
              "      <th></th>\n",
              "      <th>a</th>\n",
              "      <th>b</th>\n",
              "      <th>c</th>\n",
              "      <th>d</th>\n",
              "    </tr>\n",
              "    <tr>\n",
              "      <th>c</th>\n",
              "      <th>d</th>\n",
              "      <th></th>\n",
              "      <th></th>\n",
              "      <th></th>\n",
              "      <th></th>\n",
              "    </tr>\n",
              "  </thead>\n",
              "  <tbody>\n",
              "    <tr>\n",
              "      <th rowspan=\"3\" valign=\"top\">one</th>\n",
              "      <th>0</th>\n",
              "      <td>0</td>\n",
              "      <td>7</td>\n",
              "      <td>one</td>\n",
              "      <td>0</td>\n",
              "    </tr>\n",
              "    <tr>\n",
              "      <th>1</th>\n",
              "      <td>1</td>\n",
              "      <td>6</td>\n",
              "      <td>one</td>\n",
              "      <td>1</td>\n",
              "    </tr>\n",
              "    <tr>\n",
              "      <th>2</th>\n",
              "      <td>2</td>\n",
              "      <td>5</td>\n",
              "      <td>one</td>\n",
              "      <td>2</td>\n",
              "    </tr>\n",
              "    <tr>\n",
              "      <th rowspan=\"4\" valign=\"top\">two</th>\n",
              "      <th>0</th>\n",
              "      <td>3</td>\n",
              "      <td>4</td>\n",
              "      <td>two</td>\n",
              "      <td>0</td>\n",
              "    </tr>\n",
              "    <tr>\n",
              "      <th>1</th>\n",
              "      <td>4</td>\n",
              "      <td>3</td>\n",
              "      <td>two</td>\n",
              "      <td>1</td>\n",
              "    </tr>\n",
              "    <tr>\n",
              "      <th>2</th>\n",
              "      <td>5</td>\n",
              "      <td>2</td>\n",
              "      <td>two</td>\n",
              "      <td>2</td>\n",
              "    </tr>\n",
              "    <tr>\n",
              "      <th>3</th>\n",
              "      <td>6</td>\n",
              "      <td>1</td>\n",
              "      <td>two</td>\n",
              "      <td>3</td>\n",
              "    </tr>\n",
              "  </tbody>\n",
              "</table>\n",
              "</div>"
            ],
            "text/plain": [
              "       a  b    c  d\n",
              "c   d              \n",
              "one 0  0  7  one  0\n",
              "    1  1  6  one  1\n",
              "    2  2  5  one  2\n",
              "two 0  3  4  two  0\n",
              "    1  4  3  two  1\n",
              "    2  5  2  two  2\n",
              "    3  6  1  two  3"
            ]
          },
          "metadata": {},
          "execution_count": 90
        }
      ]
    },
    {
      "cell_type": "markdown",
      "metadata": {
        "id": "tmjSFr8NHAgG"
      },
      "source": [
        "###Work\n",
        "---\n",
        "\n",
        "\n",
        "From the given [car_details.xlsx](https://drive.google.com/open?id=1-7Q2mYi6LJNTWClJo4y0_vPB4YAuJeWn)\n",
        "\n",
        "provided the hierachy data frame which carbrand, carmodel, and the model_name TH is a key\n",
        "\n",
        "![image.png](data:image/png;base64,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)"
      ]
    },
    {
      "cell_type": "markdown",
      "metadata": {
        "id": "hpRcWSLxa9wu"
      },
      "source": [
        "And then calculate the average price of each car brand\n",
        "\n",
        "![image.png](data:image/png;base64,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)"
      ]
    },
    {
      "cell_type": "code",
      "metadata": {
        "colab": {
          "base_uri": "https://localhost:8080/",
          "height": 432
        },
        "id": "fFpptPtx81n0",
        "outputId": "328c1df8-b642-45e0-d05c-f656fea27d11"
      },
      "source": [
        "# import file\n",
        "from google.colab import drive \n",
        "drive.mount('/content/gdrive')\n",
        "\n",
        "import pandas as pd \n",
        "df = pd.read_csv('gdrive/My Drive/Colab Notebooks/car_details.csv', header=1, encoding=\"TIS-620\")\n",
        "df"
      ],
      "execution_count": 91,
      "outputs": [
        {
          "output_type": "stream",
          "name": "stdout",
          "text": [
            "Drive already mounted at /content/gdrive; to attempt to forcibly remount, call drive.mount(\"/content/gdrive\", force_remount=True).\n"
          ]
        },
        {
          "output_type": "execute_result",
          "data": {
            "text/html": [
              "<div>\n",
              "<style scoped>\n",
              "    .dataframe tbody tr th:only-of-type {\n",
              "        vertical-align: middle;\n",
              "    }\n",
              "\n",
              "    .dataframe tbody tr th {\n",
              "        vertical-align: top;\n",
              "    }\n",
              "\n",
              "    .dataframe thead th {\n",
              "        text-align: right;\n",
              "    }\n",
              "</style>\n",
              "<table border=\"1\" class=\"dataframe\">\n",
              "  <thead>\n",
              "    <tr style=\"text-align: right;\">\n",
              "      <th></th>\n",
              "      <th>serialNo</th>\n",
              "      <th>car_brand</th>\n",
              "      <th>car_model</th>\n",
              "      <th>model_name_th</th>\n",
              "      <th>nickname</th>\n",
              "      <th>item_name</th>\n",
              "      <th>fitment_detail</th>\n",
              "      <th>standard_price</th>\n",
              "      <th>Unnamed: 8</th>\n",
              "    </tr>\n",
              "  </thead>\n",
              "  <tbody>\n",
              "    <tr>\n",
              "      <th>0</th>\n",
              "      <td>IC-0000001</td>\n",
              "      <td>AUDI</td>\n",
              "      <td>Q5</td>\n",
              "      <td>คิว5</td>\n",
              "      <td>โฉมปี 2008-2016</td>\n",
              "      <td>ไส้กรองน้ำมันเครื่อง</td>\n",
              "      <td>-</td>\n",
              "      <td>NaN</td>\n",
              "      <td>NaN</td>\n",
              "    </tr>\n",
              "    <tr>\n",
              "      <th>1</th>\n",
              "      <td>IC-0000002</td>\n",
              "      <td>BMW</td>\n",
              "      <td>SERIES 5</td>\n",
              "      <td>ซีรี่ย์5</td>\n",
              "      <td>โฉมปี 2003-2010 (E60)</td>\n",
              "      <td>ไส้กรองน้ำมันเครื่อง</td>\n",
              "      <td>-</td>\n",
              "      <td>NaN</td>\n",
              "      <td>NaN</td>\n",
              "    </tr>\n",
              "    <tr>\n",
              "      <th>2</th>\n",
              "      <td>IC-0000003</td>\n",
              "      <td>BMW</td>\n",
              "      <td>SERIES 5</td>\n",
              "      <td>ซีรี่ย์5</td>\n",
              "      <td>โฉมปี 2010-2017 (F10)</td>\n",
              "      <td>ไส้กรองน้ำมันเครื่อง</td>\n",
              "      <td>-</td>\n",
              "      <td>NaN</td>\n",
              "      <td>NaN</td>\n",
              "    </tr>\n",
              "    <tr>\n",
              "      <th>3</th>\n",
              "      <td>JA-0000001</td>\n",
              "      <td>BMW</td>\n",
              "      <td>SERIES 5</td>\n",
              "      <td>ซีรี่ย์5</td>\n",
              "      <td>โฉมปี 2010-2017 (F10)</td>\n",
              "      <td>ใบปัดน้ำฝน</td>\n",
              "      <td>-</td>\n",
              "      <td>NaN</td>\n",
              "      <td>NaN</td>\n",
              "    </tr>\n",
              "    <tr>\n",
              "      <th>4</th>\n",
              "      <td>IC-0000009</td>\n",
              "      <td>BMW</td>\n",
              "      <td>SERIES 3</td>\n",
              "      <td>ซีรี่ย์3</td>\n",
              "      <td>โฉมปี 2011-2018 (F30)</td>\n",
              "      <td>ไส้กรองน้ำมันเครื่อง</td>\n",
              "      <td>-</td>\n",
              "      <td>NaN</td>\n",
              "      <td>NaN</td>\n",
              "    </tr>\n",
              "    <tr>\n",
              "      <th>...</th>\n",
              "      <td>...</td>\n",
              "      <td>...</td>\n",
              "      <td>...</td>\n",
              "      <td>...</td>\n",
              "      <td>...</td>\n",
              "      <td>...</td>\n",
              "      <td>...</td>\n",
              "      <td>...</td>\n",
              "      <td>...</td>\n",
              "    </tr>\n",
              "    <tr>\n",
              "      <th>4724</th>\n",
              "      <td>NaN</td>\n",
              "      <td>TOYOTA</td>\n",
              "      <td>HILUX VIGO</td>\n",
              "      <td>ไฮลักซ์ วีโก้</td>\n",
              "      <td>โฉมปี 2003-2016 (Vigo 2WD)</td>\n",
              "      <td>โช้คอัพ</td>\n",
              "      <td>หน้า</td>\n",
              "      <td>1,250</td>\n",
              "      <td>NaN</td>\n",
              "    </tr>\n",
              "    <tr>\n",
              "      <th>4725</th>\n",
              "      <td>NaN</td>\n",
              "      <td>TOYOTA</td>\n",
              "      <td>HILUX VIGO</td>\n",
              "      <td>ไฮลักซ์ วีโก้</td>\n",
              "      <td>โฉมปี 2003-2016 (Vigo 2WD)</td>\n",
              "      <td>โช้คอัพ</td>\n",
              "      <td>หน้า</td>\n",
              "      <td>1,250</td>\n",
              "      <td>NaN</td>\n",
              "    </tr>\n",
              "    <tr>\n",
              "      <th>4726</th>\n",
              "      <td>NaN</td>\n",
              "      <td>TOYOTA</td>\n",
              "      <td>COROLLA ALTIS</td>\n",
              "      <td>โคโรล่า อัลติส</td>\n",
              "      <td>โฉมปี 2008-2012 (ZZE141)</td>\n",
              "      <td>โช้คอัพ</td>\n",
              "      <td>หลัง</td>\n",
              "      <td>1,440</td>\n",
              "      <td>NaN</td>\n",
              "    </tr>\n",
              "    <tr>\n",
              "      <th>4727</th>\n",
              "      <td>NaN</td>\n",
              "      <td>TOYOTA</td>\n",
              "      <td>HILUX REVO</td>\n",
              "      <td>ไฮลักซ์ รีโว่</td>\n",
              "      <td>โฉมปี 2016-2018 (Revo 4WD และ Pre-Runner ยกสูง)</td>\n",
              "      <td>โช้คอัพ</td>\n",
              "      <td>หน้า</td>\n",
              "      <td>1,580</td>\n",
              "      <td>NaN</td>\n",
              "    </tr>\n",
              "    <tr>\n",
              "      <th>4728</th>\n",
              "      <td>NaN</td>\n",
              "      <td>TOYOTA</td>\n",
              "      <td>FORTUNER</td>\n",
              "      <td>ฟอร์จูนเนอร์</td>\n",
              "      <td>โฉมปี 2015-2019 (KUN160)</td>\n",
              "      <td>โช้คอัพ</td>\n",
              "      <td>หน้า</td>\n",
              "      <td>1,580</td>\n",
              "      <td>NaN</td>\n",
              "    </tr>\n",
              "  </tbody>\n",
              "</table>\n",
              "<p>4729 rows × 9 columns</p>\n",
              "</div>"
            ],
            "text/plain": [
              "        serialNo car_brand  ... standard_price Unnamed: 8\n",
              "0     IC-0000001      AUDI  ...            NaN        NaN\n",
              "1     IC-0000002       BMW  ...            NaN        NaN\n",
              "2     IC-0000003       BMW  ...            NaN        NaN\n",
              "3     JA-0000001       BMW  ...            NaN        NaN\n",
              "4     IC-0000009       BMW  ...            NaN        NaN\n",
              "...          ...       ...  ...            ...        ...\n",
              "4724         NaN    TOYOTA  ...          1,250        NaN\n",
              "4725         NaN    TOYOTA  ...          1,250        NaN\n",
              "4726         NaN    TOYOTA  ...          1,440        NaN\n",
              "4727         NaN    TOYOTA  ...          1,580        NaN\n",
              "4728         NaN    TOYOTA  ...          1,580        NaN\n",
              "\n",
              "[4729 rows x 9 columns]"
            ]
          },
          "metadata": {},
          "execution_count": 91
        }
      ]
    },
    {
      "cell_type": "code",
      "metadata": {
        "colab": {
          "base_uri": "https://localhost:8080/",
          "height": 694
        },
        "id": "ohjiYKq9CwzY",
        "outputId": "5ad33e19-ae1d-4f73-a710-5b7e16578140"
      },
      "source": [
        "# select column\n",
        "df = df[['car_brand', 'car_model', 'model_name_th', 'serialNo', 'nickname', 'item_name', 'fitment_detail', 'standard_price']]\n",
        "\n",
        "# set car_brand\tcar_model\tand model_name_th a indexs\n",
        "df2 = df.set_index(['car_brand','car_model', 'model_name_th'])\n",
        "\n",
        "# show the the first 20 rows of data frame\n",
        "df2.sort_index().head(20)"
      ],
      "execution_count": 92,
      "outputs": [
        {
          "output_type": "execute_result",
          "data": {
            "text/html": [
              "<div>\n",
              "<style scoped>\n",
              "    .dataframe tbody tr th:only-of-type {\n",
              "        vertical-align: middle;\n",
              "    }\n",
              "\n",
              "    .dataframe tbody tr th {\n",
              "        vertical-align: top;\n",
              "    }\n",
              "\n",
              "    .dataframe thead th {\n",
              "        text-align: right;\n",
              "    }\n",
              "</style>\n",
              "<table border=\"1\" class=\"dataframe\">\n",
              "  <thead>\n",
              "    <tr style=\"text-align: right;\">\n",
              "      <th></th>\n",
              "      <th></th>\n",
              "      <th></th>\n",
              "      <th>serialNo</th>\n",
              "      <th>nickname</th>\n",
              "      <th>item_name</th>\n",
              "      <th>fitment_detail</th>\n",
              "      <th>standard_price</th>\n",
              "    </tr>\n",
              "    <tr>\n",
              "      <th>car_brand</th>\n",
              "      <th>car_model</th>\n",
              "      <th>model_name_th</th>\n",
              "      <th></th>\n",
              "      <th></th>\n",
              "      <th></th>\n",
              "      <th></th>\n",
              "      <th></th>\n",
              "    </tr>\n",
              "  </thead>\n",
              "  <tbody>\n",
              "    <tr>\n",
              "      <th>AUDI</th>\n",
              "      <th>Q5</th>\n",
              "      <th>คิว5</th>\n",
              "      <td>IC-0000001</td>\n",
              "      <td>โฉมปี 2008-2016</td>\n",
              "      <td>ไส้กรองน้ำมันเครื่อง</td>\n",
              "      <td>-</td>\n",
              "      <td>NaN</td>\n",
              "    </tr>\n",
              "    <tr>\n",
              "      <th rowspan=\"10\" valign=\"top\">BMW</th>\n",
              "      <th rowspan=\"6\" valign=\"top\">SERIES 3</th>\n",
              "      <th>ซีรี่ย์3</th>\n",
              "      <td>IC-0000009</td>\n",
              "      <td>โฉมปี 2011-2018 (F30)</td>\n",
              "      <td>ไส้กรองน้ำมันเครื่อง</td>\n",
              "      <td>-</td>\n",
              "      <td>NaN</td>\n",
              "    </tr>\n",
              "    <tr>\n",
              "      <th>ซีรี่ย์3</th>\n",
              "      <td>AA-0000071</td>\n",
              "      <td>โฉมปี 1995-1998 (E36)</td>\n",
              "      <td>ผ้าดิสเบรค</td>\n",
              "      <td>หลัง</td>\n",
              "      <td>1,300.00</td>\n",
              "    </tr>\n",
              "    <tr>\n",
              "      <th>ซีรี่ย์3</th>\n",
              "      <td>AA-0000139</td>\n",
              "      <td>โฉมปี 1995-1998 (E36)</td>\n",
              "      <td>ผ้าดิสเบรค</td>\n",
              "      <td>หน้า</td>\n",
              "      <td>1,300.00</td>\n",
              "    </tr>\n",
              "    <tr>\n",
              "      <th>ซีรี่ย์3</th>\n",
              "      <td>AC-0000091</td>\n",
              "      <td>โฉมปี 1995-1998 (E36)</td>\n",
              "      <td>จานดิสเบรค</td>\n",
              "      <td>หน้า</td>\n",
              "      <td>1,300.00</td>\n",
              "    </tr>\n",
              "    <tr>\n",
              "      <th>ซีรี่ย์3</th>\n",
              "      <td>AA-0000072</td>\n",
              "      <td>โฉมปี 1999-2006 (E46)</td>\n",
              "      <td>ผ้าดิสเบรค</td>\n",
              "      <td>หลัง</td>\n",
              "      <td>1,500.00</td>\n",
              "    </tr>\n",
              "    <tr>\n",
              "      <th>ซีรี่ย์3</th>\n",
              "      <td>AA-0000129</td>\n",
              "      <td>โฉมปี 1999-2006 (E46)</td>\n",
              "      <td>ผ้าดิสเบรค</td>\n",
              "      <td>หน้า</td>\n",
              "      <td>1,600.00</td>\n",
              "    </tr>\n",
              "    <tr>\n",
              "      <th rowspan=\"3\" valign=\"top\">SERIES 5</th>\n",
              "      <th>ซีรี่ย์5</th>\n",
              "      <td>IC-0000002</td>\n",
              "      <td>โฉมปี 2003-2010 (E60)</td>\n",
              "      <td>ไส้กรองน้ำมันเครื่อง</td>\n",
              "      <td>-</td>\n",
              "      <td>NaN</td>\n",
              "    </tr>\n",
              "    <tr>\n",
              "      <th>ซีรี่ย์5</th>\n",
              "      <td>IC-0000003</td>\n",
              "      <td>โฉมปี 2010-2017 (F10)</td>\n",
              "      <td>ไส้กรองน้ำมันเครื่อง</td>\n",
              "      <td>-</td>\n",
              "      <td>NaN</td>\n",
              "    </tr>\n",
              "    <tr>\n",
              "      <th>ซีรี่ย์5</th>\n",
              "      <td>JA-0000001</td>\n",
              "      <td>โฉมปี 2010-2017 (F10)</td>\n",
              "      <td>ใบปัดน้ำฝน</td>\n",
              "      <td>-</td>\n",
              "      <td>NaN</td>\n",
              "    </tr>\n",
              "    <tr>\n",
              "      <th>X1</th>\n",
              "      <th>เอ็กซ์1</th>\n",
              "      <td>IC-0000006</td>\n",
              "      <td>โฉมปี 2009-2015 (E84)</td>\n",
              "      <td>ไส้กรองน้ำมันเครื่อง</td>\n",
              "      <td>-</td>\n",
              "      <td>NaN</td>\n",
              "    </tr>\n",
              "    <tr>\n",
              "      <th rowspan=\"9\" valign=\"top\">CHEVROLET</th>\n",
              "      <th rowspan=\"3\" valign=\"top\">ALLROADER</th>\n",
              "      <th>ออลโรดเดอร์</th>\n",
              "      <td>EA-0300001</td>\n",
              "      <td>โฉมปี 2007-2012</td>\n",
              "      <td>สายพานแอร์</td>\n",
              "      <td>-</td>\n",
              "      <td>280.00</td>\n",
              "    </tr>\n",
              "    <tr>\n",
              "      <th>ออลโรดเดอร์</th>\n",
              "      <td>DF-0600083</td>\n",
              "      <td>โฉมปี 2007-2012</td>\n",
              "      <td>ลูกหมากปีกนก</td>\n",
              "      <td>บน</td>\n",
              "      <td>650.00</td>\n",
              "    </tr>\n",
              "    <tr>\n",
              "      <th>ออลโรดเดอร์</th>\n",
              "      <td>DF-0700173</td>\n",
              "      <td>โฉมปี 2007-2012</td>\n",
              "      <td>ลูกหมากกันโคลง</td>\n",
              "      <td>หน้า</td>\n",
              "      <td>450.00</td>\n",
              "    </tr>\n",
              "    <tr>\n",
              "      <th rowspan=\"6\" valign=\"top\">AVEO</th>\n",
              "      <th>อาวีโอ้</th>\n",
              "      <td>DA-0000107</td>\n",
              "      <td>โฉมปี 2006-2014</td>\n",
              "      <td>โช้คอัพ</td>\n",
              "      <td>หน้า</td>\n",
              "      <td>1,450.00</td>\n",
              "    </tr>\n",
              "    <tr>\n",
              "      <th>อาวีโอ้</th>\n",
              "      <td>DH-0400001</td>\n",
              "      <td>โฉมปี 2006-2014</td>\n",
              "      <td>บู๊ชปีกนก</td>\n",
              "      <td>ล่างเล็ก</td>\n",
              "      <td>280.00</td>\n",
              "    </tr>\n",
              "    <tr>\n",
              "      <th>อาวีโอ้</th>\n",
              "      <td>DH-0400002</td>\n",
              "      <td>โฉมปี 2006-2014</td>\n",
              "      <td>บู๊ชปีกนก</td>\n",
              "      <td>ล่างใหญ่</td>\n",
              "      <td>380.00</td>\n",
              "    </tr>\n",
              "    <tr>\n",
              "      <th>อาวีโอ้</th>\n",
              "      <td>AA-0000042</td>\n",
              "      <td>โฉมปี 2006-2014</td>\n",
              "      <td>ผ้าดิสเบรค</td>\n",
              "      <td>หน้า</td>\n",
              "      <td>1,100.00</td>\n",
              "    </tr>\n",
              "    <tr>\n",
              "      <th>อาวีโอ้</th>\n",
              "      <td>Z-00300041</td>\n",
              "      <td>โฉมปี 2006-2014</td>\n",
              "      <td>ปะเก็นฝาวาล์ว</td>\n",
              "      <td>-</td>\n",
              "      <td>280.00</td>\n",
              "    </tr>\n",
              "    <tr>\n",
              "      <th>อาวีโอ้</th>\n",
              "      <td>Z-00300036</td>\n",
              "      <td>โฉมปี 2006-2014</td>\n",
              "      <td>ปะเก็นฝาวาล์ว</td>\n",
              "      <td>-</td>\n",
              "      <td>280.00</td>\n",
              "    </tr>\n",
              "  </tbody>\n",
              "</table>\n",
              "</div>"
            ],
            "text/plain": [
              "                                     serialNo  ... standard_price\n",
              "car_brand car_model model_name_th              ...               \n",
              "AUDI      Q5        คิว5           IC-0000001  ...            NaN\n",
              "BMW       SERIES 3  ซีรี่ย์3       IC-0000009  ...            NaN\n",
              "                    ซีรี่ย์3       AA-0000071  ...       1,300.00\n",
              "                    ซีรี่ย์3       AA-0000139  ...       1,300.00\n",
              "                    ซีรี่ย์3       AC-0000091  ...       1,300.00\n",
              "                    ซีรี่ย์3       AA-0000072  ...       1,500.00\n",
              "                    ซีรี่ย์3       AA-0000129  ...       1,600.00\n",
              "          SERIES 5  ซีรี่ย์5       IC-0000002  ...            NaN\n",
              "                    ซีรี่ย์5       IC-0000003  ...            NaN\n",
              "                    ซีรี่ย์5       JA-0000001  ...            NaN\n",
              "          X1        เอ็กซ์1        IC-0000006  ...            NaN\n",
              "CHEVROLET ALLROADER ออลโรดเดอร์    EA-0300001  ...         280.00\n",
              "                    ออลโรดเดอร์    DF-0600083  ...         650.00\n",
              "                    ออลโรดเดอร์    DF-0700173  ...         450.00\n",
              "          AVEO      อาวีโอ้        DA-0000107  ...       1,450.00\n",
              "                    อาวีโอ้        DH-0400001  ...         280.00\n",
              "                    อาวีโอ้        DH-0400002  ...         380.00\n",
              "                    อาวีโอ้        AA-0000042  ...       1,100.00\n",
              "                    อาวีโอ้        Z-00300041  ...         280.00\n",
              "                    อาวีโอ้        Z-00300036  ...         280.00\n",
              "\n",
              "[20 rows x 5 columns]"
            ]
          },
          "metadata": {},
          "execution_count": 92
        }
      ]
    },
    {
      "cell_type": "code",
      "metadata": {
        "colab": {
          "base_uri": "https://localhost:8080/",
          "height": 415
        },
        "id": "WuUBq9vQKFfX",
        "outputId": "b2d26640-f09b-488f-de3e-bd103458707a"
      },
      "source": [
        "# cleansing the data by droping the row which standard_price is NaN\n",
        "df3 = df[df['standard_price'].notna()]\n",
        "df3"
      ],
      "execution_count": 93,
      "outputs": [
        {
          "output_type": "execute_result",
          "data": {
            "text/html": [
              "<div>\n",
              "<style scoped>\n",
              "    .dataframe tbody tr th:only-of-type {\n",
              "        vertical-align: middle;\n",
              "    }\n",
              "\n",
              "    .dataframe tbody tr th {\n",
              "        vertical-align: top;\n",
              "    }\n",
              "\n",
              "    .dataframe thead th {\n",
              "        text-align: right;\n",
              "    }\n",
              "</style>\n",
              "<table border=\"1\" class=\"dataframe\">\n",
              "  <thead>\n",
              "    <tr style=\"text-align: right;\">\n",
              "      <th></th>\n",
              "      <th>car_brand</th>\n",
              "      <th>car_model</th>\n",
              "      <th>model_name_th</th>\n",
              "      <th>serialNo</th>\n",
              "      <th>nickname</th>\n",
              "      <th>item_name</th>\n",
              "      <th>fitment_detail</th>\n",
              "      <th>standard_price</th>\n",
              "    </tr>\n",
              "  </thead>\n",
              "  <tbody>\n",
              "    <tr>\n",
              "      <th>5</th>\n",
              "      <td>BMW</td>\n",
              "      <td>SERIES 3</td>\n",
              "      <td>ซีรี่ย์3</td>\n",
              "      <td>AA-0000071</td>\n",
              "      <td>โฉมปี 1995-1998 (E36)</td>\n",
              "      <td>ผ้าดิสเบรค</td>\n",
              "      <td>หลัง</td>\n",
              "      <td>1,300.00</td>\n",
              "    </tr>\n",
              "    <tr>\n",
              "      <th>6</th>\n",
              "      <td>BMW</td>\n",
              "      <td>SERIES 3</td>\n",
              "      <td>ซีรี่ย์3</td>\n",
              "      <td>AA-0000139</td>\n",
              "      <td>โฉมปี 1995-1998 (E36)</td>\n",
              "      <td>ผ้าดิสเบรค</td>\n",
              "      <td>หน้า</td>\n",
              "      <td>1,300.00</td>\n",
              "    </tr>\n",
              "    <tr>\n",
              "      <th>8</th>\n",
              "      <td>BMW</td>\n",
              "      <td>SERIES 3</td>\n",
              "      <td>ซีรี่ย์3</td>\n",
              "      <td>AC-0000091</td>\n",
              "      <td>โฉมปี 1995-1998 (E36)</td>\n",
              "      <td>จานดิสเบรค</td>\n",
              "      <td>หน้า</td>\n",
              "      <td>1,300.00</td>\n",
              "    </tr>\n",
              "    <tr>\n",
              "      <th>9</th>\n",
              "      <td>BMW</td>\n",
              "      <td>SERIES 3</td>\n",
              "      <td>ซีรี่ย์3</td>\n",
              "      <td>AA-0000072</td>\n",
              "      <td>โฉมปี 1999-2006 (E46)</td>\n",
              "      <td>ผ้าดิสเบรค</td>\n",
              "      <td>หลัง</td>\n",
              "      <td>1,500.00</td>\n",
              "    </tr>\n",
              "    <tr>\n",
              "      <th>10</th>\n",
              "      <td>BMW</td>\n",
              "      <td>SERIES 3</td>\n",
              "      <td>ซีรี่ย์3</td>\n",
              "      <td>AA-0000129</td>\n",
              "      <td>โฉมปี 1999-2006 (E46)</td>\n",
              "      <td>ผ้าดิสเบรค</td>\n",
              "      <td>หน้า</td>\n",
              "      <td>1,600.00</td>\n",
              "    </tr>\n",
              "    <tr>\n",
              "      <th>...</th>\n",
              "      <td>...</td>\n",
              "      <td>...</td>\n",
              "      <td>...</td>\n",
              "      <td>...</td>\n",
              "      <td>...</td>\n",
              "      <td>...</td>\n",
              "      <td>...</td>\n",
              "      <td>...</td>\n",
              "    </tr>\n",
              "    <tr>\n",
              "      <th>4724</th>\n",
              "      <td>TOYOTA</td>\n",
              "      <td>HILUX VIGO</td>\n",
              "      <td>ไฮลักซ์ วีโก้</td>\n",
              "      <td>NaN</td>\n",
              "      <td>โฉมปี 2003-2016 (Vigo 2WD)</td>\n",
              "      <td>โช้คอัพ</td>\n",
              "      <td>หน้า</td>\n",
              "      <td>1,250</td>\n",
              "    </tr>\n",
              "    <tr>\n",
              "      <th>4725</th>\n",
              "      <td>TOYOTA</td>\n",
              "      <td>HILUX VIGO</td>\n",
              "      <td>ไฮลักซ์ วีโก้</td>\n",
              "      <td>NaN</td>\n",
              "      <td>โฉมปี 2003-2016 (Vigo 2WD)</td>\n",
              "      <td>โช้คอัพ</td>\n",
              "      <td>หน้า</td>\n",
              "      <td>1,250</td>\n",
              "    </tr>\n",
              "    <tr>\n",
              "      <th>4726</th>\n",
              "      <td>TOYOTA</td>\n",
              "      <td>COROLLA ALTIS</td>\n",
              "      <td>โคโรล่า อัลติส</td>\n",
              "      <td>NaN</td>\n",
              "      <td>โฉมปี 2008-2012 (ZZE141)</td>\n",
              "      <td>โช้คอัพ</td>\n",
              "      <td>หลัง</td>\n",
              "      <td>1,440</td>\n",
              "    </tr>\n",
              "    <tr>\n",
              "      <th>4727</th>\n",
              "      <td>TOYOTA</td>\n",
              "      <td>HILUX REVO</td>\n",
              "      <td>ไฮลักซ์ รีโว่</td>\n",
              "      <td>NaN</td>\n",
              "      <td>โฉมปี 2016-2018 (Revo 4WD และ Pre-Runner ยกสูง)</td>\n",
              "      <td>โช้คอัพ</td>\n",
              "      <td>หน้า</td>\n",
              "      <td>1,580</td>\n",
              "    </tr>\n",
              "    <tr>\n",
              "      <th>4728</th>\n",
              "      <td>TOYOTA</td>\n",
              "      <td>FORTUNER</td>\n",
              "      <td>ฟอร์จูนเนอร์</td>\n",
              "      <td>NaN</td>\n",
              "      <td>โฉมปี 2015-2019 (KUN160)</td>\n",
              "      <td>โช้คอัพ</td>\n",
              "      <td>หน้า</td>\n",
              "      <td>1,580</td>\n",
              "    </tr>\n",
              "  </tbody>\n",
              "</table>\n",
              "<p>3531 rows × 8 columns</p>\n",
              "</div>"
            ],
            "text/plain": [
              "     car_brand      car_model  ... fitment_detail standard_price\n",
              "5          BMW       SERIES 3  ...           หลัง       1,300.00\n",
              "6          BMW       SERIES 3  ...           หน้า       1,300.00\n",
              "8          BMW       SERIES 3  ...           หน้า       1,300.00\n",
              "9          BMW       SERIES 3  ...           หลัง       1,500.00\n",
              "10         BMW       SERIES 3  ...           หน้า       1,600.00\n",
              "...        ...            ...  ...            ...            ...\n",
              "4724    TOYOTA     HILUX VIGO  ...           หน้า          1,250\n",
              "4725    TOYOTA     HILUX VIGO  ...           หน้า          1,250\n",
              "4726    TOYOTA  COROLLA ALTIS  ...           หลัง          1,440\n",
              "4727    TOYOTA     HILUX REVO  ...           หน้า          1,580\n",
              "4728    TOYOTA       FORTUNER  ...           หน้า          1,580\n",
              "\n",
              "[3531 rows x 8 columns]"
            ]
          },
          "metadata": {},
          "execution_count": 93
        }
      ]
    },
    {
      "cell_type": "code",
      "metadata": {
        "colab": {
          "base_uri": "https://localhost:8080/",
          "height": 516
        },
        "id": "0YcPD2cqsD4S",
        "outputId": "16d443ab-8e52-4cbe-8730-9f5d9901f41b"
      },
      "source": [
        "# convert standard_price to numeric\n",
        "df3['standard_price'] = df3['standard_price'].str.replace(',', '').astype(float)\n",
        "df3"
      ],
      "execution_count": 94,
      "outputs": [
        {
          "output_type": "stream",
          "name": "stderr",
          "text": [
            "/usr/local/lib/python3.7/dist-packages/ipykernel_launcher.py:2: SettingWithCopyWarning: \n",
            "A value is trying to be set on a copy of a slice from a DataFrame.\n",
            "Try using .loc[row_indexer,col_indexer] = value instead\n",
            "\n",
            "See the caveats in the documentation: https://pandas.pydata.org/pandas-docs/stable/user_guide/indexing.html#returning-a-view-versus-a-copy\n",
            "  \n"
          ]
        },
        {
          "output_type": "execute_result",
          "data": {
            "text/html": [
              "<div>\n",
              "<style scoped>\n",
              "    .dataframe tbody tr th:only-of-type {\n",
              "        vertical-align: middle;\n",
              "    }\n",
              "\n",
              "    .dataframe tbody tr th {\n",
              "        vertical-align: top;\n",
              "    }\n",
              "\n",
              "    .dataframe thead th {\n",
              "        text-align: right;\n",
              "    }\n",
              "</style>\n",
              "<table border=\"1\" class=\"dataframe\">\n",
              "  <thead>\n",
              "    <tr style=\"text-align: right;\">\n",
              "      <th></th>\n",
              "      <th>car_brand</th>\n",
              "      <th>car_model</th>\n",
              "      <th>model_name_th</th>\n",
              "      <th>serialNo</th>\n",
              "      <th>nickname</th>\n",
              "      <th>item_name</th>\n",
              "      <th>fitment_detail</th>\n",
              "      <th>standard_price</th>\n",
              "    </tr>\n",
              "  </thead>\n",
              "  <tbody>\n",
              "    <tr>\n",
              "      <th>5</th>\n",
              "      <td>BMW</td>\n",
              "      <td>SERIES 3</td>\n",
              "      <td>ซีรี่ย์3</td>\n",
              "      <td>AA-0000071</td>\n",
              "      <td>โฉมปี 1995-1998 (E36)</td>\n",
              "      <td>ผ้าดิสเบรค</td>\n",
              "      <td>หลัง</td>\n",
              "      <td>1300.0</td>\n",
              "    </tr>\n",
              "    <tr>\n",
              "      <th>6</th>\n",
              "      <td>BMW</td>\n",
              "      <td>SERIES 3</td>\n",
              "      <td>ซีรี่ย์3</td>\n",
              "      <td>AA-0000139</td>\n",
              "      <td>โฉมปี 1995-1998 (E36)</td>\n",
              "      <td>ผ้าดิสเบรค</td>\n",
              "      <td>หน้า</td>\n",
              "      <td>1300.0</td>\n",
              "    </tr>\n",
              "    <tr>\n",
              "      <th>8</th>\n",
              "      <td>BMW</td>\n",
              "      <td>SERIES 3</td>\n",
              "      <td>ซีรี่ย์3</td>\n",
              "      <td>AC-0000091</td>\n",
              "      <td>โฉมปี 1995-1998 (E36)</td>\n",
              "      <td>จานดิสเบรค</td>\n",
              "      <td>หน้า</td>\n",
              "      <td>1300.0</td>\n",
              "    </tr>\n",
              "    <tr>\n",
              "      <th>9</th>\n",
              "      <td>BMW</td>\n",
              "      <td>SERIES 3</td>\n",
              "      <td>ซีรี่ย์3</td>\n",
              "      <td>AA-0000072</td>\n",
              "      <td>โฉมปี 1999-2006 (E46)</td>\n",
              "      <td>ผ้าดิสเบรค</td>\n",
              "      <td>หลัง</td>\n",
              "      <td>1500.0</td>\n",
              "    </tr>\n",
              "    <tr>\n",
              "      <th>10</th>\n",
              "      <td>BMW</td>\n",
              "      <td>SERIES 3</td>\n",
              "      <td>ซีรี่ย์3</td>\n",
              "      <td>AA-0000129</td>\n",
              "      <td>โฉมปี 1999-2006 (E46)</td>\n",
              "      <td>ผ้าดิสเบรค</td>\n",
              "      <td>หน้า</td>\n",
              "      <td>1600.0</td>\n",
              "    </tr>\n",
              "    <tr>\n",
              "      <th>...</th>\n",
              "      <td>...</td>\n",
              "      <td>...</td>\n",
              "      <td>...</td>\n",
              "      <td>...</td>\n",
              "      <td>...</td>\n",
              "      <td>...</td>\n",
              "      <td>...</td>\n",
              "      <td>...</td>\n",
              "    </tr>\n",
              "    <tr>\n",
              "      <th>4724</th>\n",
              "      <td>TOYOTA</td>\n",
              "      <td>HILUX VIGO</td>\n",
              "      <td>ไฮลักซ์ วีโก้</td>\n",
              "      <td>NaN</td>\n",
              "      <td>โฉมปี 2003-2016 (Vigo 2WD)</td>\n",
              "      <td>โช้คอัพ</td>\n",
              "      <td>หน้า</td>\n",
              "      <td>1250.0</td>\n",
              "    </tr>\n",
              "    <tr>\n",
              "      <th>4725</th>\n",
              "      <td>TOYOTA</td>\n",
              "      <td>HILUX VIGO</td>\n",
              "      <td>ไฮลักซ์ วีโก้</td>\n",
              "      <td>NaN</td>\n",
              "      <td>โฉมปี 2003-2016 (Vigo 2WD)</td>\n",
              "      <td>โช้คอัพ</td>\n",
              "      <td>หน้า</td>\n",
              "      <td>1250.0</td>\n",
              "    </tr>\n",
              "    <tr>\n",
              "      <th>4726</th>\n",
              "      <td>TOYOTA</td>\n",
              "      <td>COROLLA ALTIS</td>\n",
              "      <td>โคโรล่า อัลติส</td>\n",
              "      <td>NaN</td>\n",
              "      <td>โฉมปี 2008-2012 (ZZE141)</td>\n",
              "      <td>โช้คอัพ</td>\n",
              "      <td>หลัง</td>\n",
              "      <td>1440.0</td>\n",
              "    </tr>\n",
              "    <tr>\n",
              "      <th>4727</th>\n",
              "      <td>TOYOTA</td>\n",
              "      <td>HILUX REVO</td>\n",
              "      <td>ไฮลักซ์ รีโว่</td>\n",
              "      <td>NaN</td>\n",
              "      <td>โฉมปี 2016-2018 (Revo 4WD และ Pre-Runner ยกสูง)</td>\n",
              "      <td>โช้คอัพ</td>\n",
              "      <td>หน้า</td>\n",
              "      <td>1580.0</td>\n",
              "    </tr>\n",
              "    <tr>\n",
              "      <th>4728</th>\n",
              "      <td>TOYOTA</td>\n",
              "      <td>FORTUNER</td>\n",
              "      <td>ฟอร์จูนเนอร์</td>\n",
              "      <td>NaN</td>\n",
              "      <td>โฉมปี 2015-2019 (KUN160)</td>\n",
              "      <td>โช้คอัพ</td>\n",
              "      <td>หน้า</td>\n",
              "      <td>1580.0</td>\n",
              "    </tr>\n",
              "  </tbody>\n",
              "</table>\n",
              "<p>3531 rows × 8 columns</p>\n",
              "</div>"
            ],
            "text/plain": [
              "     car_brand      car_model  ... fitment_detail standard_price\n",
              "5          BMW       SERIES 3  ...           หลัง         1300.0\n",
              "6          BMW       SERIES 3  ...           หน้า         1300.0\n",
              "8          BMW       SERIES 3  ...           หน้า         1300.0\n",
              "9          BMW       SERIES 3  ...           หลัง         1500.0\n",
              "10         BMW       SERIES 3  ...           หน้า         1600.0\n",
              "...        ...            ...  ...            ...            ...\n",
              "4724    TOYOTA     HILUX VIGO  ...           หน้า         1250.0\n",
              "4725    TOYOTA     HILUX VIGO  ...           หน้า         1250.0\n",
              "4726    TOYOTA  COROLLA ALTIS  ...           หลัง         1440.0\n",
              "4727    TOYOTA     HILUX REVO  ...           หน้า         1580.0\n",
              "4728    TOYOTA       FORTUNER  ...           หน้า         1580.0\n",
              "\n",
              "[3531 rows x 8 columns]"
            ]
          },
          "metadata": {},
          "execution_count": 94
        }
      ]
    },
    {
      "cell_type": "code",
      "metadata": {
        "colab": {
          "base_uri": "https://localhost:8080/",
          "height": 571
        },
        "id": "Q9lF38M2pIK-",
        "outputId": "3b773649-b618-498e-b7d4-371c598ad030"
      },
      "source": [
        "# set car_brand\tas index for grouping then calculate standard_price of each brands\n",
        "df3 = df3.set_index('car_brand')\n",
        "df3.groupby(df3.index)[['standard_price']].mean()"
      ],
      "execution_count": 95,
      "outputs": [
        {
          "output_type": "execute_result",
          "data": {
            "text/html": [
              "<div>\n",
              "<style scoped>\n",
              "    .dataframe tbody tr th:only-of-type {\n",
              "        vertical-align: middle;\n",
              "    }\n",
              "\n",
              "    .dataframe tbody tr th {\n",
              "        vertical-align: top;\n",
              "    }\n",
              "\n",
              "    .dataframe thead th {\n",
              "        text-align: right;\n",
              "    }\n",
              "</style>\n",
              "<table border=\"1\" class=\"dataframe\">\n",
              "  <thead>\n",
              "    <tr style=\"text-align: right;\">\n",
              "      <th></th>\n",
              "      <th>standard_price</th>\n",
              "    </tr>\n",
              "    <tr>\n",
              "      <th>car_brand</th>\n",
              "      <th></th>\n",
              "    </tr>\n",
              "  </thead>\n",
              "  <tbody>\n",
              "    <tr>\n",
              "      <th>BMW</th>\n",
              "      <td>1400.000000</td>\n",
              "    </tr>\n",
              "    <tr>\n",
              "      <th>CHEVROLET</th>\n",
              "      <td>912.181208</td>\n",
              "    </tr>\n",
              "    <tr>\n",
              "      <th>FORD</th>\n",
              "      <td>832.123894</td>\n",
              "    </tr>\n",
              "    <tr>\n",
              "      <th>HONDA</th>\n",
              "      <td>884.956909</td>\n",
              "    </tr>\n",
              "    <tr>\n",
              "      <th>HYUNDAI</th>\n",
              "      <td>661.538462</td>\n",
              "    </tr>\n",
              "    <tr>\n",
              "      <th>ISUZU</th>\n",
              "      <td>663.459459</td>\n",
              "    </tr>\n",
              "    <tr>\n",
              "      <th>LEXUS</th>\n",
              "      <td>783.333333</td>\n",
              "    </tr>\n",
              "    <tr>\n",
              "      <th>MAZDA</th>\n",
              "      <td>896.612022</td>\n",
              "    </tr>\n",
              "    <tr>\n",
              "      <th>MERCEDES-BENZ</th>\n",
              "      <td>1529.166667</td>\n",
              "    </tr>\n",
              "    <tr>\n",
              "      <th>MITSUBISHI</th>\n",
              "      <td>604.593838</td>\n",
              "    </tr>\n",
              "    <tr>\n",
              "      <th>NISSAN</th>\n",
              "      <td>752.131336</td>\n",
              "    </tr>\n",
              "    <tr>\n",
              "      <th>PROTON</th>\n",
              "      <td>1050.000000</td>\n",
              "    </tr>\n",
              "    <tr>\n",
              "      <th>SUBARU</th>\n",
              "      <td>1525.000000</td>\n",
              "    </tr>\n",
              "    <tr>\n",
              "      <th>SUZUKI</th>\n",
              "      <td>744.888889</td>\n",
              "    </tr>\n",
              "    <tr>\n",
              "      <th>TOYOTA</th>\n",
              "      <td>846.996823</td>\n",
              "    </tr>\n",
              "    <tr>\n",
              "      <th>VOLKSWAGEN</th>\n",
              "      <td>1436.666667</td>\n",
              "    </tr>\n",
              "  </tbody>\n",
              "</table>\n",
              "</div>"
            ],
            "text/plain": [
              "               standard_price\n",
              "car_brand                    \n",
              "BMW               1400.000000\n",
              "CHEVROLET          912.181208\n",
              "FORD               832.123894\n",
              "HONDA              884.956909\n",
              "HYUNDAI            661.538462\n",
              "ISUZU              663.459459\n",
              "LEXUS              783.333333\n",
              "MAZDA              896.612022\n",
              "MERCEDES-BENZ     1529.166667\n",
              "MITSUBISHI         604.593838\n",
              "NISSAN             752.131336\n",
              "PROTON            1050.000000\n",
              "SUBARU            1525.000000\n",
              "SUZUKI             744.888889\n",
              "TOYOTA             846.996823\n",
              "VOLKSWAGEN        1436.666667"
            ]
          },
          "metadata": {},
          "execution_count": 95
        }
      ]
    }
  ]
}